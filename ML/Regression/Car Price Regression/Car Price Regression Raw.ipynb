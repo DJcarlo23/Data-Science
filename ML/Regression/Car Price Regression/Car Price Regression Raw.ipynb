{
 "cells": [
  {
   "cell_type": "code",
   "execution_count": null,
   "metadata": {},
   "outputs": [],
   "source": [
    "import pandas as pd\n",
    "import numpy as np\n",
    "import plotly.graph_objects as go\n",
    "\n",
    "from scipy import stats\n",
    "\n",
    "# from sklearn.preprocessing import MinMaxScaler\n",
    "from sklearn.model_selection import train_test_split\n",
    "from sklearn.metrics import r2_score\n",
    "from sklearn.linear_model import LinearRegression\n",
    "from sklearn.ensemble import RandomForestRegressor"
   ]
  },
  {
   "cell_type": "code",
   "execution_count": null,
   "metadata": {},
   "outputs": [],
   "source": [
    "data_audi = pd.read_csv('D:/Data/Car Price/audi.csv')\n",
    "data_bmw = pd.read_csv('D:/Data/Car Price/bmw.csv')\n",
    "data_ford = pd.read_csv('D:/Data/Car Price/ford.csv')\n",
    "data_hyundi = pd.read_csv('D:/Data/Car Price/hyundi.csv').rename(columns= {'tax(£)': 'tax'})\n",
    "data_merc = pd.read_csv('D:/Data/Car Price/merc.csv')\n",
    "data_skoda = pd.read_csv('D:/Data/Car Price/skoda.csv')\n",
    "data_toyota = pd.read_csv('D:/Data/Car Price/toyota.csv')"
   ]
  },
  {
   "cell_type": "code",
   "execution_count": null,
   "metadata": {},
   "outputs": [],
   "source": [
    "all_data = {'audi': data_audi, 'bmw': data_bmw, 'ford': data_ford, 'hyundi': data_hyundi, 'merc': data_merc, 'skoda': data_skoda, 'toyota': data_toyota}"
   ]
  },
  {
   "cell_type": "code",
   "execution_count": null,
   "metadata": {},
   "outputs": [],
   "source": [
    "# Add new feature \"brand\"\n",
    "for key, dataset in all_data.items():\n",
    "    dataset['brand'] = key\n",
    "\n",
    "# Merge all dataframes into one\n",
    "data_temp = pd.DataFrame(columns=data_audi.columns)\n",
    "\n",
    "for key, df in all_data.items():\n",
    "    data_temp = data_temp.append(df, ignore_index=True)\n",
    "\n",
    "# Shuffle final dataframe\n",
    "data = data_temp.sample(frac=1).reset_index(drop=True)"
   ]
  },
  {
   "cell_type": "code",
   "execution_count": null,
   "metadata": {},
   "outputs": [],
   "source": [
    "data"
   ]
  },
  {
   "cell_type": "code",
   "execution_count": null,
   "metadata": {},
   "outputs": [],
   "source": [
    "data.describe()"
   ]
  },
  {
   "cell_type": "code",
   "execution_count": null,
   "metadata": {},
   "outputs": [],
   "source": [
    "data.info()"
   ]
  },
  {
   "cell_type": "markdown",
   "metadata": {},
   "source": [
    "# Data cleaning"
   ]
  },
  {
   "cell_type": "markdown",
   "metadata": {},
   "source": [
    "## Outliers"
   ]
  },
  {
   "cell_type": "code",
   "execution_count": null,
   "metadata": {},
   "outputs": [],
   "source": [
    "fig = go.Figure()\n",
    "\n",
    "fig.add_trace(go.Box(\n",
    "    y = data['price'],\n",
    "    marker_color='rgb(9,56,125)',\n",
    "    name = 'Price'\n",
    "))\n",
    "\n",
    "fig.update_layout(\n",
    "    title_text = 'Price box plot',\n",
    "    template = 'plotly_dark'\n",
    ")"
   ]
  },
  {
   "cell_type": "markdown",
   "metadata": {},
   "source": [
    "There are many points that looks like outliers but for me it is completely normal that some cars are very expensive. There is no need to delete these records."
   ]
  },
  {
   "cell_type": "code",
   "execution_count": null,
   "metadata": {},
   "outputs": [],
   "source": [
    "fig = go.Figure()\n",
    "\n",
    "fig.add_trace(go.Box(\n",
    "    y = data['mileage'],\n",
    "    marker_color='rgb(128, 0, 0)',\n",
    "    name = 'Mileage'\n",
    "))\n",
    "\n",
    "fig.update_layout(\n",
    "    title_text = 'Mileage box plot',\n",
    "    template = 'plotly_dark'\n",
    ")"
   ]
  },
  {
   "cell_type": "code",
   "execution_count": null,
   "metadata": {},
   "outputs": [],
   "source": [
    "fig = go.Figure()\n",
    "\n",
    "fig.add_trace(go.Box(\n",
    "    y = data['tax'],\n",
    "    marker_color='rgb(0, 153, 51)',\n",
    "    name = 'Tax'\n",
    "))\n",
    "\n",
    "fig.update_layout(\n",
    "    title_text = 'Tax box plot',\n",
    "    template = 'plotly_dark'\n",
    ")"
   ]
  },
  {
   "cell_type": "code",
   "execution_count": null,
   "metadata": {},
   "outputs": [],
   "source": [
    "fig = go.Figure()\n",
    "\n",
    "fig.add_trace(go.Box(\n",
    "    y = data['mpg'],\n",
    "    marker_color='rgb(153, 92, 0)',\n",
    "    name = 'Miles per Gallon'\n",
    "))\n",
    "\n",
    "fig.update_layout(\n",
    "    title_text = 'Miles per Gallon box plot',\n",
    "    template = 'plotly_dark'\n",
    ")"
   ]
  },
  {
   "cell_type": "markdown",
   "metadata": {},
   "source": [
    "Tax and mileage looks strange but it is still something I can believe in but outliers from mpg are completely unrealistic. I am going to delete car with 470 mpg from our dataset. "
   ]
  },
  {
   "cell_type": "code",
   "execution_count": null,
   "metadata": {},
   "outputs": [],
   "source": [
    "data = data[data['mpg'] < 470]"
   ]
  },
  {
   "cell_type": "code",
   "execution_count": null,
   "metadata": {},
   "outputs": [],
   "source": [
    "fig = go.Figure()\n",
    "\n",
    "fig.add_trace(go.Box(\n",
    "    y = data['mpg'],\n",
    "    marker_color='rgb(153, 92, 0)',\n",
    "    name = 'Miles per Gallon'\n",
    "))\n",
    "\n",
    "fig.update_layout(\n",
    "    title_text = 'Miles per Gallon box plot',\n",
    "    template = 'plotly_dark'\n",
    ")"
   ]
  },
  {
   "cell_type": "markdown",
   "metadata": {},
   "source": [
    "## Columns usefulnes\n",
    "We are going to replace very rare models with 'Rare' value to reduce number of new dimensions during dummy variables creation and to make dataset a little cleaner."
   ]
  },
  {
   "cell_type": "code",
   "execution_count": null,
   "metadata": {},
   "outputs": [],
   "source": [
    "to_replace = data['model'].value_counts()[data['model'].value_counts().values < 10]\n",
    "to_replace"
   ]
  },
  {
   "cell_type": "code",
   "execution_count": null,
   "metadata": {},
   "outputs": [],
   "source": [
    "indexes = data.index[data['model'].isin(to_replace.index)]\n",
    "data.loc[indexes, 'model'] = ' Rare'"
   ]
  },
  {
   "cell_type": "markdown",
   "metadata": {},
   "source": [
    "# Single variable analysis"
   ]
  },
  {
   "cell_type": "code",
   "execution_count": null,
   "metadata": {},
   "outputs": [],
   "source": [
    "fig = go.Figure()\n",
    "\n",
    "to_plot = data['year'].value_counts()\n",
    "\n",
    "fig.add_trace(go.Bar(\n",
    "    x = to_plot.index,\n",
    "    y = to_plot.values\n",
    "))\n",
    "\n",
    "fig.update_layout(\n",
    "    title_text = 'Number of cars from every year',\n",
    "    template = 'plotly_dark',\n",
    "    xaxis_title = 'Year',\n",
    "    yaxis_title = 'Number of cars'\n",
    ")"
   ]
  },
  {
   "cell_type": "code",
   "execution_count": null,
   "metadata": {},
   "outputs": [],
   "source": [
    "fig = go.Figure()\n",
    "\n",
    "fig.add_trace(go.Histogram(\n",
    "    x = data['mileage'],\n",
    "    nbinsx = 170\n",
    "))\n",
    "\n",
    "fig.update_layout(\n",
    "    title_text = 'Distribution of mileage feature',\n",
    "    template = 'plotly_dark',\n",
    "    xaxis_title = 'Mileage'\n",
    ")"
   ]
  },
  {
   "cell_type": "code",
   "execution_count": null,
   "metadata": {},
   "outputs": [],
   "source": [
    "fig = go.Figure()\n",
    "\n",
    "fig.add_trace(go.Histogram(\n",
    "    x = data['price'],\n",
    "    nbinsx = 170\n",
    "))\n",
    "\n",
    "fig.update_layout(\n",
    "    title_text = 'Distribution of price feature',\n",
    "    template = 'plotly_dark',\n",
    "    xaxis_title = 'Price'\n",
    ")"
   ]
  },
  {
   "cell_type": "code",
   "execution_count": null,
   "metadata": {},
   "outputs": [],
   "source": [
    "fig = go.Figure()\n",
    "\n",
    "night_colors = ['rgb(56, 75, 126)', 'rgb(18, 36, 37)', 'rgb(34, 53, 101)',\n",
    "                'rgb(36, 55, 57)', 'rgb(6, 4, 4)']\n",
    "\n",
    "to_plot = data['transmission'].value_counts()\n",
    "\n",
    "fig.add_trace(go.Pie(\n",
    "    values = to_plot.values,\n",
    "    labels = to_plot.index,\n",
    "    textinfo = 'label+percent',\n",
    "    marker_colors = night_colors\n",
    "))\n",
    "\n",
    "fig.update_layout(\n",
    "    title_text = 'Transmission Pie Plot',\n",
    "    template = 'plotly_dark'\n",
    ")"
   ]
  },
  {
   "cell_type": "code",
   "execution_count": null,
   "metadata": {},
   "outputs": [],
   "source": [
    "fig = go.Figure()\n",
    "\n",
    "to_plot = data['brand'].value_counts()\n",
    "\n",
    "fig.add_trace(go.Pie(\n",
    "    values = to_plot.values,\n",
    "    labels = to_plot.index,\n",
    "    textinfo = 'label+percent'\n",
    "))\n",
    "\n",
    "fig.update_layout(\n",
    "    title_text = 'Brand Pie Plot',\n",
    "    template = 'plotly_dark'\n",
    ")"
   ]
  },
  {
   "cell_type": "code",
   "execution_count": null,
   "metadata": {},
   "outputs": [],
   "source": [
    "fig = go.Figure()\n",
    "\n",
    "to_plot = data['fuelType'].value_counts()\n",
    "\n",
    "fig.add_trace(go.Bar(\n",
    "    y = to_plot.index,\n",
    "    x = to_plot.values,\n",
    "    orientation = 'h',\n",
    "    text = to_plot.values,\n",
    "    textposition = 'outside',\n",
    "))\n",
    "\n",
    "fig.update_layout(\n",
    "    autosize = False,\n",
    "    width = 850,\n",
    "    template = 'plotly_dark',\n",
    "    title_text = 'Fuel Type Bar Plot'\n",
    ")"
   ]
  },
  {
   "cell_type": "markdown",
   "metadata": {},
   "source": [
    "# Multiple variables analysis"
   ]
  },
  {
   "cell_type": "code",
   "execution_count": null,
   "metadata": {},
   "outputs": [],
   "source": [
    "data"
   ]
  },
  {
   "cell_type": "markdown",
   "metadata": {},
   "source": [
    "### Pearson\n",
    "<b>The Pearson correlation coefficient<b> is a measure of the linear relationship between two features. It's the ratio of the covariance of x and y to the product of their standard deviations. It's often denoted with the letter r and called Pearson's r.\n",
    "\n",
    "### Spearman\n",
    "The Spearman correlation coefficient between two features is the Pearson correlation coefficient between their rank values. It's calculated the same ways as the Pearson correlation coefficient but takes into account their ranks instead of their values.\n",
    "\n",
    "### Kendall\n",
    "The Kendall correlation coefficient compares the number of concordant and discordant pairs of data. This coefficient is basen on the differce in the counts of concordant and discordant pairs relative to the number of x-y paris.\n",
    "\n",
    "concordant if either (xᵢ > xⱼ and yᵢ > yⱼ) or (xᵢ < xⱼ and yᵢ < yⱼ) <br>\n",
    "discordant if either (xᵢ < xⱼ and yᵢ > yⱼ) or (xᵢ > xⱼ and yᵢ < yⱼ) <br>\n",
    "neither if there’s a tie in x (xᵢ = xⱼ) or a tie in y (yᵢ = yⱼ)"
   ]
  },
  {
   "cell_type": "code",
   "execution_count": null,
   "metadata": {},
   "outputs": [],
   "source": [
    "def correlation(x, y):\n",
    "    \"\"\"\n",
    "    x, y - two lists of features\n",
    "    This function prints Pearson, Spearman\n",
    "    \"\"\"\n",
    "\n",
    "    # Pearson's r\n",
    "    pearson_r = np.corrcoef(x, y)[0, 1]\n",
    "\n",
    "    # Spearman's rho\n",
    "    spearman_rho = stats.spearmanr(x, y).correlation\n",
    "\n",
    "    # Kendall's tau\n",
    "    kendall_tau = stats.kendalltau(x, y).correlation\n",
    "\n",
    "    print('Pearson correlation coefficient: {}'.format(pearson_r))\n",
    "    print('Spearman correlation coefficient: {}'.format(spearman_rho))\n",
    "    print('Kendall correlation coefficient: {}'.format(kendall_tau))"
   ]
  },
  {
   "cell_type": "code",
   "execution_count": null,
   "metadata": {},
   "outputs": [],
   "source": [
    "fig = go.Figure()\n",
    "\n",
    "to_plot = data.sample(frac=0.10, random_state=42)\n",
    "\n",
    "fig.add_trace(go.Scatter(\n",
    "    x = to_plot['price'],\n",
    "    y = to_plot['mileage'],\n",
    "    mode = 'markers'\n",
    "))\n",
    "\n",
    "fig.update_layout(\n",
    "    title_text = 'Mileage x Price Scatter Plot',\n",
    "    template = 'plotly_dark',\n",
    "    xaxis_title = 'Price',\n",
    "    yaxis_title = 'Mileage'\n",
    ")"
   ]
  },
  {
   "cell_type": "code",
   "execution_count": null,
   "metadata": {},
   "outputs": [],
   "source": [
    "correlation(data['price'].tolist(), data['mileage'].tolist())"
   ]
  },
  {
   "cell_type": "code",
   "execution_count": null,
   "metadata": {},
   "outputs": [],
   "source": [
    "fig = go.Figure()\n",
    "\n",
    "to_plot = data.sample(frac=0.10, random_state=42)\n",
    "\n",
    "fig.add_trace(go.Scatter(\n",
    "    x = to_plot['price'],\n",
    "    y = to_plot['mpg'],\n",
    "    mode = 'markers'\n",
    "))\n",
    "\n",
    "fig.update_layout(\n",
    "    title_text = 'Miles per gallon',\n",
    "    template = 'plotly_dark',\n",
    "    xaxis_title = 'Price',\n",
    "    yaxis_title = 'Miles per gallon'\n",
    ")"
   ]
  },
  {
   "cell_type": "code",
   "execution_count": null,
   "metadata": {},
   "outputs": [],
   "source": [
    "correlation(data['price'].tolist(), data['mpg'].tolist())"
   ]
  },
  {
   "cell_type": "code",
   "execution_count": null,
   "metadata": {},
   "outputs": [],
   "source": [
    "data_price_float = data.copy()\n",
    "data_price_float['price'] = data_price_float['price'].map(lambda x: float(x))"
   ]
  },
  {
   "cell_type": "code",
   "execution_count": null,
   "metadata": {},
   "outputs": [],
   "source": [
    "fig = go.Figure()\n",
    "\n",
    "to_plot = data_price_float.groupby(by='transmission', as_index=False).mean()\n",
    "\n",
    "fig.add_trace(go.Bar(\n",
    "    y = to_plot['transmission'],\n",
    "    x = to_plot['price'],\n",
    "    orientation='h'\n",
    "))\n",
    "\n",
    "fig.update_layout(\n",
    "    title_text = 'Price by transmission type',\n",
    "    template = 'plotly_dark'\n",
    ")"
   ]
  },
  {
   "cell_type": "code",
   "execution_count": null,
   "metadata": {},
   "outputs": [],
   "source": [
    "fig = go.Figure()\n",
    "\n",
    "to_plot = data_price_float.groupby(by='fuelType', as_index=False).mean()\n",
    "\n",
    "fig.add_trace(go.Bar(\n",
    "    y = to_plot['fuelType'],\n",
    "    x = to_plot['price'],\n",
    "    orientation='h'\n",
    "))\n",
    "\n",
    "fig.update_layout(\n",
    "    title_text = 'Price by fuel type',\n",
    "    template = 'plotly_dark'\n",
    ")"
   ]
  },
  {
   "cell_type": "code",
   "execution_count": null,
   "metadata": {},
   "outputs": [],
   "source": [
    "fig = go.Figure()\n",
    "\n",
    "to_plot = data_price_float.groupby(by='brand', as_index=False).mean()\n",
    "\n",
    "fig.add_trace(go.Bar(\n",
    "    y = to_plot['brand'],\n",
    "    x = to_plot['price'],\n",
    "    orientation='h'\n",
    "))\n",
    "\n",
    "fig.update_layout(\n",
    "    title_text = 'Price by brand',\n",
    "    template = 'plotly_dark'\n",
    ")"
   ]
  },
  {
   "cell_type": "markdown",
   "metadata": {},
   "source": [
    "# Machine Learning"
   ]
  },
  {
   "cell_type": "code",
   "execution_count": null,
   "metadata": {},
   "outputs": [],
   "source": [
    "X_all = data.drop(['price'], axis=1)\n",
    "y_all = data['price']"
   ]
  },
  {
   "cell_type": "markdown",
   "metadata": {},
   "source": [
    "## Dummy variables"
   ]
  },
  {
   "cell_type": "code",
   "execution_count": null,
   "metadata": {},
   "outputs": [],
   "source": [
    "# Create dummy variables\n",
    "columns = ['model', 'transmission', 'fuelType', 'brand']\n",
    "\n",
    "dummy = pd.get_dummies(X_all[columns], dtype=np.int32)\n",
    "X_dummy = pd.concat([X_all, dummy], axis=1)\n",
    "X_dummy.drop(columns, axis=1, inplace=True)"
   ]
  },
  {
   "cell_type": "code",
   "execution_count": null,
   "metadata": {},
   "outputs": [],
   "source": [
    "X_dummy"
   ]
  },
  {
   "cell_type": "markdown",
   "metadata": {},
   "source": [
    "## Split data into train and test set"
   ]
  },
  {
   "cell_type": "code",
   "execution_count": null,
   "metadata": {},
   "outputs": [],
   "source": [
    "X, X_test, y, y_test = train_test_split(X_dummy, y_all, test_size=0.1, random_state=42)\n",
    "X_train, X_val, y_train, y_val = train_test_split(X, y, test_size=0.1, random_state=43)"
   ]
  },
  {
   "cell_type": "code",
   "execution_count": null,
   "metadata": {},
   "outputs": [],
   "source": [
    "X_train.shape"
   ]
  },
  {
   "cell_type": "code",
   "execution_count": null,
   "metadata": {},
   "outputs": [],
   "source": [
    "X_val.shape"
   ]
  },
  {
   "cell_type": "code",
   "execution_count": null,
   "metadata": {},
   "outputs": [],
   "source": [
    "X_test.shape"
   ]
  },
  {
   "cell_type": "markdown",
   "metadata": {},
   "source": [
    "# Model"
   ]
  },
  {
   "cell_type": "markdown",
   "metadata": {},
   "source": [
    "## Linear Regression"
   ]
  },
  {
   "cell_type": "code",
   "execution_count": null,
   "metadata": {},
   "outputs": [],
   "source": [
    "reg_model = LinearRegression()\n",
    "reg_model.fit(X_train, y_train)"
   ]
  },
  {
   "cell_type": "code",
   "execution_count": null,
   "metadata": {},
   "outputs": [],
   "source": [
    "y_hat = reg_model.predict(X_val)\n",
    "r2_score(y_val, y_hat)"
   ]
  },
  {
   "cell_type": "markdown",
   "metadata": {},
   "source": [
    "## Random Forest Regressor"
   ]
  },
  {
   "cell_type": "code",
   "execution_count": null,
   "metadata": {},
   "outputs": [],
   "source": [
    "forest_model = RandomForestRegressor()\n",
    "forest_model.fit(X_train, y_train)"
   ]
  },
  {
   "cell_type": "code",
   "execution_count": null,
   "metadata": {},
   "outputs": [],
   "source": [
    "y_hat_forest = forest_model.predict(X_val)\n",
    "r2_score(y_val, y_hat_forest)"
   ]
  },
  {
   "cell_type": "markdown",
   "metadata": {},
   "source": [
    "# Final prediction "
   ]
  },
  {
   "cell_type": "code",
   "execution_count": null,
   "metadata": {},
   "outputs": [],
   "source": [
    "y_pred = forest_model.predict(X_test)\n",
    "r2_score(y_test, y_pred)"
   ]
  },
  {
   "cell_type": "code",
   "execution_count": null,
   "metadata": {},
   "outputs": [],
   "source": []
  }
 ],
 "metadata": {
  "kernelspec": {
   "display_name": "Python 3",
   "language": "python",
   "name": "python3"
  },
  "language_info": {
   "codemirror_mode": {
    "name": "ipython",
    "version": 3
   },
   "file_extension": ".py",
   "mimetype": "text/x-python",
   "name": "python",
   "nbconvert_exporter": "python",
   "pygments_lexer": "ipython3",
   "version": "3.7.10"
  }
 },
 "nbformat": 4,
 "nbformat_minor": 2
}
