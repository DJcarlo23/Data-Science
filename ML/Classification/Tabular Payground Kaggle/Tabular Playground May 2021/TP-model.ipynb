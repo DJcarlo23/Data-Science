{
 "metadata": {
  "language_info": {
   "codemirror_mode": {
    "name": "ipython",
    "version": 3
   },
   "file_extension": ".py",
   "mimetype": "text/x-python",
   "name": "python",
   "nbconvert_exporter": "python",
   "pygments_lexer": "ipython3",
   "version": "3.7.10"
  },
  "orig_nbformat": 2,
  "kernelspec": {
   "name": "python3710jvsc74a57bd0efa54f7f23af1d5798b652f3dd1f0fb573148954cb9e66026e20a8379bf29199",
   "display_name": "Python 3.7.10 64-bit ('Kaggle': conda)"
  }
 },
 "nbformat": 4,
 "nbformat_minor": 2,
 "cells": [
  {
   "cell_type": "code",
   "execution_count": 1,
   "metadata": {},
   "outputs": [],
   "source": [
    "import pandas as pd\n",
    "import umap.umap_ as umap\n",
    "import numpy as np\n",
    "import seaborn as sns\n",
    "import matplotlib.pyplot as plt\n",
    "import plotly.graph_objects as go\n",
    "import plotly.express as px\n",
    "\n",
    "from plotly.subplots import make_subplots\n",
    "from sklearn.decomposition import PCA\n",
    "from sklearn.preprocessing import StandardScaler\n",
    "from sklearn.model_selection import train_test_split, GridSearchCV, StratifiedKFold \n",
    "from sklearn.metrics import accuracy_score, confusion_matrix, f1_score, log_loss\n",
    "\n",
    "# ML\n",
    "from catboost import CatBoostClassifier\n",
    "from lightgbm import LGBMClassifier\n",
    "from xgboost import XGBClassifier"
   ]
  },
  {
   "cell_type": "code",
   "execution_count": 2,
   "metadata": {},
   "outputs": [],
   "source": [
    "data_train = pd.read_csv('data/train.csv').drop('id', axis=1)\n",
    "data_test = pd.read_csv('data/test.csv').drop('id', axis=1)"
   ]
  },
  {
   "cell_type": "code",
   "execution_count": 3,
   "metadata": {},
   "outputs": [],
   "source": [
    "data_train_num = data_train\n",
    "\n",
    "X = data_train_num.drop('target', axis=1)\n",
    "y = data_train_num['target']"
   ]
  },
  {
   "cell_type": "code",
   "execution_count": 4,
   "metadata": {},
   "outputs": [],
   "source": [
    "scaler = StandardScaler()\n",
    "X_scaled = pd.DataFrame(scaler.fit_transform(X))\n",
    "# test_scaled = pd.DataFrame(scaler.fit_transform(data_test))"
   ]
  },
  {
   "source": [
    "<h3> XGBoost </h3>"
   ],
   "cell_type": "markdown",
   "metadata": {}
  },
  {
   "cell_type": "code",
   "execution_count": 5,
   "metadata": {},
   "outputs": [],
   "source": [
    "log_pred = np.zeros((len(X), 4))\n",
    "test_pred = np.zeros((len(data_test), 4))"
   ]
  },
  {
   "cell_type": "code",
   "execution_count": 6,
   "metadata": {},
   "outputs": [],
   "source": [
    "xgb_model = XGBClassifier()"
   ]
  },
  {
   "cell_type": "code",
   "execution_count": 7,
   "metadata": {},
   "outputs": [
    {
     "output_type": "stream",
     "name": "stdout",
     "text": [
      "Fold:  0\n",
      "Log Loss: 1.1004433787360788\n",
      "Fold:  1\n",
      "Log Loss: 1.0986367761597038\n",
      "Fold:  2\n",
      "Log Loss: 1.0980183875322342\n",
      "Fold:  3\n",
      "Log Loss: 1.0989431204527615\n",
      "Fold:  4\n",
      "Log Loss: 1.098668839904666\n",
      "Overall Log Loss: 1.0989421132776935\n",
      "Wall time: 2min 51s\n"
     ]
    }
   ],
   "source": [
    "%%time\n",
    "\n",
    "skf = StratifiedKFold(n_splits=5, shuffle=True, random_state=42)\n",
    "\n",
    "for fold_, (train_index, val_index) in enumerate(skf.split(X, y)):\n",
    "    print('Fold: ', fold_)\n",
    "    model = xgb_model.fit(\n",
    "        X.iloc[train_index],\n",
    "        y.iloc[train_index],\n",
    "        eval_set = [(X.iloc[train_index], y.iloc[train_index]), (X.iloc[val_index], y.iloc[val_index])],\n",
    "        eval_metric = 'mlogloss',\n",
    "        early_stopping_rounds = 50, \n",
    "        verbose = 0,\n",
    "    )\n",
    "\n",
    "    temp_pred = model.predict_proba(X.iloc[val_index])\n",
    "    log_pred[val_index] = temp_pred\n",
    "\n",
    "    print(f'Log Loss: {log_loss(y.iloc[val_index], temp_pred)}')\n",
    "\n",
    "    temp_test = model.predict_proba(data_test)\n",
    "    test_pred += temp_test\n",
    "\n",
    "test_pred1 = test_pred/5\n",
    "\n",
    "print(f'Overall Log Loss: {log_loss(y, log_pred)}')"
   ]
  },
  {
   "source": [
    "<h3> Light Gradient Boost </h3>"
   ],
   "cell_type": "markdown",
   "metadata": {}
  },
  {
   "cell_type": "code",
   "execution_count": 8,
   "metadata": {},
   "outputs": [],
   "source": [
    "log_pred = np.zeros((len(X), 4))\n",
    "test_pred = np.zeros((len(data_test), 4))"
   ]
  },
  {
   "cell_type": "code",
   "execution_count": 9,
   "metadata": {},
   "outputs": [],
   "source": [
    "lg_model = LGBMClassifier()"
   ]
  },
  {
   "cell_type": "code",
   "execution_count": 19,
   "metadata": {},
   "outputs": [
    {
     "output_type": "stream",
     "name": "stdout",
     "text": [
      "Fold:  0\n",
      "Log Loss: 1.0983001986518488\n",
      "Fold:  1\n",
      "Log Loss: 1.0969746236504785\n",
      "Fold:  2\n",
      "Log Loss: 1.094319908787031\n",
      "Fold:  3\n",
      "Log Loss: 1.0954988855585286\n",
      "Fold:  4\n",
      "Log Loss: 1.0957800561347766\n",
      "Overall Log Loss: 1.0961747345565327\n",
      "Wall time: 19.8 s\n"
     ]
    }
   ],
   "source": [
    "%%time\n",
    "\n",
    "skf = StratifiedKFold(n_splits=5, shuffle=True, random_state=42)\n",
    "\n",
    "for fold_, (train_index, val_index) in enumerate(skf.split(X, y)):\n",
    "    print('Fold: ', fold_)\n",
    "    model = lg_model.fit(\n",
    "        X.iloc[train_index],\n",
    "        y.iloc[train_index],\n",
    "        eval_set = [(X.iloc[train_index], y.iloc[train_index]), (X.iloc[val_index], y.iloc[val_index])],\n",
    "        eval_metric = 'multi_logloss',\n",
    "        early_stopping_rounds = 50,\n",
    "        verbose = 0\n",
    "    )\n",
    "\n",
    "    temp_pred = model.predict_proba(X.iloc[val_index])\n",
    "    log_pred[val_index] = temp_pred\n",
    "\n",
    "    print(f'Log Loss: {log_loss(y.iloc[val_index], temp_pred)}')\n",
    "\n",
    "    temp_test = model.predict_proba(data_test)\n",
    "    test_pred += temp_test\n",
    "\n",
    "test_pred2 = test_pred/5\n",
    "\n",
    "print(f'Overall Log Loss: {log_loss(y, log_pred)}')"
   ]
  },
  {
   "source": [
    "<h3> Catboost </h3>"
   ],
   "cell_type": "markdown",
   "metadata": {}
  },
  {
   "cell_type": "code",
   "execution_count": 11,
   "metadata": {},
   "outputs": [],
   "source": [
    "log_pred = np.zeros((len(X), 4))\n",
    "test_pred = np.zeros((len(data_test), 4))"
   ]
  },
  {
   "cell_type": "code",
   "execution_count": 12,
   "metadata": {},
   "outputs": [],
   "source": [
    "cat_model = CatBoostClassifier()"
   ]
  },
  {
   "cell_type": "code",
   "execution_count": 20,
   "metadata": {
    "tags": []
   },
   "outputs": [
    {
     "output_type": "stream",
     "name": "stdout",
     "text": [
      "Fold:  0\n",
      "Log Loss: 1.0945770827473644\n",
      "Fold:  1\n",
      "Log Loss: 1.0969776023595654\n",
      "Fold:  2\n",
      "Log Loss: 1.088788019787104\n",
      "Fold:  3\n",
      "Log Loss: 1.095371793889031\n",
      "Fold:  4\n",
      "Log Loss: 1.092453601548907\n",
      "Fold:  5\n",
      "Log Loss: 1.0888971785917936\n",
      "Fold:  6\n",
      "Log Loss: 1.0938404553107135\n",
      "Fold:  7\n",
      "Log Loss: 1.090716145401981\n",
      "Fold:  8\n",
      "Log Loss: 1.09185005740237\n",
      "Fold:  9\n",
      "Log Loss: 1.0911499762441252\n",
      "Overall Log Loss: 1.0924621913282957\n",
      "Wall time: 1min 49s\n"
     ]
    }
   ],
   "source": [
    "%%time\n",
    "\n",
    "skf = StratifiedKFold(n_splits=10, shuffle=True, random_state=42)\n",
    "\n",
    "for fold_, (train_index, val_index) in enumerate(skf.split(X_scaled, y)):\n",
    "    print('Fold: ', fold_)\n",
    "    model = cat_model.fit(\n",
    "        X.iloc[train_index],\n",
    "        y.iloc[train_index],\n",
    "        eval_set = [(X.iloc[train_index], y.iloc[train_index]), (X.iloc[val_index], y.iloc[val_index])],\n",
    "        early_stopping_rounds = 50,\n",
    "        verbose = 0\n",
    "    )\n",
    "\n",
    "    temp_pred = model.predict_proba(X.iloc[val_index])\n",
    "    log_pred[val_index] = temp_pred\n",
    "\n",
    "    print(f'Log Loss: {log_loss(y.iloc[val_index], temp_pred)}')\n",
    "\n",
    "    temp_test = model.predict_proba(data_test)\n",
    "    test_pred += temp_test\n",
    "\n",
    "test_pred3 = test_pred/10\n",
    "\n",
    "print(f'Overall Log Loss: {log_loss(y, log_pred)}');"
   ]
  },
  {
   "cell_type": "code",
   "execution_count": 14,
   "metadata": {},
   "outputs": [],
   "source": [
    "df_pred1 = pd.DataFrame(test_pred1)\n",
    "df_pred2 = pd.DataFrame(test_pred2)\n",
    "df_pred3 = pd.DataFrame(test_pred3)"
   ]
  },
  {
   "cell_type": "code",
   "execution_count": 15,
   "metadata": {},
   "outputs": [],
   "source": [
    "data_test1 = pd.read_csv('data/sample_submission.csv').drop(['Class_1', 'Class_2', 'Class_3', 'Class_4'], axis=1)\n",
    "\n",
    "data_test1['Class_1'] = df_pred1[0]\n",
    "data_test1['Class_2'] = df_pred1[1]\n",
    "data_test1['Class_3'] = df_pred1[2]\n",
    "data_test1['Class_4'] = df_pred1[3]"
   ]
  },
  {
   "cell_type": "code",
   "execution_count": 16,
   "metadata": {},
   "outputs": [],
   "source": [
    "data_test2 = pd.read_csv('data/sample_submission.csv').drop(['Class_1', 'Class_2', 'Class_3', 'Class_4'], axis=1)\n",
    "\n",
    "data_test2['Class_1'] = df_pred2[0]\n",
    "data_test2['Class_2'] = df_pred2[1]\n",
    "data_test2['Class_3'] = df_pred2[2]\n",
    "data_test2['Class_4'] = df_pred2[3]"
   ]
  },
  {
   "cell_type": "code",
   "execution_count": 17,
   "metadata": {},
   "outputs": [],
   "source": [
    "data_test3 = pd.read_csv('data/sample_submission.csv').drop(['Class_1', 'Class_2', 'Class_3', 'Class_4'], axis=1)\n",
    "\n",
    "data_test3['Class_1'] = df_pred3[0]\n",
    "data_test3['Class_2'] = df_pred3[1]\n",
    "data_test3['Class_3'] = df_pred3[2]\n",
    "data_test3['Class_4'] = df_pred3[3]"
   ]
  },
  {
   "cell_type": "code",
   "execution_count": 18,
   "metadata": {},
   "outputs": [],
   "source": [
    "data_test3.to_csv('submission_v4.csv', index=False)"
   ]
  },
  {
   "cell_type": "code",
   "execution_count": null,
   "metadata": {},
   "outputs": [],
   "source": []
  }
 ]
}