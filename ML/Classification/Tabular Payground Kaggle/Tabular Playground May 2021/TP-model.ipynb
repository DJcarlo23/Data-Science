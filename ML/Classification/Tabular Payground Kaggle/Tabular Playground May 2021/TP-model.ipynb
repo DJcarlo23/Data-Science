{
 "metadata": {
  "language_info": {
   "codemirror_mode": {
    "name": "ipython",
    "version": 3
   },
   "file_extension": ".py",
   "mimetype": "text/x-python",
   "name": "python",
   "nbconvert_exporter": "python",
   "pygments_lexer": "ipython3",
   "version": "3.7.10"
  },
  "orig_nbformat": 2,
  "kernelspec": {
   "name": "python3710jvsc74a57bd0efa54f7f23af1d5798b652f3dd1f0fb573148954cb9e66026e20a8379bf29199",
   "display_name": "Python 3.7.10 64-bit ('Kaggle': conda)"
  }
 },
 "nbformat": 4,
 "nbformat_minor": 2,
 "cells": [
  {
   "cell_type": "code",
   "execution_count": 1,
   "metadata": {},
   "outputs": [],
   "source": [
    "import pandas as pd\n",
    "import umap.umap_ as umap\n",
    "import numpy as np\n",
    "import seaborn as sns\n",
    "import matplotlib.pyplot as plt\n",
    "import plotly.graph_objects as go\n",
    "import plotly.express as px\n",
    "from imblearn.over_sampling import RandomOverSampler\n",
    "\n",
    "from plotly.subplots import make_subplots\n",
    "from sklearn.decomposition import PCA\n",
    "from sklearn.preprocessing import StandardScaler\n",
    "from sklearn.model_selection import train_test_split, GridSearchCV, StratifiedKFold \n",
    "from sklearn.metrics import accuracy_score, confusion_matrix, f1_score, log_loss\n",
    "\n",
    "# ML\n",
    "from catboost import CatBoostClassifier\n",
    "from lightgbm import LGBMClassifier\n",
    "from xgboost import XGBClassifier"
   ]
  },
  {
   "cell_type": "code",
   "execution_count": 2,
   "metadata": {},
   "outputs": [],
   "source": [
    "data_train = pd.read_csv('data/train.csv').drop('id', axis=1)\n",
    "data_test = pd.read_csv('data/test.csv').drop('id', axis=1)"
   ]
  },
  {
   "cell_type": "code",
   "execution_count": 3,
   "metadata": {},
   "outputs": [],
   "source": [
    "data_train_num = data_train\n",
    "\n",
    "X = data_train_num.drop('target', axis=1)\n",
    "y = data_train_num['target']"
   ]
  },
  {
   "cell_type": "code",
   "execution_count": 4,
   "metadata": {},
   "outputs": [
    {
     "output_type": "stream",
     "name": "stdout",
     "text": [
      "Class_1    57497\nClass_2    57497\nClass_3    21420\nClass_4    12593\nName: target, dtype: int64\n"
     ]
    }
   ],
   "source": [
    "oversample = RandomOverSampler(sampling_strategy = 'minority')\n",
    "X_over, y_over = oversample.fit_resample(X, y)\n",
    "print(y_over.value_counts())"
   ]
  },
  {
   "cell_type": "code",
   "execution_count": 5,
   "metadata": {},
   "outputs": [],
   "source": [
    "scaler = StandardScaler()\n",
    "X_scaled = pd.DataFrame(scaler.fit_transform(X_over))\n",
    "test_scaled = pd.DataFrame(scaler.transform(data_test))"
   ]
  },
  {
   "source": [
    "<h3> XGBoost </h3>"
   ],
   "cell_type": "markdown",
   "metadata": {}
  },
  {
   "cell_type": "code",
   "execution_count": 6,
   "metadata": {},
   "outputs": [],
   "source": [
    "log_pred = np.zeros((len(X_over), 4))\n",
    "test_pred = np.zeros((len(data_test), 4))"
   ]
  },
  {
   "cell_type": "code",
   "execution_count": 7,
   "metadata": {},
   "outputs": [],
   "source": [
    "xgb_model = XGBClassifier()"
   ]
  },
  {
   "cell_type": "code",
   "execution_count": 8,
   "metadata": {},
   "outputs": [
    {
     "output_type": "stream",
     "name": "stdout",
     "text": [
      "Fold:  0\n",
      "Log Loss: 1.2033105453351434\n",
      "Fold:  1\n",
      "Log Loss: 1.203603615078436\n",
      "Fold:  2\n",
      "Log Loss: 1.203194490923449\n",
      "Fold:  3\n",
      "Log Loss: 1.2028007222291572\n",
      "Fold:  4\n",
      "Log Loss: 1.2036758302064203\n",
      "Overall Log Loss: 1.203317052360181\n",
      "Wall time: 4min 11s\n"
     ]
    }
   ],
   "source": [
    "%%time\n",
    "\n",
    "skf = StratifiedKFold(n_splits=5, shuffle=True, random_state=42)\n",
    "\n",
    "for fold_, (train_index, val_index) in enumerate(skf.split(X_scaled, y_over)):\n",
    "    print('Fold: ', fold_)\n",
    "    model = xgb_model.fit(\n",
    "        X_scaled.iloc[train_index],\n",
    "        y_over.iloc[train_index],\n",
    "        eval_set = [(X_scaled.iloc[train_index], y_over.iloc[train_index]), (X_scaled.iloc[val_index], y_over.iloc[val_index])],\n",
    "        eval_metric = 'mlogloss',\n",
    "        early_stopping_rounds = 50, \n",
    "        verbose = 0,\n",
    "    )\n",
    "\n",
    "    temp_pred = model.predict_proba(X_scaled.iloc[val_index])\n",
    "    log_pred[val_index] = temp_pred\n",
    "\n",
    "    print(f'Log Loss: {log_loss(y_over.iloc[val_index], temp_pred)}')\n",
    "\n",
    "    temp_test = model.predict_proba(test_scaled)\n",
    "    test_pred += temp_test\n",
    "\n",
    "test_pred1 = test_pred/5\n",
    "\n",
    "print(f'Overall Log Loss: {log_loss(y_over, log_pred)}')"
   ]
  },
  {
   "source": [
    "<h3> Light Gradient Boost </h3>"
   ],
   "cell_type": "markdown",
   "metadata": {}
  },
  {
   "cell_type": "code",
   "execution_count": 9,
   "metadata": {},
   "outputs": [],
   "source": [
    "log_pred = np.zeros((len(X_over), 4))\n",
    "test_pred = np.zeros((len(data_test), 4))"
   ]
  },
  {
   "cell_type": "code",
   "execution_count": 10,
   "metadata": {},
   "outputs": [],
   "source": [
    "lg_model = LGBMClassifier()"
   ]
  },
  {
   "cell_type": "code",
   "execution_count": 11,
   "metadata": {},
   "outputs": [
    {
     "output_type": "stream",
     "name": "stdout",
     "text": [
      "Fold:  0\n",
      "Log Loss: 1.1570779109307452\n",
      "Fold:  1\n",
      "Log Loss: 1.157796982798342\n",
      "Fold:  2\n",
      "Log Loss: 1.1571630510860496\n",
      "Fold:  3\n",
      "Log Loss: 1.1569614299362623\n",
      "Fold:  4\n",
      "Log Loss: 1.1591827856299906\n",
      "Overall Log Loss: 1.1576364294054609\n",
      "Wall time: 26.7 s\n"
     ]
    }
   ],
   "source": [
    "%%time\n",
    "\n",
    "skf = StratifiedKFold(n_splits=5, shuffle=True, random_state=42)\n",
    "\n",
    "for fold_, (train_index, val_index) in enumerate(skf.split(X_scaled, y_over)):\n",
    "    print('Fold: ', fold_)\n",
    "    model = lg_model.fit(\n",
    "        X_scaled.iloc[train_index],\n",
    "        y_over.iloc[train_index],\n",
    "        eval_set = [(X_scaled.iloc[train_index], y_over.iloc[train_index]), (X_scaled.iloc[val_index], y_over.iloc[val_index])],\n",
    "        eval_metric = 'multi_logloss',\n",
    "        early_stopping_rounds = 50,\n",
    "        verbose = 0\n",
    "    )\n",
    "\n",
    "    temp_pred = model.predict_proba(X_scaled.iloc[val_index])\n",
    "    log_pred[val_index] = temp_pred\n",
    "\n",
    "    print(f'Log Loss: {log_loss(y_over.iloc[val_index], temp_pred)}')\n",
    "\n",
    "    temp_test = model.predict_proba(test_scaled)\n",
    "    test_pred += temp_test\n",
    "\n",
    "test_pred2 = test_pred/5\n",
    "\n",
    "print(f'Overall Log Loss: {log_loss(y_over, log_pred)}')"
   ]
  },
  {
   "source": [
    "<h3> Catboost </h3>"
   ],
   "cell_type": "markdown",
   "metadata": {}
  },
  {
   "cell_type": "code",
   "execution_count": 12,
   "metadata": {},
   "outputs": [],
   "source": [
    "log_pred = np.zeros((len(X_over), 4))\n",
    "test_pred = np.zeros((len(data_test), 4))"
   ]
  },
  {
   "cell_type": "code",
   "execution_count": 13,
   "metadata": {},
   "outputs": [],
   "source": [
    "cat_model = CatBoostClassifier()"
   ]
  },
  {
   "cell_type": "code",
   "execution_count": 14,
   "metadata": {
    "tags": []
   },
   "outputs": [
    {
     "output_type": "stream",
     "name": "stdout",
     "text": [
      "Fold:  0\n",
      "Log Loss: 1.0986101541984499\n",
      "Fold:  1\n",
      "Log Loss: 1.0999919204272166\n",
      "Fold:  2\n",
      "Log Loss: 1.1013291459060564\n",
      "Fold:  3\n",
      "Log Loss: 1.1002181619976632\n",
      "Fold:  4\n",
      "Log Loss: 1.0978265155508768\n",
      "Fold:  5\n",
      "Log Loss: 1.0987718025361604\n",
      "Fold:  6\n",
      "Log Loss: 1.0983788316624317\n",
      "Fold:  7\n",
      "Log Loss: 1.0959364933621065\n",
      "Fold:  8\n",
      "Log Loss: 1.09917787963154\n",
      "Fold:  9\n",
      "Log Loss: 1.1027067872229077\n",
      "Overall Log Loss: 1.09929476967333\n",
      "Wall time: 7min 50s\n"
     ]
    }
   ],
   "source": [
    "%%time\n",
    "\n",
    "skf = StratifiedKFold(n_splits=10, shuffle=True, random_state=42)\n",
    "\n",
    "for fold_, (train_index, val_index) in enumerate(skf.split(X_scaled, y_over)):\n",
    "    print('Fold: ', fold_)\n",
    "    model = cat_model.fit(\n",
    "        X_scaled.iloc[train_index],\n",
    "        y_over.iloc[train_index],\n",
    "        eval_set = [(X_scaled.iloc[train_index], y_over.iloc[train_index]), (X_scaled.iloc[val_index], y_over.iloc[val_index])],\n",
    "        early_stopping_rounds = 50,\n",
    "        verbose = 0\n",
    "    )\n",
    "\n",
    "    temp_pred = model.predict_proba(X_scaled.iloc[val_index])\n",
    "    log_pred[val_index] = temp_pred\n",
    "\n",
    "    print(f'Log Loss: {log_loss(y_over.iloc[val_index], temp_pred)}')\n",
    "\n",
    "    temp_test = model.predict_proba(test_scaled)\n",
    "    test_pred += temp_test\n",
    "\n",
    "test_pred3 = test_pred/10\n",
    "\n",
    "print(f'Overall Log Loss: {log_loss(y_over, log_pred)}')"
   ]
  },
  {
   "cell_type": "code",
   "execution_count": 15,
   "metadata": {},
   "outputs": [],
   "source": [
    "df_pred1 = pd.DataFrame(test_pred1)\n",
    "df_pred2 = pd.DataFrame(test_pred2)\n",
    "df_pred3 = pd.DataFrame(test_pred3)"
   ]
  },
  {
   "cell_type": "code",
   "execution_count": 16,
   "metadata": {},
   "outputs": [],
   "source": [
    "data_test1 = pd.read_csv('data/sample_submission.csv').drop(['Class_1', 'Class_2', 'Class_3', 'Class_4'], axis=1)\n",
    "\n",
    "data_test1['Class_1'] = df_pred1[0]\n",
    "data_test1['Class_2'] = df_pred1[1]\n",
    "data_test1['Class_3'] = df_pred1[2]\n",
    "data_test1['Class_4'] = df_pred1[3]"
   ]
  },
  {
   "cell_type": "code",
   "execution_count": 17,
   "metadata": {},
   "outputs": [],
   "source": [
    "data_test2 = pd.read_csv('data/sample_submission.csv').drop(['Class_1', 'Class_2', 'Class_3', 'Class_4'], axis=1)\n",
    "\n",
    "data_test2['Class_1'] = df_pred2[0]\n",
    "data_test2['Class_2'] = df_pred2[1]\n",
    "data_test2['Class_3'] = df_pred2[2]\n",
    "data_test2['Class_4'] = df_pred2[3]"
   ]
  },
  {
   "cell_type": "code",
   "execution_count": 18,
   "metadata": {},
   "outputs": [],
   "source": [
    "data_test3 = pd.read_csv('data/sample_submission.csv').drop(['Class_1', 'Class_2', 'Class_3', 'Class_4'], axis=1)\n",
    "\n",
    "data_test3['Class_1'] = df_pred3[0]\n",
    "data_test3['Class_2'] = df_pred3[1]\n",
    "data_test3['Class_3'] = df_pred3[2]\n",
    "data_test3['Class_4'] = df_pred3[3]"
   ]
  },
  {
   "cell_type": "code",
   "execution_count": 19,
   "metadata": {},
   "outputs": [],
   "source": [
    "data_test3.to_csv('submission_v4.csv', index=False)"
   ]
  },
  {
   "cell_type": "code",
   "execution_count": null,
   "metadata": {},
   "outputs": [],
   "source": []
  }
 ]
}