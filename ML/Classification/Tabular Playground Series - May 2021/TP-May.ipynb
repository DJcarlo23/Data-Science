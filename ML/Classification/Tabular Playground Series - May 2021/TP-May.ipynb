{
 "metadata": {
  "language_info": {
   "codemirror_mode": {
    "name": "ipython",
    "version": 3
   },
   "file_extension": ".py",
   "mimetype": "text/x-python",
   "name": "python",
   "nbconvert_exporter": "python",
   "pygments_lexer": "ipython3",
   "version": "3.7.10"
  },
  "orig_nbformat": 2,
  "kernelspec": {
   "name": "python3710jvsc74a57bd0efa54f7f23af1d5798b652f3dd1f0fb573148954cb9e66026e20a8379bf29199",
   "display_name": "Python 3.7.10 64-bit ('Kaggle': conda)"
  }
 },
 "nbformat": 4,
 "nbformat_minor": 2,
 "cells": [
  {
   "cell_type": "code",
   "execution_count": 18,
   "metadata": {},
   "outputs": [],
   "source": [
    "import pandas as pd\n",
    "import numpy as np\n",
    "import seaborn as sns\n",
    "import matplotlib.pyplot as plt\n",
    "import plotly.graph_objects as go\n",
    "import plotly.express as px\n",
    "\n",
    "from plotly.subplots import make_subplots\n",
    "from sklearn.decomposition import PCA"
   ]
  },
  {
   "cell_type": "code",
   "execution_count": 3,
   "metadata": {},
   "outputs": [],
   "source": [
    "data_train = pd.read_csv('data/train.csv').drop('id', axis=1)\n",
    "data_test = pd.read_csv('data/test.csv').drop('id', axis=1)"
   ]
  },
  {
   "cell_type": "code",
   "execution_count": 4,
   "metadata": {},
   "outputs": [],
   "source": [
    "all_data = pd.concat([data_train, data_test], axis=0)"
   ]
  },
  {
   "cell_type": "code",
   "execution_count": 5,
   "metadata": {},
   "outputs": [
    {
     "output_type": "execute_result",
     "data": {
      "text/plain": [
       "       feature_0  feature_1  feature_2  feature_3  feature_4  feature_5  \\\n",
       "0              0          0          1          0          1          0   \n",
       "1              0          0          0          0          2          1   \n",
       "2              0          0          0          0          0          0   \n",
       "3              0          0          0          0          0          0   \n",
       "4              0          0          0          0          0          0   \n",
       "...          ...        ...        ...        ...        ...        ...   \n",
       "99995          0          0          0          1          0          0   \n",
       "99996          0          0          0          0          0          0   \n",
       "99997          0          0          0          0          0          1   \n",
       "99998          0          0          0          0          1          0   \n",
       "99999          0          0          0          0          0          0   \n",
       "\n",
       "       feature_6  feature_7  feature_8  feature_9  ...  feature_41  \\\n",
       "0              0          0          0          0  ...           0   \n",
       "1              0          0          0          0  ...           0   \n",
       "2              0          0          0          2  ...           0   \n",
       "3              0          3          0          0  ...           0   \n",
       "4              0          0          0          0  ...           0   \n",
       "...          ...        ...        ...        ...  ...         ...   \n",
       "99995          0          2          0          0  ...           0   \n",
       "99996          0          1          2          0  ...           0   \n",
       "99997          0          0          0          4  ...           0   \n",
       "99998          0          0          0          5  ...           0   \n",
       "99999          0          0          0          3  ...           0   \n",
       "\n",
       "       feature_42  feature_43  feature_44  feature_45  feature_46  feature_47  \\\n",
       "0               0          21           0           0           0           0   \n",
       "1               0           0           0           0           0           0   \n",
       "2               1           0           0           0           0          13   \n",
       "3               0           0           0           0           0           0   \n",
       "4               0           0           0           0           0           0   \n",
       "...           ...         ...         ...         ...         ...         ...   \n",
       "99995           0           6           0           0           3           0   \n",
       "99996           2           0           0           0          10           0   \n",
       "99997           0           0           0           1           0           0   \n",
       "99998           0           0           0           0           1           0   \n",
       "99999           5           0           0           0           1           0   \n",
       "\n",
       "       feature_48  feature_49   target  \n",
       "0               0           0  Class_2  \n",
       "1               0           0  Class_1  \n",
       "2               2           0  Class_1  \n",
       "3               1           0  Class_4  \n",
       "4               1           0  Class_2  \n",
       "...           ...         ...      ...  \n",
       "99995           0           0  Class_1  \n",
       "99996           0           0  Class_2  \n",
       "99997           2           0  Class_3  \n",
       "99998           4           0  Class_2  \n",
       "99999           0           8  Class_3  \n",
       "\n",
       "[100000 rows x 51 columns]"
      ],
      "text/html": "<div>\n<style scoped>\n    .dataframe tbody tr th:only-of-type {\n        vertical-align: middle;\n    }\n\n    .dataframe tbody tr th {\n        vertical-align: top;\n    }\n\n    .dataframe thead th {\n        text-align: right;\n    }\n</style>\n<table border=\"1\" class=\"dataframe\">\n  <thead>\n    <tr style=\"text-align: right;\">\n      <th></th>\n      <th>feature_0</th>\n      <th>feature_1</th>\n      <th>feature_2</th>\n      <th>feature_3</th>\n      <th>feature_4</th>\n      <th>feature_5</th>\n      <th>feature_6</th>\n      <th>feature_7</th>\n      <th>feature_8</th>\n      <th>feature_9</th>\n      <th>...</th>\n      <th>feature_41</th>\n      <th>feature_42</th>\n      <th>feature_43</th>\n      <th>feature_44</th>\n      <th>feature_45</th>\n      <th>feature_46</th>\n      <th>feature_47</th>\n      <th>feature_48</th>\n      <th>feature_49</th>\n      <th>target</th>\n    </tr>\n  </thead>\n  <tbody>\n    <tr>\n      <th>0</th>\n      <td>0</td>\n      <td>0</td>\n      <td>1</td>\n      <td>0</td>\n      <td>1</td>\n      <td>0</td>\n      <td>0</td>\n      <td>0</td>\n      <td>0</td>\n      <td>0</td>\n      <td>...</td>\n      <td>0</td>\n      <td>0</td>\n      <td>21</td>\n      <td>0</td>\n      <td>0</td>\n      <td>0</td>\n      <td>0</td>\n      <td>0</td>\n      <td>0</td>\n      <td>Class_2</td>\n    </tr>\n    <tr>\n      <th>1</th>\n      <td>0</td>\n      <td>0</td>\n      <td>0</td>\n      <td>0</td>\n      <td>2</td>\n      <td>1</td>\n      <td>0</td>\n      <td>0</td>\n      <td>0</td>\n      <td>0</td>\n      <td>...</td>\n      <td>0</td>\n      <td>0</td>\n      <td>0</td>\n      <td>0</td>\n      <td>0</td>\n      <td>0</td>\n      <td>0</td>\n      <td>0</td>\n      <td>0</td>\n      <td>Class_1</td>\n    </tr>\n    <tr>\n      <th>2</th>\n      <td>0</td>\n      <td>0</td>\n      <td>0</td>\n      <td>0</td>\n      <td>0</td>\n      <td>0</td>\n      <td>0</td>\n      <td>0</td>\n      <td>0</td>\n      <td>2</td>\n      <td>...</td>\n      <td>0</td>\n      <td>1</td>\n      <td>0</td>\n      <td>0</td>\n      <td>0</td>\n      <td>0</td>\n      <td>13</td>\n      <td>2</td>\n      <td>0</td>\n      <td>Class_1</td>\n    </tr>\n    <tr>\n      <th>3</th>\n      <td>0</td>\n      <td>0</td>\n      <td>0</td>\n      <td>0</td>\n      <td>0</td>\n      <td>0</td>\n      <td>0</td>\n      <td>3</td>\n      <td>0</td>\n      <td>0</td>\n      <td>...</td>\n      <td>0</td>\n      <td>0</td>\n      <td>0</td>\n      <td>0</td>\n      <td>0</td>\n      <td>0</td>\n      <td>0</td>\n      <td>1</td>\n      <td>0</td>\n      <td>Class_4</td>\n    </tr>\n    <tr>\n      <th>4</th>\n      <td>0</td>\n      <td>0</td>\n      <td>0</td>\n      <td>0</td>\n      <td>0</td>\n      <td>0</td>\n      <td>0</td>\n      <td>0</td>\n      <td>0</td>\n      <td>0</td>\n      <td>...</td>\n      <td>0</td>\n      <td>0</td>\n      <td>0</td>\n      <td>0</td>\n      <td>0</td>\n      <td>0</td>\n      <td>0</td>\n      <td>1</td>\n      <td>0</td>\n      <td>Class_2</td>\n    </tr>\n    <tr>\n      <th>...</th>\n      <td>...</td>\n      <td>...</td>\n      <td>...</td>\n      <td>...</td>\n      <td>...</td>\n      <td>...</td>\n      <td>...</td>\n      <td>...</td>\n      <td>...</td>\n      <td>...</td>\n      <td>...</td>\n      <td>...</td>\n      <td>...</td>\n      <td>...</td>\n      <td>...</td>\n      <td>...</td>\n      <td>...</td>\n      <td>...</td>\n      <td>...</td>\n      <td>...</td>\n      <td>...</td>\n    </tr>\n    <tr>\n      <th>99995</th>\n      <td>0</td>\n      <td>0</td>\n      <td>0</td>\n      <td>1</td>\n      <td>0</td>\n      <td>0</td>\n      <td>0</td>\n      <td>2</td>\n      <td>0</td>\n      <td>0</td>\n      <td>...</td>\n      <td>0</td>\n      <td>0</td>\n      <td>6</td>\n      <td>0</td>\n      <td>0</td>\n      <td>3</td>\n      <td>0</td>\n      <td>0</td>\n      <td>0</td>\n      <td>Class_1</td>\n    </tr>\n    <tr>\n      <th>99996</th>\n      <td>0</td>\n      <td>0</td>\n      <td>0</td>\n      <td>0</td>\n      <td>0</td>\n      <td>0</td>\n      <td>0</td>\n      <td>1</td>\n      <td>2</td>\n      <td>0</td>\n      <td>...</td>\n      <td>0</td>\n      <td>2</td>\n      <td>0</td>\n      <td>0</td>\n      <td>0</td>\n      <td>10</td>\n      <td>0</td>\n      <td>0</td>\n      <td>0</td>\n      <td>Class_2</td>\n    </tr>\n    <tr>\n      <th>99997</th>\n      <td>0</td>\n      <td>0</td>\n      <td>0</td>\n      <td>0</td>\n      <td>0</td>\n      <td>1</td>\n      <td>0</td>\n      <td>0</td>\n      <td>0</td>\n      <td>4</td>\n      <td>...</td>\n      <td>0</td>\n      <td>0</td>\n      <td>0</td>\n      <td>0</td>\n      <td>1</td>\n      <td>0</td>\n      <td>0</td>\n      <td>2</td>\n      <td>0</td>\n      <td>Class_3</td>\n    </tr>\n    <tr>\n      <th>99998</th>\n      <td>0</td>\n      <td>0</td>\n      <td>0</td>\n      <td>0</td>\n      <td>1</td>\n      <td>0</td>\n      <td>0</td>\n      <td>0</td>\n      <td>0</td>\n      <td>5</td>\n      <td>...</td>\n      <td>0</td>\n      <td>0</td>\n      <td>0</td>\n      <td>0</td>\n      <td>0</td>\n      <td>1</td>\n      <td>0</td>\n      <td>4</td>\n      <td>0</td>\n      <td>Class_2</td>\n    </tr>\n    <tr>\n      <th>99999</th>\n      <td>0</td>\n      <td>0</td>\n      <td>0</td>\n      <td>0</td>\n      <td>0</td>\n      <td>0</td>\n      <td>0</td>\n      <td>0</td>\n      <td>0</td>\n      <td>3</td>\n      <td>...</td>\n      <td>0</td>\n      <td>5</td>\n      <td>0</td>\n      <td>0</td>\n      <td>0</td>\n      <td>1</td>\n      <td>0</td>\n      <td>0</td>\n      <td>8</td>\n      <td>Class_3</td>\n    </tr>\n  </tbody>\n</table>\n<p>100000 rows × 51 columns</p>\n</div>"
     },
     "metadata": {},
     "execution_count": 5
    }
   ],
   "source": [
    "data_train"
   ]
  },
  {
   "source": [
    "<h2>EDA</h2>"
   ],
   "cell_type": "markdown",
   "metadata": {}
  },
  {
   "source": [
    "<h3>Missing values</h3>"
   ],
   "cell_type": "markdown",
   "metadata": {}
  },
  {
   "cell_type": "code",
   "execution_count": 6,
   "metadata": {},
   "outputs": [
    {
     "output_type": "execute_result",
     "data": {
      "text/plain": [
       "feature_0         0\n",
       "feature_1         0\n",
       "feature_2         0\n",
       "feature_3         0\n",
       "feature_4         0\n",
       "feature_5         0\n",
       "feature_6         0\n",
       "feature_7         0\n",
       "feature_8         0\n",
       "feature_9         0\n",
       "feature_10        0\n",
       "feature_11        0\n",
       "feature_12        0\n",
       "feature_13        0\n",
       "feature_14        0\n",
       "feature_15        0\n",
       "feature_16        0\n",
       "feature_17        0\n",
       "feature_18        0\n",
       "feature_19        0\n",
       "feature_20        0\n",
       "feature_21        0\n",
       "feature_22        0\n",
       "feature_23        0\n",
       "feature_24        0\n",
       "feature_25        0\n",
       "feature_26        0\n",
       "feature_27        0\n",
       "feature_28        0\n",
       "feature_29        0\n",
       "feature_30        0\n",
       "feature_31        0\n",
       "feature_32        0\n",
       "feature_33        0\n",
       "feature_34        0\n",
       "feature_35        0\n",
       "feature_36        0\n",
       "feature_37        0\n",
       "feature_38        0\n",
       "feature_39        0\n",
       "feature_40        0\n",
       "feature_41        0\n",
       "feature_42        0\n",
       "feature_43        0\n",
       "feature_44        0\n",
       "feature_45        0\n",
       "feature_46        0\n",
       "feature_47        0\n",
       "feature_48        0\n",
       "feature_49        0\n",
       "target        50000\n",
       "dtype: int64"
      ]
     },
     "metadata": {},
     "execution_count": 6
    }
   ],
   "source": [
    "all_data.isnull().sum()"
   ]
  },
  {
   "source": [
    "As we can see there aren't any missing values in this dataset"
   ],
   "cell_type": "markdown",
   "metadata": {}
  },
  {
   "source": [
    "<h3>Feature Description</h3>"
   ],
   "cell_type": "markdown",
   "metadata": {}
  },
  {
   "cell_type": "code",
   "execution_count": 7,
   "metadata": {},
   "outputs": [
    {
     "output_type": "execute_result",
     "data": {
      "text/plain": [
       "<pandas.io.formats.style.Styler at 0x14433b0d848>"
      ],
      "text/html": "<style  type=\"text/css\" >\n#T_cd9b9_row0_col1{\n            width:  10em;\n             height:  80%;\n            background:  linear-gradient(90deg,#d65f5f 6.1%, transparent 6.1%);\n        }#T_cd9b9_row0_col2{\n            width:  10em;\n             height:  80%;\n            background:  linear-gradient(90deg,#d65f5f 11.0%, transparent 11.0%);\n        }#T_cd9b9_row1_col1{\n            width:  10em;\n             height:  80%;\n            background:  linear-gradient(90deg,#d65f5f 12.6%, transparent 12.6%);\n        }#T_cd9b9_row1_col2{\n            width:  10em;\n             height:  80%;\n            background:  linear-gradient(90deg,#d65f5f 33.0%, transparent 33.0%);\n        }#T_cd9b9_row2_col1{\n            width:  10em;\n             height:  80%;\n            background:  linear-gradient(90deg,#d65f5f 1.4%, transparent 1.4%);\n        }#T_cd9b9_row2_col2{\n            width:  10em;\n             height:  80%;\n            background:  linear-gradient(90deg,#d65f5f 3.3%, transparent 3.3%);\n        }#T_cd9b9_row3_col1{\n            width:  10em;\n             height:  80%;\n            background:  linear-gradient(90deg,#d65f5f 17.4%, transparent 17.4%);\n        }#T_cd9b9_row3_col2{\n            width:  10em;\n             height:  80%;\n            background:  linear-gradient(90deg,#d65f5f 29.1%, transparent 29.1%);\n        }#T_cd9b9_row4_col1,#T_cd9b9_row43_col1{\n            width:  10em;\n             height:  80%;\n            background:  linear-gradient(90deg,#d65f5f 18.4%, transparent 18.4%);\n        }#T_cd9b9_row4_col2{\n            width:  10em;\n             height:  80%;\n            background:  linear-gradient(90deg,#d65f5f 49.3%, transparent 49.3%);\n        }#T_cd9b9_row5_col1{\n            width:  10em;\n             height:  80%;\n            background:  linear-gradient(90deg,#d65f5f 2.9%, transparent 2.9%);\n        }#T_cd9b9_row5_col2{\n            width:  10em;\n             height:  80%;\n            background:  linear-gradient(90deg,#d65f5f 4.9%, transparent 4.9%);\n        }#T_cd9b9_row6_col1{\n            width:  10em;\n             height:  80%;\n            background:  linear-gradient(90deg,#d65f5f 23.0%, transparent 23.0%);\n        }#T_cd9b9_row6_col2{\n            width:  10em;\n             height:  80%;\n            background:  linear-gradient(90deg,#d65f5f 40.0%, transparent 40.0%);\n        }#T_cd9b9_row7_col1{\n            width:  10em;\n             height:  80%;\n            background:  linear-gradient(90deg,#d65f5f 39.8%, transparent 39.8%);\n        }#T_cd9b9_row7_col2{\n            width:  10em;\n             height:  80%;\n            background:  linear-gradient(90deg,#d65f5f 47.5%, transparent 47.5%);\n        }#T_cd9b9_row8_col1,#T_cd9b9_row40_col2{\n            width:  10em;\n             height:  80%;\n            background:  linear-gradient(90deg,#d65f5f 27.8%, transparent 27.8%);\n        }#T_cd9b9_row8_col2{\n            width:  10em;\n             height:  80%;\n            background:  linear-gradient(90deg,#d65f5f 60.3%, transparent 60.3%);\n        }#T_cd9b9_row9_col1{\n            width:  10em;\n             height:  80%;\n            background:  linear-gradient(90deg,#d65f5f 29.7%, transparent 29.7%);\n        }#T_cd9b9_row9_col2{\n            width:  10em;\n             height:  80%;\n            background:  linear-gradient(90deg,#d65f5f 31.1%, transparent 31.1%);\n        }#T_cd9b9_row10_col1{\n            width:  10em;\n             height:  80%;\n            background:  linear-gradient(90deg,#d65f5f 8.5%, transparent 8.5%);\n        }#T_cd9b9_row10_col2{\n            width:  10em;\n             height:  80%;\n            background:  linear-gradient(90deg,#d65f5f 15.5%, transparent 15.5%);\n        }#T_cd9b9_row11_col1{\n            width:  10em;\n             height:  80%;\n            background:  linear-gradient(90deg,#d65f5f 11.3%, transparent 11.3%);\n        }#T_cd9b9_row11_col2{\n            width:  10em;\n             height:  80%;\n            background:  linear-gradient(90deg,#d65f5f 13.3%, transparent 13.3%);\n        }#T_cd9b9_row12_col1{\n            width:  10em;\n             height:  80%;\n            background:  linear-gradient(90deg,#d65f5f 13.4%, transparent 13.4%);\n        }#T_cd9b9_row12_col2{\n            width:  10em;\n             height:  80%;\n            background:  linear-gradient(90deg,#d65f5f 15.7%, transparent 15.7%);\n        }#T_cd9b9_row13_col1,#T_cd9b9_row13_col2{\n            width:  10em;\n             height:  80%;\n        }#T_cd9b9_row14_col1{\n            width:  10em;\n             height:  80%;\n            background:  linear-gradient(90deg,#d65f5f 86.8%, transparent 86.8%);\n        }#T_cd9b9_row14_col2{\n            width:  10em;\n             height:  80%;\n            background:  linear-gradient(90deg,#d65f5f 85.5%, transparent 85.5%);\n        }#T_cd9b9_row15_col1{\n            width:  10em;\n             height:  80%;\n            background:  linear-gradient(90deg,#d65f5f 40.5%, transparent 40.5%);\n        }#T_cd9b9_row15_col2,#T_cd9b9_row21_col2{\n            width:  10em;\n             height:  80%;\n            background:  linear-gradient(90deg,#d65f5f 36.3%, transparent 36.3%);\n        }#T_cd9b9_row16_col1{\n            width:  10em;\n             height:  80%;\n            background:  linear-gradient(90deg,#d65f5f 9.6%, transparent 9.6%);\n        }#T_cd9b9_row16_col2{\n            width:  10em;\n             height:  80%;\n            background:  linear-gradient(90deg,#d65f5f 17.8%, transparent 17.8%);\n        }#T_cd9b9_row17_col1{\n            width:  10em;\n             height:  80%;\n            background:  linear-gradient(90deg,#d65f5f 23.3%, transparent 23.3%);\n        }#T_cd9b9_row17_col2{\n            width:  10em;\n             height:  80%;\n            background:  linear-gradient(90deg,#d65f5f 30.0%, transparent 30.0%);\n        }#T_cd9b9_row18_col1{\n            width:  10em;\n             height:  80%;\n            background:  linear-gradient(90deg,#d65f5f 13.5%, transparent 13.5%);\n        }#T_cd9b9_row18_col2{\n            width:  10em;\n             height:  80%;\n            background:  linear-gradient(90deg,#d65f5f 14.7%, transparent 14.7%);\n        }#T_cd9b9_row19_col1{\n            width:  10em;\n             height:  80%;\n            background:  linear-gradient(90deg,#d65f5f 48.6%, transparent 48.6%);\n        }#T_cd9b9_row19_col2{\n            width:  10em;\n             height:  80%;\n            background:  linear-gradient(90deg,#d65f5f 85.4%, transparent 85.4%);\n        }#T_cd9b9_row20_col1{\n            width:  10em;\n             height:  80%;\n            background:  linear-gradient(90deg,#d65f5f 5.7%, transparent 5.7%);\n        }#T_cd9b9_row20_col2{\n            width:  10em;\n             height:  80%;\n            background:  linear-gradient(90deg,#d65f5f 11.6%, transparent 11.6%);\n        }#T_cd9b9_row21_col1{\n            width:  10em;\n             height:  80%;\n            background:  linear-gradient(90deg,#d65f5f 20.0%, transparent 20.0%);\n        }#T_cd9b9_row22_col1{\n            width:  10em;\n             height:  80%;\n            background:  linear-gradient(90deg,#d65f5f 3.8%, transparent 3.8%);\n        }#T_cd9b9_row22_col2{\n            width:  10em;\n             height:  80%;\n            background:  linear-gradient(90deg,#d65f5f 4.0%, transparent 4.0%);\n        }#T_cd9b9_row23_col1,#T_cd9b9_row37_col1{\n            width:  10em;\n             height:  80%;\n            background:  linear-gradient(90deg,#d65f5f 10.9%, transparent 10.9%);\n        }#T_cd9b9_row23_col2{\n            width:  10em;\n             height:  80%;\n            background:  linear-gradient(90deg,#d65f5f 17.3%, transparent 17.3%);\n        }#T_cd9b9_row24_col1{\n            width:  10em;\n             height:  80%;\n            background:  linear-gradient(90deg,#d65f5f 33.1%, transparent 33.1%);\n        }#T_cd9b9_row24_col2{\n            width:  10em;\n             height:  80%;\n            background:  linear-gradient(90deg,#d65f5f 43.7%, transparent 43.7%);\n        }#T_cd9b9_row25_col1{\n            width:  10em;\n             height:  80%;\n            background:  linear-gradient(90deg,#d65f5f 11.4%, transparent 11.4%);\n        }#T_cd9b9_row25_col2{\n            width:  10em;\n             height:  80%;\n            background:  linear-gradient(90deg,#d65f5f 19.2%, transparent 19.2%);\n        }#T_cd9b9_row26_col1{\n            width:  10em;\n             height:  80%;\n            background:  linear-gradient(90deg,#d65f5f 10.3%, transparent 10.3%);\n        }#T_cd9b9_row26_col2{\n            width:  10em;\n             height:  80%;\n            background:  linear-gradient(90deg,#d65f5f 23.4%, transparent 23.4%);\n        }#T_cd9b9_row27_col1{\n            width:  10em;\n             height:  80%;\n            background:  linear-gradient(90deg,#d65f5f 7.6%, transparent 7.6%);\n        }#T_cd9b9_row27_col2{\n            width:  10em;\n             height:  80%;\n            background:  linear-gradient(90deg,#d65f5f 24.4%, transparent 24.4%);\n        }#T_cd9b9_row28_col1,#T_cd9b9_row34_col1{\n            width:  10em;\n             height:  80%;\n            background:  linear-gradient(90deg,#d65f5f 35.4%, transparent 35.4%);\n        }#T_cd9b9_row28_col2{\n            width:  10em;\n             height:  80%;\n            background:  linear-gradient(90deg,#d65f5f 30.5%, transparent 30.5%);\n        }#T_cd9b9_row29_col1{\n            width:  10em;\n             height:  80%;\n            background:  linear-gradient(90deg,#d65f5f 3.2%, transparent 3.2%);\n        }#T_cd9b9_row29_col2{\n            width:  10em;\n             height:  80%;\n            background:  linear-gradient(90deg,#d65f5f 7.5%, transparent 7.5%);\n        }#T_cd9b9_row30_col1{\n            width:  10em;\n             height:  80%;\n            background:  linear-gradient(90deg,#d65f5f 7.4%, transparent 7.4%);\n        }#T_cd9b9_row30_col2{\n            width:  10em;\n             height:  80%;\n            background:  linear-gradient(90deg,#d65f5f 19.1%, transparent 19.1%);\n        }#T_cd9b9_row31_col1{\n            width:  10em;\n             height:  80%;\n            background:  linear-gradient(90deg,#d65f5f 44.0%, transparent 44.0%);\n        }#T_cd9b9_row31_col2{\n            width:  10em;\n             height:  80%;\n            background:  linear-gradient(90deg,#d65f5f 58.5%, transparent 58.5%);\n        }#T_cd9b9_row32_col1{\n            width:  10em;\n             height:  80%;\n            background:  linear-gradient(90deg,#d65f5f 6.9%, transparent 6.9%);\n        }#T_cd9b9_row32_col2{\n            width:  10em;\n             height:  80%;\n            background:  linear-gradient(90deg,#d65f5f 22.3%, transparent 22.3%);\n        }#T_cd9b9_row33_col1,#T_cd9b9_row41_col1{\n            width:  10em;\n             height:  80%;\n            background:  linear-gradient(90deg,#d65f5f 17.9%, transparent 17.9%);\n        }#T_cd9b9_row33_col2{\n            width:  10em;\n             height:  80%;\n            background:  linear-gradient(90deg,#d65f5f 37.5%, transparent 37.5%);\n        }#T_cd9b9_row34_col2{\n            width:  10em;\n             height:  80%;\n            background:  linear-gradient(90deg,#d65f5f 42.0%, transparent 42.0%);\n        }#T_cd9b9_row35_col1{\n            width:  10em;\n             height:  80%;\n            background:  linear-gradient(90deg,#d65f5f 29.0%, transparent 29.0%);\n        }#T_cd9b9_row35_col2{\n            width:  10em;\n             height:  80%;\n            background:  linear-gradient(90deg,#d65f5f 52.5%, transparent 52.5%);\n        }#T_cd9b9_row36_col1{\n            width:  10em;\n             height:  80%;\n            background:  linear-gradient(90deg,#d65f5f 1.5%, transparent 1.5%);\n        }#T_cd9b9_row36_col2{\n            width:  10em;\n             height:  80%;\n            background:  linear-gradient(90deg,#d65f5f 1.2%, transparent 1.2%);\n        }#T_cd9b9_row37_col2{\n            width:  10em;\n             height:  80%;\n            background:  linear-gradient(90deg,#d65f5f 14.4%, transparent 14.4%);\n        }#T_cd9b9_row38_col1,#T_cd9b9_row38_col2{\n            width:  10em;\n             height:  80%;\n            background:  linear-gradient(90deg,#d65f5f 100.0%, transparent 100.0%);\n        }#T_cd9b9_row39_col1{\n            width:  10em;\n             height:  80%;\n            background:  linear-gradient(90deg,#d65f5f 20.3%, transparent 20.3%);\n        }#T_cd9b9_row39_col2{\n            width:  10em;\n             height:  80%;\n            background:  linear-gradient(90deg,#d65f5f 67.5%, transparent 67.5%);\n        }#T_cd9b9_row40_col1{\n            width:  10em;\n             height:  80%;\n            background:  linear-gradient(90deg,#d65f5f 22.0%, transparent 22.0%);\n        }#T_cd9b9_row41_col2{\n            width:  10em;\n             height:  80%;\n            background:  linear-gradient(90deg,#d65f5f 34.1%, transparent 34.1%);\n        }#T_cd9b9_row42_col1{\n            width:  10em;\n             height:  80%;\n            background:  linear-gradient(90deg,#d65f5f 15.6%, transparent 15.6%);\n        }#T_cd9b9_row42_col2{\n            width:  10em;\n             height:  80%;\n            background:  linear-gradient(90deg,#d65f5f 39.9%, transparent 39.9%);\n        }#T_cd9b9_row43_col2{\n            width:  10em;\n             height:  80%;\n            background:  linear-gradient(90deg,#d65f5f 39.6%, transparent 39.6%);\n        }#T_cd9b9_row44_col1{\n            width:  10em;\n             height:  80%;\n            background:  linear-gradient(90deg,#d65f5f 2.0%, transparent 2.0%);\n        }#T_cd9b9_row44_col2{\n            width:  10em;\n             height:  80%;\n            background:  linear-gradient(90deg,#d65f5f 5.2%, transparent 5.2%);\n        }#T_cd9b9_row45_col1{\n            width:  10em;\n             height:  80%;\n            background:  linear-gradient(90deg,#d65f5f 9.7%, transparent 9.7%);\n        }#T_cd9b9_row45_col2{\n            width:  10em;\n             height:  80%;\n            background:  linear-gradient(90deg,#d65f5f 22.9%, transparent 22.9%);\n        }#T_cd9b9_row46_col1{\n            width:  10em;\n             height:  80%;\n            background:  linear-gradient(90deg,#d65f5f 15.4%, transparent 15.4%);\n        }#T_cd9b9_row46_col2{\n            width:  10em;\n             height:  80%;\n            background:  linear-gradient(90deg,#d65f5f 36.7%, transparent 36.7%);\n        }#T_cd9b9_row47_col1{\n            width:  10em;\n             height:  80%;\n            background:  linear-gradient(90deg,#d65f5f 10.7%, transparent 10.7%);\n        }#T_cd9b9_row47_col2{\n            width:  10em;\n             height:  80%;\n            background:  linear-gradient(90deg,#d65f5f 21.9%, transparent 21.9%);\n        }#T_cd9b9_row48_col1{\n            width:  10em;\n             height:  80%;\n            background:  linear-gradient(90deg,#d65f5f 31.2%, transparent 31.2%);\n        }#T_cd9b9_row48_col2{\n            width:  10em;\n             height:  80%;\n            background:  linear-gradient(90deg,#d65f5f 45.7%, transparent 45.7%);\n        }#T_cd9b9_row49_col1{\n            width:  10em;\n             height:  80%;\n            background:  linear-gradient(90deg,#d65f5f 16.8%, transparent 16.8%);\n        }#T_cd9b9_row49_col2{\n            width:  10em;\n             height:  80%;\n            background:  linear-gradient(90deg,#d65f5f 26.9%, transparent 26.9%);\n        }</style><table id=\"T_cd9b9_\" ><thead>    <tr>        <th class=\"blank level0\" ></th>        <th class=\"col_heading level0 col0\" >count</th>        <th class=\"col_heading level0 col1\" >mean</th>        <th class=\"col_heading level0 col2\" >std</th>        <th class=\"col_heading level0 col3\" >min</th>        <th class=\"col_heading level0 col4\" >25%</th>        <th class=\"col_heading level0 col5\" >50%</th>        <th class=\"col_heading level0 col6\" >75%</th>        <th class=\"col_heading level0 col7\" >max</th>    </tr></thead><tbody>\n                <tr>\n                        <th id=\"T_cd9b9_level0_row0\" class=\"row_heading level0 row0\" >feature_0</th>\n                        <td id=\"T_cd9b9_row0_col0\" class=\"data row0 col0\" >50000.000000</td>\n                        <td id=\"T_cd9b9_row0_col1\" class=\"data row0 col1\" >0.254620</td>\n                        <td id=\"T_cd9b9_row0_col2\" class=\"data row0 col2\" >0.910607</td>\n                        <td id=\"T_cd9b9_row0_col3\" class=\"data row0 col3\" >0.000000</td>\n                        <td id=\"T_cd9b9_row0_col4\" class=\"data row0 col4\" >0.000000</td>\n                        <td id=\"T_cd9b9_row0_col5\" class=\"data row0 col5\" >0.000000</td>\n                        <td id=\"T_cd9b9_row0_col6\" class=\"data row0 col6\" >0.000000</td>\n                        <td id=\"T_cd9b9_row0_col7\" class=\"data row0 col7\" >10.000000</td>\n            </tr>\n            <tr>\n                        <th id=\"T_cd9b9_level0_row1\" class=\"row_heading level0 row1\" >feature_1</th>\n                        <td id=\"T_cd9b9_row1_col0\" class=\"data row1 col0\" >50000.000000</td>\n                        <td id=\"T_cd9b9_row1_col1\" class=\"data row1 col1\" >0.443480</td>\n                        <td id=\"T_cd9b9_row1_col2\" class=\"data row1 col2\" >2.004536</td>\n                        <td id=\"T_cd9b9_row1_col3\" class=\"data row1 col3\" >0.000000</td>\n                        <td id=\"T_cd9b9_row1_col4\" class=\"data row1 col4\" >0.000000</td>\n                        <td id=\"T_cd9b9_row1_col5\" class=\"data row1 col5\" >0.000000</td>\n                        <td id=\"T_cd9b9_row1_col6\" class=\"data row1 col6\" >0.000000</td>\n                        <td id=\"T_cd9b9_row1_col7\" class=\"data row1 col7\" >31.000000</td>\n            </tr>\n            <tr>\n                        <th id=\"T_cd9b9_level0_row2\" class=\"row_heading level0 row2\" >feature_2</th>\n                        <td id=\"T_cd9b9_row2_col0\" class=\"data row2 col0\" >50000.000000</td>\n                        <td id=\"T_cd9b9_row2_col1\" class=\"data row2 col1\" >0.116720</td>\n                        <td id=\"T_cd9b9_row2_col2\" class=\"data row2 col2\" >0.524807</td>\n                        <td id=\"T_cd9b9_row2_col3\" class=\"data row2 col3\" >0.000000</td>\n                        <td id=\"T_cd9b9_row2_col4\" class=\"data row2 col4\" >0.000000</td>\n                        <td id=\"T_cd9b9_row2_col5\" class=\"data row2 col5\" >0.000000</td>\n                        <td id=\"T_cd9b9_row2_col6\" class=\"data row2 col6\" >0.000000</td>\n                        <td id=\"T_cd9b9_row2_col7\" class=\"data row2 col7\" >6.000000</td>\n            </tr>\n            <tr>\n                        <th id=\"T_cd9b9_level0_row3\" class=\"row_heading level0 row3\" >feature_3</th>\n                        <td id=\"T_cd9b9_row3_col0\" class=\"data row3 col0\" >50000.000000</td>\n                        <td id=\"T_cd9b9_row3_col1\" class=\"data row3 col1\" >0.584440</td>\n                        <td id=\"T_cd9b9_row3_col2\" class=\"data row3 col2\" >1.814083</td>\n                        <td id=\"T_cd9b9_row3_col3\" class=\"data row3 col3\" >0.000000</td>\n                        <td id=\"T_cd9b9_row3_col4\" class=\"data row3 col4\" >0.000000</td>\n                        <td id=\"T_cd9b9_row3_col5\" class=\"data row3 col5\" >0.000000</td>\n                        <td id=\"T_cd9b9_row3_col6\" class=\"data row3 col6\" >0.000000</td>\n                        <td id=\"T_cd9b9_row3_col7\" class=\"data row3 col7\" >25.000000</td>\n            </tr>\n            <tr>\n                        <th id=\"T_cd9b9_level0_row4\" class=\"row_heading level0 row4\" >feature_4</th>\n                        <td id=\"T_cd9b9_row4_col0\" class=\"data row4 col0\" >50000.000000</td>\n                        <td id=\"T_cd9b9_row4_col1\" class=\"data row4 col1\" >0.612640</td>\n                        <td id=\"T_cd9b9_row4_col2\" class=\"data row4 col2\" >2.819580</td>\n                        <td id=\"T_cd9b9_row4_col3\" class=\"data row4 col3\" >0.000000</td>\n                        <td id=\"T_cd9b9_row4_col4\" class=\"data row4 col4\" >0.000000</td>\n                        <td id=\"T_cd9b9_row4_col5\" class=\"data row4 col5\" >0.000000</td>\n                        <td id=\"T_cd9b9_row4_col6\" class=\"data row4 col6\" >0.000000</td>\n                        <td id=\"T_cd9b9_row4_col7\" class=\"data row4 col7\" >38.000000</td>\n            </tr>\n            <tr>\n                        <th id=\"T_cd9b9_level0_row5\" class=\"row_heading level0 row5\" >feature_5</th>\n                        <td id=\"T_cd9b9_row5_col0\" class=\"data row5 col0\" >50000.000000</td>\n                        <td id=\"T_cd9b9_row5_col1\" class=\"data row5 col1\" >0.161500</td>\n                        <td id=\"T_cd9b9_row5_col2\" class=\"data row5 col2\" >0.605760</td>\n                        <td id=\"T_cd9b9_row5_col3\" class=\"data row5 col3\" >0.000000</td>\n                        <td id=\"T_cd9b9_row5_col4\" class=\"data row5 col4\" >0.000000</td>\n                        <td id=\"T_cd9b9_row5_col5\" class=\"data row5 col5\" >0.000000</td>\n                        <td id=\"T_cd9b9_row5_col6\" class=\"data row5 col6\" >0.000000</td>\n                        <td id=\"T_cd9b9_row5_col7\" class=\"data row5 col7\" >9.000000</td>\n            </tr>\n            <tr>\n                        <th id=\"T_cd9b9_level0_row6\" class=\"row_heading level0 row6\" >feature_6</th>\n                        <td id=\"T_cd9b9_row6_col0\" class=\"data row6 col0\" >50000.000000</td>\n                        <td id=\"T_cd9b9_row6_col1\" class=\"data row6 col1\" >0.746000</td>\n                        <td id=\"T_cd9b9_row6_col2\" class=\"data row6 col2\" >2.352495</td>\n                        <td id=\"T_cd9b9_row6_col3\" class=\"data row6 col3\" >0.000000</td>\n                        <td id=\"T_cd9b9_row6_col4\" class=\"data row6 col4\" >0.000000</td>\n                        <td id=\"T_cd9b9_row6_col5\" class=\"data row6 col5\" >0.000000</td>\n                        <td id=\"T_cd9b9_row6_col6\" class=\"data row6 col6\" >0.000000</td>\n                        <td id=\"T_cd9b9_row6_col7\" class=\"data row6 col7\" >25.000000</td>\n            </tr>\n            <tr>\n                        <th id=\"T_cd9b9_level0_row7\" class=\"row_heading level0 row7\" >feature_7</th>\n                        <td id=\"T_cd9b9_row7_col0\" class=\"data row7 col0\" >50000.000000</td>\n                        <td id=\"T_cd9b9_row7_col1\" class=\"data row7 col1\" >1.238040</td>\n                        <td id=\"T_cd9b9_row7_col2\" class=\"data row7 col2\" >2.728055</td>\n                        <td id=\"T_cd9b9_row7_col3\" class=\"data row7 col3\" >0.000000</td>\n                        <td id=\"T_cd9b9_row7_col4\" class=\"data row7 col4\" >0.000000</td>\n                        <td id=\"T_cd9b9_row7_col5\" class=\"data row7 col5\" >0.000000</td>\n                        <td id=\"T_cd9b9_row7_col6\" class=\"data row7 col6\" >1.000000</td>\n                        <td id=\"T_cd9b9_row7_col7\" class=\"data row7 col7\" >29.000000</td>\n            </tr>\n            <tr>\n                        <th id=\"T_cd9b9_level0_row8\" class=\"row_heading level0 row8\" >feature_8</th>\n                        <td id=\"T_cd9b9_row8_col0\" class=\"data row8 col0\" >50000.000000</td>\n                        <td id=\"T_cd9b9_row8_col1\" class=\"data row8 col1\" >0.886440</td>\n                        <td id=\"T_cd9b9_row8_col2\" class=\"data row8 col2\" >3.364154</td>\n                        <td id=\"T_cd9b9_row8_col3\" class=\"data row8 col3\" >0.000000</td>\n                        <td id=\"T_cd9b9_row8_col4\" class=\"data row8 col4\" >0.000000</td>\n                        <td id=\"T_cd9b9_row8_col5\" class=\"data row8 col5\" >0.000000</td>\n                        <td id=\"T_cd9b9_row8_col6\" class=\"data row8 col6\" >0.000000</td>\n                        <td id=\"T_cd9b9_row8_col7\" class=\"data row8 col7\" >35.000000</td>\n            </tr>\n            <tr>\n                        <th id=\"T_cd9b9_level0_row9\" class=\"row_heading level0 row9\" >feature_9</th>\n                        <td id=\"T_cd9b9_row9_col0\" class=\"data row9 col0\" >50000.000000</td>\n                        <td id=\"T_cd9b9_row9_col1\" class=\"data row9 col1\" >0.941920</td>\n                        <td id=\"T_cd9b9_row9_col2\" class=\"data row9 col2\" >1.913358</td>\n                        <td id=\"T_cd9b9_row9_col3\" class=\"data row9 col3\" >0.000000</td>\n                        <td id=\"T_cd9b9_row9_col4\" class=\"data row9 col4\" >0.000000</td>\n                        <td id=\"T_cd9b9_row9_col5\" class=\"data row9 col5\" >0.000000</td>\n                        <td id=\"T_cd9b9_row9_col6\" class=\"data row9 col6\" >1.000000</td>\n                        <td id=\"T_cd9b9_row9_col7\" class=\"data row9 col7\" >16.000000</td>\n            </tr>\n            <tr>\n                        <th id=\"T_cd9b9_level0_row10\" class=\"row_heading level0 row10\" >feature_10</th>\n                        <td id=\"T_cd9b9_row10_col0\" class=\"data row10 col0\" >50000.000000</td>\n                        <td id=\"T_cd9b9_row10_col1\" class=\"data row10 col1\" >0.323160</td>\n                        <td id=\"T_cd9b9_row10_col2\" class=\"data row10 col2\" >1.135691</td>\n                        <td id=\"T_cd9b9_row10_col3\" class=\"data row10 col3\" >0.000000</td>\n                        <td id=\"T_cd9b9_row10_col4\" class=\"data row10 col4\" >0.000000</td>\n                        <td id=\"T_cd9b9_row10_col5\" class=\"data row10 col5\" >0.000000</td>\n                        <td id=\"T_cd9b9_row10_col6\" class=\"data row10 col6\" >0.000000</td>\n                        <td id=\"T_cd9b9_row10_col7\" class=\"data row10 col7\" >15.000000</td>\n            </tr>\n            <tr>\n                        <th id=\"T_cd9b9_level0_row11\" class=\"row_heading level0 row11\" >feature_11</th>\n                        <td id=\"T_cd9b9_row11_col0\" class=\"data row11 col0\" >50000.000000</td>\n                        <td id=\"T_cd9b9_row11_col1\" class=\"data row11 col1\" >0.407380</td>\n                        <td id=\"T_cd9b9_row11_col2\" class=\"data row11 col2\" >1.022547</td>\n                        <td id=\"T_cd9b9_row11_col3\" class=\"data row11 col3\" >0.000000</td>\n                        <td id=\"T_cd9b9_row11_col4\" class=\"data row11 col4\" >0.000000</td>\n                        <td id=\"T_cd9b9_row11_col5\" class=\"data row11 col5\" >0.000000</td>\n                        <td id=\"T_cd9b9_row11_col6\" class=\"data row11 col6\" >0.000000</td>\n                        <td id=\"T_cd9b9_row11_col7\" class=\"data row11 col7\" >11.000000</td>\n            </tr>\n            <tr>\n                        <th id=\"T_cd9b9_level0_row12\" class=\"row_heading level0 row12\" >feature_12</th>\n                        <td id=\"T_cd9b9_row12_col0\" class=\"data row12 col0\" >50000.000000</td>\n                        <td id=\"T_cd9b9_row12_col1\" class=\"data row12 col1\" >0.468160</td>\n                        <td id=\"T_cd9b9_row12_col2\" class=\"data row12 col2\" >1.143159</td>\n                        <td id=\"T_cd9b9_row12_col3\" class=\"data row12 col3\" >0.000000</td>\n                        <td id=\"T_cd9b9_row12_col4\" class=\"data row12 col4\" >0.000000</td>\n                        <td id=\"T_cd9b9_row12_col5\" class=\"data row12 col5\" >0.000000</td>\n                        <td id=\"T_cd9b9_row12_col6\" class=\"data row12 col6\" >0.000000</td>\n                        <td id=\"T_cd9b9_row12_col7\" class=\"data row12 col7\" >11.000000</td>\n            </tr>\n            <tr>\n                        <th id=\"T_cd9b9_level0_row13\" class=\"row_heading level0 row13\" >feature_13</th>\n                        <td id=\"T_cd9b9_row13_col0\" class=\"data row13 col0\" >50000.000000</td>\n                        <td id=\"T_cd9b9_row13_col1\" class=\"data row13 col1\" >0.076840</td>\n                        <td id=\"T_cd9b9_row13_col2\" class=\"data row13 col2\" >0.362461</td>\n                        <td id=\"T_cd9b9_row13_col3\" class=\"data row13 col3\" >0.000000</td>\n                        <td id=\"T_cd9b9_row13_col4\" class=\"data row13 col4\" >0.000000</td>\n                        <td id=\"T_cd9b9_row13_col5\" class=\"data row13 col5\" >0.000000</td>\n                        <td id=\"T_cd9b9_row13_col6\" class=\"data row13 col6\" >0.000000</td>\n                        <td id=\"T_cd9b9_row13_col7\" class=\"data row13 col7\" >3.000000</td>\n            </tr>\n            <tr>\n                        <th id=\"T_cd9b9_level0_row14\" class=\"row_heading level0 row14\" >feature_14</th>\n                        <td id=\"T_cd9b9_row14_col0\" class=\"data row14 col0\" >50000.000000</td>\n                        <td id=\"T_cd9b9_row14_col1\" class=\"data row14 col1\" >2.607560</td>\n                        <td id=\"T_cd9b9_row14_col2\" class=\"data row14 col2\" >4.620682</td>\n                        <td id=\"T_cd9b9_row14_col3\" class=\"data row14 col3\" >-1.000000</td>\n                        <td id=\"T_cd9b9_row14_col4\" class=\"data row14 col4\" >0.000000</td>\n                        <td id=\"T_cd9b9_row14_col5\" class=\"data row14 col5\" >1.000000</td>\n                        <td id=\"T_cd9b9_row14_col6\" class=\"data row14 col6\" >3.000000</td>\n                        <td id=\"T_cd9b9_row14_col7\" class=\"data row14 col7\" >47.000000</td>\n            </tr>\n            <tr>\n                        <th id=\"T_cd9b9_level0_row15\" class=\"row_heading level0 row15\" >feature_15</th>\n                        <td id=\"T_cd9b9_row15_col0\" class=\"data row15 col0\" >50000.000000</td>\n                        <td id=\"T_cd9b9_row15_col1\" class=\"data row15 col1\" >1.256040</td>\n                        <td id=\"T_cd9b9_row15_col2\" class=\"data row15 col2\" >2.167832</td>\n                        <td id=\"T_cd9b9_row15_col3\" class=\"data row15 col3\" >0.000000</td>\n                        <td id=\"T_cd9b9_row15_col4\" class=\"data row15 col4\" >0.000000</td>\n                        <td id=\"T_cd9b9_row15_col5\" class=\"data row15 col5\" >0.000000</td>\n                        <td id=\"T_cd9b9_row15_col6\" class=\"data row15 col6\" >2.000000</td>\n                        <td id=\"T_cd9b9_row15_col7\" class=\"data row15 col7\" >19.000000</td>\n            </tr>\n            <tr>\n                        <th id=\"T_cd9b9_level0_row16\" class=\"row_heading level0 row16\" >feature_16</th>\n                        <td id=\"T_cd9b9_row16_col0\" class=\"data row16 col0\" >50000.000000</td>\n                        <td id=\"T_cd9b9_row16_col1\" class=\"data row16 col1\" >0.356440</td>\n                        <td id=\"T_cd9b9_row16_col2\" class=\"data row16 col2\" >1.249745</td>\n                        <td id=\"T_cd9b9_row16_col3\" class=\"data row16 col3\" >0.000000</td>\n                        <td id=\"T_cd9b9_row16_col4\" class=\"data row16 col4\" >0.000000</td>\n                        <td id=\"T_cd9b9_row16_col5\" class=\"data row16 col5\" >0.000000</td>\n                        <td id=\"T_cd9b9_row16_col6\" class=\"data row16 col6\" >0.000000</td>\n                        <td id=\"T_cd9b9_row16_col7\" class=\"data row16 col7\" >19.000000</td>\n            </tr>\n            <tr>\n                        <th id=\"T_cd9b9_level0_row17\" class=\"row_heading level0 row17\" >feature_17</th>\n                        <td id=\"T_cd9b9_row17_col0\" class=\"data row17 col0\" >50000.000000</td>\n                        <td id=\"T_cd9b9_row17_col1\" class=\"data row17 col1\" >0.755920</td>\n                        <td id=\"T_cd9b9_row17_col2\" class=\"data row17 col2\" >1.854415</td>\n                        <td id=\"T_cd9b9_row17_col3\" class=\"data row17 col3\" >0.000000</td>\n                        <td id=\"T_cd9b9_row17_col4\" class=\"data row17 col4\" >0.000000</td>\n                        <td id=\"T_cd9b9_row17_col5\" class=\"data row17 col5\" >0.000000</td>\n                        <td id=\"T_cd9b9_row17_col6\" class=\"data row17 col6\" >0.000000</td>\n                        <td id=\"T_cd9b9_row17_col7\" class=\"data row17 col7\" >16.000000</td>\n            </tr>\n            <tr>\n                        <th id=\"T_cd9b9_level0_row18\" class=\"row_heading level0 row18\" >feature_18</th>\n                        <td id=\"T_cd9b9_row18_col0\" class=\"data row18 col0\" >50000.000000</td>\n                        <td id=\"T_cd9b9_row18_col1\" class=\"data row18 col1\" >0.470700</td>\n                        <td id=\"T_cd9b9_row18_col2\" class=\"data row18 col2\" >1.095009</td>\n                        <td id=\"T_cd9b9_row18_col3\" class=\"data row18 col3\" >0.000000</td>\n                        <td id=\"T_cd9b9_row18_col4\" class=\"data row18 col4\" >0.000000</td>\n                        <td id=\"T_cd9b9_row18_col5\" class=\"data row18 col5\" >0.000000</td>\n                        <td id=\"T_cd9b9_row18_col6\" class=\"data row18 col6\" >0.000000</td>\n                        <td id=\"T_cd9b9_row18_col7\" class=\"data row18 col7\" >13.000000</td>\n            </tr>\n            <tr>\n                        <th id=\"T_cd9b9_level0_row19\" class=\"row_heading level0 row19\" >feature_19</th>\n                        <td id=\"T_cd9b9_row19_col0\" class=\"data row19 col0\" >50000.000000</td>\n                        <td id=\"T_cd9b9_row19_col1\" class=\"data row19 col1\" >1.494740</td>\n                        <td id=\"T_cd9b9_row19_col2\" class=\"data row19 col2\" >4.612968</td>\n                        <td id=\"T_cd9b9_row19_col3\" class=\"data row19 col3\" >-2.000000</td>\n                        <td id=\"T_cd9b9_row19_col4\" class=\"data row19 col4\" >0.000000</td>\n                        <td id=\"T_cd9b9_row19_col5\" class=\"data row19 col5\" >0.000000</td>\n                        <td id=\"T_cd9b9_row19_col6\" class=\"data row19 col6\" >0.250000</td>\n                        <td id=\"T_cd9b9_row19_col7\" class=\"data row19 col7\" >57.000000</td>\n            </tr>\n            <tr>\n                        <th id=\"T_cd9b9_level0_row20\" class=\"row_heading level0 row20\" >feature_20</th>\n                        <td id=\"T_cd9b9_row20_col0\" class=\"data row20 col0\" >50000.000000</td>\n                        <td id=\"T_cd9b9_row20_col1\" class=\"data row20 col1\" >0.244060</td>\n                        <td id=\"T_cd9b9_row20_col2\" class=\"data row20 col2\" >0.940102</td>\n                        <td id=\"T_cd9b9_row20_col3\" class=\"data row20 col3\" >0.000000</td>\n                        <td id=\"T_cd9b9_row20_col4\" class=\"data row20 col4\" >0.000000</td>\n                        <td id=\"T_cd9b9_row20_col5\" class=\"data row20 col5\" >0.000000</td>\n                        <td id=\"T_cd9b9_row20_col6\" class=\"data row20 col6\" >0.000000</td>\n                        <td id=\"T_cd9b9_row20_col7\" class=\"data row20 col7\" >17.000000</td>\n            </tr>\n            <tr>\n                        <th id=\"T_cd9b9_level0_row21\" class=\"row_heading level0 row21\" >feature_21</th>\n                        <td id=\"T_cd9b9_row21_col0\" class=\"data row21 col0\" >50000.000000</td>\n                        <td id=\"T_cd9b9_row21_col1\" class=\"data row21 col1\" >0.659480</td>\n                        <td id=\"T_cd9b9_row21_col2\" class=\"data row21 col2\" >2.168433</td>\n                        <td id=\"T_cd9b9_row21_col3\" class=\"data row21 col3\" >0.000000</td>\n                        <td id=\"T_cd9b9_row21_col4\" class=\"data row21 col4\" >0.000000</td>\n                        <td id=\"T_cd9b9_row21_col5\" class=\"data row21 col5\" >0.000000</td>\n                        <td id=\"T_cd9b9_row21_col6\" class=\"data row21 col6\" >0.000000</td>\n                        <td id=\"T_cd9b9_row21_col7\" class=\"data row21 col7\" >35.000000</td>\n            </tr>\n            <tr>\n                        <th id=\"T_cd9b9_level0_row22\" class=\"row_heading level0 row22\" >feature_22</th>\n                        <td id=\"T_cd9b9_row22_col0\" class=\"data row22 col0\" >50000.000000</td>\n                        <td id=\"T_cd9b9_row22_col1\" class=\"data row22 col1\" >0.188100</td>\n                        <td id=\"T_cd9b9_row22_col2\" class=\"data row22 col2\" >0.561288</td>\n                        <td id=\"T_cd9b9_row22_col3\" class=\"data row22 col3\" >0.000000</td>\n                        <td id=\"T_cd9b9_row22_col4\" class=\"data row22 col4\" >0.000000</td>\n                        <td id=\"T_cd9b9_row22_col5\" class=\"data row22 col5\" >0.000000</td>\n                        <td id=\"T_cd9b9_row22_col6\" class=\"data row22 col6\" >0.000000</td>\n                        <td id=\"T_cd9b9_row22_col7\" class=\"data row22 col7\" >4.000000</td>\n            </tr>\n            <tr>\n                        <th id=\"T_cd9b9_level0_row23\" class=\"row_heading level0 row23\" >feature_23</th>\n                        <td id=\"T_cd9b9_row23_col0\" class=\"data row23 col0\" >50000.000000</td>\n                        <td id=\"T_cd9b9_row23_col1\" class=\"data row23 col1\" >0.395360</td>\n                        <td id=\"T_cd9b9_row23_col2\" class=\"data row23 col2\" >1.222784</td>\n                        <td id=\"T_cd9b9_row23_col3\" class=\"data row23 col3\" >0.000000</td>\n                        <td id=\"T_cd9b9_row23_col4\" class=\"data row23 col4\" >0.000000</td>\n                        <td id=\"T_cd9b9_row23_col5\" class=\"data row23 col5\" >0.000000</td>\n                        <td id=\"T_cd9b9_row23_col6\" class=\"data row23 col6\" >0.000000</td>\n                        <td id=\"T_cd9b9_row23_col7\" class=\"data row23 col7\" >17.000000</td>\n            </tr>\n            <tr>\n                        <th id=\"T_cd9b9_level0_row24\" class=\"row_heading level0 row24\" >feature_24</th>\n                        <td id=\"T_cd9b9_row24_col0\" class=\"data row24 col0\" >50000.000000</td>\n                        <td id=\"T_cd9b9_row24_col1\" class=\"data row24 col1\" >1.041020</td>\n                        <td id=\"T_cd9b9_row24_col2\" class=\"data row24 col2\" >2.537019</td>\n                        <td id=\"T_cd9b9_row24_col3\" class=\"data row24 col3\" >0.000000</td>\n                        <td id=\"T_cd9b9_row24_col4\" class=\"data row24 col4\" >0.000000</td>\n                        <td id=\"T_cd9b9_row24_col5\" class=\"data row24 col5\" >0.000000</td>\n                        <td id=\"T_cd9b9_row24_col6\" class=\"data row24 col6\" >1.000000</td>\n                        <td id=\"T_cd9b9_row24_col7\" class=\"data row24 col7\" >36.000000</td>\n            </tr>\n            <tr>\n                        <th id=\"T_cd9b9_level0_row25\" class=\"row_heading level0 row25\" >feature_25</th>\n                        <td id=\"T_cd9b9_row25_col0\" class=\"data row25 col0\" >50000.000000</td>\n                        <td id=\"T_cd9b9_row25_col1\" class=\"data row25 col1\" >0.410500</td>\n                        <td id=\"T_cd9b9_row25_col2\" class=\"data row25 col2\" >1.318478</td>\n                        <td id=\"T_cd9b9_row25_col3\" class=\"data row25 col3\" >0.000000</td>\n                        <td id=\"T_cd9b9_row25_col4\" class=\"data row25 col4\" >0.000000</td>\n                        <td id=\"T_cd9b9_row25_col5\" class=\"data row25 col5\" >0.000000</td>\n                        <td id=\"T_cd9b9_row25_col6\" class=\"data row25 col6\" >0.000000</td>\n                        <td id=\"T_cd9b9_row25_col7\" class=\"data row25 col7\" >24.000000</td>\n            </tr>\n            <tr>\n                        <th id=\"T_cd9b9_level0_row26\" class=\"row_heading level0 row26\" >feature_26</th>\n                        <td id=\"T_cd9b9_row26_col0\" class=\"data row26 col0\" >50000.000000</td>\n                        <td id=\"T_cd9b9_row26_col1\" class=\"data row26 col1\" >0.376260</td>\n                        <td id=\"T_cd9b9_row26_col2\" class=\"data row26 col2\" >1.529659</td>\n                        <td id=\"T_cd9b9_row26_col3\" class=\"data row26 col3\" >0.000000</td>\n                        <td id=\"T_cd9b9_row26_col4\" class=\"data row26 col4\" >0.000000</td>\n                        <td id=\"T_cd9b9_row26_col5\" class=\"data row26 col5\" >0.000000</td>\n                        <td id=\"T_cd9b9_row26_col6\" class=\"data row26 col6\" >0.000000</td>\n                        <td id=\"T_cd9b9_row26_col7\" class=\"data row26 col7\" >21.000000</td>\n            </tr>\n            <tr>\n                        <th id=\"T_cd9b9_level0_row27\" class=\"row_heading level0 row27\" >feature_27</th>\n                        <td id=\"T_cd9b9_row27_col0\" class=\"data row27 col0\" >50000.000000</td>\n                        <td id=\"T_cd9b9_row27_col1\" class=\"data row27 col1\" >0.297820</td>\n                        <td id=\"T_cd9b9_row27_col2\" class=\"data row27 col2\" >1.575466</td>\n                        <td id=\"T_cd9b9_row27_col3\" class=\"data row27 col3\" >0.000000</td>\n                        <td id=\"T_cd9b9_row27_col4\" class=\"data row27 col4\" >0.000000</td>\n                        <td id=\"T_cd9b9_row27_col5\" class=\"data row27 col5\" >0.000000</td>\n                        <td id=\"T_cd9b9_row27_col6\" class=\"data row27 col6\" >0.000000</td>\n                        <td id=\"T_cd9b9_row27_col7\" class=\"data row27 col7\" >31.000000</td>\n            </tr>\n            <tr>\n                        <th id=\"T_cd9b9_level0_row28\" class=\"row_heading level0 row28\" >feature_28</th>\n                        <td id=\"T_cd9b9_row28_col0\" class=\"data row28 col0\" >50000.000000</td>\n                        <td id=\"T_cd9b9_row28_col1\" class=\"data row28 col1\" >1.108760</td>\n                        <td id=\"T_cd9b9_row28_col2\" class=\"data row28 col2\" >1.882903</td>\n                        <td id=\"T_cd9b9_row28_col3\" class=\"data row28 col3\" >0.000000</td>\n                        <td id=\"T_cd9b9_row28_col4\" class=\"data row28 col4\" >0.000000</td>\n                        <td id=\"T_cd9b9_row28_col5\" class=\"data row28 col5\" >0.000000</td>\n                        <td id=\"T_cd9b9_row28_col6\" class=\"data row28 col6\" >2.000000</td>\n                        <td id=\"T_cd9b9_row28_col7\" class=\"data row28 col7\" >22.000000</td>\n            </tr>\n            <tr>\n                        <th id=\"T_cd9b9_level0_row29\" class=\"row_heading level0 row29\" >feature_29</th>\n                        <td id=\"T_cd9b9_row29_col0\" class=\"data row29 col0\" >50000.000000</td>\n                        <td id=\"T_cd9b9_row29_col1\" class=\"data row29 col1\" >0.170700</td>\n                        <td id=\"T_cd9b9_row29_col2\" class=\"data row29 col2\" >0.735780</td>\n                        <td id=\"T_cd9b9_row29_col3\" class=\"data row29 col3\" >0.000000</td>\n                        <td id=\"T_cd9b9_row29_col4\" class=\"data row29 col4\" >0.000000</td>\n                        <td id=\"T_cd9b9_row29_col5\" class=\"data row29 col5\" >0.000000</td>\n                        <td id=\"T_cd9b9_row29_col6\" class=\"data row29 col6\" >0.000000</td>\n                        <td id=\"T_cd9b9_row29_col7\" class=\"data row29 col7\" >12.000000</td>\n            </tr>\n            <tr>\n                        <th id=\"T_cd9b9_level0_row30\" class=\"row_heading level0 row30\" >feature_30</th>\n                        <td id=\"T_cd9b9_row30_col0\" class=\"data row30 col0\" >50000.000000</td>\n                        <td id=\"T_cd9b9_row30_col1\" class=\"data row30 col1\" >0.291420</td>\n                        <td id=\"T_cd9b9_row30_col2\" class=\"data row30 col2\" >1.314401</td>\n                        <td id=\"T_cd9b9_row30_col3\" class=\"data row30 col3\" >-2.000000</td>\n                        <td id=\"T_cd9b9_row30_col4\" class=\"data row30 col4\" >0.000000</td>\n                        <td id=\"T_cd9b9_row30_col5\" class=\"data row30 col5\" >0.000000</td>\n                        <td id=\"T_cd9b9_row30_col6\" class=\"data row30 col6\" >0.000000</td>\n                        <td id=\"T_cd9b9_row30_col7\" class=\"data row30 col7\" >38.000000</td>\n            </tr>\n            <tr>\n                        <th id=\"T_cd9b9_level0_row31\" class=\"row_heading level0 row31\" >feature_31</th>\n                        <td id=\"T_cd9b9_row31_col0\" class=\"data row31 col0\" >50000.000000</td>\n                        <td id=\"T_cd9b9_row31_col1\" class=\"data row31 col1\" >1.359200</td>\n                        <td id=\"T_cd9b9_row31_col2\" class=\"data row31 col2\" >3.273999</td>\n                        <td id=\"T_cd9b9_row31_col3\" class=\"data row31 col3\" >-3.000000</td>\n                        <td id=\"T_cd9b9_row31_col4\" class=\"data row31 col4\" >0.000000</td>\n                        <td id=\"T_cd9b9_row31_col5\" class=\"data row31 col5\" >0.000000</td>\n                        <td id=\"T_cd9b9_row31_col6\" class=\"data row31 col6\" >1.000000</td>\n                        <td id=\"T_cd9b9_row31_col7\" class=\"data row31 col7\" >43.000000</td>\n            </tr>\n            <tr>\n                        <th id=\"T_cd9b9_level0_row32\" class=\"row_heading level0 row32\" >feature_32</th>\n                        <td id=\"T_cd9b9_row32_col0\" class=\"data row32 col0\" >50000.000000</td>\n                        <td id=\"T_cd9b9_row32_col1\" class=\"data row32 col1\" >0.277520</td>\n                        <td id=\"T_cd9b9_row32_col2\" class=\"data row32 col2\" >1.472476</td>\n                        <td id=\"T_cd9b9_row32_col3\" class=\"data row32 col3\" >-2.000000</td>\n                        <td id=\"T_cd9b9_row32_col4\" class=\"data row32 col4\" >0.000000</td>\n                        <td id=\"T_cd9b9_row32_col5\" class=\"data row32 col5\" >0.000000</td>\n                        <td id=\"T_cd9b9_row32_col6\" class=\"data row32 col6\" >0.000000</td>\n                        <td id=\"T_cd9b9_row32_col7\" class=\"data row32 col7\" >25.000000</td>\n            </tr>\n            <tr>\n                        <th id=\"T_cd9b9_level0_row33\" class=\"row_heading level0 row33\" >feature_33</th>\n                        <td id=\"T_cd9b9_row33_col0\" class=\"data row33 col0\" >50000.000000</td>\n                        <td id=\"T_cd9b9_row33_col1\" class=\"data row33 col1\" >0.599600</td>\n                        <td id=\"T_cd9b9_row33_col2\" class=\"data row33 col2\" >2.228098</td>\n                        <td id=\"T_cd9b9_row33_col3\" class=\"data row33 col3\" >0.000000</td>\n                        <td id=\"T_cd9b9_row33_col4\" class=\"data row33 col4\" >0.000000</td>\n                        <td id=\"T_cd9b9_row33_col5\" class=\"data row33 col5\" >0.000000</td>\n                        <td id=\"T_cd9b9_row33_col6\" class=\"data row33 col6\" >0.000000</td>\n                        <td id=\"T_cd9b9_row33_col7\" class=\"data row33 col7\" >23.000000</td>\n            </tr>\n            <tr>\n                        <th id=\"T_cd9b9_level0_row34\" class=\"row_heading level0 row34\" >feature_34</th>\n                        <td id=\"T_cd9b9_row34_col0\" class=\"data row34 col0\" >50000.000000</td>\n                        <td id=\"T_cd9b9_row34_col1\" class=\"data row34 col1\" >1.109380</td>\n                        <td id=\"T_cd9b9_row34_col2\" class=\"data row34 col2\" >2.453923</td>\n                        <td id=\"T_cd9b9_row34_col3\" class=\"data row34 col3\" >0.000000</td>\n                        <td id=\"T_cd9b9_row34_col4\" class=\"data row34 col4\" >0.000000</td>\n                        <td id=\"T_cd9b9_row34_col5\" class=\"data row34 col5\" >0.000000</td>\n                        <td id=\"T_cd9b9_row34_col6\" class=\"data row34 col6\" >1.000000</td>\n                        <td id=\"T_cd9b9_row34_col7\" class=\"data row34 col7\" >26.000000</td>\n            </tr>\n            <tr>\n                        <th id=\"T_cd9b9_level0_row35\" class=\"row_heading level0 row35\" >feature_35</th>\n                        <td id=\"T_cd9b9_row35_col0\" class=\"data row35 col0\" >50000.000000</td>\n                        <td id=\"T_cd9b9_row35_col1\" class=\"data row35 col1\" >0.922040</td>\n                        <td id=\"T_cd9b9_row35_col2\" class=\"data row35 col2\" >2.976222</td>\n                        <td id=\"T_cd9b9_row35_col3\" class=\"data row35 col3\" >0.000000</td>\n                        <td id=\"T_cd9b9_row35_col4\" class=\"data row35 col4\" >0.000000</td>\n                        <td id=\"T_cd9b9_row35_col5\" class=\"data row35 col5\" >0.000000</td>\n                        <td id=\"T_cd9b9_row35_col6\" class=\"data row35 col6\" >0.000000</td>\n                        <td id=\"T_cd9b9_row35_col7\" class=\"data row35 col7\" >41.000000</td>\n            </tr>\n            <tr>\n                        <th id=\"T_cd9b9_level0_row36\" class=\"row_heading level0 row36\" >feature_36</th>\n                        <td id=\"T_cd9b9_row36_col0\" class=\"data row36 col0\" >50000.000000</td>\n                        <td id=\"T_cd9b9_row36_col1\" class=\"data row36 col1\" >0.120160</td>\n                        <td id=\"T_cd9b9_row36_col2\" class=\"data row36 col2\" >0.420957</td>\n                        <td id=\"T_cd9b9_row36_col3\" class=\"data row36 col3\" >0.000000</td>\n                        <td id=\"T_cd9b9_row36_col4\" class=\"data row36 col4\" >0.000000</td>\n                        <td id=\"T_cd9b9_row36_col5\" class=\"data row36 col5\" >0.000000</td>\n                        <td id=\"T_cd9b9_row36_col6\" class=\"data row36 col6\" >0.000000</td>\n                        <td id=\"T_cd9b9_row36_col7\" class=\"data row36 col7\" >3.000000</td>\n            </tr>\n            <tr>\n                        <th id=\"T_cd9b9_level0_row37\" class=\"row_heading level0 row37\" >feature_37</th>\n                        <td id=\"T_cd9b9_row37_col0\" class=\"data row37 col0\" >50000.000000</td>\n                        <td id=\"T_cd9b9_row37_col1\" class=\"data row37 col1\" >0.393560</td>\n                        <td id=\"T_cd9b9_row37_col2\" class=\"data row37 col2\" >1.080210</td>\n                        <td id=\"T_cd9b9_row37_col3\" class=\"data row37 col3\" >0.000000</td>\n                        <td id=\"T_cd9b9_row37_col4\" class=\"data row37 col4\" >0.000000</td>\n                        <td id=\"T_cd9b9_row37_col5\" class=\"data row37 col5\" >0.000000</td>\n                        <td id=\"T_cd9b9_row37_col6\" class=\"data row37 col6\" >0.000000</td>\n                        <td id=\"T_cd9b9_row37_col7\" class=\"data row37 col7\" >15.000000</td>\n            </tr>\n            <tr>\n                        <th id=\"T_cd9b9_level0_row38\" class=\"row_heading level0 row38\" >feature_38</th>\n                        <td id=\"T_cd9b9_row38_col0\" class=\"data row38 col0\" >50000.000000</td>\n                        <td id=\"T_cd9b9_row38_col1\" class=\"data row38 col1\" >2.991440</td>\n                        <td id=\"T_cd9b9_row38_col2\" class=\"data row38 col2\" >5.342477</td>\n                        <td id=\"T_cd9b9_row38_col3\" class=\"data row38 col3\" >-5.000000</td>\n                        <td id=\"T_cd9b9_row38_col4\" class=\"data row38 col4\" >0.000000</td>\n                        <td id=\"T_cd9b9_row38_col5\" class=\"data row38 col5\" >1.000000</td>\n                        <td id=\"T_cd9b9_row38_col6\" class=\"data row38 col6\" >4.000000</td>\n                        <td id=\"T_cd9b9_row38_col7\" class=\"data row38 col7\" >66.000000</td>\n            </tr>\n            <tr>\n                        <th id=\"T_cd9b9_level0_row39\" class=\"row_heading level0 row39\" >feature_39</th>\n                        <td id=\"T_cd9b9_row39_col0\" class=\"data row39 col0\" >50000.000000</td>\n                        <td id=\"T_cd9b9_row39_col1\" class=\"data row39 col1\" >0.667320</td>\n                        <td id=\"T_cd9b9_row39_col2\" class=\"data row39 col2\" >3.723729</td>\n                        <td id=\"T_cd9b9_row39_col3\" class=\"data row39 col3\" >-1.000000</td>\n                        <td id=\"T_cd9b9_row39_col4\" class=\"data row39 col4\" >0.000000</td>\n                        <td id=\"T_cd9b9_row39_col5\" class=\"data row39 col5\" >0.000000</td>\n                        <td id=\"T_cd9b9_row39_col6\" class=\"data row39 col6\" >0.000000</td>\n                        <td id=\"T_cd9b9_row39_col7\" class=\"data row39 col7\" >64.000000</td>\n            </tr>\n            <tr>\n                        <th id=\"T_cd9b9_level0_row40\" class=\"row_heading level0 row40\" >feature_40</th>\n                        <td id=\"T_cd9b9_row40_col0\" class=\"data row40 col0\" >50000.000000</td>\n                        <td id=\"T_cd9b9_row40_col1\" class=\"data row40 col1\" >0.719160</td>\n                        <td id=\"T_cd9b9_row40_col2\" class=\"data row40 col2\" >1.749077</td>\n                        <td id=\"T_cd9b9_row40_col3\" class=\"data row40 col3\" >0.000000</td>\n                        <td id=\"T_cd9b9_row40_col4\" class=\"data row40 col4\" >0.000000</td>\n                        <td id=\"T_cd9b9_row40_col5\" class=\"data row40 col5\" >0.000000</td>\n                        <td id=\"T_cd9b9_row40_col6\" class=\"data row40 col6\" >1.000000</td>\n                        <td id=\"T_cd9b9_row40_col7\" class=\"data row40 col7\" >23.000000</td>\n            </tr>\n            <tr>\n                        <th id=\"T_cd9b9_level0_row41\" class=\"row_heading level0 row41\" >feature_41</th>\n                        <td id=\"T_cd9b9_row41_col0\" class=\"data row41 col0\" >50000.000000</td>\n                        <td id=\"T_cd9b9_row41_col1\" class=\"data row41 col1\" >0.597140</td>\n                        <td id=\"T_cd9b9_row41_col2\" class=\"data row41 col2\" >2.058195</td>\n                        <td id=\"T_cd9b9_row41_col3\" class=\"data row41 col3\" >0.000000</td>\n                        <td id=\"T_cd9b9_row41_col4\" class=\"data row41 col4\" >0.000000</td>\n                        <td id=\"T_cd9b9_row41_col5\" class=\"data row41 col5\" >0.000000</td>\n                        <td id=\"T_cd9b9_row41_col6\" class=\"data row41 col6\" >0.000000</td>\n                        <td id=\"T_cd9b9_row41_col7\" class=\"data row41 col7\" >31.000000</td>\n            </tr>\n            <tr>\n                        <th id=\"T_cd9b9_level0_row42\" class=\"row_heading level0 row42\" >feature_42</th>\n                        <td id=\"T_cd9b9_row42_col0\" class=\"data row42 col0\" >50000.000000</td>\n                        <td id=\"T_cd9b9_row42_col1\" class=\"data row42 col1\" >0.532420</td>\n                        <td id=\"T_cd9b9_row42_col2\" class=\"data row42 col2\" >2.347675</td>\n                        <td id=\"T_cd9b9_row42_col3\" class=\"data row42 col3\" >0.000000</td>\n                        <td id=\"T_cd9b9_row42_col4\" class=\"data row42 col4\" >0.000000</td>\n                        <td id=\"T_cd9b9_row42_col5\" class=\"data row42 col5\" >0.000000</td>\n                        <td id=\"T_cd9b9_row42_col6\" class=\"data row42 col6\" >0.000000</td>\n                        <td id=\"T_cd9b9_row42_col7\" class=\"data row42 col7\" >36.000000</td>\n            </tr>\n            <tr>\n                        <th id=\"T_cd9b9_level0_row43\" class=\"row_heading level0 row43\" >feature_43</th>\n                        <td id=\"T_cd9b9_row43_col0\" class=\"data row43 col0\" >50000.000000</td>\n                        <td id=\"T_cd9b9_row43_col1\" class=\"data row43 col1\" >0.614220</td>\n                        <td id=\"T_cd9b9_row43_col2\" class=\"data row43 col2\" >2.335616</td>\n                        <td id=\"T_cd9b9_row43_col3\" class=\"data row43 col3\" >0.000000</td>\n                        <td id=\"T_cd9b9_row43_col4\" class=\"data row43 col4\" >0.000000</td>\n                        <td id=\"T_cd9b9_row43_col5\" class=\"data row43 col5\" >0.000000</td>\n                        <td id=\"T_cd9b9_row43_col6\" class=\"data row43 col6\" >0.000000</td>\n                        <td id=\"T_cd9b9_row43_col7\" class=\"data row43 col7\" >30.000000</td>\n            </tr>\n            <tr>\n                        <th id=\"T_cd9b9_level0_row44\" class=\"row_heading level0 row44\" >feature_44</th>\n                        <td id=\"T_cd9b9_row44_col0\" class=\"data row44 col0\" >50000.000000</td>\n                        <td id=\"T_cd9b9_row44_col1\" class=\"data row44 col1\" >0.133780</td>\n                        <td id=\"T_cd9b9_row44_col2\" class=\"data row44 col2\" >0.623451</td>\n                        <td id=\"T_cd9b9_row44_col3\" class=\"data row44 col3\" >0.000000</td>\n                        <td id=\"T_cd9b9_row44_col4\" class=\"data row44 col4\" >0.000000</td>\n                        <td id=\"T_cd9b9_row44_col5\" class=\"data row44 col5\" >0.000000</td>\n                        <td id=\"T_cd9b9_row44_col6\" class=\"data row44 col6\" >0.000000</td>\n                        <td id=\"T_cd9b9_row44_col7\" class=\"data row44 col7\" >9.000000</td>\n            </tr>\n            <tr>\n                        <th id=\"T_cd9b9_level0_row45\" class=\"row_heading level0 row45\" >feature_45</th>\n                        <td id=\"T_cd9b9_row45_col0\" class=\"data row45 col0\" >50000.000000</td>\n                        <td id=\"T_cd9b9_row45_col1\" class=\"data row45 col1\" >0.360580</td>\n                        <td id=\"T_cd9b9_row45_col2\" class=\"data row45 col2\" >1.500722</td>\n                        <td id=\"T_cd9b9_row45_col3\" class=\"data row45 col3\" >0.000000</td>\n                        <td id=\"T_cd9b9_row45_col4\" class=\"data row45 col4\" >0.000000</td>\n                        <td id=\"T_cd9b9_row45_col5\" class=\"data row45 col5\" >0.000000</td>\n                        <td id=\"T_cd9b9_row45_col6\" class=\"data row45 col6\" >0.000000</td>\n                        <td id=\"T_cd9b9_row45_col7\" class=\"data row45 col7\" >29.000000</td>\n            </tr>\n            <tr>\n                        <th id=\"T_cd9b9_level0_row46\" class=\"row_heading level0 row46\" >feature_46</th>\n                        <td id=\"T_cd9b9_row46_col0\" class=\"data row46 col0\" >50000.000000</td>\n                        <td id=\"T_cd9b9_row46_col1\" class=\"data row46 col1\" >0.527080</td>\n                        <td id=\"T_cd9b9_row46_col2\" class=\"data row46 col2\" >2.191986</td>\n                        <td id=\"T_cd9b9_row46_col3\" class=\"data row46 col3\" >0.000000</td>\n                        <td id=\"T_cd9b9_row46_col4\" class=\"data row46 col4\" >0.000000</td>\n                        <td id=\"T_cd9b9_row46_col5\" class=\"data row46 col5\" >0.000000</td>\n                        <td id=\"T_cd9b9_row46_col6\" class=\"data row46 col6\" >0.000000</td>\n                        <td id=\"T_cd9b9_row46_col7\" class=\"data row46 col7\" >29.000000</td>\n            </tr>\n            <tr>\n                        <th id=\"T_cd9b9_level0_row47\" class=\"row_heading level0 row47\" >feature_47</th>\n                        <td id=\"T_cd9b9_row47_col0\" class=\"data row47 col0\" >50000.000000</td>\n                        <td id=\"T_cd9b9_row47_col1\" class=\"data row47 col1\" >0.388220</td>\n                        <td id=\"T_cd9b9_row47_col2\" class=\"data row47 col2\" >1.450816</td>\n                        <td id=\"T_cd9b9_row47_col3\" class=\"data row47 col3\" >0.000000</td>\n                        <td id=\"T_cd9b9_row47_col4\" class=\"data row47 col4\" >0.000000</td>\n                        <td id=\"T_cd9b9_row47_col5\" class=\"data row47 col5\" >0.000000</td>\n                        <td id=\"T_cd9b9_row47_col6\" class=\"data row47 col6\" >0.000000</td>\n                        <td id=\"T_cd9b9_row47_col7\" class=\"data row47 col7\" >26.000000</td>\n            </tr>\n            <tr>\n                        <th id=\"T_cd9b9_level0_row48\" class=\"row_heading level0 row48\" >feature_48</th>\n                        <td id=\"T_cd9b9_row48_col0\" class=\"data row48 col0\" >50000.000000</td>\n                        <td id=\"T_cd9b9_row48_col1\" class=\"data row48 col1\" >0.987600</td>\n                        <td id=\"T_cd9b9_row48_col2\" class=\"data row48 col2\" >2.637170</td>\n                        <td id=\"T_cd9b9_row48_col3\" class=\"data row48 col3\" >0.000000</td>\n                        <td id=\"T_cd9b9_row48_col4\" class=\"data row48 col4\" >0.000000</td>\n                        <td id=\"T_cd9b9_row48_col5\" class=\"data row48 col5\" >0.000000</td>\n                        <td id=\"T_cd9b9_row48_col6\" class=\"data row48 col6\" >1.000000</td>\n                        <td id=\"T_cd9b9_row48_col7\" class=\"data row48 col7\" >46.000000</td>\n            </tr>\n            <tr>\n                        <th id=\"T_cd9b9_level0_row49\" class=\"row_heading level0 row49\" >feature_49</th>\n                        <td id=\"T_cd9b9_row49_col0\" class=\"data row49 col0\" >50000.000000</td>\n                        <td id=\"T_cd9b9_row49_col1\" class=\"data row49 col1\" >0.565620</td>\n                        <td id=\"T_cd9b9_row49_col2\" class=\"data row49 col2\" >1.700115</td>\n                        <td id=\"T_cd9b9_row49_col3\" class=\"data row49 col3\" >0.000000</td>\n                        <td id=\"T_cd9b9_row49_col4\" class=\"data row49 col4\" >0.000000</td>\n                        <td id=\"T_cd9b9_row49_col5\" class=\"data row49 col5\" >0.000000</td>\n                        <td id=\"T_cd9b9_row49_col6\" class=\"data row49 col6\" >0.000000</td>\n                        <td id=\"T_cd9b9_row49_col7\" class=\"data row49 col7\" >21.000000</td>\n            </tr>\n    </tbody></table>"
     },
     "metadata": {},
     "execution_count": 7
    }
   ],
   "source": [
    "data_test.describe().T.style.bar(subset=['mean', 'std'], color='#d65f5f')"
   ]
  },
  {
   "cell_type": "code",
   "execution_count": 8,
   "metadata": {},
   "outputs": [
    {
     "output_type": "execute_result",
     "data": {
      "text/plain": [
       "<pandas.io.formats.style.Styler at 0x14433830dc8>"
      ],
      "text/html": "<style  type=\"text/css\" >\n#T_d31a5_row0_col1{\n            width:  10em;\n             height:  80%;\n            background:  linear-gradient(90deg,#d65f5f 6.2%, transparent 6.2%);\n        }#T_d31a5_row0_col2,#T_d31a5_row20_col2{\n            width:  10em;\n             height:  80%;\n            background:  linear-gradient(90deg,#d65f5f 11.3%, transparent 11.3%);\n        }#T_d31a5_row1_col1{\n            width:  10em;\n             height:  80%;\n            background:  linear-gradient(90deg,#d65f5f 12.2%, transparent 12.2%);\n        }#T_d31a5_row1_col2{\n            width:  10em;\n             height:  80%;\n            background:  linear-gradient(90deg,#d65f5f 32.2%, transparent 32.2%);\n        }#T_d31a5_row2_col1{\n            width:  10em;\n             height:  80%;\n            background:  linear-gradient(90deg,#d65f5f 1.3%, transparent 1.3%);\n        }#T_d31a5_row2_col2,#T_d31a5_row29_col1{\n            width:  10em;\n             height:  80%;\n            background:  linear-gradient(90deg,#d65f5f 3.2%, transparent 3.2%);\n        }#T_d31a5_row3_col1{\n            width:  10em;\n             height:  80%;\n            background:  linear-gradient(90deg,#d65f5f 17.6%, transparent 17.6%);\n        }#T_d31a5_row3_col2{\n            width:  10em;\n             height:  80%;\n            background:  linear-gradient(90deg,#d65f5f 29.5%, transparent 29.5%);\n        }#T_d31a5_row4_col1{\n            width:  10em;\n             height:  80%;\n            background:  linear-gradient(90deg,#d65f5f 17.9%, transparent 17.9%);\n        }#T_d31a5_row4_col2{\n            width:  10em;\n             height:  80%;\n            background:  linear-gradient(90deg,#d65f5f 48.3%, transparent 48.3%);\n        }#T_d31a5_row5_col1{\n            width:  10em;\n             height:  80%;\n            background:  linear-gradient(90deg,#d65f5f 2.9%, transparent 2.9%);\n        }#T_d31a5_row5_col2{\n            width:  10em;\n             height:  80%;\n            background:  linear-gradient(90deg,#d65f5f 4.8%, transparent 4.8%);\n        }#T_d31a5_row6_col1,#T_d31a5_row47_col2{\n            width:  10em;\n             height:  80%;\n            background:  linear-gradient(90deg,#d65f5f 22.4%, transparent 22.4%);\n        }#T_d31a5_row6_col2,#T_d31a5_row7_col1{\n            width:  10em;\n             height:  80%;\n            background:  linear-gradient(90deg,#d65f5f 39.5%, transparent 39.5%);\n        }#T_d31a5_row7_col2{\n            width:  10em;\n             height:  80%;\n            background:  linear-gradient(90deg,#d65f5f 46.4%, transparent 46.4%);\n        }#T_d31a5_row8_col1{\n            width:  10em;\n             height:  80%;\n            background:  linear-gradient(90deg,#d65f5f 28.3%, transparent 28.3%);\n        }#T_d31a5_row8_col2{\n            width:  10em;\n             height:  80%;\n            background:  linear-gradient(90deg,#d65f5f 60.8%, transparent 60.8%);\n        }#T_d31a5_row9_col1{\n            width:  10em;\n             height:  80%;\n            background:  linear-gradient(90deg,#d65f5f 29.6%, transparent 29.6%);\n        }#T_d31a5_row9_col2{\n            width:  10em;\n             height:  80%;\n            background:  linear-gradient(90deg,#d65f5f 30.7%, transparent 30.7%);\n        }#T_d31a5_row10_col1{\n            width:  10em;\n             height:  80%;\n            background:  linear-gradient(90deg,#d65f5f 8.1%, transparent 8.1%);\n        }#T_d31a5_row10_col2{\n            width:  10em;\n             height:  80%;\n            background:  linear-gradient(90deg,#d65f5f 15.2%, transparent 15.2%);\n        }#T_d31a5_row11_col1{\n            width:  10em;\n             height:  80%;\n            background:  linear-gradient(90deg,#d65f5f 11.2%, transparent 11.2%);\n        }#T_d31a5_row11_col2{\n            width:  10em;\n             height:  80%;\n            background:  linear-gradient(90deg,#d65f5f 13.0%, transparent 13.0%);\n        }#T_d31a5_row12_col1{\n            width:  10em;\n             height:  80%;\n            background:  linear-gradient(90deg,#d65f5f 13.2%, transparent 13.2%);\n        }#T_d31a5_row12_col2{\n            width:  10em;\n             height:  80%;\n            background:  linear-gradient(90deg,#d65f5f 15.3%, transparent 15.3%);\n        }#T_d31a5_row13_col1,#T_d31a5_row13_col2{\n            width:  10em;\n             height:  80%;\n        }#T_d31a5_row14_col1{\n            width:  10em;\n             height:  80%;\n            background:  linear-gradient(90deg,#d65f5f 86.3%, transparent 86.3%);\n        }#T_d31a5_row14_col2{\n            width:  10em;\n             height:  80%;\n            background:  linear-gradient(90deg,#d65f5f 85.5%, transparent 85.5%);\n        }#T_d31a5_row15_col1{\n            width:  10em;\n             height:  80%;\n            background:  linear-gradient(90deg,#d65f5f 39.9%, transparent 39.9%);\n        }#T_d31a5_row15_col2,#T_d31a5_row34_col1{\n            width:  10em;\n             height:  80%;\n            background:  linear-gradient(90deg,#d65f5f 35.8%, transparent 35.8%);\n        }#T_d31a5_row16_col1{\n            width:  10em;\n             height:  80%;\n            background:  linear-gradient(90deg,#d65f5f 9.9%, transparent 9.9%);\n        }#T_d31a5_row16_col2,#T_d31a5_row33_col1{\n            width:  10em;\n             height:  80%;\n            background:  linear-gradient(90deg,#d65f5f 18.4%, transparent 18.4%);\n        }#T_d31a5_row17_col1{\n            width:  10em;\n             height:  80%;\n            background:  linear-gradient(90deg,#d65f5f 22.7%, transparent 22.7%);\n        }#T_d31a5_row17_col2{\n            width:  10em;\n             height:  80%;\n            background:  linear-gradient(90deg,#d65f5f 29.0%, transparent 29.0%);\n        }#T_d31a5_row18_col1{\n            width:  10em;\n             height:  80%;\n            background:  linear-gradient(90deg,#d65f5f 13.5%, transparent 13.5%);\n        }#T_d31a5_row18_col2{\n            width:  10em;\n             height:  80%;\n            background:  linear-gradient(90deg,#d65f5f 14.7%, transparent 14.7%);\n        }#T_d31a5_row19_col1{\n            width:  10em;\n             height:  80%;\n            background:  linear-gradient(90deg,#d65f5f 51.0%, transparent 51.0%);\n        }#T_d31a5_row19_col2{\n            width:  10em;\n             height:  80%;\n            background:  linear-gradient(90deg,#d65f5f 87.3%, transparent 87.3%);\n        }#T_d31a5_row20_col1{\n            width:  10em;\n             height:  80%;\n            background:  linear-gradient(90deg,#d65f5f 5.7%, transparent 5.7%);\n        }#T_d31a5_row21_col1{\n            width:  10em;\n             height:  80%;\n            background:  linear-gradient(90deg,#d65f5f 20.1%, transparent 20.1%);\n        }#T_d31a5_row21_col2{\n            width:  10em;\n             height:  80%;\n            background:  linear-gradient(90deg,#d65f5f 36.3%, transparent 36.3%);\n        }#T_d31a5_row22_col1{\n            width:  10em;\n             height:  80%;\n            background:  linear-gradient(90deg,#d65f5f 3.7%, transparent 3.7%);\n        }#T_d31a5_row22_col2{\n            width:  10em;\n             height:  80%;\n            background:  linear-gradient(90deg,#d65f5f 3.9%, transparent 3.9%);\n        }#T_d31a5_row23_col1{\n            width:  10em;\n             height:  80%;\n            background:  linear-gradient(90deg,#d65f5f 10.7%, transparent 10.7%);\n        }#T_d31a5_row23_col2{\n            width:  10em;\n             height:  80%;\n            background:  linear-gradient(90deg,#d65f5f 17.0%, transparent 17.0%);\n        }#T_d31a5_row24_col1{\n            width:  10em;\n             height:  80%;\n            background:  linear-gradient(90deg,#d65f5f 33.0%, transparent 33.0%);\n        }#T_d31a5_row24_col2{\n            width:  10em;\n             height:  80%;\n            background:  linear-gradient(90deg,#d65f5f 43.4%, transparent 43.4%);\n        }#T_d31a5_row25_col1{\n            width:  10em;\n             height:  80%;\n            background:  linear-gradient(90deg,#d65f5f 11.4%, transparent 11.4%);\n        }#T_d31a5_row25_col2{\n            width:  10em;\n             height:  80%;\n            background:  linear-gradient(90deg,#d65f5f 19.1%, transparent 19.1%);\n        }#T_d31a5_row26_col1{\n            width:  10em;\n             height:  80%;\n            background:  linear-gradient(90deg,#d65f5f 9.5%, transparent 9.5%);\n        }#T_d31a5_row26_col2{\n            width:  10em;\n             height:  80%;\n            background:  linear-gradient(90deg,#d65f5f 22.5%, transparent 22.5%);\n        }#T_d31a5_row27_col1{\n            width:  10em;\n             height:  80%;\n            background:  linear-gradient(90deg,#d65f5f 7.7%, transparent 7.7%);\n        }#T_d31a5_row27_col2{\n            width:  10em;\n             height:  80%;\n            background:  linear-gradient(90deg,#d65f5f 24.5%, transparent 24.5%);\n        }#T_d31a5_row28_col1{\n            width:  10em;\n             height:  80%;\n            background:  linear-gradient(90deg,#d65f5f 35.3%, transparent 35.3%);\n        }#T_d31a5_row28_col2{\n            width:  10em;\n             height:  80%;\n            background:  linear-gradient(90deg,#d65f5f 30.2%, transparent 30.2%);\n        }#T_d31a5_row29_col2{\n            width:  10em;\n             height:  80%;\n            background:  linear-gradient(90deg,#d65f5f 7.6%, transparent 7.6%);\n        }#T_d31a5_row30_col1{\n            width:  10em;\n             height:  80%;\n            background:  linear-gradient(90deg,#d65f5f 7.5%, transparent 7.5%);\n        }#T_d31a5_row30_col2{\n            width:  10em;\n             height:  80%;\n            background:  linear-gradient(90deg,#d65f5f 19.8%, transparent 19.8%);\n        }#T_d31a5_row31_col1{\n            width:  10em;\n             height:  80%;\n            background:  linear-gradient(90deg,#d65f5f 44.4%, transparent 44.4%);\n        }#T_d31a5_row31_col2{\n            width:  10em;\n             height:  80%;\n            background:  linear-gradient(90deg,#d65f5f 58.9%, transparent 58.9%);\n        }#T_d31a5_row32_col1{\n            width:  10em;\n             height:  80%;\n            background:  linear-gradient(90deg,#d65f5f 6.9%, transparent 6.9%);\n        }#T_d31a5_row32_col2{\n            width:  10em;\n             height:  80%;\n            background:  linear-gradient(90deg,#d65f5f 21.9%, transparent 21.9%);\n        }#T_d31a5_row33_col2{\n            width:  10em;\n             height:  80%;\n            background:  linear-gradient(90deg,#d65f5f 38.3%, transparent 38.3%);\n        }#T_d31a5_row34_col2{\n            width:  10em;\n             height:  80%;\n            background:  linear-gradient(90deg,#d65f5f 42.4%, transparent 42.4%);\n        }#T_d31a5_row35_col1{\n            width:  10em;\n             height:  80%;\n            background:  linear-gradient(90deg,#d65f5f 28.5%, transparent 28.5%);\n        }#T_d31a5_row35_col2{\n            width:  10em;\n             height:  80%;\n            background:  linear-gradient(90deg,#d65f5f 51.6%, transparent 51.6%);\n        }#T_d31a5_row36_col1{\n            width:  10em;\n             height:  80%;\n            background:  linear-gradient(90deg,#d65f5f 1.4%, transparent 1.4%);\n        }#T_d31a5_row36_col2{\n            width:  10em;\n             height:  80%;\n            background:  linear-gradient(90deg,#d65f5f 1.0%, transparent 1.0%);\n        }#T_d31a5_row37_col1{\n            width:  10em;\n             height:  80%;\n            background:  linear-gradient(90deg,#d65f5f 11.0%, transparent 11.0%);\n        }#T_d31a5_row37_col2{\n            width:  10em;\n             height:  80%;\n            background:  linear-gradient(90deg,#d65f5f 14.6%, transparent 14.6%);\n        }#T_d31a5_row38_col1,#T_d31a5_row38_col2{\n            width:  10em;\n             height:  80%;\n            background:  linear-gradient(90deg,#d65f5f 100.0%, transparent 100.0%);\n        }#T_d31a5_row39_col1{\n            width:  10em;\n             height:  80%;\n            background:  linear-gradient(90deg,#d65f5f 20.5%, transparent 20.5%);\n        }#T_d31a5_row39_col2{\n            width:  10em;\n             height:  80%;\n            background:  linear-gradient(90deg,#d65f5f 67.1%, transparent 67.1%);\n        }#T_d31a5_row40_col1{\n            width:  10em;\n             height:  80%;\n            background:  linear-gradient(90deg,#d65f5f 21.8%, transparent 21.8%);\n        }#T_d31a5_row40_col2{\n            width:  10em;\n             height:  80%;\n            background:  linear-gradient(90deg,#d65f5f 27.1%, transparent 27.1%);\n        }#T_d31a5_row41_col1{\n            width:  10em;\n             height:  80%;\n            background:  linear-gradient(90deg,#d65f5f 17.3%, transparent 17.3%);\n        }#T_d31a5_row41_col2{\n            width:  10em;\n             height:  80%;\n            background:  linear-gradient(90deg,#d65f5f 32.7%, transparent 32.7%);\n        }#T_d31a5_row42_col1{\n            width:  10em;\n             height:  80%;\n            background:  linear-gradient(90deg,#d65f5f 15.5%, transparent 15.5%);\n        }#T_d31a5_row42_col2{\n            width:  10em;\n             height:  80%;\n            background:  linear-gradient(90deg,#d65f5f 38.6%, transparent 38.6%);\n        }#T_d31a5_row43_col1{\n            width:  10em;\n             height:  80%;\n            background:  linear-gradient(90deg,#d65f5f 18.5%, transparent 18.5%);\n        }#T_d31a5_row43_col2{\n            width:  10em;\n             height:  80%;\n            background:  linear-gradient(90deg,#d65f5f 39.8%, transparent 39.8%);\n        }#T_d31a5_row44_col1{\n            width:  10em;\n             height:  80%;\n            background:  linear-gradient(90deg,#d65f5f 2.0%, transparent 2.0%);\n        }#T_d31a5_row44_col2{\n            width:  10em;\n             height:  80%;\n            background:  linear-gradient(90deg,#d65f5f 5.3%, transparent 5.3%);\n        }#T_d31a5_row45_col1{\n            width:  10em;\n             height:  80%;\n            background:  linear-gradient(90deg,#d65f5f 9.7%, transparent 9.7%);\n        }#T_d31a5_row45_col2{\n            width:  10em;\n             height:  80%;\n            background:  linear-gradient(90deg,#d65f5f 22.0%, transparent 22.0%);\n        }#T_d31a5_row46_col1{\n            width:  10em;\n             height:  80%;\n            background:  linear-gradient(90deg,#d65f5f 15.1%, transparent 15.1%);\n        }#T_d31a5_row46_col2{\n            width:  10em;\n             height:  80%;\n            background:  linear-gradient(90deg,#d65f5f 36.0%, transparent 36.0%);\n        }#T_d31a5_row47_col1{\n            width:  10em;\n             height:  80%;\n            background:  linear-gradient(90deg,#d65f5f 10.8%, transparent 10.8%);\n        }#T_d31a5_row48_col1{\n            width:  10em;\n             height:  80%;\n            background:  linear-gradient(90deg,#d65f5f 30.6%, transparent 30.6%);\n        }#T_d31a5_row48_col2{\n            width:  10em;\n             height:  80%;\n            background:  linear-gradient(90deg,#d65f5f 44.1%, transparent 44.1%);\n        }#T_d31a5_row49_col1{\n            width:  10em;\n             height:  80%;\n            background:  linear-gradient(90deg,#d65f5f 16.5%, transparent 16.5%);\n        }#T_d31a5_row49_col2{\n            width:  10em;\n             height:  80%;\n            background:  linear-gradient(90deg,#d65f5f 26.3%, transparent 26.3%);\n        }</style><table id=\"T_d31a5_\" ><thead>    <tr>        <th class=\"blank level0\" ></th>        <th class=\"col_heading level0 col0\" >count</th>        <th class=\"col_heading level0 col1\" >mean</th>        <th class=\"col_heading level0 col2\" >std</th>        <th class=\"col_heading level0 col3\" >min</th>        <th class=\"col_heading level0 col4\" >25%</th>        <th class=\"col_heading level0 col5\" >50%</th>        <th class=\"col_heading level0 col6\" >75%</th>        <th class=\"col_heading level0 col7\" >max</th>    </tr></thead><tbody>\n                <tr>\n                        <th id=\"T_d31a5_level0_row0\" class=\"row_heading level0 row0\" >feature_0</th>\n                        <td id=\"T_d31a5_row0_col0\" class=\"data row0 col0\" >100000.000000</td>\n                        <td id=\"T_d31a5_row0_col1\" class=\"data row0 col1\" >0.257830</td>\n                        <td id=\"T_d31a5_row0_col2\" class=\"data row0 col2\" >0.929033</td>\n                        <td id=\"T_d31a5_row0_col3\" class=\"data row0 col3\" >0.000000</td>\n                        <td id=\"T_d31a5_row0_col4\" class=\"data row0 col4\" >0.000000</td>\n                        <td id=\"T_d31a5_row0_col5\" class=\"data row0 col5\" >0.000000</td>\n                        <td id=\"T_d31a5_row0_col6\" class=\"data row0 col6\" >0.000000</td>\n                        <td id=\"T_d31a5_row0_col7\" class=\"data row0 col7\" >10.000000</td>\n            </tr>\n            <tr>\n                        <th id=\"T_d31a5_level0_row1\" class=\"row_heading level0 row1\" >feature_1</th>\n                        <td id=\"T_d31a5_row1_col0\" class=\"data row1 col0\" >100000.000000</td>\n                        <td id=\"T_d31a5_row1_col1\" class=\"data row1 col1\" >0.431720</td>\n                        <td id=\"T_d31a5_row1_col2\" class=\"data row1 col2\" >1.977862</td>\n                        <td id=\"T_d31a5_row1_col3\" class=\"data row1 col3\" >0.000000</td>\n                        <td id=\"T_d31a5_row1_col4\" class=\"data row1 col4\" >0.000000</td>\n                        <td id=\"T_d31a5_row1_col5\" class=\"data row1 col5\" >0.000000</td>\n                        <td id=\"T_d31a5_row1_col6\" class=\"data row1 col6\" >0.000000</td>\n                        <td id=\"T_d31a5_row1_col7\" class=\"data row1 col7\" >31.000000</td>\n            </tr>\n            <tr>\n                        <th id=\"T_d31a5_level0_row2\" class=\"row_heading level0 row2\" >feature_2</th>\n                        <td id=\"T_d31a5_row2_col0\" class=\"data row2 col0\" >100000.000000</td>\n                        <td id=\"T_d31a5_row2_col1\" class=\"data row2 col1\" >0.114130</td>\n                        <td id=\"T_d31a5_row2_col2\" class=\"data row2 col2\" >0.519584</td>\n                        <td id=\"T_d31a5_row2_col3\" class=\"data row2 col3\" >0.000000</td>\n                        <td id=\"T_d31a5_row2_col4\" class=\"data row2 col4\" >0.000000</td>\n                        <td id=\"T_d31a5_row2_col5\" class=\"data row2 col5\" >0.000000</td>\n                        <td id=\"T_d31a5_row2_col6\" class=\"data row2 col6\" >0.000000</td>\n                        <td id=\"T_d31a5_row2_col7\" class=\"data row2 col7\" >6.000000</td>\n            </tr>\n            <tr>\n                        <th id=\"T_d31a5_level0_row3\" class=\"row_heading level0 row3\" >feature_3</th>\n                        <td id=\"T_d31a5_row3_col0\" class=\"data row3 col0\" >100000.000000</td>\n                        <td id=\"T_d31a5_row3_col1\" class=\"data row3 col1\" >0.590550</td>\n                        <td id=\"T_d31a5_row3_col2\" class=\"data row3 col2\" >1.844558</td>\n                        <td id=\"T_d31a5_row3_col3\" class=\"data row3 col3\" >0.000000</td>\n                        <td id=\"T_d31a5_row3_col4\" class=\"data row3 col4\" >0.000000</td>\n                        <td id=\"T_d31a5_row3_col5\" class=\"data row3 col5\" >0.000000</td>\n                        <td id=\"T_d31a5_row3_col6\" class=\"data row3 col6\" >0.000000</td>\n                        <td id=\"T_d31a5_row3_col7\" class=\"data row3 col7\" >26.000000</td>\n            </tr>\n            <tr>\n                        <th id=\"T_d31a5_level0_row4\" class=\"row_heading level0 row4\" >feature_4</th>\n                        <td id=\"T_d31a5_row4_col0\" class=\"data row4 col0\" >100000.000000</td>\n                        <td id=\"T_d31a5_row4_col1\" class=\"data row4 col1\" >0.599770</td>\n                        <td id=\"T_d31a5_row4_col2\" class=\"data row4 col2\" >2.785531</td>\n                        <td id=\"T_d31a5_row4_col3\" class=\"data row4 col3\" >0.000000</td>\n                        <td id=\"T_d31a5_row4_col4\" class=\"data row4 col4\" >0.000000</td>\n                        <td id=\"T_d31a5_row4_col5\" class=\"data row4 col5\" >0.000000</td>\n                        <td id=\"T_d31a5_row4_col6\" class=\"data row4 col6\" >0.000000</td>\n                        <td id=\"T_d31a5_row4_col7\" class=\"data row4 col7\" >38.000000</td>\n            </tr>\n            <tr>\n                        <th id=\"T_d31a5_level0_row5\" class=\"row_heading level0 row5\" >feature_5</th>\n                        <td id=\"T_d31a5_row5_col0\" class=\"data row5 col0\" >100000.000000</td>\n                        <td id=\"T_d31a5_row5_col1\" class=\"data row5 col1\" >0.160820</td>\n                        <td id=\"T_d31a5_row5_col2\" class=\"data row5 col2\" >0.601149</td>\n                        <td id=\"T_d31a5_row5_col3\" class=\"data row5 col3\" >0.000000</td>\n                        <td id=\"T_d31a5_row5_col4\" class=\"data row5 col4\" >0.000000</td>\n                        <td id=\"T_d31a5_row5_col5\" class=\"data row5 col5\" >0.000000</td>\n                        <td id=\"T_d31a5_row5_col6\" class=\"data row5 col6\" >0.000000</td>\n                        <td id=\"T_d31a5_row5_col7\" class=\"data row5 col7\" >10.000000</td>\n            </tr>\n            <tr>\n                        <th id=\"T_d31a5_level0_row6\" class=\"row_heading level0 row6\" >feature_6</th>\n                        <td id=\"T_d31a5_row6_col0\" class=\"data row6 col0\" >100000.000000</td>\n                        <td id=\"T_d31a5_row6_col1\" class=\"data row6 col1\" >0.731490</td>\n                        <td id=\"T_d31a5_row6_col2\" class=\"data row6 col2\" >2.343465</td>\n                        <td id=\"T_d31a5_row6_col3\" class=\"data row6 col3\" >0.000000</td>\n                        <td id=\"T_d31a5_row6_col4\" class=\"data row6 col4\" >0.000000</td>\n                        <td id=\"T_d31a5_row6_col5\" class=\"data row6 col5\" >0.000000</td>\n                        <td id=\"T_d31a5_row6_col6\" class=\"data row6 col6\" >0.000000</td>\n                        <td id=\"T_d31a5_row6_col7\" class=\"data row6 col7\" >27.000000</td>\n            </tr>\n            <tr>\n                        <th id=\"T_d31a5_level0_row7\" class=\"row_heading level0 row7\" >feature_7</th>\n                        <td id=\"T_d31a5_row7_col0\" class=\"data row7 col0\" >100000.000000</td>\n                        <td id=\"T_d31a5_row7_col1\" class=\"data row7 col1\" >1.228920</td>\n                        <td id=\"T_d31a5_row7_col2\" class=\"data row7 col2\" >2.692732</td>\n                        <td id=\"T_d31a5_row7_col3\" class=\"data row7 col3\" >0.000000</td>\n                        <td id=\"T_d31a5_row7_col4\" class=\"data row7 col4\" >0.000000</td>\n                        <td id=\"T_d31a5_row7_col5\" class=\"data row7 col5\" >0.000000</td>\n                        <td id=\"T_d31a5_row7_col6\" class=\"data row7 col6\" >1.000000</td>\n                        <td id=\"T_d31a5_row7_col7\" class=\"data row7 col7\" >31.000000</td>\n            </tr>\n            <tr>\n                        <th id=\"T_d31a5_level0_row8\" class=\"row_heading level0 row8\" >feature_8</th>\n                        <td id=\"T_d31a5_row8_col0\" class=\"data row8 col0\" >100000.000000</td>\n                        <td id=\"T_d31a5_row8_col1\" class=\"data row8 col1\" >0.903350</td>\n                        <td id=\"T_d31a5_row8_col2\" class=\"data row8 col2\" >3.415258</td>\n                        <td id=\"T_d31a5_row8_col3\" class=\"data row8 col3\" >0.000000</td>\n                        <td id=\"T_d31a5_row8_col4\" class=\"data row8 col4\" >0.000000</td>\n                        <td id=\"T_d31a5_row8_col5\" class=\"data row8 col5\" >0.000000</td>\n                        <td id=\"T_d31a5_row8_col6\" class=\"data row8 col6\" >0.000000</td>\n                        <td id=\"T_d31a5_row8_col7\" class=\"data row8 col7\" >39.000000</td>\n            </tr>\n            <tr>\n                        <th id=\"T_d31a5_level0_row9\" class=\"row_heading level0 row9\" >feature_9</th>\n                        <td id=\"T_d31a5_row9_col0\" class=\"data row9 col0\" >100000.000000</td>\n                        <td id=\"T_d31a5_row9_col1\" class=\"data row9 col1\" >0.940120</td>\n                        <td id=\"T_d31a5_row9_col2\" class=\"data row9 col2\" >1.904172</td>\n                        <td id=\"T_d31a5_row9_col3\" class=\"data row9 col3\" >0.000000</td>\n                        <td id=\"T_d31a5_row9_col4\" class=\"data row9 col4\" >0.000000</td>\n                        <td id=\"T_d31a5_row9_col5\" class=\"data row9 col5\" >0.000000</td>\n                        <td id=\"T_d31a5_row9_col6\" class=\"data row9 col6\" >1.000000</td>\n                        <td id=\"T_d31a5_row9_col7\" class=\"data row9 col7\" >17.000000</td>\n            </tr>\n            <tr>\n                        <th id=\"T_d31a5_level0_row10\" class=\"row_heading level0 row10\" >feature_10</th>\n                        <td id=\"T_d31a5_row10_col0\" class=\"data row10 col0\" >100000.000000</td>\n                        <td id=\"T_d31a5_row10_col1\" class=\"data row10 col1\" >0.313680</td>\n                        <td id=\"T_d31a5_row10_col2\" class=\"data row10 col2\" >1.121168</td>\n                        <td id=\"T_d31a5_row10_col3\" class=\"data row10 col3\" >0.000000</td>\n                        <td id=\"T_d31a5_row10_col4\" class=\"data row10 col4\" >0.000000</td>\n                        <td id=\"T_d31a5_row10_col5\" class=\"data row10 col5\" >0.000000</td>\n                        <td id=\"T_d31a5_row10_col6\" class=\"data row10 col6\" >0.000000</td>\n                        <td id=\"T_d31a5_row10_col7\" class=\"data row10 col7\" >16.000000</td>\n            </tr>\n            <tr>\n                        <th id=\"T_d31a5_level0_row11\" class=\"row_heading level0 row11\" >feature_11</th>\n                        <td id=\"T_d31a5_row11_col0\" class=\"data row11 col0\" >100000.000000</td>\n                        <td id=\"T_d31a5_row11_col1\" class=\"data row11 col1\" >0.403750</td>\n                        <td id=\"T_d31a5_row11_col2\" class=\"data row11 col2\" >1.011418</td>\n                        <td id=\"T_d31a5_row11_col3\" class=\"data row11 col3\" >0.000000</td>\n                        <td id=\"T_d31a5_row11_col4\" class=\"data row11 col4\" >0.000000</td>\n                        <td id=\"T_d31a5_row11_col5\" class=\"data row11 col5\" >0.000000</td>\n                        <td id=\"T_d31a5_row11_col6\" class=\"data row11 col6\" >0.000000</td>\n                        <td id=\"T_d31a5_row11_col7\" class=\"data row11 col7\" >12.000000</td>\n            </tr>\n            <tr>\n                        <th id=\"T_d31a5_level0_row12\" class=\"row_heading level0 row12\" >feature_12</th>\n                        <td id=\"T_d31a5_row12_col0\" class=\"data row12 col0\" >100000.000000</td>\n                        <td id=\"T_d31a5_row12_col1\" class=\"data row12 col1\" >0.461470</td>\n                        <td id=\"T_d31a5_row12_col2\" class=\"data row12 col2\" >1.128729</td>\n                        <td id=\"T_d31a5_row12_col3\" class=\"data row12 col3\" >0.000000</td>\n                        <td id=\"T_d31a5_row12_col4\" class=\"data row12 col4\" >0.000000</td>\n                        <td id=\"T_d31a5_row12_col5\" class=\"data row12 col5\" >0.000000</td>\n                        <td id=\"T_d31a5_row12_col6\" class=\"data row12 col6\" >0.000000</td>\n                        <td id=\"T_d31a5_row12_col7\" class=\"data row12 col7\" >11.000000</td>\n            </tr>\n            <tr>\n                        <th id=\"T_d31a5_level0_row13\" class=\"row_heading level0 row13\" >feature_13</th>\n                        <td id=\"T_d31a5_row13_col0\" class=\"data row13 col0\" >100000.000000</td>\n                        <td id=\"T_d31a5_row13_col1\" class=\"data row13 col1\" >0.075650</td>\n                        <td id=\"T_d31a5_row13_col2\" class=\"data row13 col2\" >0.359010</td>\n                        <td id=\"T_d31a5_row13_col3\" class=\"data row13 col3\" >0.000000</td>\n                        <td id=\"T_d31a5_row13_col4\" class=\"data row13 col4\" >0.000000</td>\n                        <td id=\"T_d31a5_row13_col5\" class=\"data row13 col5\" >0.000000</td>\n                        <td id=\"T_d31a5_row13_col6\" class=\"data row13 col6\" >0.000000</td>\n                        <td id=\"T_d31a5_row13_col7\" class=\"data row13 col7\" >3.000000</td>\n            </tr>\n            <tr>\n                        <th id=\"T_d31a5_level0_row14\" class=\"row_heading level0 row14\" >feature_14</th>\n                        <td id=\"T_d31a5_row14_col0\" class=\"data row14 col0\" >100000.000000</td>\n                        <td id=\"T_d31a5_row14_col1\" class=\"data row14 col1\" >2.597320</td>\n                        <td id=\"T_d31a5_row14_col2\" class=\"data row14 col2\" >4.655092</td>\n                        <td id=\"T_d31a5_row14_col3\" class=\"data row14 col3\" >0.000000</td>\n                        <td id=\"T_d31a5_row14_col4\" class=\"data row14 col4\" >0.000000</td>\n                        <td id=\"T_d31a5_row14_col5\" class=\"data row14 col5\" >1.000000</td>\n                        <td id=\"T_d31a5_row14_col6\" class=\"data row14 col6\" >3.000000</td>\n                        <td id=\"T_d31a5_row14_col7\" class=\"data row14 col7\" >51.000000</td>\n            </tr>\n            <tr>\n                        <th id=\"T_d31a5_level0_row15\" class=\"row_heading level0 row15\" >feature_15</th>\n                        <td id=\"T_d31a5_row15_col0\" class=\"data row15 col0\" >100000.000000</td>\n                        <td id=\"T_d31a5_row15_col1\" class=\"data row15 col1\" >1.242030</td>\n                        <td id=\"T_d31a5_row15_col2\" class=\"data row15 col2\" >2.160111</td>\n                        <td id=\"T_d31a5_row15_col3\" class=\"data row15 col3\" >0.000000</td>\n                        <td id=\"T_d31a5_row15_col4\" class=\"data row15 col4\" >0.000000</td>\n                        <td id=\"T_d31a5_row15_col5\" class=\"data row15 col5\" >0.000000</td>\n                        <td id=\"T_d31a5_row15_col6\" class=\"data row15 col6\" >2.000000</td>\n                        <td id=\"T_d31a5_row15_col7\" class=\"data row15 col7\" >20.000000</td>\n            </tr>\n            <tr>\n                        <th id=\"T_d31a5_level0_row16\" class=\"row_heading level0 row16\" >feature_16</th>\n                        <td id=\"T_d31a5_row16_col0\" class=\"data row16 col0\" >100000.000000</td>\n                        <td id=\"T_d31a5_row16_col1\" class=\"data row16 col1\" >0.364830</td>\n                        <td id=\"T_d31a5_row16_col2\" class=\"data row16 col2\" >1.284152</td>\n                        <td id=\"T_d31a5_row16_col3\" class=\"data row16 col3\" >0.000000</td>\n                        <td id=\"T_d31a5_row16_col4\" class=\"data row16 col4\" >0.000000</td>\n                        <td id=\"T_d31a5_row16_col5\" class=\"data row16 col5\" >0.000000</td>\n                        <td id=\"T_d31a5_row16_col6\" class=\"data row16 col6\" >0.000000</td>\n                        <td id=\"T_d31a5_row16_col7\" class=\"data row16 col7\" >19.000000</td>\n            </tr>\n            <tr>\n                        <th id=\"T_d31a5_level0_row17\" class=\"row_heading level0 row17\" >feature_17</th>\n                        <td id=\"T_d31a5_row17_col0\" class=\"data row17 col0\" >100000.000000</td>\n                        <td id=\"T_d31a5_row17_col1\" class=\"data row17 col1\" >0.740000</td>\n                        <td id=\"T_d31a5_row17_col2\" class=\"data row17 col2\" >1.819388</td>\n                        <td id=\"T_d31a5_row17_col3\" class=\"data row17 col3\" >0.000000</td>\n                        <td id=\"T_d31a5_row17_col4\" class=\"data row17 col4\" >0.000000</td>\n                        <td id=\"T_d31a5_row17_col5\" class=\"data row17 col5\" >0.000000</td>\n                        <td id=\"T_d31a5_row17_col6\" class=\"data row17 col6\" >0.000000</td>\n                        <td id=\"T_d31a5_row17_col7\" class=\"data row17 col7\" >16.000000</td>\n            </tr>\n            <tr>\n                        <th id=\"T_d31a5_level0_row18\" class=\"row_heading level0 row18\" >feature_18</th>\n                        <td id=\"T_d31a5_row18_col0\" class=\"data row18 col0\" >100000.000000</td>\n                        <td id=\"T_d31a5_row18_col1\" class=\"data row18 col1\" >0.471220</td>\n                        <td id=\"T_d31a5_row18_col2\" class=\"data row18 col2\" >1.096423</td>\n                        <td id=\"T_d31a5_row18_col3\" class=\"data row18 col3\" >0.000000</td>\n                        <td id=\"T_d31a5_row18_col4\" class=\"data row18 col4\" >0.000000</td>\n                        <td id=\"T_d31a5_row18_col5\" class=\"data row18 col5\" >0.000000</td>\n                        <td id=\"T_d31a5_row18_col6\" class=\"data row18 col6\" >0.000000</td>\n                        <td id=\"T_d31a5_row18_col7\" class=\"data row18 col7\" >13.000000</td>\n            </tr>\n            <tr>\n                        <th id=\"T_d31a5_level0_row19\" class=\"row_heading level0 row19\" >feature_19</th>\n                        <td id=\"T_d31a5_row19_col0\" class=\"data row19 col0\" >100000.000000</td>\n                        <td id=\"T_d31a5_row19_col1\" class=\"data row19 col1\" >1.564780</td>\n                        <td id=\"T_d31a5_row19_col2\" class=\"data row19 col2\" >4.749449</td>\n                        <td id=\"T_d31a5_row19_col3\" class=\"data row19 col3\" >-2.000000</td>\n                        <td id=\"T_d31a5_row19_col4\" class=\"data row19 col4\" >0.000000</td>\n                        <td id=\"T_d31a5_row19_col5\" class=\"data row19 col5\" >0.000000</td>\n                        <td id=\"T_d31a5_row19_col6\" class=\"data row19 col6\" >1.000000</td>\n                        <td id=\"T_d31a5_row19_col7\" class=\"data row19 col7\" >55.000000</td>\n            </tr>\n            <tr>\n                        <th id=\"T_d31a5_level0_row20\" class=\"row_heading level0 row20\" >feature_20</th>\n                        <td id=\"T_d31a5_row20_col0\" class=\"data row20 col0\" >100000.000000</td>\n                        <td id=\"T_d31a5_row20_col1\" class=\"data row20 col1\" >0.242890</td>\n                        <td id=\"T_d31a5_row20_col2\" class=\"data row20 col2\" >0.927461</td>\n                        <td id=\"T_d31a5_row20_col3\" class=\"data row20 col3\" >0.000000</td>\n                        <td id=\"T_d31a5_row20_col4\" class=\"data row20 col4\" >0.000000</td>\n                        <td id=\"T_d31a5_row20_col5\" class=\"data row20 col5\" >0.000000</td>\n                        <td id=\"T_d31a5_row20_col6\" class=\"data row20 col6\" >0.000000</td>\n                        <td id=\"T_d31a5_row20_col7\" class=\"data row20 col7\" >17.000000</td>\n            </tr>\n            <tr>\n                        <th id=\"T_d31a5_level0_row21\" class=\"row_heading level0 row21\" >feature_21</th>\n                        <td id=\"T_d31a5_row21_col0\" class=\"data row21 col0\" >100000.000000</td>\n                        <td id=\"T_d31a5_row21_col1\" class=\"data row21 col1\" >0.661970</td>\n                        <td id=\"T_d31a5_row21_col2\" class=\"data row21 col2\" >2.182703</td>\n                        <td id=\"T_d31a5_row21_col3\" class=\"data row21 col3\" >0.000000</td>\n                        <td id=\"T_d31a5_row21_col4\" class=\"data row21 col4\" >0.000000</td>\n                        <td id=\"T_d31a5_row21_col5\" class=\"data row21 col5\" >0.000000</td>\n                        <td id=\"T_d31a5_row21_col6\" class=\"data row21 col6\" >0.000000</td>\n                        <td id=\"T_d31a5_row21_col7\" class=\"data row21 col7\" >36.000000</td>\n            </tr>\n            <tr>\n                        <th id=\"T_d31a5_level0_row22\" class=\"row_heading level0 row22\" >feature_22</th>\n                        <td id=\"T_d31a5_row22_col0\" class=\"data row22 col0\" >100000.000000</td>\n                        <td id=\"T_d31a5_row22_col1\" class=\"data row22 col1\" >0.184740</td>\n                        <td id=\"T_d31a5_row22_col2\" class=\"data row22 col2\" >0.553854</td>\n                        <td id=\"T_d31a5_row22_col3\" class=\"data row22 col3\" >0.000000</td>\n                        <td id=\"T_d31a5_row22_col4\" class=\"data row22 col4\" >0.000000</td>\n                        <td id=\"T_d31a5_row22_col5\" class=\"data row22 col5\" >0.000000</td>\n                        <td id=\"T_d31a5_row22_col6\" class=\"data row22 col6\" >0.000000</td>\n                        <td id=\"T_d31a5_row22_col7\" class=\"data row22 col7\" >4.000000</td>\n            </tr>\n            <tr>\n                        <th id=\"T_d31a5_level0_row23\" class=\"row_heading level0 row23\" >feature_23</th>\n                        <td id=\"T_d31a5_row23_col0\" class=\"data row23 col0\" >100000.000000</td>\n                        <td id=\"T_d31a5_row23_col1\" class=\"data row23 col1\" >0.388040</td>\n                        <td id=\"T_d31a5_row23_col2\" class=\"data row23 col2\" >1.215796</td>\n                        <td id=\"T_d31a5_row23_col3\" class=\"data row23 col3\" >0.000000</td>\n                        <td id=\"T_d31a5_row23_col4\" class=\"data row23 col4\" >0.000000</td>\n                        <td id=\"T_d31a5_row23_col5\" class=\"data row23 col5\" >0.000000</td>\n                        <td id=\"T_d31a5_row23_col6\" class=\"data row23 col6\" >0.000000</td>\n                        <td id=\"T_d31a5_row23_col7\" class=\"data row23 col7\" >19.000000</td>\n            </tr>\n            <tr>\n                        <th id=\"T_d31a5_level0_row24\" class=\"row_heading level0 row24\" >feature_24</th>\n                        <td id=\"T_d31a5_row24_col0\" class=\"data row24 col0\" >100000.000000</td>\n                        <td id=\"T_d31a5_row24_col1\" class=\"data row24 col1\" >1.040130</td>\n                        <td id=\"T_d31a5_row24_col2\" class=\"data row24 col2\" >2.539910</td>\n                        <td id=\"T_d31a5_row24_col3\" class=\"data row24 col3\" >0.000000</td>\n                        <td id=\"T_d31a5_row24_col4\" class=\"data row24 col4\" >0.000000</td>\n                        <td id=\"T_d31a5_row24_col5\" class=\"data row24 col5\" >0.000000</td>\n                        <td id=\"T_d31a5_row24_col6\" class=\"data row24 col6\" >1.000000</td>\n                        <td id=\"T_d31a5_row24_col7\" class=\"data row24 col7\" >34.000000</td>\n            </tr>\n            <tr>\n                        <th id=\"T_d31a5_level0_row25\" class=\"row_heading level0 row25\" >feature_25</th>\n                        <td id=\"T_d31a5_row25_col0\" class=\"data row25 col0\" >100000.000000</td>\n                        <td id=\"T_d31a5_row25_col1\" class=\"data row25 col1\" >0.408630</td>\n                        <td id=\"T_d31a5_row25_col2\" class=\"data row25 col2\" >1.321669</td>\n                        <td id=\"T_d31a5_row25_col3\" class=\"data row25 col3\" >0.000000</td>\n                        <td id=\"T_d31a5_row25_col4\" class=\"data row25 col4\" >0.000000</td>\n                        <td id=\"T_d31a5_row25_col5\" class=\"data row25 col5\" >0.000000</td>\n                        <td id=\"T_d31a5_row25_col6\" class=\"data row25 col6\" >0.000000</td>\n                        <td id=\"T_d31a5_row25_col7\" class=\"data row25 col7\" >23.000000</td>\n            </tr>\n            <tr>\n                        <th id=\"T_d31a5_level0_row26\" class=\"row_heading level0 row26\" >feature_26</th>\n                        <td id=\"T_d31a5_row26_col0\" class=\"data row26 col0\" >100000.000000</td>\n                        <td id=\"T_d31a5_row26_col1\" class=\"data row26 col1\" >0.353550</td>\n                        <td id=\"T_d31a5_row26_col2\" class=\"data row26 col2\" >1.491937</td>\n                        <td id=\"T_d31a5_row26_col3\" class=\"data row26 col3\" >0.000000</td>\n                        <td id=\"T_d31a5_row26_col4\" class=\"data row26 col4\" >0.000000</td>\n                        <td id=\"T_d31a5_row26_col5\" class=\"data row26 col5\" >0.000000</td>\n                        <td id=\"T_d31a5_row26_col6\" class=\"data row26 col6\" >0.000000</td>\n                        <td id=\"T_d31a5_row26_col7\" class=\"data row26 col7\" >21.000000</td>\n            </tr>\n            <tr>\n                        <th id=\"T_d31a5_level0_row27\" class=\"row_heading level0 row27\" >feature_27</th>\n                        <td id=\"T_d31a5_row27_col0\" class=\"data row27 col0\" >100000.000000</td>\n                        <td id=\"T_d31a5_row27_col1\" class=\"data row27 col1\" >0.300680</td>\n                        <td id=\"T_d31a5_row27_col2\" class=\"data row27 col2\" >1.592092</td>\n                        <td id=\"T_d31a5_row27_col3\" class=\"data row27 col3\" >0.000000</td>\n                        <td id=\"T_d31a5_row27_col4\" class=\"data row27 col4\" >0.000000</td>\n                        <td id=\"T_d31a5_row27_col5\" class=\"data row27 col5\" >0.000000</td>\n                        <td id=\"T_d31a5_row27_col6\" class=\"data row27 col6\" >0.000000</td>\n                        <td id=\"T_d31a5_row27_col7\" class=\"data row27 col7\" >31.000000</td>\n            </tr>\n            <tr>\n                        <th id=\"T_d31a5_level0_row28\" class=\"row_heading level0 row28\" >feature_28</th>\n                        <td id=\"T_d31a5_row28_col0\" class=\"data row28 col0\" >100000.000000</td>\n                        <td id=\"T_d31a5_row28_col1\" class=\"data row28 col1\" >1.106060</td>\n                        <td id=\"T_d31a5_row28_col2\" class=\"data row28 col2\" >1.879629</td>\n                        <td id=\"T_d31a5_row28_col3\" class=\"data row28 col3\" >0.000000</td>\n                        <td id=\"T_d31a5_row28_col4\" class=\"data row28 col4\" >0.000000</td>\n                        <td id=\"T_d31a5_row28_col5\" class=\"data row28 col5\" >0.000000</td>\n                        <td id=\"T_d31a5_row28_col6\" class=\"data row28 col6\" >2.000000</td>\n                        <td id=\"T_d31a5_row28_col7\" class=\"data row28 col7\" >23.000000</td>\n            </tr>\n            <tr>\n                        <th id=\"T_d31a5_level0_row29\" class=\"row_heading level0 row29\" >feature_29</th>\n                        <td id=\"T_d31a5_row29_col0\" class=\"data row29 col0\" >100000.000000</td>\n                        <td id=\"T_d31a5_row29_col1\" class=\"data row29 col1\" >0.169600</td>\n                        <td id=\"T_d31a5_row29_col2\" class=\"data row29 col2\" >0.739582</td>\n                        <td id=\"T_d31a5_row29_col3\" class=\"data row29 col3\" >0.000000</td>\n                        <td id=\"T_d31a5_row29_col4\" class=\"data row29 col4\" >0.000000</td>\n                        <td id=\"T_d31a5_row29_col5\" class=\"data row29 col5\" >0.000000</td>\n                        <td id=\"T_d31a5_row29_col6\" class=\"data row29 col6\" >0.000000</td>\n                        <td id=\"T_d31a5_row29_col7\" class=\"data row29 col7\" >13.000000</td>\n            </tr>\n            <tr>\n                        <th id=\"T_d31a5_level0_row30\" class=\"row_heading level0 row30\" >feature_30</th>\n                        <td id=\"T_d31a5_row30_col0\" class=\"data row30 col0\" >100000.000000</td>\n                        <td id=\"T_d31a5_row30_col1\" class=\"data row30 col1\" >0.294500</td>\n                        <td id=\"T_d31a5_row30_col2\" class=\"data row30 col2\" >1.352963</td>\n                        <td id=\"T_d31a5_row30_col3\" class=\"data row30 col3\" >-1.000000</td>\n                        <td id=\"T_d31a5_row30_col4\" class=\"data row30 col4\" >0.000000</td>\n                        <td id=\"T_d31a5_row30_col5\" class=\"data row30 col5\" >0.000000</td>\n                        <td id=\"T_d31a5_row30_col6\" class=\"data row30 col6\" >0.000000</td>\n                        <td id=\"T_d31a5_row30_col7\" class=\"data row30 col7\" >41.000000</td>\n            </tr>\n            <tr>\n                        <th id=\"T_d31a5_level0_row31\" class=\"row_heading level0 row31\" >feature_31</th>\n                        <td id=\"T_d31a5_row31_col0\" class=\"data row31 col0\" >100000.000000</td>\n                        <td id=\"T_d31a5_row31_col1\" class=\"data row31 col1\" >1.372040</td>\n                        <td id=\"T_d31a5_row31_col2\" class=\"data row31 col2\" >3.319325</td>\n                        <td id=\"T_d31a5_row31_col3\" class=\"data row31 col3\" >-1.000000</td>\n                        <td id=\"T_d31a5_row31_col4\" class=\"data row31 col4\" >0.000000</td>\n                        <td id=\"T_d31a5_row31_col5\" class=\"data row31 col5\" >0.000000</td>\n                        <td id=\"T_d31a5_row31_col6\" class=\"data row31 col6\" >1.000000</td>\n                        <td id=\"T_d31a5_row31_col7\" class=\"data row31 col7\" >46.000000</td>\n            </tr>\n            <tr>\n                        <th id=\"T_d31a5_level0_row32\" class=\"row_heading level0 row32\" >feature_32</th>\n                        <td id=\"T_d31a5_row32_col0\" class=\"data row32 col0\" >100000.000000</td>\n                        <td id=\"T_d31a5_row32_col1\" class=\"data row32 col1\" >0.277510</td>\n                        <td id=\"T_d31a5_row32_col2\" class=\"data row32 col2\" >1.460705</td>\n                        <td id=\"T_d31a5_row32_col3\" class=\"data row32 col3\" >-2.000000</td>\n                        <td id=\"T_d31a5_row32_col4\" class=\"data row32 col4\" >0.000000</td>\n                        <td id=\"T_d31a5_row32_col5\" class=\"data row32 col5\" >0.000000</td>\n                        <td id=\"T_d31a5_row32_col6\" class=\"data row32 col6\" >0.000000</td>\n                        <td id=\"T_d31a5_row32_col7\" class=\"data row32 col7\" >27.000000</td>\n            </tr>\n            <tr>\n                        <th id=\"T_d31a5_level0_row33\" class=\"row_heading level0 row33\" >feature_33</th>\n                        <td id=\"T_d31a5_row33_col0\" class=\"data row33 col0\" >100000.000000</td>\n                        <td id=\"T_d31a5_row33_col1\" class=\"data row33 col1\" >0.612460</td>\n                        <td id=\"T_d31a5_row33_col2\" class=\"data row33 col2\" >2.283595</td>\n                        <td id=\"T_d31a5_row33_col3\" class=\"data row33 col3\" >0.000000</td>\n                        <td id=\"T_d31a5_row33_col4\" class=\"data row33 col4\" >0.000000</td>\n                        <td id=\"T_d31a5_row33_col5\" class=\"data row33 col5\" >0.000000</td>\n                        <td id=\"T_d31a5_row33_col6\" class=\"data row33 col6\" >0.000000</td>\n                        <td id=\"T_d31a5_row33_col7\" class=\"data row33 col7\" >24.000000</td>\n            </tr>\n            <tr>\n                        <th id=\"T_d31a5_level0_row34\" class=\"row_heading level0 row34\" >feature_34</th>\n                        <td id=\"T_d31a5_row34_col0\" class=\"data row34 col0\" >100000.000000</td>\n                        <td id=\"T_d31a5_row34_col1\" class=\"data row34 col1\" >1.122150</td>\n                        <td id=\"T_d31a5_row34_col2\" class=\"data row34 col2\" >2.493045</td>\n                        <td id=\"T_d31a5_row34_col3\" class=\"data row34 col3\" >0.000000</td>\n                        <td id=\"T_d31a5_row34_col4\" class=\"data row34 col4\" >0.000000</td>\n                        <td id=\"T_d31a5_row34_col5\" class=\"data row34 col5\" >0.000000</td>\n                        <td id=\"T_d31a5_row34_col6\" class=\"data row34 col6\" >1.000000</td>\n                        <td id=\"T_d31a5_row34_col7\" class=\"data row34 col7\" >25.000000</td>\n            </tr>\n            <tr>\n                        <th id=\"T_d31a5_level0_row35\" class=\"row_heading level0 row35\" >feature_35</th>\n                        <td id=\"T_d31a5_row35_col0\" class=\"data row35 col0\" >100000.000000</td>\n                        <td id=\"T_d31a5_row35_col1\" class=\"data row35 col1\" >0.908980</td>\n                        <td id=\"T_d31a5_row35_col2\" class=\"data row35 col2\" >2.952305</td>\n                        <td id=\"T_d31a5_row35_col3\" class=\"data row35 col3\" >-2.000000</td>\n                        <td id=\"T_d31a5_row35_col4\" class=\"data row35 col4\" >0.000000</td>\n                        <td id=\"T_d31a5_row35_col5\" class=\"data row35 col5\" >0.000000</td>\n                        <td id=\"T_d31a5_row35_col6\" class=\"data row35 col6\" >0.000000</td>\n                        <td id=\"T_d31a5_row35_col7\" class=\"data row35 col7\" >43.000000</td>\n            </tr>\n            <tr>\n                        <th id=\"T_d31a5_level0_row36\" class=\"row_heading level0 row36\" >feature_36</th>\n                        <td id=\"T_d31a5_row36_col0\" class=\"data row36 col0\" >100000.000000</td>\n                        <td id=\"T_d31a5_row36_col1\" class=\"data row36 col1\" >0.116530</td>\n                        <td id=\"T_d31a5_row36_col2\" class=\"data row36 col2\" >0.411014</td>\n                        <td id=\"T_d31a5_row36_col3\" class=\"data row36 col3\" >0.000000</td>\n                        <td id=\"T_d31a5_row36_col4\" class=\"data row36 col4\" >0.000000</td>\n                        <td id=\"T_d31a5_row36_col5\" class=\"data row36 col5\" >0.000000</td>\n                        <td id=\"T_d31a5_row36_col6\" class=\"data row36 col6\" >0.000000</td>\n                        <td id=\"T_d31a5_row36_col7\" class=\"data row36 col7\" >3.000000</td>\n            </tr>\n            <tr>\n                        <th id=\"T_d31a5_level0_row37\" class=\"row_heading level0 row37\" >feature_37</th>\n                        <td id=\"T_d31a5_row37_col0\" class=\"data row37 col0\" >100000.000000</td>\n                        <td id=\"T_d31a5_row37_col1\" class=\"data row37 col1\" >0.398310</td>\n                        <td id=\"T_d31a5_row37_col2\" class=\"data row37 col2\" >1.095268</td>\n                        <td id=\"T_d31a5_row37_col3\" class=\"data row37 col3\" >0.000000</td>\n                        <td id=\"T_d31a5_row37_col4\" class=\"data row37 col4\" >0.000000</td>\n                        <td id=\"T_d31a5_row37_col5\" class=\"data row37 col5\" >0.000000</td>\n                        <td id=\"T_d31a5_row37_col6\" class=\"data row37 col6\" >0.000000</td>\n                        <td id=\"T_d31a5_row37_col7\" class=\"data row37 col7\" >14.000000</td>\n            </tr>\n            <tr>\n                        <th id=\"T_d31a5_level0_row38\" class=\"row_heading level0 row38\" >feature_38</th>\n                        <td id=\"T_d31a5_row38_col0\" class=\"data row38 col0\" >100000.000000</td>\n                        <td id=\"T_d31a5_row38_col1\" class=\"data row38 col1\" >2.997170</td>\n                        <td id=\"T_d31a5_row38_col2\" class=\"data row38 col2\" >5.386551</td>\n                        <td id=\"T_d31a5_row38_col3\" class=\"data row38 col3\" >-8.000000</td>\n                        <td id=\"T_d31a5_row38_col4\" class=\"data row38 col4\" >0.000000</td>\n                        <td id=\"T_d31a5_row38_col5\" class=\"data row38 col5\" >1.000000</td>\n                        <td id=\"T_d31a5_row38_col6\" class=\"data row38 col6\" >4.000000</td>\n                        <td id=\"T_d31a5_row38_col7\" class=\"data row38 col7\" >66.000000</td>\n            </tr>\n            <tr>\n                        <th id=\"T_d31a5_level0_row39\" class=\"row_heading level0 row39\" >feature_39</th>\n                        <td id=\"T_d31a5_row39_col0\" class=\"data row39 col0\" >100000.000000</td>\n                        <td id=\"T_d31a5_row39_col1\" class=\"data row39 col1\" >0.674640</td>\n                        <td id=\"T_d31a5_row39_col2\" class=\"data row39 col2\" >3.732428</td>\n                        <td id=\"T_d31a5_row39_col3\" class=\"data row39 col3\" >-5.000000</td>\n                        <td id=\"T_d31a5_row39_col4\" class=\"data row39 col4\" >0.000000</td>\n                        <td id=\"T_d31a5_row39_col5\" class=\"data row39 col5\" >0.000000</td>\n                        <td id=\"T_d31a5_row39_col6\" class=\"data row39 col6\" >0.000000</td>\n                        <td id=\"T_d31a5_row39_col7\" class=\"data row39 col7\" >66.000000</td>\n            </tr>\n            <tr>\n                        <th id=\"T_d31a5_level0_row40\" class=\"row_heading level0 row40\" >feature_40</th>\n                        <td id=\"T_d31a5_row40_col0\" class=\"data row40 col0\" >100000.000000</td>\n                        <td id=\"T_d31a5_row40_col1\" class=\"data row40 col1\" >0.712270</td>\n                        <td id=\"T_d31a5_row40_col2\" class=\"data row40 col2\" >1.721863</td>\n                        <td id=\"T_d31a5_row40_col3\" class=\"data row40 col3\" >0.000000</td>\n                        <td id=\"T_d31a5_row40_col4\" class=\"data row40 col4\" >0.000000</td>\n                        <td id=\"T_d31a5_row40_col5\" class=\"data row40 col5\" >0.000000</td>\n                        <td id=\"T_d31a5_row40_col6\" class=\"data row40 col6\" >1.000000</td>\n                        <td id=\"T_d31a5_row40_col7\" class=\"data row40 col7\" >21.000000</td>\n            </tr>\n            <tr>\n                        <th id=\"T_d31a5_level0_row41\" class=\"row_heading level0 row41\" >feature_41</th>\n                        <td id=\"T_d31a5_row41_col0\" class=\"data row41 col0\" >100000.000000</td>\n                        <td id=\"T_d31a5_row41_col1\" class=\"data row41 col1\" >0.582070</td>\n                        <td id=\"T_d31a5_row41_col2\" class=\"data row41 col2\" >2.003114</td>\n                        <td id=\"T_d31a5_row41_col3\" class=\"data row41 col3\" >0.000000</td>\n                        <td id=\"T_d31a5_row41_col4\" class=\"data row41 col4\" >0.000000</td>\n                        <td id=\"T_d31a5_row41_col5\" class=\"data row41 col5\" >0.000000</td>\n                        <td id=\"T_d31a5_row41_col6\" class=\"data row41 col6\" >0.000000</td>\n                        <td id=\"T_d31a5_row41_col7\" class=\"data row41 col7\" >32.000000</td>\n            </tr>\n            <tr>\n                        <th id=\"T_d31a5_level0_row42\" class=\"row_heading level0 row42\" >feature_42</th>\n                        <td id=\"T_d31a5_row42_col0\" class=\"data row42 col0\" >100000.000000</td>\n                        <td id=\"T_d31a5_row42_col1\" class=\"data row42 col1\" >0.529230</td>\n                        <td id=\"T_d31a5_row42_col2\" class=\"data row42 col2\" >2.300826</td>\n                        <td id=\"T_d31a5_row42_col3\" class=\"data row42 col3\" >-2.000000</td>\n                        <td id=\"T_d31a5_row42_col4\" class=\"data row42 col4\" >0.000000</td>\n                        <td id=\"T_d31a5_row42_col5\" class=\"data row42 col5\" >0.000000</td>\n                        <td id=\"T_d31a5_row42_col6\" class=\"data row42 col6\" >0.000000</td>\n                        <td id=\"T_d31a5_row42_col7\" class=\"data row42 col7\" >37.000000</td>\n            </tr>\n            <tr>\n                        <th id=\"T_d31a5_level0_row43\" class=\"row_heading level0 row43\" >feature_43</th>\n                        <td id=\"T_d31a5_row43_col0\" class=\"data row43 col0\" >100000.000000</td>\n                        <td id=\"T_d31a5_row43_col1\" class=\"data row43 col1\" >0.616310</td>\n                        <td id=\"T_d31a5_row43_col2\" class=\"data row43 col2\" >2.360955</td>\n                        <td id=\"T_d31a5_row43_col3\" class=\"data row43 col3\" >0.000000</td>\n                        <td id=\"T_d31a5_row43_col4\" class=\"data row43 col4\" >0.000000</td>\n                        <td id=\"T_d31a5_row43_col5\" class=\"data row43 col5\" >0.000000</td>\n                        <td id=\"T_d31a5_row43_col6\" class=\"data row43 col6\" >0.000000</td>\n                        <td id=\"T_d31a5_row43_col7\" class=\"data row43 col7\" >33.000000</td>\n            </tr>\n            <tr>\n                        <th id=\"T_d31a5_level0_row44\" class=\"row_heading level0 row44\" >feature_44</th>\n                        <td id=\"T_d31a5_row44_col0\" class=\"data row44 col0\" >100000.000000</td>\n                        <td id=\"T_d31a5_row44_col1\" class=\"data row44 col1\" >0.135100</td>\n                        <td id=\"T_d31a5_row44_col2\" class=\"data row44 col2\" >0.627592</td>\n                        <td id=\"T_d31a5_row44_col3\" class=\"data row44 col3\" >0.000000</td>\n                        <td id=\"T_d31a5_row44_col4\" class=\"data row44 col4\" >0.000000</td>\n                        <td id=\"T_d31a5_row44_col5\" class=\"data row44 col5\" >0.000000</td>\n                        <td id=\"T_d31a5_row44_col6\" class=\"data row44 col6\" >0.000000</td>\n                        <td id=\"T_d31a5_row44_col7\" class=\"data row44 col7\" >9.000000</td>\n            </tr>\n            <tr>\n                        <th id=\"T_d31a5_level0_row45\" class=\"row_heading level0 row45\" >feature_45</th>\n                        <td id=\"T_d31a5_row45_col0\" class=\"data row45 col0\" >100000.000000</td>\n                        <td id=\"T_d31a5_row45_col1\" class=\"data row45 col1\" >0.358660</td>\n                        <td id=\"T_d31a5_row45_col2\" class=\"data row45 col2\" >1.464187</td>\n                        <td id=\"T_d31a5_row45_col3\" class=\"data row45 col3\" >0.000000</td>\n                        <td id=\"T_d31a5_row45_col4\" class=\"data row45 col4\" >0.000000</td>\n                        <td id=\"T_d31a5_row45_col5\" class=\"data row45 col5\" >0.000000</td>\n                        <td id=\"T_d31a5_row45_col6\" class=\"data row45 col6\" >0.000000</td>\n                        <td id=\"T_d31a5_row45_col7\" class=\"data row45 col7\" >26.000000</td>\n            </tr>\n            <tr>\n                        <th id=\"T_d31a5_level0_row46\" class=\"row_heading level0 row46\" >feature_46</th>\n                        <td id=\"T_d31a5_row46_col0\" class=\"data row46 col0\" >100000.000000</td>\n                        <td id=\"T_d31a5_row46_col1\" class=\"data row46 col1\" >0.516810</td>\n                        <td id=\"T_d31a5_row46_col2\" class=\"data row46 col2\" >2.171415</td>\n                        <td id=\"T_d31a5_row46_col3\" class=\"data row46 col3\" >0.000000</td>\n                        <td id=\"T_d31a5_row46_col4\" class=\"data row46 col4\" >0.000000</td>\n                        <td id=\"T_d31a5_row46_col5\" class=\"data row46 col5\" >0.000000</td>\n                        <td id=\"T_d31a5_row46_col6\" class=\"data row46 col6\" >0.000000</td>\n                        <td id=\"T_d31a5_row46_col7\" class=\"data row46 col7\" >29.000000</td>\n            </tr>\n            <tr>\n                        <th id=\"T_d31a5_level0_row47\" class=\"row_heading level0 row47\" >feature_47</th>\n                        <td id=\"T_d31a5_row47_col0\" class=\"data row47 col0\" >100000.000000</td>\n                        <td id=\"T_d31a5_row47_col1\" class=\"data row47 col1\" >0.390040</td>\n                        <td id=\"T_d31a5_row47_col2\" class=\"data row47 col2\" >1.487350</td>\n                        <td id=\"T_d31a5_row47_col3\" class=\"data row47 col3\" >0.000000</td>\n                        <td id=\"T_d31a5_row47_col4\" class=\"data row47 col4\" >0.000000</td>\n                        <td id=\"T_d31a5_row47_col5\" class=\"data row47 col5\" >0.000000</td>\n                        <td id=\"T_d31a5_row47_col6\" class=\"data row47 col6\" >0.000000</td>\n                        <td id=\"T_d31a5_row47_col7\" class=\"data row47 col7\" >25.000000</td>\n            </tr>\n            <tr>\n                        <th id=\"T_d31a5_level0_row48\" class=\"row_heading level0 row48\" >feature_48</th>\n                        <td id=\"T_d31a5_row48_col0\" class=\"data row48 col0\" >100000.000000</td>\n                        <td id=\"T_d31a5_row48_col1\" class=\"data row48 col1\" >0.970850</td>\n                        <td id=\"T_d31a5_row48_col2\" class=\"data row48 col2\" >2.576615</td>\n                        <td id=\"T_d31a5_row48_col3\" class=\"data row48 col3\" >0.000000</td>\n                        <td id=\"T_d31a5_row48_col4\" class=\"data row48 col4\" >0.000000</td>\n                        <td id=\"T_d31a5_row48_col5\" class=\"data row48 col5\" >0.000000</td>\n                        <td id=\"T_d31a5_row48_col6\" class=\"data row48 col6\" >1.000000</td>\n                        <td id=\"T_d31a5_row48_col7\" class=\"data row48 col7\" >44.000000</td>\n            </tr>\n            <tr>\n                        <th id=\"T_d31a5_level0_row49\" class=\"row_heading level0 row49\" >feature_49</th>\n                        <td id=\"T_d31a5_row49_col0\" class=\"data row49 col0\" >100000.000000</td>\n                        <td id=\"T_d31a5_row49_col1\" class=\"data row49 col1\" >0.557120</td>\n                        <td id=\"T_d31a5_row49_col2\" class=\"data row49 col2\" >1.680930</td>\n                        <td id=\"T_d31a5_row49_col3\" class=\"data row49 col3\" >0.000000</td>\n                        <td id=\"T_d31a5_row49_col4\" class=\"data row49 col4\" >0.000000</td>\n                        <td id=\"T_d31a5_row49_col5\" class=\"data row49 col5\" >0.000000</td>\n                        <td id=\"T_d31a5_row49_col6\" class=\"data row49 col6\" >0.000000</td>\n                        <td id=\"T_d31a5_row49_col7\" class=\"data row49 col7\" >20.000000</td>\n            </tr>\n    </tbody></table>"
     },
     "metadata": {},
     "execution_count": 8
    }
   ],
   "source": [
    "data_train.describe().T.style.bar(subset=['mean', 'std'], color='#d65f5f')"
   ]
  },
  {
   "source": [
    "<h3>Target Distribution</h3>"
   ],
   "cell_type": "markdown",
   "metadata": {}
  },
  {
   "cell_type": "code",
   "execution_count": 9,
   "metadata": {},
   "outputs": [
    {
     "output_type": "display_data",
     "data": {
      "application/vnd.plotly.v1+json": {
       "config": {
        "plotlyServerURL": "https://plot.ly"
       },
       "data": [
        {
         "labels": [
          "Class_2",
          "Class_3",
          "Class_4",
          "Class_1"
         ],
         "textinfo": "label+percent",
         "type": "pie",
         "values": [
          57497,
          21420,
          12593,
          8490
         ]
        }
       ],
       "layout": {
        "template": {
         "data": {
          "bar": [
           {
            "error_x": {
             "color": "#f2f5fa"
            },
            "error_y": {
             "color": "#f2f5fa"
            },
            "marker": {
             "line": {
              "color": "rgb(17,17,17)",
              "width": 0.5
             }
            },
            "type": "bar"
           }
          ],
          "barpolar": [
           {
            "marker": {
             "line": {
              "color": "rgb(17,17,17)",
              "width": 0.5
             }
            },
            "type": "barpolar"
           }
          ],
          "carpet": [
           {
            "aaxis": {
             "endlinecolor": "#A2B1C6",
             "gridcolor": "#506784",
             "linecolor": "#506784",
             "minorgridcolor": "#506784",
             "startlinecolor": "#A2B1C6"
            },
            "baxis": {
             "endlinecolor": "#A2B1C6",
             "gridcolor": "#506784",
             "linecolor": "#506784",
             "minorgridcolor": "#506784",
             "startlinecolor": "#A2B1C6"
            },
            "type": "carpet"
           }
          ],
          "choropleth": [
           {
            "colorbar": {
             "outlinewidth": 0,
             "ticks": ""
            },
            "type": "choropleth"
           }
          ],
          "contour": [
           {
            "colorbar": {
             "outlinewidth": 0,
             "ticks": ""
            },
            "colorscale": [
             [
              0,
              "#0d0887"
             ],
             [
              0.1111111111111111,
              "#46039f"
             ],
             [
              0.2222222222222222,
              "#7201a8"
             ],
             [
              0.3333333333333333,
              "#9c179e"
             ],
             [
              0.4444444444444444,
              "#bd3786"
             ],
             [
              0.5555555555555556,
              "#d8576b"
             ],
             [
              0.6666666666666666,
              "#ed7953"
             ],
             [
              0.7777777777777778,
              "#fb9f3a"
             ],
             [
              0.8888888888888888,
              "#fdca26"
             ],
             [
              1,
              "#f0f921"
             ]
            ],
            "type": "contour"
           }
          ],
          "contourcarpet": [
           {
            "colorbar": {
             "outlinewidth": 0,
             "ticks": ""
            },
            "type": "contourcarpet"
           }
          ],
          "heatmap": [
           {
            "colorbar": {
             "outlinewidth": 0,
             "ticks": ""
            },
            "colorscale": [
             [
              0,
              "#0d0887"
             ],
             [
              0.1111111111111111,
              "#46039f"
             ],
             [
              0.2222222222222222,
              "#7201a8"
             ],
             [
              0.3333333333333333,
              "#9c179e"
             ],
             [
              0.4444444444444444,
              "#bd3786"
             ],
             [
              0.5555555555555556,
              "#d8576b"
             ],
             [
              0.6666666666666666,
              "#ed7953"
             ],
             [
              0.7777777777777778,
              "#fb9f3a"
             ],
             [
              0.8888888888888888,
              "#fdca26"
             ],
             [
              1,
              "#f0f921"
             ]
            ],
            "type": "heatmap"
           }
          ],
          "heatmapgl": [
           {
            "colorbar": {
             "outlinewidth": 0,
             "ticks": ""
            },
            "colorscale": [
             [
              0,
              "#0d0887"
             ],
             [
              0.1111111111111111,
              "#46039f"
             ],
             [
              0.2222222222222222,
              "#7201a8"
             ],
             [
              0.3333333333333333,
              "#9c179e"
             ],
             [
              0.4444444444444444,
              "#bd3786"
             ],
             [
              0.5555555555555556,
              "#d8576b"
             ],
             [
              0.6666666666666666,
              "#ed7953"
             ],
             [
              0.7777777777777778,
              "#fb9f3a"
             ],
             [
              0.8888888888888888,
              "#fdca26"
             ],
             [
              1,
              "#f0f921"
             ]
            ],
            "type": "heatmapgl"
           }
          ],
          "histogram": [
           {
            "marker": {
             "colorbar": {
              "outlinewidth": 0,
              "ticks": ""
             }
            },
            "type": "histogram"
           }
          ],
          "histogram2d": [
           {
            "colorbar": {
             "outlinewidth": 0,
             "ticks": ""
            },
            "colorscale": [
             [
              0,
              "#0d0887"
             ],
             [
              0.1111111111111111,
              "#46039f"
             ],
             [
              0.2222222222222222,
              "#7201a8"
             ],
             [
              0.3333333333333333,
              "#9c179e"
             ],
             [
              0.4444444444444444,
              "#bd3786"
             ],
             [
              0.5555555555555556,
              "#d8576b"
             ],
             [
              0.6666666666666666,
              "#ed7953"
             ],
             [
              0.7777777777777778,
              "#fb9f3a"
             ],
             [
              0.8888888888888888,
              "#fdca26"
             ],
             [
              1,
              "#f0f921"
             ]
            ],
            "type": "histogram2d"
           }
          ],
          "histogram2dcontour": [
           {
            "colorbar": {
             "outlinewidth": 0,
             "ticks": ""
            },
            "colorscale": [
             [
              0,
              "#0d0887"
             ],
             [
              0.1111111111111111,
              "#46039f"
             ],
             [
              0.2222222222222222,
              "#7201a8"
             ],
             [
              0.3333333333333333,
              "#9c179e"
             ],
             [
              0.4444444444444444,
              "#bd3786"
             ],
             [
              0.5555555555555556,
              "#d8576b"
             ],
             [
              0.6666666666666666,
              "#ed7953"
             ],
             [
              0.7777777777777778,
              "#fb9f3a"
             ],
             [
              0.8888888888888888,
              "#fdca26"
             ],
             [
              1,
              "#f0f921"
             ]
            ],
            "type": "histogram2dcontour"
           }
          ],
          "mesh3d": [
           {
            "colorbar": {
             "outlinewidth": 0,
             "ticks": ""
            },
            "type": "mesh3d"
           }
          ],
          "parcoords": [
           {
            "line": {
             "colorbar": {
              "outlinewidth": 0,
              "ticks": ""
             }
            },
            "type": "parcoords"
           }
          ],
          "pie": [
           {
            "automargin": true,
            "type": "pie"
           }
          ],
          "scatter": [
           {
            "marker": {
             "line": {
              "color": "#283442"
             }
            },
            "type": "scatter"
           }
          ],
          "scatter3d": [
           {
            "line": {
             "colorbar": {
              "outlinewidth": 0,
              "ticks": ""
             }
            },
            "marker": {
             "colorbar": {
              "outlinewidth": 0,
              "ticks": ""
             }
            },
            "type": "scatter3d"
           }
          ],
          "scattercarpet": [
           {
            "marker": {
             "colorbar": {
              "outlinewidth": 0,
              "ticks": ""
             }
            },
            "type": "scattercarpet"
           }
          ],
          "scattergeo": [
           {
            "marker": {
             "colorbar": {
              "outlinewidth": 0,
              "ticks": ""
             }
            },
            "type": "scattergeo"
           }
          ],
          "scattergl": [
           {
            "marker": {
             "line": {
              "color": "#283442"
             }
            },
            "type": "scattergl"
           }
          ],
          "scattermapbox": [
           {
            "marker": {
             "colorbar": {
              "outlinewidth": 0,
              "ticks": ""
             }
            },
            "type": "scattermapbox"
           }
          ],
          "scatterpolar": [
           {
            "marker": {
             "colorbar": {
              "outlinewidth": 0,
              "ticks": ""
             }
            },
            "type": "scatterpolar"
           }
          ],
          "scatterpolargl": [
           {
            "marker": {
             "colorbar": {
              "outlinewidth": 0,
              "ticks": ""
             }
            },
            "type": "scatterpolargl"
           }
          ],
          "scatterternary": [
           {
            "marker": {
             "colorbar": {
              "outlinewidth": 0,
              "ticks": ""
             }
            },
            "type": "scatterternary"
           }
          ],
          "surface": [
           {
            "colorbar": {
             "outlinewidth": 0,
             "ticks": ""
            },
            "colorscale": [
             [
              0,
              "#0d0887"
             ],
             [
              0.1111111111111111,
              "#46039f"
             ],
             [
              0.2222222222222222,
              "#7201a8"
             ],
             [
              0.3333333333333333,
              "#9c179e"
             ],
             [
              0.4444444444444444,
              "#bd3786"
             ],
             [
              0.5555555555555556,
              "#d8576b"
             ],
             [
              0.6666666666666666,
              "#ed7953"
             ],
             [
              0.7777777777777778,
              "#fb9f3a"
             ],
             [
              0.8888888888888888,
              "#fdca26"
             ],
             [
              1,
              "#f0f921"
             ]
            ],
            "type": "surface"
           }
          ],
          "table": [
           {
            "cells": {
             "fill": {
              "color": "#506784"
             },
             "line": {
              "color": "rgb(17,17,17)"
             }
            },
            "header": {
             "fill": {
              "color": "#2a3f5f"
             },
             "line": {
              "color": "rgb(17,17,17)"
             }
            },
            "type": "table"
           }
          ]
         },
         "layout": {
          "annotationdefaults": {
           "arrowcolor": "#f2f5fa",
           "arrowhead": 0,
           "arrowwidth": 1
          },
          "autotypenumbers": "strict",
          "coloraxis": {
           "colorbar": {
            "outlinewidth": 0,
            "ticks": ""
           }
          },
          "colorscale": {
           "diverging": [
            [
             0,
             "#8e0152"
            ],
            [
             0.1,
             "#c51b7d"
            ],
            [
             0.2,
             "#de77ae"
            ],
            [
             0.3,
             "#f1b6da"
            ],
            [
             0.4,
             "#fde0ef"
            ],
            [
             0.5,
             "#f7f7f7"
            ],
            [
             0.6,
             "#e6f5d0"
            ],
            [
             0.7,
             "#b8e186"
            ],
            [
             0.8,
             "#7fbc41"
            ],
            [
             0.9,
             "#4d9221"
            ],
            [
             1,
             "#276419"
            ]
           ],
           "sequential": [
            [
             0,
             "#0d0887"
            ],
            [
             0.1111111111111111,
             "#46039f"
            ],
            [
             0.2222222222222222,
             "#7201a8"
            ],
            [
             0.3333333333333333,
             "#9c179e"
            ],
            [
             0.4444444444444444,
             "#bd3786"
            ],
            [
             0.5555555555555556,
             "#d8576b"
            ],
            [
             0.6666666666666666,
             "#ed7953"
            ],
            [
             0.7777777777777778,
             "#fb9f3a"
            ],
            [
             0.8888888888888888,
             "#fdca26"
            ],
            [
             1,
             "#f0f921"
            ]
           ],
           "sequentialminus": [
            [
             0,
             "#0d0887"
            ],
            [
             0.1111111111111111,
             "#46039f"
            ],
            [
             0.2222222222222222,
             "#7201a8"
            ],
            [
             0.3333333333333333,
             "#9c179e"
            ],
            [
             0.4444444444444444,
             "#bd3786"
            ],
            [
             0.5555555555555556,
             "#d8576b"
            ],
            [
             0.6666666666666666,
             "#ed7953"
            ],
            [
             0.7777777777777778,
             "#fb9f3a"
            ],
            [
             0.8888888888888888,
             "#fdca26"
            ],
            [
             1,
             "#f0f921"
            ]
           ]
          },
          "colorway": [
           "#636efa",
           "#EF553B",
           "#00cc96",
           "#ab63fa",
           "#FFA15A",
           "#19d3f3",
           "#FF6692",
           "#B6E880",
           "#FF97FF",
           "#FECB52"
          ],
          "font": {
           "color": "#f2f5fa"
          },
          "geo": {
           "bgcolor": "rgb(17,17,17)",
           "lakecolor": "rgb(17,17,17)",
           "landcolor": "rgb(17,17,17)",
           "showlakes": true,
           "showland": true,
           "subunitcolor": "#506784"
          },
          "hoverlabel": {
           "align": "left"
          },
          "hovermode": "closest",
          "mapbox": {
           "style": "dark"
          },
          "paper_bgcolor": "rgb(17,17,17)",
          "plot_bgcolor": "rgb(17,17,17)",
          "polar": {
           "angularaxis": {
            "gridcolor": "#506784",
            "linecolor": "#506784",
            "ticks": ""
           },
           "bgcolor": "rgb(17,17,17)",
           "radialaxis": {
            "gridcolor": "#506784",
            "linecolor": "#506784",
            "ticks": ""
           }
          },
          "scene": {
           "xaxis": {
            "backgroundcolor": "rgb(17,17,17)",
            "gridcolor": "#506784",
            "gridwidth": 2,
            "linecolor": "#506784",
            "showbackground": true,
            "ticks": "",
            "zerolinecolor": "#C8D4E3"
           },
           "yaxis": {
            "backgroundcolor": "rgb(17,17,17)",
            "gridcolor": "#506784",
            "gridwidth": 2,
            "linecolor": "#506784",
            "showbackground": true,
            "ticks": "",
            "zerolinecolor": "#C8D4E3"
           },
           "zaxis": {
            "backgroundcolor": "rgb(17,17,17)",
            "gridcolor": "#506784",
            "gridwidth": 2,
            "linecolor": "#506784",
            "showbackground": true,
            "ticks": "",
            "zerolinecolor": "#C8D4E3"
           }
          },
          "shapedefaults": {
           "line": {
            "color": "#f2f5fa"
           }
          },
          "sliderdefaults": {
           "bgcolor": "#C8D4E3",
           "bordercolor": "rgb(17,17,17)",
           "borderwidth": 1,
           "tickwidth": 0
          },
          "ternary": {
           "aaxis": {
            "gridcolor": "#506784",
            "linecolor": "#506784",
            "ticks": ""
           },
           "baxis": {
            "gridcolor": "#506784",
            "linecolor": "#506784",
            "ticks": ""
           },
           "bgcolor": "rgb(17,17,17)",
           "caxis": {
            "gridcolor": "#506784",
            "linecolor": "#506784",
            "ticks": ""
           }
          },
          "title": {
           "x": 0.05
          },
          "updatemenudefaults": {
           "bgcolor": "#506784",
           "borderwidth": 0
          },
          "xaxis": {
           "automargin": true,
           "gridcolor": "#283442",
           "linecolor": "#506784",
           "ticks": "",
           "title": {
            "standoff": 15
           },
           "zerolinecolor": "#283442",
           "zerolinewidth": 2
          },
          "yaxis": {
           "automargin": true,
           "gridcolor": "#283442",
           "linecolor": "#506784",
           "ticks": "",
           "title": {
            "standoff": 15
           },
           "zerolinecolor": "#283442",
           "zerolinewidth": 2
          }
         }
        },
        "title": {
         "text": "Target Distribution"
        }
       }
      }
     },
     "metadata": {}
    }
   ],
   "source": [
    "fig = go.Figure()\n",
    "\n",
    "to_plot = data_train.value_counts('target')\n",
    "\n",
    "fig.add_trace(go.Pie(\n",
    "    labels = to_plot.index,\n",
    "    values = to_plot.values,\n",
    "    textinfo='label+percent'\n",
    "))\n",
    "\n",
    "fig.update_layout(\n",
    "    template='plotly_dark',\n",
    "    title_text = 'Target Distribution'\n",
    ")"
   ]
  },
  {
   "source": [
    "Unfortunately we have huge disbalance in our target variable. We will do something with this if it's gona be a problem later"
   ],
   "cell_type": "markdown",
   "metadata": {}
  },
  {
   "source": [
    "<h3>Features Distribution</h3>"
   ],
   "cell_type": "markdown",
   "metadata": {}
  },
  {
   "cell_type": "code",
   "execution_count": 10,
   "metadata": {},
   "outputs": [
    {
     "output_type": "display_data",
     "data": {
      "application/vnd.plotly.v1+json": {
       "config": {
        "plotlyServerURL": "https://plot.ly"
       },
       "data": [
        {
         "mode": "lines",
         "name": "feature_0",
         "type": "scatter",
         "x": [
          0,
          1,
          2,
          3,
          4,
          5,
          6,
          7,
          8,
          9,
          10
         ],
         "xaxis": "x",
         "y": [
          88473,
          5632,
          2536,
          1292,
          760,
          545,
          291,
          199,
          170,
          81,
          21
         ],
         "yaxis": "y"
        },
        {
         "mode": "lines",
         "name": "feature_1",
         "type": "scatter",
         "x": [
          0,
          1,
          2,
          3,
          4,
          5,
          6,
          7,
          8,
          9,
          10,
          11,
          13,
          12,
          14,
          15,
          16,
          17,
          18,
          19,
          21,
          20,
          22,
          23,
          25,
          24,
          27,
          26,
          28,
          29,
          31
         ],
         "xaxis": "x2",
         "y": [
          89014,
          4924,
          1838,
          783,
          501,
          369,
          359,
          333,
          328,
          261,
          214,
          162,
          145,
          122,
          113,
          98,
          89,
          70,
          47,
          42,
          37,
          32,
          25,
          24,
          17,
          16,
          13,
          12,
          6,
          5,
          1
         ],
         "yaxis": "y2"
        },
        {
         "mode": "lines",
         "name": "feature_2",
         "type": "scatter",
         "x": [
          0,
          1,
          2,
          3,
          4,
          5,
          6
         ],
         "xaxis": "x3",
         "y": [
          93492,
          3889,
          1306,
          610,
          442,
          252,
          9
         ],
         "yaxis": "y3"
        },
        {
         "mode": "lines",
         "name": "feature_3",
         "type": "scatter",
         "x": [
          0,
          1,
          2,
          3,
          4,
          5,
          6,
          7,
          8,
          9,
          10,
          11,
          12,
          13,
          14,
          16,
          15,
          17,
          18,
          19,
          20,
          22,
          21,
          24,
          23,
          26
         ],
         "xaxis": "x4",
         "y": [
          78107,
          10882,
          4664,
          2144,
          1076,
          648,
          557,
          372,
          253,
          226,
          207,
          162,
          124,
          95,
          87,
          76,
          75,
          63,
          44,
          42,
          33,
          24,
          17,
          10,
          9,
          3
         ],
         "yaxis": "y4"
        },
        {
         "mode": "lines",
         "name": "feature_4",
         "type": "scatter",
         "x": [
          0,
          1,
          2,
          3,
          4,
          13,
          14,
          15,
          12,
          16,
          11,
          17,
          5,
          10,
          6,
          18,
          7,
          9,
          8,
          19,
          20,
          21,
          23,
          22,
          25,
          24,
          27,
          26,
          28,
          30,
          29,
          31,
          33,
          32,
          34,
          38,
          35,
          37
         ],
         "xaxis": "x5",
         "y": [
          88381,
          5261,
          1798,
          781,
          459,
          255,
          227,
          224,
          213,
          211,
          205,
          192,
          185,
          168,
          160,
          159,
          153,
          150,
          147,
          123,
          91,
          86,
          60,
          58,
          40,
          39,
          36,
          31,
          25,
          16,
          16,
          15,
          15,
          8,
          8,
          2,
          1,
          1
         ],
         "yaxis": "y5"
        },
        {
         "mode": "lines",
         "name": "feature_5",
         "type": "scatter",
         "x": [
          0,
          1,
          2,
          3,
          4,
          5,
          6,
          7,
          8,
          9,
          10
         ],
         "xaxis": "x6",
         "y": [
          90247,
          5915,
          2495,
          877,
          171,
          104,
          68,
          64,
          46,
          12,
          1
         ],
         "yaxis": "y6"
        },
        {
         "mode": "lines",
         "name": "feature_6",
         "type": "scatter",
         "x": [
          0,
          1,
          2,
          7,
          3,
          6,
          8,
          9,
          4,
          5,
          10,
          11,
          12,
          13,
          16,
          14,
          15,
          17,
          18,
          19,
          20,
          21,
          22,
          23,
          24,
          25,
          26,
          27
         ],
         "xaxis": "x7",
         "y": [
          80875,
          9102,
          2467,
          1071,
          998,
          897,
          823,
          750,
          612,
          556,
          449,
          331,
          254,
          172,
          93,
          93,
          89,
          82,
          71,
          65,
          54,
          33,
          29,
          16,
          7,
          5,
          3,
          3
         ],
         "yaxis": "y7"
        },
        {
         "mode": "lines",
         "name": "feature_7",
         "type": "scatter",
         "x": [
          0,
          1,
          2,
          3,
          4,
          5,
          6,
          7,
          8,
          9,
          10,
          11,
          12,
          13,
          14,
          15,
          17,
          16,
          18,
          19,
          20,
          21,
          22,
          23,
          24,
          25,
          27,
          26,
          28,
          29,
          30,
          31
         ],
         "xaxis": "x8",
         "y": [
          65560,
          12407,
          6169,
          4297,
          2866,
          2028,
          1465,
          1077,
          969,
          656,
          524,
          435,
          337,
          251,
          222,
          157,
          128,
          127,
          86,
          58,
          52,
          43,
          24,
          17,
          16,
          10,
          8,
          6,
          2,
          1,
          1,
          1
         ],
         "yaxis": "y8"
        },
        {
         "mode": "lines",
         "name": "feature_8",
         "type": "scatter",
         "x": [
          0,
          1,
          2,
          3,
          4,
          5,
          6,
          7,
          8,
          18,
          19,
          15,
          14,
          20,
          16,
          13,
          17,
          12,
          21,
          9,
          23,
          22,
          24,
          11,
          10,
          25,
          27,
          26,
          28,
          29,
          30,
          31,
          32,
          33,
          36,
          34,
          39
         ],
         "xaxis": "x9",
         "y": [
          80046,
          9156,
          3905,
          1840,
          748,
          332,
          300,
          282,
          211,
          206,
          194,
          192,
          189,
          189,
          188,
          175,
          172,
          171,
          163,
          159,
          154,
          147,
          145,
          139,
          123,
          116,
          94,
          93,
          60,
          38,
          31,
          25,
          10,
          3,
          2,
          1,
          1
         ],
         "yaxis": "y9"
        },
        {
         "mode": "lines",
         "name": "feature_9",
         "type": "scatter",
         "x": [
          0,
          1,
          2,
          3,
          4,
          5,
          6,
          7,
          8,
          9,
          10,
          11,
          12,
          13,
          14,
          15,
          16,
          17
         ],
         "xaxis": "x10",
         "y": [
          66927,
          12735,
          6643,
          4557,
          3011,
          2213,
          1333,
          769,
          588,
          345,
          288,
          235,
          184,
          90,
          58,
          20,
          2,
          2
         ],
         "yaxis": "y10"
        },
        {
         "mode": "lines",
         "name": "feature_10",
         "type": "scatter",
         "x": [
          0,
          1,
          2,
          3,
          4,
          5,
          6,
          7,
          8,
          9,
          10,
          11,
          12,
          13,
          14,
          15,
          16
         ],
         "xaxis": "x11",
         "y": [
          86390,
          7177,
          2722,
          1394,
          734,
          442,
          264,
          224,
          188,
          168,
          147,
          73,
          40,
          24,
          10,
          2,
          1
         ],
         "yaxis": "y11"
        },
        {
         "mode": "lines",
         "name": "feature_11",
         "type": "scatter",
         "x": [
          0,
          1,
          2,
          3,
          4,
          5,
          6,
          7,
          8,
          9,
          10,
          11,
          12
         ],
         "xaxis": "x12",
         "y": [
          78382,
          12797,
          4091,
          2206,
          1232,
          577,
          338,
          201,
          88,
          64,
          15,
          8,
          1
         ],
         "yaxis": "y12"
        },
        {
         "mode": "lines",
         "name": "feature_12",
         "type": "scatter",
         "x": [
          0,
          1,
          2,
          3,
          4,
          5,
          6,
          7,
          8,
          9,
          10,
          11
         ],
         "xaxis": "x13",
         "y": [
          77414,
          12033,
          4563,
          2758,
          1514,
          723,
          430,
          253,
          166,
          103,
          36,
          7
         ],
         "yaxis": "y13"
        },
        {
         "mode": "lines",
         "name": "feature_13",
         "type": "scatter",
         "x": [
          0,
          1,
          2,
          3
         ],
         "xaxis": "x14",
         "y": [
          94912,
          3082,
          1535,
          471
         ],
         "yaxis": "y14"
        },
        {
         "mode": "lines",
         "name": "feature_14",
         "type": "scatter",
         "x": [
          0,
          1,
          2,
          3,
          4,
          5,
          6,
          7,
          8,
          9,
          10,
          11,
          12,
          13,
          14,
          15,
          16,
          17,
          18,
          21,
          19,
          22,
          23,
          20,
          24,
          26,
          25,
          27,
          29,
          28,
          30,
          31,
          34,
          32,
          33,
          37,
          35,
          39,
          36,
          38,
          40,
          41,
          42,
          45,
          43,
          44,
          47,
          46,
          48,
          49,
          50,
          51
         ],
         "xaxis": "x15",
         "y": [
          41753,
          16663,
          11870,
          7078,
          5891,
          3480,
          2189,
          1963,
          1601,
          1221,
          921,
          708,
          622,
          577,
          465,
          396,
          266,
          229,
          218,
          179,
          175,
          162,
          161,
          158,
          121,
          113,
          92,
          82,
          74,
          73,
          59,
          52,
          43,
          39,
          38,
          35,
          34,
          30,
          29,
          28,
          23,
          19,
          18,
          14,
          13,
          8,
          5,
          4,
          3,
          3,
          1,
          1
         ],
         "yaxis": "y15"
        },
        {
         "mode": "lines",
         "name": "feature_15",
         "type": "scatter",
         "x": [
          0,
          1,
          2,
          3,
          4,
          5,
          6,
          7,
          9,
          8,
          10,
          11,
          13,
          12,
          14,
          15,
          16,
          17,
          18,
          19,
          20
         ],
         "xaxis": "x16",
         "y": [
          52996,
          21370,
          9654,
          4913,
          3783,
          2559,
          1322,
          917,
          541,
          530,
          432,
          297,
          153,
          132,
          122,
          97,
          77,
          62,
          28,
          14,
          1
         ],
         "yaxis": "y16"
        },
        {
         "mode": "lines",
         "name": "feature_16",
         "type": "scatter",
         "x": [
          0,
          1,
          2,
          3,
          4,
          5,
          6,
          7,
          8,
          9,
          10,
          11,
          12,
          13,
          14,
          15,
          16,
          17,
          18,
          19
         ],
         "xaxis": "x17",
         "y": [
          85681,
          6703,
          3126,
          1595,
          907,
          567,
          377,
          243,
          205,
          160,
          110,
          100,
          79,
          55,
          42,
          27,
          14,
          6,
          2,
          1
         ],
         "yaxis": "y17"
        },
        {
         "mode": "lines",
         "name": "feature_17",
         "type": "scatter",
         "x": [
          0,
          1,
          2,
          3,
          4,
          6,
          5,
          7,
          8,
          9,
          10,
          11,
          12,
          13,
          14,
          15,
          16
         ],
         "xaxis": "x18",
         "y": [
          75778,
          9197,
          4806,
          2893,
          1844,
          1336,
          1199,
          1149,
          709,
          395,
          235,
          195,
          137,
          73,
          46,
          5,
          3
         ],
         "yaxis": "y18"
        },
        {
         "mode": "lines",
         "name": "feature_18",
         "type": "scatter",
         "x": [
          0,
          1,
          2,
          3,
          4,
          5,
          6,
          7,
          8,
          9,
          10,
          11,
          12,
          13
         ],
         "xaxis": "x19",
         "y": [
          75009,
          13971,
          5991,
          2364,
          1293,
          581,
          292,
          201,
          83,
          80,
          65,
          43,
          17,
          10
         ],
         "yaxis": "y19"
        },
        {
         "mode": "lines",
         "name": "feature_19",
         "type": "scatter",
         "x": [
          0,
          1,
          2,
          3,
          4,
          6,
          5,
          7,
          8,
          10,
          9,
          11,
          12,
          13,
          14,
          15,
          16,
          17,
          18,
          19,
          20,
          21,
          22,
          23,
          24,
          25,
          28,
          26,
          27,
          29,
          31,
          30,
          32,
          33,
          34,
          35,
          36,
          37,
          38,
          40,
          42,
          41,
          39,
          46,
          49,
          45,
          44,
          43,
          50,
          52,
          53,
          51,
          47,
          48,
          54,
          55,
          -2,
          -1
         ],
         "xaxis": "x20",
         "y": [
          74665,
          10745,
          2814,
          1192,
          831,
          820,
          797,
          723,
          677,
          676,
          614,
          584,
          547,
          523,
          430,
          388,
          321,
          285,
          265,
          223,
          195,
          183,
          175,
          155,
          139,
          128,
          118,
          115,
          80,
          78,
          70,
          66,
          53,
          50,
          37,
          28,
          23,
          22,
          22,
          17,
          17,
          16,
          15,
          9,
          9,
          8,
          7,
          7,
          6,
          6,
          6,
          5,
          4,
          3,
          3,
          3,
          1,
          1
         ],
         "yaxis": "y20"
        },
        {
         "mode": "lines",
         "name": "feature_20",
         "type": "scatter",
         "x": [
          0,
          1,
          2,
          3,
          4,
          5,
          6,
          7,
          8,
          9,
          10,
          11,
          12,
          13,
          14,
          15,
          16,
          17
         ],
         "xaxis": "x21",
         "y": [
          88182,
          6794,
          2366,
          1084,
          526,
          312,
          238,
          158,
          103,
          85,
          58,
          39,
          27,
          12,
          9,
          4,
          2,
          1
         ],
         "yaxis": "y21"
        },
        {
         "mode": "lines",
         "name": "feature_21",
         "type": "scatter",
         "x": [
          0,
          1,
          2,
          3,
          4,
          5,
          6,
          7,
          8,
          9,
          10,
          11,
          12,
          13,
          14,
          15,
          16,
          17,
          19,
          18,
          20,
          21,
          22,
          23,
          24,
          29,
          26,
          25,
          30,
          33,
          28,
          27,
          32,
          35,
          34,
          36
         ],
         "xaxis": "x22",
         "y": [
          79272,
          9410,
          4141,
          2098,
          1206,
          750,
          507,
          434,
          376,
          352,
          255,
          212,
          140,
          118,
          106,
          102,
          99,
          73,
          69,
          67,
          65,
          35,
          28,
          21,
          14,
          12,
          7,
          6,
          5,
          5,
          4,
          3,
          3,
          3,
          1,
          1
         ],
         "yaxis": "y22"
        },
        {
         "mode": "lines",
         "name": "feature_22",
         "type": "scatter",
         "x": [
          0,
          1,
          2,
          3,
          4
         ],
         "xaxis": "x23",
         "y": [
          87150,
          9028,
          2401,
          1040,
          381
         ],
         "yaxis": "y23"
        },
        {
         "mode": "lines",
         "name": "feature_23",
         "type": "scatter",
         "x": [
          0,
          1,
          2,
          3,
          4,
          5,
          6,
          7,
          8,
          9,
          10,
          12,
          11,
          13,
          14,
          15,
          16,
          17,
          19,
          18
         ],
         "xaxis": "x24",
         "y": [
          83021,
          8480,
          3767,
          1959,
          957,
          593,
          374,
          252,
          166,
          127,
          101,
          49,
          48,
          40,
          30,
          16,
          10,
          7,
          2,
          1
         ],
         "yaxis": "y24"
        },
        {
         "mode": "lines",
         "name": "feature_24",
         "type": "scatter",
         "x": [
          0,
          1,
          2,
          3,
          4,
          5,
          6,
          7,
          8,
          9,
          10,
          11,
          12,
          13,
          14,
          15,
          16,
          17,
          18,
          20,
          19,
          21,
          22,
          23,
          25,
          24,
          27,
          26,
          28,
          29,
          30,
          31,
          33,
          32,
          34
         ],
         "xaxis": "x25",
         "y": [
          67716,
          13037,
          6538,
          3983,
          2578,
          1594,
          949,
          648,
          506,
          391,
          316,
          267,
          227,
          208,
          187,
          168,
          138,
          118,
          105,
          72,
          69,
          47,
          40,
          29,
          17,
          15,
          12,
          11,
          3,
          3,
          2,
          2,
          2,
          1,
          1
         ],
         "yaxis": "y25"
        },
        {
         "mode": "lines",
         "name": "feature_25",
         "type": "scatter",
         "x": [
          0,
          1,
          2,
          3,
          4,
          5,
          6,
          7,
          8,
          9,
          10,
          11,
          12,
          13,
          14,
          15,
          16,
          17,
          18,
          19,
          20,
          21,
          23
         ],
         "xaxis": "x26",
         "y": [
          81226,
          10893,
          3669,
          1572,
          846,
          456,
          338,
          192,
          173,
          149,
          134,
          98,
          70,
          37,
          34,
          30,
          21,
          18,
          15,
          14,
          9,
          3,
          3
         ],
         "yaxis": "y26"
        },
        {
         "mode": "lines",
         "name": "feature_26",
         "type": "scatter",
         "x": [
          0,
          1,
          2,
          3,
          4,
          5,
          6,
          7,
          8,
          9,
          11,
          10,
          12,
          13,
          14,
          15,
          16,
          18,
          17,
          19,
          20,
          21
         ],
         "xaxis": "x27",
         "y": [
          88161,
          5792,
          2164,
          1044,
          667,
          381,
          318,
          265,
          228,
          161,
          156,
          138,
          138,
          118,
          80,
          69,
          50,
          29,
          26,
          12,
          2,
          1
         ],
         "yaxis": "y27"
        },
        {
         "mode": "lines",
         "name": "feature_27",
         "type": "scatter",
         "x": [
          0,
          1,
          2,
          3,
          4,
          5,
          7,
          6,
          8,
          10,
          11,
          9,
          13,
          12,
          14,
          15,
          16,
          17,
          19,
          20,
          18,
          25,
          21,
          24,
          22,
          23,
          27,
          26,
          29,
          30,
          31,
          28
         ],
         "xaxis": "x28",
         "y": [
          91241,
          4509,
          1230,
          605,
          447,
          309,
          261,
          256,
          193,
          133,
          132,
          120,
          97,
          90,
          64,
          54,
          47,
          46,
          30,
          30,
          26,
          15,
          14,
          10,
          9,
          8,
          7,
          6,
          4,
          3,
          3,
          1
         ],
         "yaxis": "y28"
        },
        {
         "mode": "lines",
         "name": "feature_28",
         "type": "scatter",
         "x": [
          0,
          1,
          2,
          3,
          4,
          5,
          6,
          7,
          8,
          9,
          10,
          11,
          12,
          13,
          14,
          15,
          16,
          17,
          18,
          19,
          20,
          21,
          22,
          23
         ],
         "xaxis": "x29",
         "y": [
          56269,
          18193,
          10418,
          5354,
          3630,
          2619,
          1312,
          704,
          540,
          320,
          200,
          128,
          88,
          66,
          43,
          31,
          25,
          18,
          17,
          12,
          6,
          4,
          2,
          1
         ],
         "yaxis": "y29"
        },
        {
         "mode": "lines",
         "name": "feature_29",
         "type": "scatter",
         "x": [
          0,
          1,
          2,
          3,
          4,
          5,
          6,
          7,
          8,
          9,
          10,
          11,
          12,
          13
         ],
         "xaxis": "x30",
         "y": [
          91351,
          5090,
          1776,
          706,
          342,
          240,
          168,
          136,
          100,
          58,
          22,
          5,
          3,
          3
         ],
         "yaxis": "y30"
        },
        {
         "mode": "lines",
         "name": "feature_30",
         "type": "scatter",
         "x": [
          0,
          1,
          2,
          3,
          4,
          5,
          6,
          7,
          8,
          9,
          10,
          11,
          21,
          18,
          17,
          12,
          22,
          30,
          28,
          20,
          15,
          19,
          27,
          29,
          31,
          25,
          26,
          14,
          32,
          13,
          24,
          16,
          23,
          35,
          33,
          39,
          40,
          34,
          36,
          37,
          38,
          41,
          -1
         ],
         "xaxis": "x31",
         "y": [
          86421,
          8519,
          2409,
          901,
          462,
          380,
          242,
          180,
          126,
          84,
          55,
          32,
          14,
          13,
          11,
          11,
          11,
          10,
          9,
          9,
          8,
          8,
          8,
          7,
          7,
          7,
          7,
          7,
          6,
          6,
          6,
          5,
          4,
          3,
          2,
          2,
          2,
          1,
          1,
          1,
          1,
          1,
          1
         ],
         "yaxis": "y31"
        },
        {
         "mode": "lines",
         "name": "feature_31",
         "type": "scatter",
         "x": [
          0,
          1,
          2,
          3,
          4,
          5,
          6,
          7,
          8,
          9,
          10,
          11,
          12,
          14,
          13,
          15,
          -1,
          16,
          17,
          18,
          20,
          19,
          21,
          22,
          24,
          23,
          26,
          27,
          25,
          31,
          28,
          29,
          30,
          33,
          35,
          32,
          36,
          34,
          39,
          37,
          38,
          41,
          40,
          46,
          42,
          43
         ],
         "xaxis": "x32",
         "y": [
          67896,
          9348,
          5911,
          3856,
          3020,
          2192,
          1437,
          1210,
          945,
          708,
          537,
          403,
          336,
          289,
          279,
          240,
          199,
          190,
          168,
          127,
          109,
          95,
          77,
          70,
          50,
          47,
          35,
          32,
          30,
          24,
          22,
          19,
          16,
          13,
          13,
          12,
          11,
          7,
          6,
          5,
          5,
          5,
          2,
          2,
          1,
          1
         ],
         "yaxis": "y32"
        },
        {
         "mode": "lines",
         "name": "feature_32",
         "type": "scatter",
         "x": [
          0,
          1,
          2,
          3,
          4,
          5,
          6,
          7,
          8,
          15,
          13,
          9,
          14,
          17,
          12,
          10,
          16,
          11,
          19,
          18,
          21,
          20,
          23,
          24,
          22,
          25,
          26,
          -1,
          27,
          -2
         ],
         "xaxis": "x33",
         "y": [
          90417,
          5402,
          1344,
          839,
          472,
          314,
          264,
          159,
          110,
          68,
          62,
          62,
          59,
          57,
          55,
          50,
          45,
          42,
          41,
          35,
          25,
          23,
          16,
          13,
          12,
          6,
          3,
          3,
          1,
          1
         ],
         "yaxis": "y33"
        },
        {
         "mode": "lines",
         "name": "feature_33",
         "type": "scatter",
         "x": [
          0,
          1,
          2,
          3,
          11,
          12,
          4,
          10,
          7,
          6,
          8,
          9,
          13,
          5,
          14,
          16,
          15,
          17,
          19,
          18,
          20,
          21,
          22,
          23,
          24
         ],
         "xaxis": "x34",
         "y": [
          84413,
          7875,
          2155,
          821,
          622,
          599,
          548,
          375,
          359,
          335,
          325,
          310,
          308,
          277,
          152,
          113,
          97,
          88,
          78,
          64,
          39,
          24,
          13,
          7,
          3
         ],
         "yaxis": "y34"
        },
        {
         "mode": "lines",
         "name": "feature_34",
         "type": "scatter",
         "x": [
          0,
          1,
          2,
          3,
          4,
          5,
          6,
          7,
          8,
          9,
          10,
          11,
          12,
          13,
          14,
          15,
          16,
          17,
          18,
          19,
          20,
          21,
          22,
          23,
          24,
          25
         ],
         "xaxis": "x35",
         "y": [
          63959,
          15112,
          6845,
          4562,
          2749,
          1632,
          1142,
          803,
          637,
          494,
          372,
          283,
          243,
          207,
          196,
          169,
          151,
          125,
          101,
          69,
          61,
          34,
          26,
          14,
          11,
          3
         ],
         "yaxis": "y35"
        },
        {
         "mode": "lines",
         "name": "feature_35",
         "type": "scatter",
         "x": [
          0,
          1,
          2,
          3,
          4,
          5,
          7,
          8,
          9,
          6,
          10,
          11,
          12,
          13,
          14,
          15,
          16,
          19,
          18,
          17,
          20,
          21,
          22,
          23,
          24,
          25,
          27,
          26,
          28,
          29,
          30,
          33,
          31,
          32,
          38,
          37,
          34,
          35,
          36,
          39,
          40,
          41,
          43,
          -2
         ],
         "xaxis": "x36",
         "y": [
          75885,
          11623,
          4290,
          1832,
          1067,
          729,
          467,
          449,
          433,
          418,
          360,
          356,
          273,
          250,
          234,
          194,
          170,
          134,
          131,
          127,
          96,
          84,
          68,
          67,
          53,
          43,
          32,
          26,
          21,
          21,
          16,
          10,
          10,
          7,
          6,
          4,
          3,
          2,
          2,
          2,
          2,
          1,
          1,
          1
         ],
         "yaxis": "y36"
        },
        {
         "mode": "lines",
         "name": "feature_36",
         "type": "scatter",
         "x": [
          0,
          1,
          2,
          3
         ],
         "xaxis": "x37",
         "y": [
          91136,
          6585,
          1769,
          510
         ],
         "yaxis": "y37"
        },
        {
         "mode": "lines",
         "name": "feature_37",
         "type": "scatter",
         "x": [
          0,
          1,
          2,
          3,
          4,
          5,
          6,
          7,
          8,
          9,
          10,
          11,
          12,
          13,
          14
         ],
         "xaxis": "x38",
         "y": [
          80825,
          9850,
          4627,
          2047,
          1021,
          633,
          423,
          223,
          160,
          83,
          45,
          25,
          17,
          12,
          9
         ],
         "yaxis": "y38"
        },
        {
         "mode": "lines",
         "name": "feature_38",
         "type": "scatter",
         "x": [
          0,
          1,
          2,
          3,
          4,
          5,
          6,
          7,
          8,
          9,
          10,
          11,
          12,
          13,
          14,
          15,
          16,
          17,
          18,
          19,
          20,
          21,
          22,
          23,
          26,
          25,
          29,
          24,
          27,
          28,
          30,
          31,
          32,
          33,
          35,
          34,
          36,
          37,
          38,
          41,
          45,
          39,
          47,
          40,
          43,
          48,
          42,
          50,
          49,
          51,
          53,
          55,
          56,
          46,
          44,
          54,
          60,
          59,
          57,
          61,
          52,
          58,
          -2,
          -1,
          63,
          62,
          -3,
          -5,
          -8,
          65,
          66
         ],
         "xaxis": "x39",
         "y": [
          42216,
          13688,
          9798,
          7143,
          5807,
          4373,
          3226,
          2636,
          2161,
          1606,
          1146,
          969,
          742,
          579,
          389,
          375,
          316,
          283,
          257,
          201,
          182,
          140,
          127,
          126,
          123,
          118,
          109,
          101,
          95,
          91,
          90,
          87,
          77,
          68,
          55,
          52,
          50,
          45,
          30,
          26,
          24,
          24,
          22,
          22,
          18,
          18,
          16,
          15,
          13,
          13,
          12,
          11,
          10,
          9,
          9,
          8,
          7,
          7,
          6,
          6,
          5,
          5,
          4,
          3,
          3,
          2,
          1,
          1,
          1,
          1,
          1
         ],
         "yaxis": "y39"
        },
        {
         "mode": "lines",
         "name": "feature_39",
         "type": "scatter",
         "x": [
          0,
          1,
          2,
          3,
          4,
          6,
          5,
          7,
          8,
          9,
          12,
          10,
          13,
          11,
          14,
          15,
          16,
          17,
          18,
          20,
          21,
          19,
          22,
          23,
          26,
          28,
          27,
          24,
          37,
          25,
          39,
          29,
          35,
          30,
          32,
          38,
          34,
          45,
          42,
          33,
          40,
          31,
          36,
          41,
          44,
          47,
          53,
          43,
          46,
          51,
          52,
          56,
          49,
          48,
          55,
          50,
          60,
          54,
          57,
          61,
          -2,
          -1,
          64,
          65,
          59,
          58,
          66,
          -5,
          -3,
          63
         ],
         "xaxis": "x40",
         "y": [
          87238,
          6299,
          2001,
          984,
          631,
          207,
          206,
          185,
          181,
          165,
          120,
          118,
          96,
          91,
          89,
          86,
          85,
          84,
          69,
          69,
          57,
          57,
          56,
          56,
          49,
          45,
          41,
          38,
          35,
          35,
          35,
          33,
          32,
          31,
          28,
          27,
          26,
          25,
          24,
          23,
          23,
          22,
          21,
          17,
          15,
          15,
          14,
          13,
          13,
          13,
          9,
          8,
          7,
          7,
          5,
          4,
          4,
          4,
          4,
          4,
          3,
          3,
          3,
          3,
          2,
          2,
          2,
          1,
          1,
          1
         ],
         "yaxis": "y40"
        },
        {
         "mode": "lines",
         "name": "feature_40",
         "type": "scatter",
         "x": [
          0,
          1,
          2,
          3,
          4,
          5,
          6,
          7,
          8,
          9,
          10,
          11,
          12,
          13,
          14,
          15,
          16,
          17,
          18,
          19,
          20,
          21
         ],
         "xaxis": "x41",
         "y": [
          73953,
          10444,
          5589,
          3604,
          2395,
          1380,
          833,
          433,
          358,
          294,
          195,
          153,
          112,
          84,
          70,
          33,
          20,
          16,
          16,
          12,
          4,
          2
         ],
         "yaxis": "y41"
        },
        {
         "mode": "lines",
         "name": "feature_41",
         "type": "scatter",
         "x": [
          0,
          1,
          2,
          3,
          4,
          5,
          6,
          7,
          8,
          9,
          10,
          11,
          12,
          13,
          14,
          15,
          16,
          17,
          18,
          19,
          20,
          23,
          22,
          21,
          24,
          25,
          26,
          27,
          28,
          30,
          32
         ],
         "xaxis": "x42",
         "y": [
          80259,
          10340,
          3361,
          1637,
          985,
          622,
          478,
          431,
          350,
          308,
          225,
          195,
          135,
          124,
          86,
          70,
          56,
          56,
          55,
          46,
          36,
          31,
          29,
          28,
          18,
          11,
          11,
          8,
          4,
          3,
          2
         ],
         "yaxis": "y42"
        },
        {
         "mode": "lines",
         "name": "feature_42",
         "type": "scatter",
         "x": [
          0,
          1,
          2,
          3,
          4,
          5,
          6,
          7,
          8,
          9,
          10,
          12,
          11,
          14,
          13,
          15,
          16,
          18,
          17,
          19,
          20,
          21,
          23,
          24,
          25,
          22,
          26,
          27,
          28,
          32,
          29,
          31,
          30,
          33,
          34,
          35,
          36,
          37,
          -2,
          -1
         ],
         "xaxis": "x43",
         "y": [
          83466,
          9664,
          2425,
          1023,
          618,
          354,
          344,
          327,
          290,
          199,
          165,
          103,
          94,
          80,
          72,
          68,
          68,
          64,
          56,
          55,
          54,
          53,
          52,
          48,
          47,
          46,
          41,
          27,
          26,
          16,
          15,
          13,
          11,
          9,
          2,
          1,
          1,
          1,
          1,
          1
         ],
         "yaxis": "y43"
        },
        {
         "mode": "lines",
         "name": "feature_43",
         "type": "scatter",
         "x": [
          0,
          1,
          2,
          3,
          4,
          5,
          6,
          7,
          8,
          9,
          10,
          12,
          11,
          13,
          14,
          15,
          16,
          17,
          18,
          21,
          19,
          20,
          23,
          22,
          24,
          25,
          26,
          27,
          28,
          30,
          29,
          31,
          33
         ],
         "xaxis": "x44",
         "y": [
          84299,
          6734,
          2527,
          1468,
          947,
          702,
          508,
          411,
          359,
          295,
          253,
          203,
          202,
          162,
          143,
          133,
          104,
          70,
          68,
          66,
          58,
          53,
          46,
          44,
          39,
          38,
          28,
          18,
          8,
          8,
          3,
          2,
          1
         ],
         "yaxis": "y44"
        },
        {
         "mode": "lines",
         "name": "feature_44",
         "type": "scatter",
         "x": [
          0,
          1,
          2,
          3,
          4,
          5,
          6,
          7,
          8,
          9
         ],
         "xaxis": "x45",
         "y": [
          93251,
          3642,
          1349,
          791,
          460,
          236,
          155,
          84,
          29,
          3
         ],
         "yaxis": "y45"
        },
        {
         "mode": "lines",
         "name": "feature_45",
         "type": "scatter",
         "x": [
          0,
          1,
          2,
          3,
          4,
          5,
          6,
          7,
          8,
          9,
          10,
          11,
          12,
          13,
          14,
          15,
          16,
          19,
          17,
          20,
          18,
          22,
          24,
          21,
          23,
          26,
          25
         ],
         "xaxis": "x46",
         "y": [
          87289,
          6158,
          2342,
          1339,
          790,
          512,
          378,
          242,
          182,
          144,
          108,
          105,
          83,
          67,
          54,
          43,
          36,
          27,
          25,
          24,
          23,
          8,
          7,
          6,
          5,
          2,
          1
         ],
         "yaxis": "y46"
        },
        {
         "mode": "lines",
         "name": "feature_46",
         "type": "scatter",
         "x": [
          0,
          1,
          2,
          3,
          4,
          5,
          6,
          7,
          8,
          9,
          14,
          10,
          11,
          13,
          12,
          15,
          16,
          17,
          18,
          19,
          20,
          22,
          21,
          23,
          24,
          26,
          27,
          28,
          25,
          29
         ],
         "xaxis": "x47",
         "y": [
          86108,
          6818,
          2027,
          1127,
          752,
          448,
          381,
          319,
          240,
          184,
          178,
          173,
          172,
          169,
          167,
          119,
          108,
          102,
          88,
          66,
          61,
          50,
          42,
          35,
          29,
          13,
          8,
          8,
          7,
          1
         ],
         "yaxis": "y47"
        },
        {
         "mode": "lines",
         "name": "feature_47",
         "type": "scatter",
         "x": [
          0,
          1,
          2,
          3,
          4,
          5,
          7,
          6,
          8,
          9,
          10,
          11,
          12,
          14,
          13,
          18,
          15,
          19,
          17,
          16,
          20,
          21,
          22,
          23,
          24,
          25
         ],
         "xaxis": "x48",
         "y": [
          85268,
          7283,
          3122,
          1359,
          909,
          539,
          276,
          262,
          232,
          190,
          121,
          83,
          44,
          42,
          42,
          39,
          32,
          32,
          30,
          26,
          19,
          18,
          14,
          6,
          6,
          6
         ],
         "yaxis": "y48"
        },
        {
         "mode": "lines",
         "name": "feature_48",
         "type": "scatter",
         "x": [
          0,
          1,
          2,
          3,
          4,
          5,
          6,
          7,
          8,
          9,
          10,
          11,
          12,
          13,
          14,
          15,
          16,
          18,
          17,
          19,
          20,
          21,
          22,
          26,
          33,
          32,
          29,
          25,
          27,
          24,
          28,
          31,
          35,
          23,
          39,
          34,
          38,
          30,
          40,
          37,
          36,
          41,
          42,
          43,
          44
         ],
         "xaxis": "x49",
         "y": [
          67780,
          14216,
          7399,
          3525,
          1775,
          1167,
          914,
          485,
          469,
          391,
          385,
          293,
          215,
          142,
          127,
          127,
          96,
          81,
          74,
          57,
          27,
          25,
          24,
          18,
          17,
          16,
          15,
          14,
          14,
          14,
          13,
          12,
          11,
          10,
          9,
          9,
          8,
          8,
          5,
          4,
          3,
          2,
          2,
          1,
          1
         ],
         "yaxis": "y49"
        },
        {
         "mode": "lines",
         "name": "feature_49",
         "type": "scatter",
         "x": [
          0,
          1,
          2,
          3,
          4,
          5,
          6,
          7,
          8,
          9,
          10,
          11,
          12,
          13,
          14,
          15,
          16,
          17,
          18,
          19,
          20
         ],
         "xaxis": "x50",
         "y": [
          80514,
          8779,
          3694,
          2037,
          1367,
          1004,
          743,
          409,
          319,
          297,
          218,
          156,
          108,
          105,
          80,
          70,
          49,
          33,
          15,
          2,
          1
         ],
         "yaxis": "y50"
        }
       ],
       "layout": {
        "annotations": [
         {
          "font": {
           "size": 12
          },
          "showarrow": false,
          "text": "feature_0",
          "x": 0.08399999999999999,
          "xanchor": "center",
          "xref": "paper",
          "y": 1,
          "yanchor": "bottom",
          "yref": "paper"
         },
         {
          "font": {
           "size": 12
          },
          "showarrow": false,
          "text": "feature_1",
          "x": 0.292,
          "xanchor": "center",
          "xref": "paper",
          "y": 1,
          "yanchor": "bottom",
          "yref": "paper"
         },
         {
          "font": {
           "size": 12
          },
          "showarrow": false,
          "text": "feature_2",
          "x": 0.5,
          "xanchor": "center",
          "xref": "paper",
          "y": 1,
          "yanchor": "bottom",
          "yref": "paper"
         },
         {
          "font": {
           "size": 12
          },
          "showarrow": false,
          "text": "feature_3",
          "x": 0.708,
          "xanchor": "center",
          "xref": "paper",
          "y": 1,
          "yanchor": "bottom",
          "yref": "paper"
         },
         {
          "font": {
           "size": 12
          },
          "showarrow": false,
          "text": "feature_4",
          "x": 0.9159999999999999,
          "xanchor": "center",
          "xref": "paper",
          "y": 1,
          "yanchor": "bottom",
          "yref": "paper"
         },
         {
          "font": {
           "size": 12
          },
          "showarrow": false,
          "text": "feature_5",
          "x": 0.08399999999999999,
          "xanchor": "center",
          "xref": "paper",
          "y": 0.8950000000000001,
          "yanchor": "bottom",
          "yref": "paper"
         },
         {
          "font": {
           "size": 12
          },
          "showarrow": false,
          "text": "feature_6",
          "x": 0.292,
          "xanchor": "center",
          "xref": "paper",
          "y": 0.8950000000000001,
          "yanchor": "bottom",
          "yref": "paper"
         },
         {
          "font": {
           "size": 12
          },
          "showarrow": false,
          "text": "feature_7",
          "x": 0.5,
          "xanchor": "center",
          "xref": "paper",
          "y": 0.8950000000000001,
          "yanchor": "bottom",
          "yref": "paper"
         },
         {
          "font": {
           "size": 12
          },
          "showarrow": false,
          "text": "feature_8",
          "x": 0.708,
          "xanchor": "center",
          "xref": "paper",
          "y": 0.8950000000000001,
          "yanchor": "bottom",
          "yref": "paper"
         },
         {
          "font": {
           "size": 12
          },
          "showarrow": false,
          "text": "feature_9",
          "x": 0.9159999999999999,
          "xanchor": "center",
          "xref": "paper",
          "y": 0.8950000000000001,
          "yanchor": "bottom",
          "yref": "paper"
         },
         {
          "font": {
           "size": 12
          },
          "showarrow": false,
          "text": "feature_10",
          "x": 0.08399999999999999,
          "xanchor": "center",
          "xref": "paper",
          "y": 0.7900000000000001,
          "yanchor": "bottom",
          "yref": "paper"
         },
         {
          "font": {
           "size": 12
          },
          "showarrow": false,
          "text": "feature_11",
          "x": 0.292,
          "xanchor": "center",
          "xref": "paper",
          "y": 0.7900000000000001,
          "yanchor": "bottom",
          "yref": "paper"
         },
         {
          "font": {
           "size": 12
          },
          "showarrow": false,
          "text": "feature_12",
          "x": 0.5,
          "xanchor": "center",
          "xref": "paper",
          "y": 0.7900000000000001,
          "yanchor": "bottom",
          "yref": "paper"
         },
         {
          "font": {
           "size": 12
          },
          "showarrow": false,
          "text": "feature_13",
          "x": 0.708,
          "xanchor": "center",
          "xref": "paper",
          "y": 0.7900000000000001,
          "yanchor": "bottom",
          "yref": "paper"
         },
         {
          "font": {
           "size": 12
          },
          "showarrow": false,
          "text": "feature_14",
          "x": 0.9159999999999999,
          "xanchor": "center",
          "xref": "paper",
          "y": 0.7900000000000001,
          "yanchor": "bottom",
          "yref": "paper"
         },
         {
          "font": {
           "size": 12
          },
          "showarrow": false,
          "text": "feature_15",
          "x": 0.08399999999999999,
          "xanchor": "center",
          "xref": "paper",
          "y": 0.6850000000000002,
          "yanchor": "bottom",
          "yref": "paper"
         },
         {
          "font": {
           "size": 12
          },
          "showarrow": false,
          "text": "feature_16",
          "x": 0.292,
          "xanchor": "center",
          "xref": "paper",
          "y": 0.6850000000000002,
          "yanchor": "bottom",
          "yref": "paper"
         },
         {
          "font": {
           "size": 12
          },
          "showarrow": false,
          "text": "feature_17",
          "x": 0.5,
          "xanchor": "center",
          "xref": "paper",
          "y": 0.6850000000000002,
          "yanchor": "bottom",
          "yref": "paper"
         },
         {
          "font": {
           "size": 12
          },
          "showarrow": false,
          "text": "feature_18",
          "x": 0.708,
          "xanchor": "center",
          "xref": "paper",
          "y": 0.6850000000000002,
          "yanchor": "bottom",
          "yref": "paper"
         },
         {
          "font": {
           "size": 12
          },
          "showarrow": false,
          "text": "feature_19",
          "x": 0.9159999999999999,
          "xanchor": "center",
          "xref": "paper",
          "y": 0.6850000000000002,
          "yanchor": "bottom",
          "yref": "paper"
         },
         {
          "font": {
           "size": 12
          },
          "showarrow": false,
          "text": "feature_20",
          "x": 0.08399999999999999,
          "xanchor": "center",
          "xref": "paper",
          "y": 0.5800000000000001,
          "yanchor": "bottom",
          "yref": "paper"
         },
         {
          "font": {
           "size": 12
          },
          "showarrow": false,
          "text": "feature_21",
          "x": 0.292,
          "xanchor": "center",
          "xref": "paper",
          "y": 0.5800000000000001,
          "yanchor": "bottom",
          "yref": "paper"
         },
         {
          "font": {
           "size": 12
          },
          "showarrow": false,
          "text": "feature_22",
          "x": 0.5,
          "xanchor": "center",
          "xref": "paper",
          "y": 0.5800000000000001,
          "yanchor": "bottom",
          "yref": "paper"
         },
         {
          "font": {
           "size": 12
          },
          "showarrow": false,
          "text": "feature_23",
          "x": 0.708,
          "xanchor": "center",
          "xref": "paper",
          "y": 0.5800000000000001,
          "yanchor": "bottom",
          "yref": "paper"
         },
         {
          "font": {
           "size": 12
          },
          "showarrow": false,
          "text": "feature_24",
          "x": 0.9159999999999999,
          "xanchor": "center",
          "xref": "paper",
          "y": 0.5800000000000001,
          "yanchor": "bottom",
          "yref": "paper"
         },
         {
          "font": {
           "size": 12
          },
          "showarrow": false,
          "text": "feature_25",
          "x": 0.08399999999999999,
          "xanchor": "center",
          "xref": "paper",
          "y": 0.47500000000000003,
          "yanchor": "bottom",
          "yref": "paper"
         },
         {
          "font": {
           "size": 12
          },
          "showarrow": false,
          "text": "feature_26",
          "x": 0.292,
          "xanchor": "center",
          "xref": "paper",
          "y": 0.47500000000000003,
          "yanchor": "bottom",
          "yref": "paper"
         },
         {
          "font": {
           "size": 12
          },
          "showarrow": false,
          "text": "feature_27",
          "x": 0.5,
          "xanchor": "center",
          "xref": "paper",
          "y": 0.47500000000000003,
          "yanchor": "bottom",
          "yref": "paper"
         },
         {
          "font": {
           "size": 12
          },
          "showarrow": false,
          "text": "feature_28",
          "x": 0.708,
          "xanchor": "center",
          "xref": "paper",
          "y": 0.47500000000000003,
          "yanchor": "bottom",
          "yref": "paper"
         },
         {
          "font": {
           "size": 12
          },
          "showarrow": false,
          "text": "feature_29",
          "x": 0.9159999999999999,
          "xanchor": "center",
          "xref": "paper",
          "y": 0.47500000000000003,
          "yanchor": "bottom",
          "yref": "paper"
         },
         {
          "font": {
           "size": 12
          },
          "showarrow": false,
          "text": "feature_30",
          "x": 0.08399999999999999,
          "xanchor": "center",
          "xref": "paper",
          "y": 0.37000000000000005,
          "yanchor": "bottom",
          "yref": "paper"
         },
         {
          "font": {
           "size": 12
          },
          "showarrow": false,
          "text": "feature_31",
          "x": 0.292,
          "xanchor": "center",
          "xref": "paper",
          "y": 0.37000000000000005,
          "yanchor": "bottom",
          "yref": "paper"
         },
         {
          "font": {
           "size": 12
          },
          "showarrow": false,
          "text": "feature_32",
          "x": 0.5,
          "xanchor": "center",
          "xref": "paper",
          "y": 0.37000000000000005,
          "yanchor": "bottom",
          "yref": "paper"
         },
         {
          "font": {
           "size": 12
          },
          "showarrow": false,
          "text": "feature_33",
          "x": 0.708,
          "xanchor": "center",
          "xref": "paper",
          "y": 0.37000000000000005,
          "yanchor": "bottom",
          "yref": "paper"
         },
         {
          "font": {
           "size": 12
          },
          "showarrow": false,
          "text": "feature_34",
          "x": 0.9159999999999999,
          "xanchor": "center",
          "xref": "paper",
          "y": 0.37000000000000005,
          "yanchor": "bottom",
          "yref": "paper"
         },
         {
          "font": {
           "size": 12
          },
          "showarrow": false,
          "text": "feature_35",
          "x": 0.08399999999999999,
          "xanchor": "center",
          "xref": "paper",
          "y": 0.265,
          "yanchor": "bottom",
          "yref": "paper"
         },
         {
          "font": {
           "size": 12
          },
          "showarrow": false,
          "text": "feature_36",
          "x": 0.292,
          "xanchor": "center",
          "xref": "paper",
          "y": 0.265,
          "yanchor": "bottom",
          "yref": "paper"
         },
         {
          "font": {
           "size": 12
          },
          "showarrow": false,
          "text": "feature_37",
          "x": 0.5,
          "xanchor": "center",
          "xref": "paper",
          "y": 0.265,
          "yanchor": "bottom",
          "yref": "paper"
         },
         {
          "font": {
           "size": 12
          },
          "showarrow": false,
          "text": "feature_38",
          "x": 0.708,
          "xanchor": "center",
          "xref": "paper",
          "y": 0.265,
          "yanchor": "bottom",
          "yref": "paper"
         },
         {
          "font": {
           "size": 12
          },
          "showarrow": false,
          "text": "feature_39",
          "x": 0.9159999999999999,
          "xanchor": "center",
          "xref": "paper",
          "y": 0.265,
          "yanchor": "bottom",
          "yref": "paper"
         },
         {
          "font": {
           "size": 12
          },
          "showarrow": false,
          "text": "feature_40",
          "x": 0.08399999999999999,
          "xanchor": "center",
          "xref": "paper",
          "y": 0.16000000000000003,
          "yanchor": "bottom",
          "yref": "paper"
         },
         {
          "font": {
           "size": 12
          },
          "showarrow": false,
          "text": "feature_41",
          "x": 0.292,
          "xanchor": "center",
          "xref": "paper",
          "y": 0.16000000000000003,
          "yanchor": "bottom",
          "yref": "paper"
         },
         {
          "font": {
           "size": 12
          },
          "showarrow": false,
          "text": "feature_42",
          "x": 0.5,
          "xanchor": "center",
          "xref": "paper",
          "y": 0.16000000000000003,
          "yanchor": "bottom",
          "yref": "paper"
         },
         {
          "font": {
           "size": 12
          },
          "showarrow": false,
          "text": "feature_43",
          "x": 0.708,
          "xanchor": "center",
          "xref": "paper",
          "y": 0.16000000000000003,
          "yanchor": "bottom",
          "yref": "paper"
         },
         {
          "font": {
           "size": 12
          },
          "showarrow": false,
          "text": "feature_44",
          "x": 0.9159999999999999,
          "xanchor": "center",
          "xref": "paper",
          "y": 0.16000000000000003,
          "yanchor": "bottom",
          "yref": "paper"
         },
         {
          "font": {
           "size": 12
          },
          "showarrow": false,
          "text": "feature_45",
          "x": 0.08399999999999999,
          "xanchor": "center",
          "xref": "paper",
          "y": 0.05500000000000001,
          "yanchor": "bottom",
          "yref": "paper"
         },
         {
          "font": {
           "size": 12
          },
          "showarrow": false,
          "text": "feature_46",
          "x": 0.292,
          "xanchor": "center",
          "xref": "paper",
          "y": 0.05500000000000001,
          "yanchor": "bottom",
          "yref": "paper"
         },
         {
          "font": {
           "size": 12
          },
          "showarrow": false,
          "text": "feature_47",
          "x": 0.5,
          "xanchor": "center",
          "xref": "paper",
          "y": 0.05500000000000001,
          "yanchor": "bottom",
          "yref": "paper"
         },
         {
          "font": {
           "size": 12
          },
          "showarrow": false,
          "text": "feature_48",
          "x": 0.708,
          "xanchor": "center",
          "xref": "paper",
          "y": 0.05500000000000001,
          "yanchor": "bottom",
          "yref": "paper"
         },
         {
          "font": {
           "size": 12
          },
          "showarrow": false,
          "text": "feature_49",
          "x": 0.9159999999999999,
          "xanchor": "center",
          "xref": "paper",
          "y": 0.05500000000000001,
          "yanchor": "bottom",
          "yref": "paper"
         }
        ],
        "height": 1000,
        "showlegend": false,
        "template": {
         "data": {
          "bar": [
           {
            "error_x": {
             "color": "#f2f5fa"
            },
            "error_y": {
             "color": "#f2f5fa"
            },
            "marker": {
             "line": {
              "color": "rgb(17,17,17)",
              "width": 0.5
             }
            },
            "type": "bar"
           }
          ],
          "barpolar": [
           {
            "marker": {
             "line": {
              "color": "rgb(17,17,17)",
              "width": 0.5
             }
            },
            "type": "barpolar"
           }
          ],
          "carpet": [
           {
            "aaxis": {
             "endlinecolor": "#A2B1C6",
             "gridcolor": "#506784",
             "linecolor": "#506784",
             "minorgridcolor": "#506784",
             "startlinecolor": "#A2B1C6"
            },
            "baxis": {
             "endlinecolor": "#A2B1C6",
             "gridcolor": "#506784",
             "linecolor": "#506784",
             "minorgridcolor": "#506784",
             "startlinecolor": "#A2B1C6"
            },
            "type": "carpet"
           }
          ],
          "choropleth": [
           {
            "colorbar": {
             "outlinewidth": 0,
             "ticks": ""
            },
            "type": "choropleth"
           }
          ],
          "contour": [
           {
            "colorbar": {
             "outlinewidth": 0,
             "ticks": ""
            },
            "colorscale": [
             [
              0,
              "#0d0887"
             ],
             [
              0.1111111111111111,
              "#46039f"
             ],
             [
              0.2222222222222222,
              "#7201a8"
             ],
             [
              0.3333333333333333,
              "#9c179e"
             ],
             [
              0.4444444444444444,
              "#bd3786"
             ],
             [
              0.5555555555555556,
              "#d8576b"
             ],
             [
              0.6666666666666666,
              "#ed7953"
             ],
             [
              0.7777777777777778,
              "#fb9f3a"
             ],
             [
              0.8888888888888888,
              "#fdca26"
             ],
             [
              1,
              "#f0f921"
             ]
            ],
            "type": "contour"
           }
          ],
          "contourcarpet": [
           {
            "colorbar": {
             "outlinewidth": 0,
             "ticks": ""
            },
            "type": "contourcarpet"
           }
          ],
          "heatmap": [
           {
            "colorbar": {
             "outlinewidth": 0,
             "ticks": ""
            },
            "colorscale": [
             [
              0,
              "#0d0887"
             ],
             [
              0.1111111111111111,
              "#46039f"
             ],
             [
              0.2222222222222222,
              "#7201a8"
             ],
             [
              0.3333333333333333,
              "#9c179e"
             ],
             [
              0.4444444444444444,
              "#bd3786"
             ],
             [
              0.5555555555555556,
              "#d8576b"
             ],
             [
              0.6666666666666666,
              "#ed7953"
             ],
             [
              0.7777777777777778,
              "#fb9f3a"
             ],
             [
              0.8888888888888888,
              "#fdca26"
             ],
             [
              1,
              "#f0f921"
             ]
            ],
            "type": "heatmap"
           }
          ],
          "heatmapgl": [
           {
            "colorbar": {
             "outlinewidth": 0,
             "ticks": ""
            },
            "colorscale": [
             [
              0,
              "#0d0887"
             ],
             [
              0.1111111111111111,
              "#46039f"
             ],
             [
              0.2222222222222222,
              "#7201a8"
             ],
             [
              0.3333333333333333,
              "#9c179e"
             ],
             [
              0.4444444444444444,
              "#bd3786"
             ],
             [
              0.5555555555555556,
              "#d8576b"
             ],
             [
              0.6666666666666666,
              "#ed7953"
             ],
             [
              0.7777777777777778,
              "#fb9f3a"
             ],
             [
              0.8888888888888888,
              "#fdca26"
             ],
             [
              1,
              "#f0f921"
             ]
            ],
            "type": "heatmapgl"
           }
          ],
          "histogram": [
           {
            "marker": {
             "colorbar": {
              "outlinewidth": 0,
              "ticks": ""
             }
            },
            "type": "histogram"
           }
          ],
          "histogram2d": [
           {
            "colorbar": {
             "outlinewidth": 0,
             "ticks": ""
            },
            "colorscale": [
             [
              0,
              "#0d0887"
             ],
             [
              0.1111111111111111,
              "#46039f"
             ],
             [
              0.2222222222222222,
              "#7201a8"
             ],
             [
              0.3333333333333333,
              "#9c179e"
             ],
             [
              0.4444444444444444,
              "#bd3786"
             ],
             [
              0.5555555555555556,
              "#d8576b"
             ],
             [
              0.6666666666666666,
              "#ed7953"
             ],
             [
              0.7777777777777778,
              "#fb9f3a"
             ],
             [
              0.8888888888888888,
              "#fdca26"
             ],
             [
              1,
              "#f0f921"
             ]
            ],
            "type": "histogram2d"
           }
          ],
          "histogram2dcontour": [
           {
            "colorbar": {
             "outlinewidth": 0,
             "ticks": ""
            },
            "colorscale": [
             [
              0,
              "#0d0887"
             ],
             [
              0.1111111111111111,
              "#46039f"
             ],
             [
              0.2222222222222222,
              "#7201a8"
             ],
             [
              0.3333333333333333,
              "#9c179e"
             ],
             [
              0.4444444444444444,
              "#bd3786"
             ],
             [
              0.5555555555555556,
              "#d8576b"
             ],
             [
              0.6666666666666666,
              "#ed7953"
             ],
             [
              0.7777777777777778,
              "#fb9f3a"
             ],
             [
              0.8888888888888888,
              "#fdca26"
             ],
             [
              1,
              "#f0f921"
             ]
            ],
            "type": "histogram2dcontour"
           }
          ],
          "mesh3d": [
           {
            "colorbar": {
             "outlinewidth": 0,
             "ticks": ""
            },
            "type": "mesh3d"
           }
          ],
          "parcoords": [
           {
            "line": {
             "colorbar": {
              "outlinewidth": 0,
              "ticks": ""
             }
            },
            "type": "parcoords"
           }
          ],
          "pie": [
           {
            "automargin": true,
            "type": "pie"
           }
          ],
          "scatter": [
           {
            "marker": {
             "line": {
              "color": "#283442"
             }
            },
            "type": "scatter"
           }
          ],
          "scatter3d": [
           {
            "line": {
             "colorbar": {
              "outlinewidth": 0,
              "ticks": ""
             }
            },
            "marker": {
             "colorbar": {
              "outlinewidth": 0,
              "ticks": ""
             }
            },
            "type": "scatter3d"
           }
          ],
          "scattercarpet": [
           {
            "marker": {
             "colorbar": {
              "outlinewidth": 0,
              "ticks": ""
             }
            },
            "type": "scattercarpet"
           }
          ],
          "scattergeo": [
           {
            "marker": {
             "colorbar": {
              "outlinewidth": 0,
              "ticks": ""
             }
            },
            "type": "scattergeo"
           }
          ],
          "scattergl": [
           {
            "marker": {
             "line": {
              "color": "#283442"
             }
            },
            "type": "scattergl"
           }
          ],
          "scattermapbox": [
           {
            "marker": {
             "colorbar": {
              "outlinewidth": 0,
              "ticks": ""
             }
            },
            "type": "scattermapbox"
           }
          ],
          "scatterpolar": [
           {
            "marker": {
             "colorbar": {
              "outlinewidth": 0,
              "ticks": ""
             }
            },
            "type": "scatterpolar"
           }
          ],
          "scatterpolargl": [
           {
            "marker": {
             "colorbar": {
              "outlinewidth": 0,
              "ticks": ""
             }
            },
            "type": "scatterpolargl"
           }
          ],
          "scatterternary": [
           {
            "marker": {
             "colorbar": {
              "outlinewidth": 0,
              "ticks": ""
             }
            },
            "type": "scatterternary"
           }
          ],
          "surface": [
           {
            "colorbar": {
             "outlinewidth": 0,
             "ticks": ""
            },
            "colorscale": [
             [
              0,
              "#0d0887"
             ],
             [
              0.1111111111111111,
              "#46039f"
             ],
             [
              0.2222222222222222,
              "#7201a8"
             ],
             [
              0.3333333333333333,
              "#9c179e"
             ],
             [
              0.4444444444444444,
              "#bd3786"
             ],
             [
              0.5555555555555556,
              "#d8576b"
             ],
             [
              0.6666666666666666,
              "#ed7953"
             ],
             [
              0.7777777777777778,
              "#fb9f3a"
             ],
             [
              0.8888888888888888,
              "#fdca26"
             ],
             [
              1,
              "#f0f921"
             ]
            ],
            "type": "surface"
           }
          ],
          "table": [
           {
            "cells": {
             "fill": {
              "color": "#506784"
             },
             "line": {
              "color": "rgb(17,17,17)"
             }
            },
            "header": {
             "fill": {
              "color": "#2a3f5f"
             },
             "line": {
              "color": "rgb(17,17,17)"
             }
            },
            "type": "table"
           }
          ]
         },
         "layout": {
          "annotationdefaults": {
           "arrowcolor": "#f2f5fa",
           "arrowhead": 0,
           "arrowwidth": 1
          },
          "autotypenumbers": "strict",
          "coloraxis": {
           "colorbar": {
            "outlinewidth": 0,
            "ticks": ""
           }
          },
          "colorscale": {
           "diverging": [
            [
             0,
             "#8e0152"
            ],
            [
             0.1,
             "#c51b7d"
            ],
            [
             0.2,
             "#de77ae"
            ],
            [
             0.3,
             "#f1b6da"
            ],
            [
             0.4,
             "#fde0ef"
            ],
            [
             0.5,
             "#f7f7f7"
            ],
            [
             0.6,
             "#e6f5d0"
            ],
            [
             0.7,
             "#b8e186"
            ],
            [
             0.8,
             "#7fbc41"
            ],
            [
             0.9,
             "#4d9221"
            ],
            [
             1,
             "#276419"
            ]
           ],
           "sequential": [
            [
             0,
             "#0d0887"
            ],
            [
             0.1111111111111111,
             "#46039f"
            ],
            [
             0.2222222222222222,
             "#7201a8"
            ],
            [
             0.3333333333333333,
             "#9c179e"
            ],
            [
             0.4444444444444444,
             "#bd3786"
            ],
            [
             0.5555555555555556,
             "#d8576b"
            ],
            [
             0.6666666666666666,
             "#ed7953"
            ],
            [
             0.7777777777777778,
             "#fb9f3a"
            ],
            [
             0.8888888888888888,
             "#fdca26"
            ],
            [
             1,
             "#f0f921"
            ]
           ],
           "sequentialminus": [
            [
             0,
             "#0d0887"
            ],
            [
             0.1111111111111111,
             "#46039f"
            ],
            [
             0.2222222222222222,
             "#7201a8"
            ],
            [
             0.3333333333333333,
             "#9c179e"
            ],
            [
             0.4444444444444444,
             "#bd3786"
            ],
            [
             0.5555555555555556,
             "#d8576b"
            ],
            [
             0.6666666666666666,
             "#ed7953"
            ],
            [
             0.7777777777777778,
             "#fb9f3a"
            ],
            [
             0.8888888888888888,
             "#fdca26"
            ],
            [
             1,
             "#f0f921"
            ]
           ]
          },
          "colorway": [
           "#636efa",
           "#EF553B",
           "#00cc96",
           "#ab63fa",
           "#FFA15A",
           "#19d3f3",
           "#FF6692",
           "#B6E880",
           "#FF97FF",
           "#FECB52"
          ],
          "font": {
           "color": "#f2f5fa"
          },
          "geo": {
           "bgcolor": "rgb(17,17,17)",
           "lakecolor": "rgb(17,17,17)",
           "landcolor": "rgb(17,17,17)",
           "showlakes": true,
           "showland": true,
           "subunitcolor": "#506784"
          },
          "hoverlabel": {
           "align": "left"
          },
          "hovermode": "closest",
          "mapbox": {
           "style": "dark"
          },
          "paper_bgcolor": "rgb(17,17,17)",
          "plot_bgcolor": "rgb(17,17,17)",
          "polar": {
           "angularaxis": {
            "gridcolor": "#506784",
            "linecolor": "#506784",
            "ticks": ""
           },
           "bgcolor": "rgb(17,17,17)",
           "radialaxis": {
            "gridcolor": "#506784",
            "linecolor": "#506784",
            "ticks": ""
           }
          },
          "scene": {
           "xaxis": {
            "backgroundcolor": "rgb(17,17,17)",
            "gridcolor": "#506784",
            "gridwidth": 2,
            "linecolor": "#506784",
            "showbackground": true,
            "ticks": "",
            "zerolinecolor": "#C8D4E3"
           },
           "yaxis": {
            "backgroundcolor": "rgb(17,17,17)",
            "gridcolor": "#506784",
            "gridwidth": 2,
            "linecolor": "#506784",
            "showbackground": true,
            "ticks": "",
            "zerolinecolor": "#C8D4E3"
           },
           "zaxis": {
            "backgroundcolor": "rgb(17,17,17)",
            "gridcolor": "#506784",
            "gridwidth": 2,
            "linecolor": "#506784",
            "showbackground": true,
            "ticks": "",
            "zerolinecolor": "#C8D4E3"
           }
          },
          "shapedefaults": {
           "line": {
            "color": "#f2f5fa"
           }
          },
          "sliderdefaults": {
           "bgcolor": "#C8D4E3",
           "bordercolor": "rgb(17,17,17)",
           "borderwidth": 1,
           "tickwidth": 0
          },
          "ternary": {
           "aaxis": {
            "gridcolor": "#506784",
            "linecolor": "#506784",
            "ticks": ""
           },
           "baxis": {
            "gridcolor": "#506784",
            "linecolor": "#506784",
            "ticks": ""
           },
           "bgcolor": "rgb(17,17,17)",
           "caxis": {
            "gridcolor": "#506784",
            "linecolor": "#506784",
            "ticks": ""
           }
          },
          "title": {
           "x": 0.05
          },
          "updatemenudefaults": {
           "bgcolor": "#506784",
           "borderwidth": 0
          },
          "xaxis": {
           "automargin": true,
           "gridcolor": "#283442",
           "linecolor": "#506784",
           "ticks": "",
           "title": {
            "standoff": 15
           },
           "zerolinecolor": "#283442",
           "zerolinewidth": 2
          },
          "yaxis": {
           "automargin": true,
           "gridcolor": "#283442",
           "linecolor": "#506784",
           "ticks": "",
           "title": {
            "standoff": 15
           },
           "zerolinecolor": "#283442",
           "zerolinewidth": 2
          }
         }
        },
        "width": 700,
        "xaxis": {
         "anchor": "y",
         "domain": [
          0,
          0.16799999999999998
         ]
        },
        "xaxis10": {
         "anchor": "y10",
         "domain": [
          0.832,
          1
         ]
        },
        "xaxis11": {
         "anchor": "y11",
         "domain": [
          0,
          0.16799999999999998
         ]
        },
        "xaxis12": {
         "anchor": "y12",
         "domain": [
          0.208,
          0.376
         ]
        },
        "xaxis13": {
         "anchor": "y13",
         "domain": [
          0.416,
          0.584
         ]
        },
        "xaxis14": {
         "anchor": "y14",
         "domain": [
          0.624,
          0.792
         ]
        },
        "xaxis15": {
         "anchor": "y15",
         "domain": [
          0.832,
          1
         ]
        },
        "xaxis16": {
         "anchor": "y16",
         "domain": [
          0,
          0.16799999999999998
         ]
        },
        "xaxis17": {
         "anchor": "y17",
         "domain": [
          0.208,
          0.376
         ]
        },
        "xaxis18": {
         "anchor": "y18",
         "domain": [
          0.416,
          0.584
         ]
        },
        "xaxis19": {
         "anchor": "y19",
         "domain": [
          0.624,
          0.792
         ]
        },
        "xaxis2": {
         "anchor": "y2",
         "domain": [
          0.208,
          0.376
         ]
        },
        "xaxis20": {
         "anchor": "y20",
         "domain": [
          0.832,
          1
         ]
        },
        "xaxis21": {
         "anchor": "y21",
         "domain": [
          0,
          0.16799999999999998
         ]
        },
        "xaxis22": {
         "anchor": "y22",
         "domain": [
          0.208,
          0.376
         ]
        },
        "xaxis23": {
         "anchor": "y23",
         "domain": [
          0.416,
          0.584
         ]
        },
        "xaxis24": {
         "anchor": "y24",
         "domain": [
          0.624,
          0.792
         ]
        },
        "xaxis25": {
         "anchor": "y25",
         "domain": [
          0.832,
          1
         ]
        },
        "xaxis26": {
         "anchor": "y26",
         "domain": [
          0,
          0.16799999999999998
         ]
        },
        "xaxis27": {
         "anchor": "y27",
         "domain": [
          0.208,
          0.376
         ]
        },
        "xaxis28": {
         "anchor": "y28",
         "domain": [
          0.416,
          0.584
         ]
        },
        "xaxis29": {
         "anchor": "y29",
         "domain": [
          0.624,
          0.792
         ]
        },
        "xaxis3": {
         "anchor": "y3",
         "domain": [
          0.416,
          0.584
         ]
        },
        "xaxis30": {
         "anchor": "y30",
         "domain": [
          0.832,
          1
         ]
        },
        "xaxis31": {
         "anchor": "y31",
         "domain": [
          0,
          0.16799999999999998
         ]
        },
        "xaxis32": {
         "anchor": "y32",
         "domain": [
          0.208,
          0.376
         ]
        },
        "xaxis33": {
         "anchor": "y33",
         "domain": [
          0.416,
          0.584
         ]
        },
        "xaxis34": {
         "anchor": "y34",
         "domain": [
          0.624,
          0.792
         ]
        },
        "xaxis35": {
         "anchor": "y35",
         "domain": [
          0.832,
          1
         ]
        },
        "xaxis36": {
         "anchor": "y36",
         "domain": [
          0,
          0.16799999999999998
         ]
        },
        "xaxis37": {
         "anchor": "y37",
         "domain": [
          0.208,
          0.376
         ]
        },
        "xaxis38": {
         "anchor": "y38",
         "domain": [
          0.416,
          0.584
         ]
        },
        "xaxis39": {
         "anchor": "y39",
         "domain": [
          0.624,
          0.792
         ]
        },
        "xaxis4": {
         "anchor": "y4",
         "domain": [
          0.624,
          0.792
         ]
        },
        "xaxis40": {
         "anchor": "y40",
         "domain": [
          0.832,
          1
         ]
        },
        "xaxis41": {
         "anchor": "y41",
         "domain": [
          0,
          0.16799999999999998
         ]
        },
        "xaxis42": {
         "anchor": "y42",
         "domain": [
          0.208,
          0.376
         ]
        },
        "xaxis43": {
         "anchor": "y43",
         "domain": [
          0.416,
          0.584
         ]
        },
        "xaxis44": {
         "anchor": "y44",
         "domain": [
          0.624,
          0.792
         ]
        },
        "xaxis45": {
         "anchor": "y45",
         "domain": [
          0.832,
          1
         ]
        },
        "xaxis46": {
         "anchor": "y46",
         "domain": [
          0,
          0.16799999999999998
         ]
        },
        "xaxis47": {
         "anchor": "y47",
         "domain": [
          0.208,
          0.376
         ]
        },
        "xaxis48": {
         "anchor": "y48",
         "domain": [
          0.416,
          0.584
         ]
        },
        "xaxis49": {
         "anchor": "y49",
         "domain": [
          0.624,
          0.792
         ]
        },
        "xaxis5": {
         "anchor": "y5",
         "domain": [
          0.832,
          1
         ]
        },
        "xaxis50": {
         "anchor": "y50",
         "domain": [
          0.832,
          1
         ]
        },
        "xaxis6": {
         "anchor": "y6",
         "domain": [
          0,
          0.16799999999999998
         ]
        },
        "xaxis7": {
         "anchor": "y7",
         "domain": [
          0.208,
          0.376
         ]
        },
        "xaxis8": {
         "anchor": "y8",
         "domain": [
          0.416,
          0.584
         ]
        },
        "xaxis9": {
         "anchor": "y9",
         "domain": [
          0.624,
          0.792
         ]
        },
        "yaxis": {
         "anchor": "x",
         "domain": [
          0.9450000000000001,
          1
         ],
         "showticklabels": false,
         "title": {
          "text": "y"
         },
         "visible": false
        },
        "yaxis10": {
         "anchor": "x10",
         "domain": [
          0.8400000000000001,
          0.8950000000000001
         ],
         "showticklabels": false,
         "title": {
          "text": "y"
         },
         "visible": false
        },
        "yaxis11": {
         "anchor": "x11",
         "domain": [
          0.7350000000000001,
          0.7900000000000001
         ],
         "showticklabels": false,
         "title": {
          "text": "y"
         },
         "visible": false
        },
        "yaxis12": {
         "anchor": "x12",
         "domain": [
          0.7350000000000001,
          0.7900000000000001
         ],
         "showticklabels": false,
         "title": {
          "text": "y"
         },
         "visible": false
        },
        "yaxis13": {
         "anchor": "x13",
         "domain": [
          0.7350000000000001,
          0.7900000000000001
         ],
         "showticklabels": false,
         "title": {
          "text": "y"
         },
         "visible": false
        },
        "yaxis14": {
         "anchor": "x14",
         "domain": [
          0.7350000000000001,
          0.7900000000000001
         ],
         "showticklabels": false,
         "title": {
          "text": "y"
         },
         "visible": false
        },
        "yaxis15": {
         "anchor": "x15",
         "domain": [
          0.7350000000000001,
          0.7900000000000001
         ],
         "showticklabels": false,
         "title": {
          "text": "y"
         },
         "visible": false
        },
        "yaxis16": {
         "anchor": "x16",
         "domain": [
          0.6300000000000001,
          0.6850000000000002
         ],
         "showticklabels": false,
         "title": {
          "text": "y"
         },
         "visible": false
        },
        "yaxis17": {
         "anchor": "x17",
         "domain": [
          0.6300000000000001,
          0.6850000000000002
         ],
         "showticklabels": false,
         "title": {
          "text": "y"
         },
         "visible": false
        },
        "yaxis18": {
         "anchor": "x18",
         "domain": [
          0.6300000000000001,
          0.6850000000000002
         ],
         "showticklabels": false,
         "title": {
          "text": "y"
         },
         "visible": false
        },
        "yaxis19": {
         "anchor": "x19",
         "domain": [
          0.6300000000000001,
          0.6850000000000002
         ],
         "showticklabels": false,
         "title": {
          "text": "y"
         },
         "visible": false
        },
        "yaxis2": {
         "anchor": "x2",
         "domain": [
          0.9450000000000001,
          1
         ],
         "showticklabels": false,
         "title": {
          "text": "y"
         },
         "visible": false
        },
        "yaxis20": {
         "anchor": "x20",
         "domain": [
          0.6300000000000001,
          0.6850000000000002
         ],
         "showticklabels": false,
         "title": {
          "text": "y"
         },
         "visible": false
        },
        "yaxis21": {
         "anchor": "x21",
         "domain": [
          0.525,
          0.5800000000000001
         ],
         "showticklabels": false,
         "title": {
          "text": "y"
         },
         "visible": false
        },
        "yaxis22": {
         "anchor": "x22",
         "domain": [
          0.525,
          0.5800000000000001
         ],
         "showticklabels": false,
         "title": {
          "text": "y"
         },
         "visible": false
        },
        "yaxis23": {
         "anchor": "x23",
         "domain": [
          0.525,
          0.5800000000000001
         ],
         "showticklabels": false,
         "title": {
          "text": "y"
         },
         "visible": false
        },
        "yaxis24": {
         "anchor": "x24",
         "domain": [
          0.525,
          0.5800000000000001
         ],
         "showticklabels": false,
         "title": {
          "text": "y"
         },
         "visible": false
        },
        "yaxis25": {
         "anchor": "x25",
         "domain": [
          0.525,
          0.5800000000000001
         ],
         "showticklabels": false,
         "title": {
          "text": "y"
         },
         "visible": false
        },
        "yaxis26": {
         "anchor": "x26",
         "domain": [
          0.42000000000000004,
          0.47500000000000003
         ],
         "showticklabels": false,
         "title": {
          "text": "y"
         },
         "visible": false
        },
        "yaxis27": {
         "anchor": "x27",
         "domain": [
          0.42000000000000004,
          0.47500000000000003
         ],
         "showticklabels": false,
         "title": {
          "text": "y"
         },
         "visible": false
        },
        "yaxis28": {
         "anchor": "x28",
         "domain": [
          0.42000000000000004,
          0.47500000000000003
         ],
         "showticklabels": false,
         "title": {
          "text": "y"
         },
         "visible": false
        },
        "yaxis29": {
         "anchor": "x29",
         "domain": [
          0.42000000000000004,
          0.47500000000000003
         ],
         "showticklabels": false,
         "title": {
          "text": "y"
         },
         "visible": false
        },
        "yaxis3": {
         "anchor": "x3",
         "domain": [
          0.9450000000000001,
          1
         ],
         "showticklabels": false,
         "title": {
          "text": "y"
         },
         "visible": false
        },
        "yaxis30": {
         "anchor": "x30",
         "domain": [
          0.42000000000000004,
          0.47500000000000003
         ],
         "showticklabels": false,
         "title": {
          "text": "y"
         },
         "visible": false
        },
        "yaxis31": {
         "anchor": "x31",
         "domain": [
          0.31500000000000006,
          0.37000000000000005
         ],
         "showticklabels": false,
         "title": {
          "text": "y"
         },
         "visible": false
        },
        "yaxis32": {
         "anchor": "x32",
         "domain": [
          0.31500000000000006,
          0.37000000000000005
         ],
         "showticklabels": false,
         "title": {
          "text": "y"
         },
         "visible": false
        },
        "yaxis33": {
         "anchor": "x33",
         "domain": [
          0.31500000000000006,
          0.37000000000000005
         ],
         "showticklabels": false,
         "title": {
          "text": "y"
         },
         "visible": false
        },
        "yaxis34": {
         "anchor": "x34",
         "domain": [
          0.31500000000000006,
          0.37000000000000005
         ],
         "showticklabels": false,
         "title": {
          "text": "y"
         },
         "visible": false
        },
        "yaxis35": {
         "anchor": "x35",
         "domain": [
          0.31500000000000006,
          0.37000000000000005
         ],
         "showticklabels": false,
         "title": {
          "text": "y"
         },
         "visible": false
        },
        "yaxis36": {
         "anchor": "x36",
         "domain": [
          0.21000000000000002,
          0.265
         ],
         "showticklabels": false,
         "title": {
          "text": "y"
         },
         "visible": false
        },
        "yaxis37": {
         "anchor": "x37",
         "domain": [
          0.21000000000000002,
          0.265
         ],
         "showticklabels": false,
         "title": {
          "text": "y"
         },
         "visible": false
        },
        "yaxis38": {
         "anchor": "x38",
         "domain": [
          0.21000000000000002,
          0.265
         ],
         "showticklabels": false,
         "title": {
          "text": "y"
         },
         "visible": false
        },
        "yaxis39": {
         "anchor": "x39",
         "domain": [
          0.21000000000000002,
          0.265
         ],
         "showticklabels": false,
         "title": {
          "text": "y"
         },
         "visible": false
        },
        "yaxis4": {
         "anchor": "x4",
         "domain": [
          0.9450000000000001,
          1
         ],
         "showticklabels": false,
         "title": {
          "text": "y"
         },
         "visible": false
        },
        "yaxis40": {
         "anchor": "x40",
         "domain": [
          0.21000000000000002,
          0.265
         ],
         "showticklabels": false,
         "title": {
          "text": "y"
         },
         "visible": false
        },
        "yaxis41": {
         "anchor": "x41",
         "domain": [
          0.10500000000000001,
          0.16000000000000003
         ],
         "showticklabels": false,
         "title": {
          "text": "y"
         },
         "visible": false
        },
        "yaxis42": {
         "anchor": "x42",
         "domain": [
          0.10500000000000001,
          0.16000000000000003
         ],
         "showticklabels": false,
         "title": {
          "text": "y"
         },
         "visible": false
        },
        "yaxis43": {
         "anchor": "x43",
         "domain": [
          0.10500000000000001,
          0.16000000000000003
         ],
         "showticklabels": false,
         "title": {
          "text": "y"
         },
         "visible": false
        },
        "yaxis44": {
         "anchor": "x44",
         "domain": [
          0.10500000000000001,
          0.16000000000000003
         ],
         "showticklabels": false,
         "title": {
          "text": "y"
         },
         "visible": false
        },
        "yaxis45": {
         "anchor": "x45",
         "domain": [
          0.10500000000000001,
          0.16000000000000003
         ],
         "showticklabels": false,
         "title": {
          "text": "y"
         },
         "visible": false
        },
        "yaxis46": {
         "anchor": "x46",
         "domain": [
          0,
          0.05500000000000001
         ],
         "showticklabels": false,
         "title": {
          "text": "y"
         },
         "visible": false
        },
        "yaxis47": {
         "anchor": "x47",
         "domain": [
          0,
          0.05500000000000001
         ],
         "showticklabels": false,
         "title": {
          "text": "y"
         },
         "visible": false
        },
        "yaxis48": {
         "anchor": "x48",
         "domain": [
          0,
          0.05500000000000001
         ],
         "showticklabels": false,
         "title": {
          "text": "y"
         },
         "visible": false
        },
        "yaxis49": {
         "anchor": "x49",
         "domain": [
          0,
          0.05500000000000001
         ],
         "showticklabels": false,
         "title": {
          "text": "y"
         },
         "visible": false
        },
        "yaxis5": {
         "anchor": "x5",
         "domain": [
          0.9450000000000001,
          1
         ],
         "showticklabels": false,
         "title": {
          "text": "y"
         },
         "visible": false
        },
        "yaxis50": {
         "anchor": "x50",
         "domain": [
          0,
          0.05500000000000001
         ],
         "showticklabels": false,
         "title": {
          "text": "y"
         },
         "visible": false
        },
        "yaxis6": {
         "anchor": "x6",
         "domain": [
          0.8400000000000001,
          0.8950000000000001
         ],
         "showticklabels": false,
         "title": {
          "text": "y"
         },
         "visible": false
        },
        "yaxis7": {
         "anchor": "x7",
         "domain": [
          0.8400000000000001,
          0.8950000000000001
         ],
         "showticklabels": false,
         "title": {
          "text": "y"
         },
         "visible": false
        },
        "yaxis8": {
         "anchor": "x8",
         "domain": [
          0.8400000000000001,
          0.8950000000000001
         ],
         "showticklabels": false,
         "title": {
          "text": "y"
         },
         "visible": false
        },
        "yaxis9": {
         "anchor": "x9",
         "domain": [
          0.8400000000000001,
          0.8950000000000001
         ],
         "showticklabels": false,
         "title": {
          "text": "y"
         },
         "visible": false
        }
       }
      }
     },
     "metadata": {}
    }
   ],
   "source": [
    "fig = make_subplots(\n",
    "    rows=10,\n",
    "    cols=5,\n",
    "    subplot_titles=data_train.columns,\n",
    ")\n",
    "\n",
    "# Add traces\n",
    "columns = data_train.drop('target', axis=1).columns.tolist()\n",
    "\n",
    "for row in range(10):\n",
    "    for col in range(5):\n",
    "        column = columns.pop(0)\n",
    "        to_plot = data_train[column].value_counts()\n",
    "\n",
    "        fig.add_trace(go.Scatter(\n",
    "            x = to_plot.index,\n",
    "            y = to_plot.values,\n",
    "            name = column,\n",
    "            mode='lines'\n",
    "        ), col=col+1, row=row+1)\n",
    "\n",
    "        fig.update_yaxes(title='y', visible=False, showticklabels=False)\n",
    "\n",
    "        if(col+1 == 5):\n",
    "            break\n",
    "\n",
    "fig.update_layout(\n",
    "    height=1000,\n",
    "    width=700,\n",
    "    showlegend=False,\n",
    "    template='plotly_dark',\n",
    ")\n",
    "fig.update_annotations(font_size=12)"
   ]
  },
  {
   "source": [
    "There is a lot of zero values in every feature. I'm curious how much of dataset is filled with them."
   ],
   "cell_type": "markdown",
   "metadata": {}
  },
  {
   "cell_type": "code",
   "execution_count": 11,
   "metadata": {},
   "outputs": [
    {
     "output_type": "display_data",
     "data": {
      "application/vnd.plotly.v1+json": {
       "config": {
        "plotlyServerURL": "https://plot.ly"
       },
       "data": [
        {
         "marker": {
          "color": [
           88473,
           89014,
           93492,
           78107,
           88381,
           90247,
           80875,
           65560,
           80046,
           66927,
           86390,
           78382,
           77414,
           94912,
           41753,
           52996,
           85681,
           75778,
           75009,
           74665,
           88182,
           79272,
           87150,
           83021,
           67716,
           81226,
           88161,
           91241,
           56269,
           91351,
           86421,
           67896,
           90417,
           84413,
           63959,
           75885,
           91136,
           80825,
           42216,
           87238,
           73953,
           80259,
           83466,
           84299,
           93251,
           87289,
           86108,
           85268,
           67780,
           80514
          ],
          "colorscale": [
           [
            0,
            "rgb(252,251,253)"
           ],
           [
            0.125,
            "rgb(239,237,245)"
           ],
           [
            0.25,
            "rgb(218,218,235)"
           ],
           [
            0.375,
            "rgb(188,189,220)"
           ],
           [
            0.5,
            "rgb(158,154,200)"
           ],
           [
            0.625,
            "rgb(128,125,186)"
           ],
           [
            0.75,
            "rgb(106,81,163)"
           ],
           [
            0.875,
            "rgb(84,39,143)"
           ],
           [
            1,
            "rgb(63,0,125)"
           ]
          ]
         },
         "orientation": "h",
         "text": [
          88.47,
          89.01,
          93.49,
          78.11,
          88.38,
          90.25,
          80.88,
          65.56,
          80.05,
          66.93,
          86.39,
          78.38,
          77.41,
          94.91,
          41.75,
          53,
          85.68,
          75.78,
          75.01,
          74.67,
          88.18,
          79.27,
          87.15,
          83.02,
          67.72,
          81.23,
          88.16,
          91.24,
          56.27,
          91.35,
          86.42,
          67.9,
          90.42,
          84.41,
          63.96,
          75.89,
          91.14,
          80.82,
          42.22,
          87.24,
          73.95,
          80.26,
          83.47,
          84.3,
          93.25,
          87.29,
          86.11,
          85.27,
          67.78,
          80.51
         ],
         "textposition": "outside",
         "type": "bar",
         "x": [
          88473,
          89014,
          93492,
          78107,
          88381,
          90247,
          80875,
          65560,
          80046,
          66927,
          86390,
          78382,
          77414,
          94912,
          41753,
          52996,
          85681,
          75778,
          75009,
          74665,
          88182,
          79272,
          87150,
          83021,
          67716,
          81226,
          88161,
          91241,
          56269,
          91351,
          86421,
          67896,
          90417,
          84413,
          63959,
          75885,
          91136,
          80825,
          42216,
          87238,
          73953,
          80259,
          83466,
          84299,
          93251,
          87289,
          86108,
          85268,
          67780,
          80514
         ],
         "y": [
          "feature_0",
          "feature_1",
          "feature_2",
          "feature_3",
          "feature_4",
          "feature_5",
          "feature_6",
          "feature_7",
          "feature_8",
          "feature_9",
          "feature_10",
          "feature_11",
          "feature_12",
          "feature_13",
          "feature_14",
          "feature_15",
          "feature_16",
          "feature_17",
          "feature_18",
          "feature_19",
          "feature_20",
          "feature_21",
          "feature_22",
          "feature_23",
          "feature_24",
          "feature_25",
          "feature_26",
          "feature_27",
          "feature_28",
          "feature_29",
          "feature_30",
          "feature_31",
          "feature_32",
          "feature_33",
          "feature_34",
          "feature_35",
          "feature_36",
          "feature_37",
          "feature_38",
          "feature_39",
          "feature_40",
          "feature_41",
          "feature_42",
          "feature_43",
          "feature_44",
          "feature_45",
          "feature_46",
          "feature_47",
          "feature_48",
          "feature_49"
         ]
        }
       ],
       "layout": {
        "height": 1000,
        "template": {
         "data": {
          "bar": [
           {
            "error_x": {
             "color": "#f2f5fa"
            },
            "error_y": {
             "color": "#f2f5fa"
            },
            "marker": {
             "line": {
              "color": "rgb(17,17,17)",
              "width": 0.5
             }
            },
            "type": "bar"
           }
          ],
          "barpolar": [
           {
            "marker": {
             "line": {
              "color": "rgb(17,17,17)",
              "width": 0.5
             }
            },
            "type": "barpolar"
           }
          ],
          "carpet": [
           {
            "aaxis": {
             "endlinecolor": "#A2B1C6",
             "gridcolor": "#506784",
             "linecolor": "#506784",
             "minorgridcolor": "#506784",
             "startlinecolor": "#A2B1C6"
            },
            "baxis": {
             "endlinecolor": "#A2B1C6",
             "gridcolor": "#506784",
             "linecolor": "#506784",
             "minorgridcolor": "#506784",
             "startlinecolor": "#A2B1C6"
            },
            "type": "carpet"
           }
          ],
          "choropleth": [
           {
            "colorbar": {
             "outlinewidth": 0,
             "ticks": ""
            },
            "type": "choropleth"
           }
          ],
          "contour": [
           {
            "colorbar": {
             "outlinewidth": 0,
             "ticks": ""
            },
            "colorscale": [
             [
              0,
              "#0d0887"
             ],
             [
              0.1111111111111111,
              "#46039f"
             ],
             [
              0.2222222222222222,
              "#7201a8"
             ],
             [
              0.3333333333333333,
              "#9c179e"
             ],
             [
              0.4444444444444444,
              "#bd3786"
             ],
             [
              0.5555555555555556,
              "#d8576b"
             ],
             [
              0.6666666666666666,
              "#ed7953"
             ],
             [
              0.7777777777777778,
              "#fb9f3a"
             ],
             [
              0.8888888888888888,
              "#fdca26"
             ],
             [
              1,
              "#f0f921"
             ]
            ],
            "type": "contour"
           }
          ],
          "contourcarpet": [
           {
            "colorbar": {
             "outlinewidth": 0,
             "ticks": ""
            },
            "type": "contourcarpet"
           }
          ],
          "heatmap": [
           {
            "colorbar": {
             "outlinewidth": 0,
             "ticks": ""
            },
            "colorscale": [
             [
              0,
              "#0d0887"
             ],
             [
              0.1111111111111111,
              "#46039f"
             ],
             [
              0.2222222222222222,
              "#7201a8"
             ],
             [
              0.3333333333333333,
              "#9c179e"
             ],
             [
              0.4444444444444444,
              "#bd3786"
             ],
             [
              0.5555555555555556,
              "#d8576b"
             ],
             [
              0.6666666666666666,
              "#ed7953"
             ],
             [
              0.7777777777777778,
              "#fb9f3a"
             ],
             [
              0.8888888888888888,
              "#fdca26"
             ],
             [
              1,
              "#f0f921"
             ]
            ],
            "type": "heatmap"
           }
          ],
          "heatmapgl": [
           {
            "colorbar": {
             "outlinewidth": 0,
             "ticks": ""
            },
            "colorscale": [
             [
              0,
              "#0d0887"
             ],
             [
              0.1111111111111111,
              "#46039f"
             ],
             [
              0.2222222222222222,
              "#7201a8"
             ],
             [
              0.3333333333333333,
              "#9c179e"
             ],
             [
              0.4444444444444444,
              "#bd3786"
             ],
             [
              0.5555555555555556,
              "#d8576b"
             ],
             [
              0.6666666666666666,
              "#ed7953"
             ],
             [
              0.7777777777777778,
              "#fb9f3a"
             ],
             [
              0.8888888888888888,
              "#fdca26"
             ],
             [
              1,
              "#f0f921"
             ]
            ],
            "type": "heatmapgl"
           }
          ],
          "histogram": [
           {
            "marker": {
             "colorbar": {
              "outlinewidth": 0,
              "ticks": ""
             }
            },
            "type": "histogram"
           }
          ],
          "histogram2d": [
           {
            "colorbar": {
             "outlinewidth": 0,
             "ticks": ""
            },
            "colorscale": [
             [
              0,
              "#0d0887"
             ],
             [
              0.1111111111111111,
              "#46039f"
             ],
             [
              0.2222222222222222,
              "#7201a8"
             ],
             [
              0.3333333333333333,
              "#9c179e"
             ],
             [
              0.4444444444444444,
              "#bd3786"
             ],
             [
              0.5555555555555556,
              "#d8576b"
             ],
             [
              0.6666666666666666,
              "#ed7953"
             ],
             [
              0.7777777777777778,
              "#fb9f3a"
             ],
             [
              0.8888888888888888,
              "#fdca26"
             ],
             [
              1,
              "#f0f921"
             ]
            ],
            "type": "histogram2d"
           }
          ],
          "histogram2dcontour": [
           {
            "colorbar": {
             "outlinewidth": 0,
             "ticks": ""
            },
            "colorscale": [
             [
              0,
              "#0d0887"
             ],
             [
              0.1111111111111111,
              "#46039f"
             ],
             [
              0.2222222222222222,
              "#7201a8"
             ],
             [
              0.3333333333333333,
              "#9c179e"
             ],
             [
              0.4444444444444444,
              "#bd3786"
             ],
             [
              0.5555555555555556,
              "#d8576b"
             ],
             [
              0.6666666666666666,
              "#ed7953"
             ],
             [
              0.7777777777777778,
              "#fb9f3a"
             ],
             [
              0.8888888888888888,
              "#fdca26"
             ],
             [
              1,
              "#f0f921"
             ]
            ],
            "type": "histogram2dcontour"
           }
          ],
          "mesh3d": [
           {
            "colorbar": {
             "outlinewidth": 0,
             "ticks": ""
            },
            "type": "mesh3d"
           }
          ],
          "parcoords": [
           {
            "line": {
             "colorbar": {
              "outlinewidth": 0,
              "ticks": ""
             }
            },
            "type": "parcoords"
           }
          ],
          "pie": [
           {
            "automargin": true,
            "type": "pie"
           }
          ],
          "scatter": [
           {
            "marker": {
             "line": {
              "color": "#283442"
             }
            },
            "type": "scatter"
           }
          ],
          "scatter3d": [
           {
            "line": {
             "colorbar": {
              "outlinewidth": 0,
              "ticks": ""
             }
            },
            "marker": {
             "colorbar": {
              "outlinewidth": 0,
              "ticks": ""
             }
            },
            "type": "scatter3d"
           }
          ],
          "scattercarpet": [
           {
            "marker": {
             "colorbar": {
              "outlinewidth": 0,
              "ticks": ""
             }
            },
            "type": "scattercarpet"
           }
          ],
          "scattergeo": [
           {
            "marker": {
             "colorbar": {
              "outlinewidth": 0,
              "ticks": ""
             }
            },
            "type": "scattergeo"
           }
          ],
          "scattergl": [
           {
            "marker": {
             "line": {
              "color": "#283442"
             }
            },
            "type": "scattergl"
           }
          ],
          "scattermapbox": [
           {
            "marker": {
             "colorbar": {
              "outlinewidth": 0,
              "ticks": ""
             }
            },
            "type": "scattermapbox"
           }
          ],
          "scatterpolar": [
           {
            "marker": {
             "colorbar": {
              "outlinewidth": 0,
              "ticks": ""
             }
            },
            "type": "scatterpolar"
           }
          ],
          "scatterpolargl": [
           {
            "marker": {
             "colorbar": {
              "outlinewidth": 0,
              "ticks": ""
             }
            },
            "type": "scatterpolargl"
           }
          ],
          "scatterternary": [
           {
            "marker": {
             "colorbar": {
              "outlinewidth": 0,
              "ticks": ""
             }
            },
            "type": "scatterternary"
           }
          ],
          "surface": [
           {
            "colorbar": {
             "outlinewidth": 0,
             "ticks": ""
            },
            "colorscale": [
             [
              0,
              "#0d0887"
             ],
             [
              0.1111111111111111,
              "#46039f"
             ],
             [
              0.2222222222222222,
              "#7201a8"
             ],
             [
              0.3333333333333333,
              "#9c179e"
             ],
             [
              0.4444444444444444,
              "#bd3786"
             ],
             [
              0.5555555555555556,
              "#d8576b"
             ],
             [
              0.6666666666666666,
              "#ed7953"
             ],
             [
              0.7777777777777778,
              "#fb9f3a"
             ],
             [
              0.8888888888888888,
              "#fdca26"
             ],
             [
              1,
              "#f0f921"
             ]
            ],
            "type": "surface"
           }
          ],
          "table": [
           {
            "cells": {
             "fill": {
              "color": "#506784"
             },
             "line": {
              "color": "rgb(17,17,17)"
             }
            },
            "header": {
             "fill": {
              "color": "#2a3f5f"
             },
             "line": {
              "color": "rgb(17,17,17)"
             }
            },
            "type": "table"
           }
          ]
         },
         "layout": {
          "annotationdefaults": {
           "arrowcolor": "#f2f5fa",
           "arrowhead": 0,
           "arrowwidth": 1
          },
          "autotypenumbers": "strict",
          "coloraxis": {
           "colorbar": {
            "outlinewidth": 0,
            "ticks": ""
           }
          },
          "colorscale": {
           "diverging": [
            [
             0,
             "#8e0152"
            ],
            [
             0.1,
             "#c51b7d"
            ],
            [
             0.2,
             "#de77ae"
            ],
            [
             0.3,
             "#f1b6da"
            ],
            [
             0.4,
             "#fde0ef"
            ],
            [
             0.5,
             "#f7f7f7"
            ],
            [
             0.6,
             "#e6f5d0"
            ],
            [
             0.7,
             "#b8e186"
            ],
            [
             0.8,
             "#7fbc41"
            ],
            [
             0.9,
             "#4d9221"
            ],
            [
             1,
             "#276419"
            ]
           ],
           "sequential": [
            [
             0,
             "#0d0887"
            ],
            [
             0.1111111111111111,
             "#46039f"
            ],
            [
             0.2222222222222222,
             "#7201a8"
            ],
            [
             0.3333333333333333,
             "#9c179e"
            ],
            [
             0.4444444444444444,
             "#bd3786"
            ],
            [
             0.5555555555555556,
             "#d8576b"
            ],
            [
             0.6666666666666666,
             "#ed7953"
            ],
            [
             0.7777777777777778,
             "#fb9f3a"
            ],
            [
             0.8888888888888888,
             "#fdca26"
            ],
            [
             1,
             "#f0f921"
            ]
           ],
           "sequentialminus": [
            [
             0,
             "#0d0887"
            ],
            [
             0.1111111111111111,
             "#46039f"
            ],
            [
             0.2222222222222222,
             "#7201a8"
            ],
            [
             0.3333333333333333,
             "#9c179e"
            ],
            [
             0.4444444444444444,
             "#bd3786"
            ],
            [
             0.5555555555555556,
             "#d8576b"
            ],
            [
             0.6666666666666666,
             "#ed7953"
            ],
            [
             0.7777777777777778,
             "#fb9f3a"
            ],
            [
             0.8888888888888888,
             "#fdca26"
            ],
            [
             1,
             "#f0f921"
            ]
           ]
          },
          "colorway": [
           "#636efa",
           "#EF553B",
           "#00cc96",
           "#ab63fa",
           "#FFA15A",
           "#19d3f3",
           "#FF6692",
           "#B6E880",
           "#FF97FF",
           "#FECB52"
          ],
          "font": {
           "color": "#f2f5fa"
          },
          "geo": {
           "bgcolor": "rgb(17,17,17)",
           "lakecolor": "rgb(17,17,17)",
           "landcolor": "rgb(17,17,17)",
           "showlakes": true,
           "showland": true,
           "subunitcolor": "#506784"
          },
          "hoverlabel": {
           "align": "left"
          },
          "hovermode": "closest",
          "mapbox": {
           "style": "dark"
          },
          "paper_bgcolor": "rgb(17,17,17)",
          "plot_bgcolor": "rgb(17,17,17)",
          "polar": {
           "angularaxis": {
            "gridcolor": "#506784",
            "linecolor": "#506784",
            "ticks": ""
           },
           "bgcolor": "rgb(17,17,17)",
           "radialaxis": {
            "gridcolor": "#506784",
            "linecolor": "#506784",
            "ticks": ""
           }
          },
          "scene": {
           "xaxis": {
            "backgroundcolor": "rgb(17,17,17)",
            "gridcolor": "#506784",
            "gridwidth": 2,
            "linecolor": "#506784",
            "showbackground": true,
            "ticks": "",
            "zerolinecolor": "#C8D4E3"
           },
           "yaxis": {
            "backgroundcolor": "rgb(17,17,17)",
            "gridcolor": "#506784",
            "gridwidth": 2,
            "linecolor": "#506784",
            "showbackground": true,
            "ticks": "",
            "zerolinecolor": "#C8D4E3"
           },
           "zaxis": {
            "backgroundcolor": "rgb(17,17,17)",
            "gridcolor": "#506784",
            "gridwidth": 2,
            "linecolor": "#506784",
            "showbackground": true,
            "ticks": "",
            "zerolinecolor": "#C8D4E3"
           }
          },
          "shapedefaults": {
           "line": {
            "color": "#f2f5fa"
           }
          },
          "sliderdefaults": {
           "bgcolor": "#C8D4E3",
           "bordercolor": "rgb(17,17,17)",
           "borderwidth": 1,
           "tickwidth": 0
          },
          "ternary": {
           "aaxis": {
            "gridcolor": "#506784",
            "linecolor": "#506784",
            "ticks": ""
           },
           "baxis": {
            "gridcolor": "#506784",
            "linecolor": "#506784",
            "ticks": ""
           },
           "bgcolor": "rgb(17,17,17)",
           "caxis": {
            "gridcolor": "#506784",
            "linecolor": "#506784",
            "ticks": ""
           }
          },
          "title": {
           "x": 0.05
          },
          "updatemenudefaults": {
           "bgcolor": "#506784",
           "borderwidth": 0
          },
          "xaxis": {
           "automargin": true,
           "gridcolor": "#283442",
           "linecolor": "#506784",
           "ticks": "",
           "title": {
            "standoff": 15
           },
           "zerolinecolor": "#283442",
           "zerolinewidth": 2
          },
          "yaxis": {
           "automargin": true,
           "gridcolor": "#283442",
           "linecolor": "#506784",
           "ticks": "",
           "title": {
            "standoff": 15
           },
           "zerolinecolor": "#283442",
           "zerolinewidth": 2
          }
         }
        },
        "title": {
         "text": "Percent of zeros in every column"
        },
        "width": 700
       }
      }
     },
     "metadata": {}
    }
   ],
   "source": [
    "to_plot = data_train.drop('target', axis=1).isin([0]).sum(axis=0)\n",
    "percent = np.array(to_plot)/100000 * 100\n",
    "\n",
    "fig = go.Figure()\n",
    "\n",
    "fig.add_trace(go.Bar(\n",
    "    x = to_plot.values,\n",
    "    y = to_plot.index,\n",
    "    orientation='h',\n",
    "    text = np.round(percent, 2),\n",
    "    textposition='outside',\n",
    "    marker={\n",
    "        'color': to_plot.values,\n",
    "        'colorscale': 'Purples',\n",
    "\n",
    "    }\n",
    "))\n",
    "\n",
    "fig.update_layout(\n",
    "    height=1000,\n",
    "    width=700,\n",
    "    template='plotly_dark',\n",
    "    title_text='Percent of zeros in every column'\n",
    ")"
   ]
  },
  {
   "source": [
    "<h3>Correlation</h3>"
   ],
   "cell_type": "markdown",
   "metadata": {}
  },
  {
   "cell_type": "code",
   "execution_count": 12,
   "metadata": {},
   "outputs": [
    {
     "output_type": "display_data",
     "data": {
      "text/plain": "<Figure size 576x864 with 2 Axes>",
      "image/svg+xml": "<?xml version=\"1.0\" encoding=\"utf-8\" standalone=\"no\"?>\r\n<!DOCTYPE svg PUBLIC \"-//W3C//DTD SVG 1.1//EN\"\r\n  \"http://www.w3.org/Graphics/SVG/1.1/DTD/svg11.dtd\">\r\n<!-- Created with matplotlib (https://matplotlib.org/) -->\r\n<svg height=\"713.075312pt\" version=\"1.1\" viewBox=\"0 0 524.92475 713.075312\" width=\"524.92475pt\" xmlns=\"http://www.w3.org/2000/svg\" xmlns:xlink=\"http://www.w3.org/1999/xlink\">\r\n <metadata>\r\n  <rdf:RDF xmlns:cc=\"http://creativecommons.org/ns#\" xmlns:dc=\"http://purl.org/dc/elements/1.1/\" xmlns:rdf=\"http://www.w3.org/1999/02/22-rdf-syntax-ns#\">\r\n   <cc:Work>\r\n    <dc:type rdf:resource=\"http://purl.org/dc/dcmitype/StillImage\"/>\r\n    <dc:date>2021-05-04T11:43:11.133816</dc:date>\r\n    <dc:format>image/svg+xml</dc:format>\r\n    <dc:creator>\r\n     <cc:Agent>\r\n      <dc:title>Matplotlib v3.3.4, https://matplotlib.org/</dc:title>\r\n     </cc:Agent>\r\n    </dc:creator>\r\n   </cc:Work>\r\n  </rdf:RDF>\r\n </metadata>\r\n <defs>\r\n  <style type=\"text/css\">*{stroke-linecap:butt;stroke-linejoin:round;}</style>\r\n </defs>\r\n <g id=\"figure_1\">\r\n  <g id=\"patch_1\">\r\n   <path d=\"M 0 713.075312 \r\nL 524.92475 713.075312 \r\nL 524.92475 0 \r\nL 0 0 \r\nz\r\n\" style=\"fill:none;\"/>\r\n  </g>\r\n  <g id=\"axes_1\">\r\n   <g id=\"patch_2\">\r\n    <path d=\"M 68.023438 689.197187 \r\nL 425.143438 689.197187 \r\nL 425.143438 36.877187 \r\nL 68.023438 36.877187 \r\nz\r\n\" style=\"fill:#ffffff;\"/>\r\n   </g>\r\n   <g id=\"QuadMesh_1\">\r\n    <path clip-path=\"url(#p038be71c91)\" d=\"M 68.023438 36.877187 \r\nL 425.143438 36.877187 \r\nL 425.143438 49.667776 \r\nL 68.023438 49.667776 \r\nL 68.023438 36.877187 \r\n\" style=\"fill:#3f007d;\"/>\r\n    <path clip-path=\"url(#p038be71c91)\" d=\"M 68.023438 49.667776 \r\nL 425.143438 49.667776 \r\nL 425.143438 62.458364 \r\nL 68.023438 62.458364 \r\nL 68.023438 49.667776 \r\n\" style=\"fill:#9d99c7;\"/>\r\n    <path clip-path=\"url(#p038be71c91)\" d=\"M 68.023438 62.458364 \r\nL 425.143438 62.458364 \r\nL 425.143438 75.248952 \r\nL 68.023438 75.248952 \r\nL 68.023438 62.458364 \r\n\" style=\"fill:#9d99c7;\"/>\r\n    <path clip-path=\"url(#p038be71c91)\" d=\"M 68.023438 75.248952 \r\nL 425.143438 75.248952 \r\nL 425.143438 88.03954 \r\nL 68.023438 88.03954 \r\nL 68.023438 75.248952 \r\n\" style=\"fill:#9d99c7;\"/>\r\n    <path clip-path=\"url(#p038be71c91)\" d=\"M 68.023438 88.03954 \r\nL 425.143438 88.03954 \r\nL 425.143438 100.830129 \r\nL 68.023438 100.830129 \r\nL 68.023438 88.03954 \r\n\" style=\"fill:#9d99c7;\"/>\r\n    <path clip-path=\"url(#p038be71c91)\" d=\"M 68.023438 100.830129 \r\nL 425.143438 100.830129 \r\nL 425.143438 113.620717 \r\nL 68.023438 113.620717 \r\nL 68.023438 100.830129 \r\n\" style=\"fill:#9e9ac8;\"/>\r\n    <path clip-path=\"url(#p038be71c91)\" d=\"M 68.023438 113.620717 \r\nL 425.143438 113.620717 \r\nL 425.143438 126.411305 \r\nL 68.023438 126.411305 \r\nL 68.023438 113.620717 \r\n\" style=\"fill:#9e9ac8;\"/>\r\n    <path clip-path=\"url(#p038be71c91)\" d=\"M 68.023438 126.411305 \r\nL 425.143438 126.411305 \r\nL 425.143438 139.201893 \r\nL 68.023438 139.201893 \r\nL 68.023438 126.411305 \r\n\" style=\"fill:#9e9ac8;\"/>\r\n    <path clip-path=\"url(#p038be71c91)\" d=\"M 68.023438 139.201893 \r\nL 425.143438 139.201893 \r\nL 425.143438 151.992482 \r\nL 68.023438 151.992482 \r\nL 68.023438 139.201893 \r\n\" style=\"fill:#9e9ac8;\"/>\r\n    <path clip-path=\"url(#p038be71c91)\" d=\"M 68.023438 151.992482 \r\nL 425.143438 151.992482 \r\nL 425.143438 164.78307 \r\nL 68.023438 164.78307 \r\nL 68.023438 151.992482 \r\n\" style=\"fill:#9e9ac8;\"/>\r\n    <path clip-path=\"url(#p038be71c91)\" d=\"M 68.023438 164.78307 \r\nL 425.143438 164.78307 \r\nL 425.143438 177.573658 \r\nL 68.023438 177.573658 \r\nL 68.023438 164.78307 \r\n\" style=\"fill:#9e9bc8;\"/>\r\n    <path clip-path=\"url(#p038be71c91)\" d=\"M 68.023438 177.573658 \r\nL 425.143438 177.573658 \r\nL 425.143438 190.364246 \r\nL 68.023438 190.364246 \r\nL 68.023438 177.573658 \r\n\" style=\"fill:#9e9bc8;\"/>\r\n    <path clip-path=\"url(#p038be71c91)\" d=\"M 68.023438 190.364246 \r\nL 425.143438 190.364246 \r\nL 425.143438 203.154835 \r\nL 68.023438 203.154835 \r\nL 68.023438 190.364246 \r\n\" style=\"fill:#9e9bc8;\"/>\r\n    <path clip-path=\"url(#p038be71c91)\" d=\"M 68.023438 203.154835 \r\nL 425.143438 203.154835 \r\nL 425.143438 215.945423 \r\nL 68.023438 215.945423 \r\nL 68.023438 203.154835 \r\n\" style=\"fill:#9e9bc8;\"/>\r\n    <path clip-path=\"url(#p038be71c91)\" d=\"M 68.023438 215.945423 \r\nL 425.143438 215.945423 \r\nL 425.143438 228.736011 \r\nL 68.023438 228.736011 \r\nL 68.023438 215.945423 \r\n\" style=\"fill:#9e9bc8;\"/>\r\n    <path clip-path=\"url(#p038be71c91)\" d=\"M 68.023438 228.736011 \r\nL 425.143438 228.736011 \r\nL 425.143438 241.526599 \r\nL 68.023438 241.526599 \r\nL 68.023438 228.736011 \r\n\" style=\"fill:#9e9bc8;\"/>\r\n    <path clip-path=\"url(#p038be71c91)\" d=\"M 68.023438 241.526599 \r\nL 425.143438 241.526599 \r\nL 425.143438 254.317187 \r\nL 68.023438 254.317187 \r\nL 68.023438 241.526599 \r\n\" style=\"fill:#9e9bc8;\"/>\r\n    <path clip-path=\"url(#p038be71c91)\" d=\"M 68.023438 254.317187 \r\nL 425.143438 254.317187 \r\nL 425.143438 267.107776 \r\nL 68.023438 267.107776 \r\nL 68.023438 254.317187 \r\n\" style=\"fill:#9e9bc8;\"/>\r\n    <path clip-path=\"url(#p038be71c91)\" d=\"M 68.023438 267.107776 \r\nL 425.143438 267.107776 \r\nL 425.143438 279.898364 \r\nL 68.023438 279.898364 \r\nL 68.023438 267.107776 \r\n\" style=\"fill:#9e9bc8;\"/>\r\n    <path clip-path=\"url(#p038be71c91)\" d=\"M 68.023438 279.898364 \r\nL 425.143438 279.898364 \r\nL 425.143438 292.688952 \r\nL 68.023438 292.688952 \r\nL 68.023438 279.898364 \r\n\" style=\"fill:#9e9bc8;\"/>\r\n    <path clip-path=\"url(#p038be71c91)\" d=\"M 68.023438 292.688952 \r\nL 425.143438 292.688952 \r\nL 425.143438 305.47954 \r\nL 68.023438 305.47954 \r\nL 68.023438 292.688952 \r\n\" style=\"fill:#9e9bc8;\"/>\r\n    <path clip-path=\"url(#p038be71c91)\" d=\"M 68.023438 305.47954 \r\nL 425.143438 305.47954 \r\nL 425.143438 318.270129 \r\nL 68.023438 318.270129 \r\nL 68.023438 305.47954 \r\n\" style=\"fill:#9e9bc8;\"/>\r\n    <path clip-path=\"url(#p038be71c91)\" d=\"M 68.023438 318.270129 \r\nL 425.143438 318.270129 \r\nL 425.143438 331.060717 \r\nL 68.023438 331.060717 \r\nL 68.023438 318.270129 \r\n\" style=\"fill:#9e9bc8;\"/>\r\n    <path clip-path=\"url(#p038be71c91)\" d=\"M 68.023438 331.060717 \r\nL 425.143438 331.060717 \r\nL 425.143438 343.851305 \r\nL 68.023438 343.851305 \r\nL 68.023438 331.060717 \r\n\" style=\"fill:#9e9bc8;\"/>\r\n    <path clip-path=\"url(#p038be71c91)\" d=\"M 68.023438 343.851305 \r\nL 425.143438 343.851305 \r\nL 425.143438 356.641893 \r\nL 68.023438 356.641893 \r\nL 68.023438 343.851305 \r\n\" style=\"fill:#9e9bc8;\"/>\r\n    <path clip-path=\"url(#p038be71c91)\" d=\"M 68.023438 356.641893 \r\nL 425.143438 356.641893 \r\nL 425.143438 369.432482 \r\nL 68.023438 369.432482 \r\nL 68.023438 356.641893 \r\n\" style=\"fill:#9e9bc8;\"/>\r\n    <path clip-path=\"url(#p038be71c91)\" d=\"M 68.023438 369.432482 \r\nL 425.143438 369.432482 \r\nL 425.143438 382.22307 \r\nL 68.023438 382.22307 \r\nL 68.023438 369.432482 \r\n\" style=\"fill:#9f9cc9;\"/>\r\n    <path clip-path=\"url(#p038be71c91)\" d=\"M 68.023438 382.22307 \r\nL 425.143438 382.22307 \r\nL 425.143438 395.013658 \r\nL 68.023438 395.013658 \r\nL 68.023438 382.22307 \r\n\" style=\"fill:#9f9cc9;\"/>\r\n    <path clip-path=\"url(#p038be71c91)\" d=\"M 68.023438 395.013658 \r\nL 425.143438 395.013658 \r\nL 425.143438 407.804246 \r\nL 68.023438 407.804246 \r\nL 68.023438 395.013658 \r\n\" style=\"fill:#9f9cc9;\"/>\r\n    <path clip-path=\"url(#p038be71c91)\" d=\"M 68.023438 407.804246 \r\nL 425.143438 407.804246 \r\nL 425.143438 420.594835 \r\nL 68.023438 420.594835 \r\nL 68.023438 407.804246 \r\n\" style=\"fill:#9f9cc9;\"/>\r\n    <path clip-path=\"url(#p038be71c91)\" d=\"M 68.023438 420.594835 \r\nL 425.143438 420.594835 \r\nL 425.143438 433.385423 \r\nL 68.023438 433.385423 \r\nL 68.023438 420.594835 \r\n\" style=\"fill:#9f9cc9;\"/>\r\n    <path clip-path=\"url(#p038be71c91)\" d=\"M 68.023438 433.385423 \r\nL 425.143438 433.385423 \r\nL 425.143438 446.176011 \r\nL 68.023438 446.176011 \r\nL 68.023438 433.385423 \r\n\" style=\"fill:#9f9cc9;\"/>\r\n    <path clip-path=\"url(#p038be71c91)\" d=\"M 68.023438 446.176011 \r\nL 425.143438 446.176011 \r\nL 425.143438 458.966599 \r\nL 68.023438 458.966599 \r\nL 68.023438 446.176011 \r\n\" style=\"fill:#9f9cc9;\"/>\r\n    <path clip-path=\"url(#p038be71c91)\" d=\"M 68.023438 458.966599 \r\nL 425.143438 458.966599 \r\nL 425.143438 471.757187 \r\nL 68.023438 471.757187 \r\nL 68.023438 458.966599 \r\n\" style=\"fill:#9f9cc9;\"/>\r\n    <path clip-path=\"url(#p038be71c91)\" d=\"M 68.023438 471.757187 \r\nL 425.143438 471.757187 \r\nL 425.143438 484.547776 \r\nL 68.023438 484.547776 \r\nL 68.023438 471.757187 \r\n\" style=\"fill:#9f9cc9;\"/>\r\n    <path clip-path=\"url(#p038be71c91)\" d=\"M 68.023438 484.547776 \r\nL 425.143438 484.547776 \r\nL 425.143438 497.338364 \r\nL 68.023438 497.338364 \r\nL 68.023438 484.547776 \r\n\" style=\"fill:#9f9cc9;\"/>\r\n    <path clip-path=\"url(#p038be71c91)\" d=\"M 68.023438 497.338364 \r\nL 425.143438 497.338364 \r\nL 425.143438 510.128952 \r\nL 68.023438 510.128952 \r\nL 68.023438 497.338364 \r\n\" style=\"fill:#a09dca;\"/>\r\n    <path clip-path=\"url(#p038be71c91)\" d=\"M 68.023438 510.128952 \r\nL 425.143438 510.128952 \r\nL 425.143438 522.91954 \r\nL 68.023438 522.91954 \r\nL 68.023438 510.128952 \r\n\" style=\"fill:#a09dca;\"/>\r\n    <path clip-path=\"url(#p038be71c91)\" d=\"M 68.023438 522.91954 \r\nL 425.143438 522.91954 \r\nL 425.143438 535.710129 \r\nL 68.023438 535.710129 \r\nL 68.023438 522.91954 \r\n\" style=\"fill:#a09dca;\"/>\r\n    <path clip-path=\"url(#p038be71c91)\" d=\"M 68.023438 535.710129 \r\nL 425.143438 535.710129 \r\nL 425.143438 548.500717 \r\nL 68.023438 548.500717 \r\nL 68.023438 535.710129 \r\n\" style=\"fill:#a09dca;\"/>\r\n    <path clip-path=\"url(#p038be71c91)\" d=\"M 68.023438 548.500717 \r\nL 425.143438 548.500717 \r\nL 425.143438 561.291305 \r\nL 68.023438 561.291305 \r\nL 68.023438 548.500717 \r\n\" style=\"fill:#a09dca;\"/>\r\n    <path clip-path=\"url(#p038be71c91)\" d=\"M 68.023438 561.291305 \r\nL 425.143438 561.291305 \r\nL 425.143438 574.081893 \r\nL 68.023438 574.081893 \r\nL 68.023438 561.291305 \r\n\" style=\"fill:#a09dca;\"/>\r\n    <path clip-path=\"url(#p038be71c91)\" d=\"M 68.023438 574.081893 \r\nL 425.143438 574.081893 \r\nL 425.143438 586.872482 \r\nL 68.023438 586.872482 \r\nL 68.023438 574.081893 \r\n\" style=\"fill:#a09dca;\"/>\r\n    <path clip-path=\"url(#p038be71c91)\" d=\"M 68.023438 586.872482 \r\nL 425.143438 586.872482 \r\nL 425.143438 599.66307 \r\nL 68.023438 599.66307 \r\nL 68.023438 586.872482 \r\n\" style=\"fill:#a09dca;\"/>\r\n    <path clip-path=\"url(#p038be71c91)\" d=\"M 68.023438 599.66307 \r\nL 425.143438 599.66307 \r\nL 425.143438 612.453658 \r\nL 68.023438 612.453658 \r\nL 68.023438 599.66307 \r\n\" style=\"fill:#a09dca;\"/>\r\n    <path clip-path=\"url(#p038be71c91)\" d=\"M 68.023438 612.453658 \r\nL 425.143438 612.453658 \r\nL 425.143438 625.244246 \r\nL 68.023438 625.244246 \r\nL 68.023438 612.453658 \r\n\" style=\"fill:#a09dca;\"/>\r\n    <path clip-path=\"url(#p038be71c91)\" d=\"M 68.023438 625.244246 \r\nL 425.143438 625.244246 \r\nL 425.143438 638.034835 \r\nL 68.023438 638.034835 \r\nL 68.023438 625.244246 \r\n\" style=\"fill:#a09dca;\"/>\r\n    <path clip-path=\"url(#p038be71c91)\" d=\"M 68.023438 638.034835 \r\nL 425.143438 638.034835 \r\nL 425.143438 650.825423 \r\nL 68.023438 650.825423 \r\nL 68.023438 638.034835 \r\n\" style=\"fill:#a09dca;\"/>\r\n    <path clip-path=\"url(#p038be71c91)\" d=\"M 68.023438 650.825423 \r\nL 425.143438 650.825423 \r\nL 425.143438 663.616011 \r\nL 68.023438 663.616011 \r\nL 68.023438 650.825423 \r\n\" style=\"fill:#a19eca;\"/>\r\n    <path clip-path=\"url(#p038be71c91)\" d=\"M 68.023438 663.616011 \r\nL 425.143438 663.616011 \r\nL 425.143438 676.406599 \r\nL 68.023438 676.406599 \r\nL 68.023438 663.616011 \r\n\" style=\"fill:#a19eca;\"/>\r\n    <path clip-path=\"url(#p038be71c91)\" d=\"M 68.023438 676.406599 \r\nL 425.143438 676.406599 \r\nL 425.143438 689.197188 \r\nL 68.023438 689.197188 \r\nL 68.023438 676.406599 \r\n\" style=\"fill:#a19eca;\"/>\r\n   </g>\r\n   <g id=\"matplotlib.axis_1\">\r\n    <g id=\"xtick_1\">\r\n     <g id=\"line2d_1\">\r\n      <defs>\r\n       <path d=\"M 0 0 \r\nL 0 3.5 \r\n\" id=\"m2fbeec8fa9\" style=\"stroke:#000000;stroke-width:0.8;\"/>\r\n      </defs>\r\n      <g>\r\n       <use style=\"stroke:#000000;stroke-width:0.8;\" x=\"246.583438\" xlink:href=\"#m2fbeec8fa9\" y=\"689.197187\"/>\r\n      </g>\r\n     </g>\r\n     <g id=\"text_1\">\r\n      <!-- target -->\r\n      <g transform=\"translate(231.380313 703.795625)scale(0.1 -0.1)\">\r\n       <defs>\r\n        <path d=\"M 18.3125 70.21875 \r\nL 18.3125 54.6875 \r\nL 36.8125 54.6875 \r\nL 36.8125 47.703125 \r\nL 18.3125 47.703125 \r\nL 18.3125 18.015625 \r\nQ 18.3125 11.328125 20.140625 9.421875 \r\nQ 21.96875 7.515625 27.59375 7.515625 \r\nL 36.8125 7.515625 \r\nL 36.8125 0 \r\nL 27.59375 0 \r\nQ 17.1875 0 13.234375 3.875 \r\nQ 9.28125 7.765625 9.28125 18.015625 \r\nL 9.28125 47.703125 \r\nL 2.6875 47.703125 \r\nL 2.6875 54.6875 \r\nL 9.28125 54.6875 \r\nL 9.28125 70.21875 \r\nz\r\n\" id=\"DejaVuSans-116\"/>\r\n        <path d=\"M 34.28125 27.484375 \r\nQ 23.390625 27.484375 19.1875 25 \r\nQ 14.984375 22.515625 14.984375 16.5 \r\nQ 14.984375 11.71875 18.140625 8.90625 \r\nQ 21.296875 6.109375 26.703125 6.109375 \r\nQ 34.1875 6.109375 38.703125 11.40625 \r\nQ 43.21875 16.703125 43.21875 25.484375 \r\nL 43.21875 27.484375 \r\nz\r\nM 52.203125 31.203125 \r\nL 52.203125 0 \r\nL 43.21875 0 \r\nL 43.21875 8.296875 \r\nQ 40.140625 3.328125 35.546875 0.953125 \r\nQ 30.953125 -1.421875 24.3125 -1.421875 \r\nQ 15.921875 -1.421875 10.953125 3.296875 \r\nQ 6 8.015625 6 15.921875 \r\nQ 6 25.140625 12.171875 29.828125 \r\nQ 18.359375 34.515625 30.609375 34.515625 \r\nL 43.21875 34.515625 \r\nL 43.21875 35.40625 \r\nQ 43.21875 41.609375 39.140625 45 \r\nQ 35.0625 48.390625 27.6875 48.390625 \r\nQ 23 48.390625 18.546875 47.265625 \r\nQ 14.109375 46.140625 10.015625 43.890625 \r\nL 10.015625 52.203125 \r\nQ 14.9375 54.109375 19.578125 55.046875 \r\nQ 24.21875 56 28.609375 56 \r\nQ 40.484375 56 46.34375 49.84375 \r\nQ 52.203125 43.703125 52.203125 31.203125 \r\nz\r\n\" id=\"DejaVuSans-97\"/>\r\n        <path d=\"M 41.109375 46.296875 \r\nQ 39.59375 47.171875 37.8125 47.578125 \r\nQ 36.03125 48 33.890625 48 \r\nQ 26.265625 48 22.1875 43.046875 \r\nQ 18.109375 38.09375 18.109375 28.8125 \r\nL 18.109375 0 \r\nL 9.078125 0 \r\nL 9.078125 54.6875 \r\nL 18.109375 54.6875 \r\nL 18.109375 46.1875 \r\nQ 20.953125 51.171875 25.484375 53.578125 \r\nQ 30.03125 56 36.53125 56 \r\nQ 37.453125 56 38.578125 55.875 \r\nQ 39.703125 55.765625 41.0625 55.515625 \r\nz\r\n\" id=\"DejaVuSans-114\"/>\r\n        <path d=\"M 45.40625 27.984375 \r\nQ 45.40625 37.75 41.375 43.109375 \r\nQ 37.359375 48.484375 30.078125 48.484375 \r\nQ 22.859375 48.484375 18.828125 43.109375 \r\nQ 14.796875 37.75 14.796875 27.984375 \r\nQ 14.796875 18.265625 18.828125 12.890625 \r\nQ 22.859375 7.515625 30.078125 7.515625 \r\nQ 37.359375 7.515625 41.375 12.890625 \r\nQ 45.40625 18.265625 45.40625 27.984375 \r\nz\r\nM 54.390625 6.78125 \r\nQ 54.390625 -7.171875 48.1875 -13.984375 \r\nQ 42 -20.796875 29.203125 -20.796875 \r\nQ 24.46875 -20.796875 20.265625 -20.09375 \r\nQ 16.0625 -19.390625 12.109375 -17.921875 \r\nL 12.109375 -9.1875 \r\nQ 16.0625 -11.328125 19.921875 -12.34375 \r\nQ 23.78125 -13.375 27.78125 -13.375 \r\nQ 36.625 -13.375 41.015625 -8.765625 \r\nQ 45.40625 -4.15625 45.40625 5.171875 \r\nL 45.40625 9.625 \r\nQ 42.625 4.78125 38.28125 2.390625 \r\nQ 33.9375 0 27.875 0 \r\nQ 17.828125 0 11.671875 7.65625 \r\nQ 5.515625 15.328125 5.515625 27.984375 \r\nQ 5.515625 40.671875 11.671875 48.328125 \r\nQ 17.828125 56 27.875 56 \r\nQ 33.9375 56 38.28125 53.609375 \r\nQ 42.625 51.21875 45.40625 46.390625 \r\nL 45.40625 54.6875 \r\nL 54.390625 54.6875 \r\nz\r\n\" id=\"DejaVuSans-103\"/>\r\n        <path d=\"M 56.203125 29.59375 \r\nL 56.203125 25.203125 \r\nL 14.890625 25.203125 \r\nQ 15.484375 15.921875 20.484375 11.0625 \r\nQ 25.484375 6.203125 34.421875 6.203125 \r\nQ 39.59375 6.203125 44.453125 7.46875 \r\nQ 49.3125 8.734375 54.109375 11.28125 \r\nL 54.109375 2.78125 \r\nQ 49.265625 0.734375 44.1875 -0.34375 \r\nQ 39.109375 -1.421875 33.890625 -1.421875 \r\nQ 20.796875 -1.421875 13.15625 6.1875 \r\nQ 5.515625 13.8125 5.515625 26.8125 \r\nQ 5.515625 40.234375 12.765625 48.109375 \r\nQ 20.015625 56 32.328125 56 \r\nQ 43.359375 56 49.78125 48.890625 \r\nQ 56.203125 41.796875 56.203125 29.59375 \r\nz\r\nM 47.21875 32.234375 \r\nQ 47.125 39.59375 43.09375 43.984375 \r\nQ 39.0625 48.390625 32.421875 48.390625 \r\nQ 24.90625 48.390625 20.390625 44.140625 \r\nQ 15.875 39.890625 15.1875 32.171875 \r\nz\r\n\" id=\"DejaVuSans-101\"/>\r\n       </defs>\r\n       <use xlink:href=\"#DejaVuSans-116\"/>\r\n       <use x=\"39.208984\" xlink:href=\"#DejaVuSans-97\"/>\r\n       <use x=\"100.488281\" xlink:href=\"#DejaVuSans-114\"/>\r\n       <use x=\"139.851562\" xlink:href=\"#DejaVuSans-103\"/>\r\n       <use x=\"203.328125\" xlink:href=\"#DejaVuSans-101\"/>\r\n       <use x=\"264.851562\" xlink:href=\"#DejaVuSans-116\"/>\r\n      </g>\r\n     </g>\r\n    </g>\r\n   </g>\r\n   <g id=\"matplotlib.axis_2\">\r\n    <g id=\"ytick_1\">\r\n     <g id=\"line2d_2\">\r\n      <defs>\r\n       <path d=\"M 0 0 \r\nL -3.5 0 \r\n\" id=\"m7cc51b40e0\" style=\"stroke:#000000;stroke-width:0.8;\"/>\r\n      </defs>\r\n      <g>\r\n       <use style=\"stroke:#000000;stroke-width:0.8;\" x=\"68.023438\" xlink:href=\"#m7cc51b40e0\" y=\"43.272482\"/>\r\n      </g>\r\n     </g>\r\n     <g id=\"text_2\">\r\n      <!-- target -->\r\n      <g transform=\"translate(30.617188 47.0717)scale(0.1 -0.1)\">\r\n       <use xlink:href=\"#DejaVuSans-116\"/>\r\n       <use x=\"39.208984\" xlink:href=\"#DejaVuSans-97\"/>\r\n       <use x=\"100.488281\" xlink:href=\"#DejaVuSans-114\"/>\r\n       <use x=\"139.851562\" xlink:href=\"#DejaVuSans-103\"/>\r\n       <use x=\"203.328125\" xlink:href=\"#DejaVuSans-101\"/>\r\n       <use x=\"264.851562\" xlink:href=\"#DejaVuSans-116\"/>\r\n      </g>\r\n     </g>\r\n    </g>\r\n    <g id=\"ytick_2\">\r\n     <g id=\"line2d_3\">\r\n      <g>\r\n       <use style=\"stroke:#000000;stroke-width:0.8;\" x=\"68.023438\" xlink:href=\"#m7cc51b40e0\" y=\"56.06307\"/>\r\n      </g>\r\n     </g>\r\n     <g id=\"text_3\">\r\n      <!-- feature_34 -->\r\n      <g transform=\"translate(7.2 59.862289)scale(0.1 -0.1)\">\r\n       <defs>\r\n        <path d=\"M 37.109375 75.984375 \r\nL 37.109375 68.5 \r\nL 28.515625 68.5 \r\nQ 23.6875 68.5 21.796875 66.546875 \r\nQ 19.921875 64.59375 19.921875 59.515625 \r\nL 19.921875 54.6875 \r\nL 34.71875 54.6875 \r\nL 34.71875 47.703125 \r\nL 19.921875 47.703125 \r\nL 19.921875 0 \r\nL 10.890625 0 \r\nL 10.890625 47.703125 \r\nL 2.296875 47.703125 \r\nL 2.296875 54.6875 \r\nL 10.890625 54.6875 \r\nL 10.890625 58.5 \r\nQ 10.890625 67.625 15.140625 71.796875 \r\nQ 19.390625 75.984375 28.609375 75.984375 \r\nz\r\n\" id=\"DejaVuSans-102\"/>\r\n        <path d=\"M 8.5 21.578125 \r\nL 8.5 54.6875 \r\nL 17.484375 54.6875 \r\nL 17.484375 21.921875 \r\nQ 17.484375 14.15625 20.5 10.265625 \r\nQ 23.53125 6.390625 29.59375 6.390625 \r\nQ 36.859375 6.390625 41.078125 11.03125 \r\nQ 45.3125 15.671875 45.3125 23.6875 \r\nL 45.3125 54.6875 \r\nL 54.296875 54.6875 \r\nL 54.296875 0 \r\nL 45.3125 0 \r\nL 45.3125 8.40625 \r\nQ 42.046875 3.421875 37.71875 1 \r\nQ 33.40625 -1.421875 27.6875 -1.421875 \r\nQ 18.265625 -1.421875 13.375 4.4375 \r\nQ 8.5 10.296875 8.5 21.578125 \r\nz\r\nM 31.109375 56 \r\nz\r\n\" id=\"DejaVuSans-117\"/>\r\n        <path d=\"M 50.984375 -16.609375 \r\nL 50.984375 -23.578125 \r\nL -0.984375 -23.578125 \r\nL -0.984375 -16.609375 \r\nz\r\n\" id=\"DejaVuSans-95\"/>\r\n        <path d=\"M 40.578125 39.3125 \r\nQ 47.65625 37.796875 51.625 33 \r\nQ 55.609375 28.21875 55.609375 21.1875 \r\nQ 55.609375 10.40625 48.1875 4.484375 \r\nQ 40.765625 -1.421875 27.09375 -1.421875 \r\nQ 22.515625 -1.421875 17.65625 -0.515625 \r\nQ 12.796875 0.390625 7.625 2.203125 \r\nL 7.625 11.71875 \r\nQ 11.71875 9.328125 16.59375 8.109375 \r\nQ 21.484375 6.890625 26.8125 6.890625 \r\nQ 36.078125 6.890625 40.9375 10.546875 \r\nQ 45.796875 14.203125 45.796875 21.1875 \r\nQ 45.796875 27.640625 41.28125 31.265625 \r\nQ 36.765625 34.90625 28.71875 34.90625 \r\nL 20.21875 34.90625 \r\nL 20.21875 43.015625 \r\nL 29.109375 43.015625 \r\nQ 36.375 43.015625 40.234375 45.921875 \r\nQ 44.09375 48.828125 44.09375 54.296875 \r\nQ 44.09375 59.90625 40.109375 62.90625 \r\nQ 36.140625 65.921875 28.71875 65.921875 \r\nQ 24.65625 65.921875 20.015625 65.03125 \r\nQ 15.375 64.15625 9.8125 62.3125 \r\nL 9.8125 71.09375 \r\nQ 15.4375 72.65625 20.34375 73.4375 \r\nQ 25.25 74.21875 29.59375 74.21875 \r\nQ 40.828125 74.21875 47.359375 69.109375 \r\nQ 53.90625 64.015625 53.90625 55.328125 \r\nQ 53.90625 49.265625 50.4375 45.09375 \r\nQ 46.96875 40.921875 40.578125 39.3125 \r\nz\r\n\" id=\"DejaVuSans-51\"/>\r\n        <path d=\"M 37.796875 64.3125 \r\nL 12.890625 25.390625 \r\nL 37.796875 25.390625 \r\nz\r\nM 35.203125 72.90625 \r\nL 47.609375 72.90625 \r\nL 47.609375 25.390625 \r\nL 58.015625 25.390625 \r\nL 58.015625 17.1875 \r\nL 47.609375 17.1875 \r\nL 47.609375 0 \r\nL 37.796875 0 \r\nL 37.796875 17.1875 \r\nL 4.890625 17.1875 \r\nL 4.890625 26.703125 \r\nz\r\n\" id=\"DejaVuSans-52\"/>\r\n       </defs>\r\n       <use xlink:href=\"#DejaVuSans-102\"/>\r\n       <use x=\"35.205078\" xlink:href=\"#DejaVuSans-101\"/>\r\n       <use x=\"96.728516\" xlink:href=\"#DejaVuSans-97\"/>\r\n       <use x=\"158.007812\" xlink:href=\"#DejaVuSans-116\"/>\r\n       <use x=\"197.216797\" xlink:href=\"#DejaVuSans-117\"/>\r\n       <use x=\"260.595703\" xlink:href=\"#DejaVuSans-114\"/>\r\n       <use x=\"299.458984\" xlink:href=\"#DejaVuSans-101\"/>\r\n       <use x=\"360.982422\" xlink:href=\"#DejaVuSans-95\"/>\r\n       <use x=\"410.982422\" xlink:href=\"#DejaVuSans-51\"/>\r\n       <use x=\"474.605469\" xlink:href=\"#DejaVuSans-52\"/>\r\n      </g>\r\n     </g>\r\n    </g>\r\n    <g id=\"ytick_3\">\r\n     <g id=\"line2d_4\">\r\n      <g>\r\n       <use style=\"stroke:#000000;stroke-width:0.8;\" x=\"68.023438\" xlink:href=\"#m7cc51b40e0\" y=\"68.853658\"/>\r\n      </g>\r\n     </g>\r\n     <g id=\"text_4\">\r\n      <!-- feature_36 -->\r\n      <g transform=\"translate(7.2 72.652877)scale(0.1 -0.1)\">\r\n       <defs>\r\n        <path d=\"M 33.015625 40.375 \r\nQ 26.375 40.375 22.484375 35.828125 \r\nQ 18.609375 31.296875 18.609375 23.390625 \r\nQ 18.609375 15.53125 22.484375 10.953125 \r\nQ 26.375 6.390625 33.015625 6.390625 \r\nQ 39.65625 6.390625 43.53125 10.953125 \r\nQ 47.40625 15.53125 47.40625 23.390625 \r\nQ 47.40625 31.296875 43.53125 35.828125 \r\nQ 39.65625 40.375 33.015625 40.375 \r\nz\r\nM 52.59375 71.296875 \r\nL 52.59375 62.3125 \r\nQ 48.875 64.0625 45.09375 64.984375 \r\nQ 41.3125 65.921875 37.59375 65.921875 \r\nQ 27.828125 65.921875 22.671875 59.328125 \r\nQ 17.53125 52.734375 16.796875 39.40625 \r\nQ 19.671875 43.65625 24.015625 45.921875 \r\nQ 28.375 48.1875 33.59375 48.1875 \r\nQ 44.578125 48.1875 50.953125 41.515625 \r\nQ 57.328125 34.859375 57.328125 23.390625 \r\nQ 57.328125 12.15625 50.6875 5.359375 \r\nQ 44.046875 -1.421875 33.015625 -1.421875 \r\nQ 20.359375 -1.421875 13.671875 8.265625 \r\nQ 6.984375 17.96875 6.984375 36.375 \r\nQ 6.984375 53.65625 15.1875 63.9375 \r\nQ 23.390625 74.21875 37.203125 74.21875 \r\nQ 40.921875 74.21875 44.703125 73.484375 \r\nQ 48.484375 72.75 52.59375 71.296875 \r\nz\r\n\" id=\"DejaVuSans-54\"/>\r\n       </defs>\r\n       <use xlink:href=\"#DejaVuSans-102\"/>\r\n       <use x=\"35.205078\" xlink:href=\"#DejaVuSans-101\"/>\r\n       <use x=\"96.728516\" xlink:href=\"#DejaVuSans-97\"/>\r\n       <use x=\"158.007812\" xlink:href=\"#DejaVuSans-116\"/>\r\n       <use x=\"197.216797\" xlink:href=\"#DejaVuSans-117\"/>\r\n       <use x=\"260.595703\" xlink:href=\"#DejaVuSans-114\"/>\r\n       <use x=\"299.458984\" xlink:href=\"#DejaVuSans-101\"/>\r\n       <use x=\"360.982422\" xlink:href=\"#DejaVuSans-95\"/>\r\n       <use x=\"410.982422\" xlink:href=\"#DejaVuSans-51\"/>\r\n       <use x=\"474.605469\" xlink:href=\"#DejaVuSans-54\"/>\r\n      </g>\r\n     </g>\r\n    </g>\r\n    <g id=\"ytick_4\">\r\n     <g id=\"line2d_5\">\r\n      <g>\r\n       <use style=\"stroke:#000000;stroke-width:0.8;\" x=\"68.023438\" xlink:href=\"#m7cc51b40e0\" y=\"81.644246\"/>\r\n      </g>\r\n     </g>\r\n     <g id=\"text_5\">\r\n      <!-- feature_13 -->\r\n      <g transform=\"translate(7.2 85.443465)scale(0.1 -0.1)\">\r\n       <defs>\r\n        <path d=\"M 12.40625 8.296875 \r\nL 28.515625 8.296875 \r\nL 28.515625 63.921875 \r\nL 10.984375 60.40625 \r\nL 10.984375 69.390625 \r\nL 28.421875 72.90625 \r\nL 38.28125 72.90625 \r\nL 38.28125 8.296875 \r\nL 54.390625 8.296875 \r\nL 54.390625 0 \r\nL 12.40625 0 \r\nz\r\n\" id=\"DejaVuSans-49\"/>\r\n       </defs>\r\n       <use xlink:href=\"#DejaVuSans-102\"/>\r\n       <use x=\"35.205078\" xlink:href=\"#DejaVuSans-101\"/>\r\n       <use x=\"96.728516\" xlink:href=\"#DejaVuSans-97\"/>\r\n       <use x=\"158.007812\" xlink:href=\"#DejaVuSans-116\"/>\r\n       <use x=\"197.216797\" xlink:href=\"#DejaVuSans-117\"/>\r\n       <use x=\"260.595703\" xlink:href=\"#DejaVuSans-114\"/>\r\n       <use x=\"299.458984\" xlink:href=\"#DejaVuSans-101\"/>\r\n       <use x=\"360.982422\" xlink:href=\"#DejaVuSans-95\"/>\r\n       <use x=\"410.982422\" xlink:href=\"#DejaVuSans-49\"/>\r\n       <use x=\"474.605469\" xlink:href=\"#DejaVuSans-51\"/>\r\n      </g>\r\n     </g>\r\n    </g>\r\n    <g id=\"ytick_5\">\r\n     <g id=\"line2d_6\">\r\n      <g>\r\n       <use style=\"stroke:#000000;stroke-width:0.8;\" x=\"68.023438\" xlink:href=\"#m7cc51b40e0\" y=\"94.434835\"/>\r\n      </g>\r\n     </g>\r\n     <g id=\"text_6\">\r\n      <!-- feature_2 -->\r\n      <g transform=\"translate(13.5625 98.234053)scale(0.1 -0.1)\">\r\n       <defs>\r\n        <path d=\"M 19.1875 8.296875 \r\nL 53.609375 8.296875 \r\nL 53.609375 0 \r\nL 7.328125 0 \r\nL 7.328125 8.296875 \r\nQ 12.9375 14.109375 22.625 23.890625 \r\nQ 32.328125 33.6875 34.8125 36.53125 \r\nQ 39.546875 41.84375 41.421875 45.53125 \r\nQ 43.3125 49.21875 43.3125 52.78125 \r\nQ 43.3125 58.59375 39.234375 62.25 \r\nQ 35.15625 65.921875 28.609375 65.921875 \r\nQ 23.96875 65.921875 18.8125 64.3125 \r\nQ 13.671875 62.703125 7.8125 59.421875 \r\nL 7.8125 69.390625 \r\nQ 13.765625 71.78125 18.9375 73 \r\nQ 24.125 74.21875 28.421875 74.21875 \r\nQ 39.75 74.21875 46.484375 68.546875 \r\nQ 53.21875 62.890625 53.21875 53.421875 \r\nQ 53.21875 48.921875 51.53125 44.890625 \r\nQ 49.859375 40.875 45.40625 35.40625 \r\nQ 44.1875 33.984375 37.640625 27.21875 \r\nQ 31.109375 20.453125 19.1875 8.296875 \r\nz\r\n\" id=\"DejaVuSans-50\"/>\r\n       </defs>\r\n       <use xlink:href=\"#DejaVuSans-102\"/>\r\n       <use x=\"35.205078\" xlink:href=\"#DejaVuSans-101\"/>\r\n       <use x=\"96.728516\" xlink:href=\"#DejaVuSans-97\"/>\r\n       <use x=\"158.007812\" xlink:href=\"#DejaVuSans-116\"/>\r\n       <use x=\"197.216797\" xlink:href=\"#DejaVuSans-117\"/>\r\n       <use x=\"260.595703\" xlink:href=\"#DejaVuSans-114\"/>\r\n       <use x=\"299.458984\" xlink:href=\"#DejaVuSans-101\"/>\r\n       <use x=\"360.982422\" xlink:href=\"#DejaVuSans-95\"/>\r\n       <use x=\"410.982422\" xlink:href=\"#DejaVuSans-50\"/>\r\n      </g>\r\n     </g>\r\n    </g>\r\n    <g id=\"ytick_6\">\r\n     <g id=\"line2d_7\">\r\n      <g>\r\n       <use style=\"stroke:#000000;stroke-width:0.8;\" x=\"68.023438\" xlink:href=\"#m7cc51b40e0\" y=\"107.225423\"/>\r\n      </g>\r\n     </g>\r\n     <g id=\"text_7\">\r\n      <!-- feature_43 -->\r\n      <g transform=\"translate(7.2 111.024642)scale(0.1 -0.1)\">\r\n       <use xlink:href=\"#DejaVuSans-102\"/>\r\n       <use x=\"35.205078\" xlink:href=\"#DejaVuSans-101\"/>\r\n       <use x=\"96.728516\" xlink:href=\"#DejaVuSans-97\"/>\r\n       <use x=\"158.007812\" xlink:href=\"#DejaVuSans-116\"/>\r\n       <use x=\"197.216797\" xlink:href=\"#DejaVuSans-117\"/>\r\n       <use x=\"260.595703\" xlink:href=\"#DejaVuSans-114\"/>\r\n       <use x=\"299.458984\" xlink:href=\"#DejaVuSans-101\"/>\r\n       <use x=\"360.982422\" xlink:href=\"#DejaVuSans-95\"/>\r\n       <use x=\"410.982422\" xlink:href=\"#DejaVuSans-52\"/>\r\n       <use x=\"474.605469\" xlink:href=\"#DejaVuSans-51\"/>\r\n      </g>\r\n     </g>\r\n    </g>\r\n    <g id=\"ytick_7\">\r\n     <g id=\"line2d_8\">\r\n      <g>\r\n       <use style=\"stroke:#000000;stroke-width:0.8;\" x=\"68.023438\" xlink:href=\"#m7cc51b40e0\" y=\"120.016011\"/>\r\n      </g>\r\n     </g>\r\n     <g id=\"text_8\">\r\n      <!-- feature_44 -->\r\n      <g transform=\"translate(7.2 123.81523)scale(0.1 -0.1)\">\r\n       <use xlink:href=\"#DejaVuSans-102\"/>\r\n       <use x=\"35.205078\" xlink:href=\"#DejaVuSans-101\"/>\r\n       <use x=\"96.728516\" xlink:href=\"#DejaVuSans-97\"/>\r\n       <use x=\"158.007812\" xlink:href=\"#DejaVuSans-116\"/>\r\n       <use x=\"197.216797\" xlink:href=\"#DejaVuSans-117\"/>\r\n       <use x=\"260.595703\" xlink:href=\"#DejaVuSans-114\"/>\r\n       <use x=\"299.458984\" xlink:href=\"#DejaVuSans-101\"/>\r\n       <use x=\"360.982422\" xlink:href=\"#DejaVuSans-95\"/>\r\n       <use x=\"410.982422\" xlink:href=\"#DejaVuSans-52\"/>\r\n       <use x=\"474.605469\" xlink:href=\"#DejaVuSans-52\"/>\r\n      </g>\r\n     </g>\r\n    </g>\r\n    <g id=\"ytick_8\">\r\n     <g id=\"line2d_9\">\r\n      <g>\r\n       <use style=\"stroke:#000000;stroke-width:0.8;\" x=\"68.023438\" xlink:href=\"#m7cc51b40e0\" y=\"132.806599\"/>\r\n      </g>\r\n     </g>\r\n     <g id=\"text_9\">\r\n      <!-- feature_26 -->\r\n      <g transform=\"translate(7.2 136.605818)scale(0.1 -0.1)\">\r\n       <use xlink:href=\"#DejaVuSans-102\"/>\r\n       <use x=\"35.205078\" xlink:href=\"#DejaVuSans-101\"/>\r\n       <use x=\"96.728516\" xlink:href=\"#DejaVuSans-97\"/>\r\n       <use x=\"158.007812\" xlink:href=\"#DejaVuSans-116\"/>\r\n       <use x=\"197.216797\" xlink:href=\"#DejaVuSans-117\"/>\r\n       <use x=\"260.595703\" xlink:href=\"#DejaVuSans-114\"/>\r\n       <use x=\"299.458984\" xlink:href=\"#DejaVuSans-101\"/>\r\n       <use x=\"360.982422\" xlink:href=\"#DejaVuSans-95\"/>\r\n       <use x=\"410.982422\" xlink:href=\"#DejaVuSans-50\"/>\r\n       <use x=\"474.605469\" xlink:href=\"#DejaVuSans-54\"/>\r\n      </g>\r\n     </g>\r\n    </g>\r\n    <g id=\"ytick_9\">\r\n     <g id=\"line2d_10\">\r\n      <g>\r\n       <use style=\"stroke:#000000;stroke-width:0.8;\" x=\"68.023438\" xlink:href=\"#m7cc51b40e0\" y=\"145.597187\"/>\r\n      </g>\r\n     </g>\r\n     <g id=\"text_10\">\r\n      <!-- feature_39 -->\r\n      <g transform=\"translate(7.2 149.396406)scale(0.1 -0.1)\">\r\n       <defs>\r\n        <path d=\"M 10.984375 1.515625 \r\nL 10.984375 10.5 \r\nQ 14.703125 8.734375 18.5 7.8125 \r\nQ 22.3125 6.890625 25.984375 6.890625 \r\nQ 35.75 6.890625 40.890625 13.453125 \r\nQ 46.046875 20.015625 46.78125 33.40625 \r\nQ 43.953125 29.203125 39.59375 26.953125 \r\nQ 35.25 24.703125 29.984375 24.703125 \r\nQ 19.046875 24.703125 12.671875 31.3125 \r\nQ 6.296875 37.9375 6.296875 49.421875 \r\nQ 6.296875 60.640625 12.9375 67.421875 \r\nQ 19.578125 74.21875 30.609375 74.21875 \r\nQ 43.265625 74.21875 49.921875 64.515625 \r\nQ 56.59375 54.828125 56.59375 36.375 \r\nQ 56.59375 19.140625 48.40625 8.859375 \r\nQ 40.234375 -1.421875 26.421875 -1.421875 \r\nQ 22.703125 -1.421875 18.890625 -0.6875 \r\nQ 15.09375 0.046875 10.984375 1.515625 \r\nz\r\nM 30.609375 32.421875 \r\nQ 37.25 32.421875 41.125 36.953125 \r\nQ 45.015625 41.5 45.015625 49.421875 \r\nQ 45.015625 57.28125 41.125 61.84375 \r\nQ 37.25 66.40625 30.609375 66.40625 \r\nQ 23.96875 66.40625 20.09375 61.84375 \r\nQ 16.21875 57.28125 16.21875 49.421875 \r\nQ 16.21875 41.5 20.09375 36.953125 \r\nQ 23.96875 32.421875 30.609375 32.421875 \r\nz\r\n\" id=\"DejaVuSans-57\"/>\r\n       </defs>\r\n       <use xlink:href=\"#DejaVuSans-102\"/>\r\n       <use x=\"35.205078\" xlink:href=\"#DejaVuSans-101\"/>\r\n       <use x=\"96.728516\" xlink:href=\"#DejaVuSans-97\"/>\r\n       <use x=\"158.007812\" xlink:href=\"#DejaVuSans-116\"/>\r\n       <use x=\"197.216797\" xlink:href=\"#DejaVuSans-117\"/>\r\n       <use x=\"260.595703\" xlink:href=\"#DejaVuSans-114\"/>\r\n       <use x=\"299.458984\" xlink:href=\"#DejaVuSans-101\"/>\r\n       <use x=\"360.982422\" xlink:href=\"#DejaVuSans-95\"/>\r\n       <use x=\"410.982422\" xlink:href=\"#DejaVuSans-51\"/>\r\n       <use x=\"474.605469\" xlink:href=\"#DejaVuSans-57\"/>\r\n      </g>\r\n     </g>\r\n    </g>\r\n    <g id=\"ytick_10\">\r\n     <g id=\"line2d_11\">\r\n      <g>\r\n       <use style=\"stroke:#000000;stroke-width:0.8;\" x=\"68.023438\" xlink:href=\"#m7cc51b40e0\" y=\"158.387776\"/>\r\n      </g>\r\n     </g>\r\n     <g id=\"text_11\">\r\n      <!-- feature_47 -->\r\n      <g transform=\"translate(7.2 162.186994)scale(0.1 -0.1)\">\r\n       <defs>\r\n        <path d=\"M 8.203125 72.90625 \r\nL 55.078125 72.90625 \r\nL 55.078125 68.703125 \r\nL 28.609375 0 \r\nL 18.3125 0 \r\nL 43.21875 64.59375 \r\nL 8.203125 64.59375 \r\nz\r\n\" id=\"DejaVuSans-55\"/>\r\n       </defs>\r\n       <use xlink:href=\"#DejaVuSans-102\"/>\r\n       <use x=\"35.205078\" xlink:href=\"#DejaVuSans-101\"/>\r\n       <use x=\"96.728516\" xlink:href=\"#DejaVuSans-97\"/>\r\n       <use x=\"158.007812\" xlink:href=\"#DejaVuSans-116\"/>\r\n       <use x=\"197.216797\" xlink:href=\"#DejaVuSans-117\"/>\r\n       <use x=\"260.595703\" xlink:href=\"#DejaVuSans-114\"/>\r\n       <use x=\"299.458984\" xlink:href=\"#DejaVuSans-101\"/>\r\n       <use x=\"360.982422\" xlink:href=\"#DejaVuSans-95\"/>\r\n       <use x=\"410.982422\" xlink:href=\"#DejaVuSans-52\"/>\r\n       <use x=\"474.605469\" xlink:href=\"#DejaVuSans-55\"/>\r\n      </g>\r\n     </g>\r\n    </g>\r\n    <g id=\"ytick_11\">\r\n     <g id=\"line2d_12\">\r\n      <g>\r\n       <use style=\"stroke:#000000;stroke-width:0.8;\" x=\"68.023438\" xlink:href=\"#m7cc51b40e0\" y=\"171.178364\"/>\r\n      </g>\r\n     </g>\r\n     <g id=\"text_12\">\r\n      <!-- feature_27 -->\r\n      <g transform=\"translate(7.2 174.977583)scale(0.1 -0.1)\">\r\n       <use xlink:href=\"#DejaVuSans-102\"/>\r\n       <use x=\"35.205078\" xlink:href=\"#DejaVuSans-101\"/>\r\n       <use x=\"96.728516\" xlink:href=\"#DejaVuSans-97\"/>\r\n       <use x=\"158.007812\" xlink:href=\"#DejaVuSans-116\"/>\r\n       <use x=\"197.216797\" xlink:href=\"#DejaVuSans-117\"/>\r\n       <use x=\"260.595703\" xlink:href=\"#DejaVuSans-114\"/>\r\n       <use x=\"299.458984\" xlink:href=\"#DejaVuSans-101\"/>\r\n       <use x=\"360.982422\" xlink:href=\"#DejaVuSans-95\"/>\r\n       <use x=\"410.982422\" xlink:href=\"#DejaVuSans-50\"/>\r\n       <use x=\"474.605469\" xlink:href=\"#DejaVuSans-55\"/>\r\n      </g>\r\n     </g>\r\n    </g>\r\n    <g id=\"ytick_12\">\r\n     <g id=\"line2d_13\">\r\n      <g>\r\n       <use style=\"stroke:#000000;stroke-width:0.8;\" x=\"68.023438\" xlink:href=\"#m7cc51b40e0\" y=\"183.968952\"/>\r\n      </g>\r\n     </g>\r\n     <g id=\"text_13\">\r\n      <!-- feature_30 -->\r\n      <g transform=\"translate(7.2 187.768171)scale(0.1 -0.1)\">\r\n       <defs>\r\n        <path d=\"M 31.78125 66.40625 \r\nQ 24.171875 66.40625 20.328125 58.90625 \r\nQ 16.5 51.421875 16.5 36.375 \r\nQ 16.5 21.390625 20.328125 13.890625 \r\nQ 24.171875 6.390625 31.78125 6.390625 \r\nQ 39.453125 6.390625 43.28125 13.890625 \r\nQ 47.125 21.390625 47.125 36.375 \r\nQ 47.125 51.421875 43.28125 58.90625 \r\nQ 39.453125 66.40625 31.78125 66.40625 \r\nz\r\nM 31.78125 74.21875 \r\nQ 44.046875 74.21875 50.515625 64.515625 \r\nQ 56.984375 54.828125 56.984375 36.375 \r\nQ 56.984375 17.96875 50.515625 8.265625 \r\nQ 44.046875 -1.421875 31.78125 -1.421875 \r\nQ 19.53125 -1.421875 13.0625 8.265625 \r\nQ 6.59375 17.96875 6.59375 36.375 \r\nQ 6.59375 54.828125 13.0625 64.515625 \r\nQ 19.53125 74.21875 31.78125 74.21875 \r\nz\r\n\" id=\"DejaVuSans-48\"/>\r\n       </defs>\r\n       <use xlink:href=\"#DejaVuSans-102\"/>\r\n       <use x=\"35.205078\" xlink:href=\"#DejaVuSans-101\"/>\r\n       <use x=\"96.728516\" xlink:href=\"#DejaVuSans-97\"/>\r\n       <use x=\"158.007812\" xlink:href=\"#DejaVuSans-116\"/>\r\n       <use x=\"197.216797\" xlink:href=\"#DejaVuSans-117\"/>\r\n       <use x=\"260.595703\" xlink:href=\"#DejaVuSans-114\"/>\r\n       <use x=\"299.458984\" xlink:href=\"#DejaVuSans-101\"/>\r\n       <use x=\"360.982422\" xlink:href=\"#DejaVuSans-95\"/>\r\n       <use x=\"410.982422\" xlink:href=\"#DejaVuSans-51\"/>\r\n       <use x=\"474.605469\" xlink:href=\"#DejaVuSans-48\"/>\r\n      </g>\r\n     </g>\r\n    </g>\r\n    <g id=\"ytick_13\">\r\n     <g id=\"line2d_14\">\r\n      <g>\r\n       <use style=\"stroke:#000000;stroke-width:0.8;\" x=\"68.023438\" xlink:href=\"#m7cc51b40e0\" y=\"196.75954\"/>\r\n      </g>\r\n     </g>\r\n     <g id=\"text_14\">\r\n      <!-- feature_33 -->\r\n      <g transform=\"translate(7.2 200.558759)scale(0.1 -0.1)\">\r\n       <use xlink:href=\"#DejaVuSans-102\"/>\r\n       <use x=\"35.205078\" xlink:href=\"#DejaVuSans-101\"/>\r\n       <use x=\"96.728516\" xlink:href=\"#DejaVuSans-97\"/>\r\n       <use x=\"158.007812\" xlink:href=\"#DejaVuSans-116\"/>\r\n       <use x=\"197.216797\" xlink:href=\"#DejaVuSans-117\"/>\r\n       <use x=\"260.595703\" xlink:href=\"#DejaVuSans-114\"/>\r\n       <use x=\"299.458984\" xlink:href=\"#DejaVuSans-101\"/>\r\n       <use x=\"360.982422\" xlink:href=\"#DejaVuSans-95\"/>\r\n       <use x=\"410.982422\" xlink:href=\"#DejaVuSans-51\"/>\r\n       <use x=\"474.605469\" xlink:href=\"#DejaVuSans-51\"/>\r\n      </g>\r\n     </g>\r\n    </g>\r\n    <g id=\"ytick_14\">\r\n     <g id=\"line2d_15\">\r\n      <g>\r\n       <use style=\"stroke:#000000;stroke-width:0.8;\" x=\"68.023438\" xlink:href=\"#m7cc51b40e0\" y=\"209.550129\"/>\r\n      </g>\r\n     </g>\r\n     <g id=\"text_15\">\r\n      <!-- feature_8 -->\r\n      <g transform=\"translate(13.5625 213.349347)scale(0.1 -0.1)\">\r\n       <defs>\r\n        <path d=\"M 31.78125 34.625 \r\nQ 24.75 34.625 20.71875 30.859375 \r\nQ 16.703125 27.09375 16.703125 20.515625 \r\nQ 16.703125 13.921875 20.71875 10.15625 \r\nQ 24.75 6.390625 31.78125 6.390625 \r\nQ 38.8125 6.390625 42.859375 10.171875 \r\nQ 46.921875 13.96875 46.921875 20.515625 \r\nQ 46.921875 27.09375 42.890625 30.859375 \r\nQ 38.875 34.625 31.78125 34.625 \r\nz\r\nM 21.921875 38.8125 \r\nQ 15.578125 40.375 12.03125 44.71875 \r\nQ 8.5 49.078125 8.5 55.328125 \r\nQ 8.5 64.0625 14.71875 69.140625 \r\nQ 20.953125 74.21875 31.78125 74.21875 \r\nQ 42.671875 74.21875 48.875 69.140625 \r\nQ 55.078125 64.0625 55.078125 55.328125 \r\nQ 55.078125 49.078125 51.53125 44.71875 \r\nQ 48 40.375 41.703125 38.8125 \r\nQ 48.828125 37.15625 52.796875 32.3125 \r\nQ 56.78125 27.484375 56.78125 20.515625 \r\nQ 56.78125 9.90625 50.3125 4.234375 \r\nQ 43.84375 -1.421875 31.78125 -1.421875 \r\nQ 19.734375 -1.421875 13.25 4.234375 \r\nQ 6.78125 9.90625 6.78125 20.515625 \r\nQ 6.78125 27.484375 10.78125 32.3125 \r\nQ 14.796875 37.15625 21.921875 38.8125 \r\nz\r\nM 18.3125 54.390625 \r\nQ 18.3125 48.734375 21.84375 45.5625 \r\nQ 25.390625 42.390625 31.78125 42.390625 \r\nQ 38.140625 42.390625 41.71875 45.5625 \r\nQ 45.3125 48.734375 45.3125 54.390625 \r\nQ 45.3125 60.0625 41.71875 63.234375 \r\nQ 38.140625 66.40625 31.78125 66.40625 \r\nQ 25.390625 66.40625 21.84375 63.234375 \r\nQ 18.3125 60.0625 18.3125 54.390625 \r\nz\r\n\" id=\"DejaVuSans-56\"/>\r\n       </defs>\r\n       <use xlink:href=\"#DejaVuSans-102\"/>\r\n       <use x=\"35.205078\" xlink:href=\"#DejaVuSans-101\"/>\r\n       <use x=\"96.728516\" xlink:href=\"#DejaVuSans-97\"/>\r\n       <use x=\"158.007812\" xlink:href=\"#DejaVuSans-116\"/>\r\n       <use x=\"197.216797\" xlink:href=\"#DejaVuSans-117\"/>\r\n       <use x=\"260.595703\" xlink:href=\"#DejaVuSans-114\"/>\r\n       <use x=\"299.458984\" xlink:href=\"#DejaVuSans-101\"/>\r\n       <use x=\"360.982422\" xlink:href=\"#DejaVuSans-95\"/>\r\n       <use x=\"410.982422\" xlink:href=\"#DejaVuSans-56\"/>\r\n      </g>\r\n     </g>\r\n    </g>\r\n    <g id=\"ytick_15\">\r\n     <g id=\"line2d_16\">\r\n      <g>\r\n       <use style=\"stroke:#000000;stroke-width:0.8;\" x=\"68.023438\" xlink:href=\"#m7cc51b40e0\" y=\"222.340717\"/>\r\n      </g>\r\n     </g>\r\n     <g id=\"text_16\">\r\n      <!-- feature_1 -->\r\n      <g transform=\"translate(13.5625 226.139936)scale(0.1 -0.1)\">\r\n       <use xlink:href=\"#DejaVuSans-102\"/>\r\n       <use x=\"35.205078\" xlink:href=\"#DejaVuSans-101\"/>\r\n       <use x=\"96.728516\" xlink:href=\"#DejaVuSans-97\"/>\r\n       <use x=\"158.007812\" xlink:href=\"#DejaVuSans-116\"/>\r\n       <use x=\"197.216797\" xlink:href=\"#DejaVuSans-117\"/>\r\n       <use x=\"260.595703\" xlink:href=\"#DejaVuSans-114\"/>\r\n       <use x=\"299.458984\" xlink:href=\"#DejaVuSans-101\"/>\r\n       <use x=\"360.982422\" xlink:href=\"#DejaVuSans-95\"/>\r\n       <use x=\"410.982422\" xlink:href=\"#DejaVuSans-49\"/>\r\n      </g>\r\n     </g>\r\n    </g>\r\n    <g id=\"ytick_16\">\r\n     <g id=\"line2d_17\">\r\n      <g>\r\n       <use style=\"stroke:#000000;stroke-width:0.8;\" x=\"68.023438\" xlink:href=\"#m7cc51b40e0\" y=\"235.131305\"/>\r\n      </g>\r\n     </g>\r\n     <g id=\"text_17\">\r\n      <!-- feature_12 -->\r\n      <g transform=\"translate(7.2 238.930524)scale(0.1 -0.1)\">\r\n       <use xlink:href=\"#DejaVuSans-102\"/>\r\n       <use x=\"35.205078\" xlink:href=\"#DejaVuSans-101\"/>\r\n       <use x=\"96.728516\" xlink:href=\"#DejaVuSans-97\"/>\r\n       <use x=\"158.007812\" xlink:href=\"#DejaVuSans-116\"/>\r\n       <use x=\"197.216797\" xlink:href=\"#DejaVuSans-117\"/>\r\n       <use x=\"260.595703\" xlink:href=\"#DejaVuSans-114\"/>\r\n       <use x=\"299.458984\" xlink:href=\"#DejaVuSans-101\"/>\r\n       <use x=\"360.982422\" xlink:href=\"#DejaVuSans-95\"/>\r\n       <use x=\"410.982422\" xlink:href=\"#DejaVuSans-49\"/>\r\n       <use x=\"474.605469\" xlink:href=\"#DejaVuSans-50\"/>\r\n      </g>\r\n     </g>\r\n    </g>\r\n    <g id=\"ytick_17\">\r\n     <g id=\"line2d_18\">\r\n      <g>\r\n       <use style=\"stroke:#000000;stroke-width:0.8;\" x=\"68.023438\" xlink:href=\"#m7cc51b40e0\" y=\"247.921893\"/>\r\n      </g>\r\n     </g>\r\n     <g id=\"text_18\">\r\n      <!-- feature_42 -->\r\n      <g transform=\"translate(7.2 251.721112)scale(0.1 -0.1)\">\r\n       <use xlink:href=\"#DejaVuSans-102\"/>\r\n       <use x=\"35.205078\" xlink:href=\"#DejaVuSans-101\"/>\r\n       <use x=\"96.728516\" xlink:href=\"#DejaVuSans-97\"/>\r\n       <use x=\"158.007812\" xlink:href=\"#DejaVuSans-116\"/>\r\n       <use x=\"197.216797\" xlink:href=\"#DejaVuSans-117\"/>\r\n       <use x=\"260.595703\" xlink:href=\"#DejaVuSans-114\"/>\r\n       <use x=\"299.458984\" xlink:href=\"#DejaVuSans-101\"/>\r\n       <use x=\"360.982422\" xlink:href=\"#DejaVuSans-95\"/>\r\n       <use x=\"410.982422\" xlink:href=\"#DejaVuSans-52\"/>\r\n       <use x=\"474.605469\" xlink:href=\"#DejaVuSans-50\"/>\r\n      </g>\r\n     </g>\r\n    </g>\r\n    <g id=\"ytick_18\">\r\n     <g id=\"line2d_19\">\r\n      <g>\r\n       <use style=\"stroke:#000000;stroke-width:0.8;\" x=\"68.023438\" xlink:href=\"#m7cc51b40e0\" y=\"260.712482\"/>\r\n      </g>\r\n     </g>\r\n     <g id=\"text_19\">\r\n      <!-- feature_4 -->\r\n      <g transform=\"translate(13.5625 264.5117)scale(0.1 -0.1)\">\r\n       <use xlink:href=\"#DejaVuSans-102\"/>\r\n       <use x=\"35.205078\" xlink:href=\"#DejaVuSans-101\"/>\r\n       <use x=\"96.728516\" xlink:href=\"#DejaVuSans-97\"/>\r\n       <use x=\"158.007812\" xlink:href=\"#DejaVuSans-116\"/>\r\n       <use x=\"197.216797\" xlink:href=\"#DejaVuSans-117\"/>\r\n       <use x=\"260.595703\" xlink:href=\"#DejaVuSans-114\"/>\r\n       <use x=\"299.458984\" xlink:href=\"#DejaVuSans-101\"/>\r\n       <use x=\"360.982422\" xlink:href=\"#DejaVuSans-95\"/>\r\n       <use x=\"410.982422\" xlink:href=\"#DejaVuSans-52\"/>\r\n      </g>\r\n     </g>\r\n    </g>\r\n    <g id=\"ytick_19\">\r\n     <g id=\"line2d_20\">\r\n      <g>\r\n       <use style=\"stroke:#000000;stroke-width:0.8;\" x=\"68.023438\" xlink:href=\"#m7cc51b40e0\" y=\"273.50307\"/>\r\n      </g>\r\n     </g>\r\n     <g id=\"text_20\">\r\n      <!-- feature_3 -->\r\n      <g transform=\"translate(13.5625 277.302289)scale(0.1 -0.1)\">\r\n       <use xlink:href=\"#DejaVuSans-102\"/>\r\n       <use x=\"35.205078\" xlink:href=\"#DejaVuSans-101\"/>\r\n       <use x=\"96.728516\" xlink:href=\"#DejaVuSans-97\"/>\r\n       <use x=\"158.007812\" xlink:href=\"#DejaVuSans-116\"/>\r\n       <use x=\"197.216797\" xlink:href=\"#DejaVuSans-117\"/>\r\n       <use x=\"260.595703\" xlink:href=\"#DejaVuSans-114\"/>\r\n       <use x=\"299.458984\" xlink:href=\"#DejaVuSans-101\"/>\r\n       <use x=\"360.982422\" xlink:href=\"#DejaVuSans-95\"/>\r\n       <use x=\"410.982422\" xlink:href=\"#DejaVuSans-51\"/>\r\n      </g>\r\n     </g>\r\n    </g>\r\n    <g id=\"ytick_20\">\r\n     <g id=\"line2d_21\">\r\n      <g>\r\n       <use style=\"stroke:#000000;stroke-width:0.8;\" x=\"68.023438\" xlink:href=\"#m7cc51b40e0\" y=\"286.293658\"/>\r\n      </g>\r\n     </g>\r\n     <g id=\"text_21\">\r\n      <!-- feature_11 -->\r\n      <g transform=\"translate(7.2 290.092877)scale(0.1 -0.1)\">\r\n       <use xlink:href=\"#DejaVuSans-102\"/>\r\n       <use x=\"35.205078\" xlink:href=\"#DejaVuSans-101\"/>\r\n       <use x=\"96.728516\" xlink:href=\"#DejaVuSans-97\"/>\r\n       <use x=\"158.007812\" xlink:href=\"#DejaVuSans-116\"/>\r\n       <use x=\"197.216797\" xlink:href=\"#DejaVuSans-117\"/>\r\n       <use x=\"260.595703\" xlink:href=\"#DejaVuSans-114\"/>\r\n       <use x=\"299.458984\" xlink:href=\"#DejaVuSans-101\"/>\r\n       <use x=\"360.982422\" xlink:href=\"#DejaVuSans-95\"/>\r\n       <use x=\"410.982422\" xlink:href=\"#DejaVuSans-49\"/>\r\n       <use x=\"474.605469\" xlink:href=\"#DejaVuSans-49\"/>\r\n      </g>\r\n     </g>\r\n    </g>\r\n    <g id=\"ytick_21\">\r\n     <g id=\"line2d_22\">\r\n      <g>\r\n       <use style=\"stroke:#000000;stroke-width:0.8;\" x=\"68.023438\" xlink:href=\"#m7cc51b40e0\" y=\"299.084246\"/>\r\n      </g>\r\n     </g>\r\n     <g id=\"text_22\">\r\n      <!-- feature_38 -->\r\n      <g transform=\"translate(7.2 302.883465)scale(0.1 -0.1)\">\r\n       <use xlink:href=\"#DejaVuSans-102\"/>\r\n       <use x=\"35.205078\" xlink:href=\"#DejaVuSans-101\"/>\r\n       <use x=\"96.728516\" xlink:href=\"#DejaVuSans-97\"/>\r\n       <use x=\"158.007812\" xlink:href=\"#DejaVuSans-116\"/>\r\n       <use x=\"197.216797\" xlink:href=\"#DejaVuSans-117\"/>\r\n       <use x=\"260.595703\" xlink:href=\"#DejaVuSans-114\"/>\r\n       <use x=\"299.458984\" xlink:href=\"#DejaVuSans-101\"/>\r\n       <use x=\"360.982422\" xlink:href=\"#DejaVuSans-95\"/>\r\n       <use x=\"410.982422\" xlink:href=\"#DejaVuSans-51\"/>\r\n       <use x=\"474.605469\" xlink:href=\"#DejaVuSans-56\"/>\r\n      </g>\r\n     </g>\r\n    </g>\r\n    <g id=\"ytick_22\">\r\n     <g id=\"line2d_23\">\r\n      <g>\r\n       <use style=\"stroke:#000000;stroke-width:0.8;\" x=\"68.023438\" xlink:href=\"#m7cc51b40e0\" y=\"311.874835\"/>\r\n      </g>\r\n     </g>\r\n     <g id=\"text_23\">\r\n      <!-- feature_48 -->\r\n      <g transform=\"translate(7.2 315.674053)scale(0.1 -0.1)\">\r\n       <use xlink:href=\"#DejaVuSans-102\"/>\r\n       <use x=\"35.205078\" xlink:href=\"#DejaVuSans-101\"/>\r\n       <use x=\"96.728516\" xlink:href=\"#DejaVuSans-97\"/>\r\n       <use x=\"158.007812\" xlink:href=\"#DejaVuSans-116\"/>\r\n       <use x=\"197.216797\" xlink:href=\"#DejaVuSans-117\"/>\r\n       <use x=\"260.595703\" xlink:href=\"#DejaVuSans-114\"/>\r\n       <use x=\"299.458984\" xlink:href=\"#DejaVuSans-101\"/>\r\n       <use x=\"360.982422\" xlink:href=\"#DejaVuSans-95\"/>\r\n       <use x=\"410.982422\" xlink:href=\"#DejaVuSans-52\"/>\r\n       <use x=\"474.605469\" xlink:href=\"#DejaVuSans-56\"/>\r\n      </g>\r\n     </g>\r\n    </g>\r\n    <g id=\"ytick_23\">\r\n     <g id=\"line2d_24\">\r\n      <g>\r\n       <use style=\"stroke:#000000;stroke-width:0.8;\" x=\"68.023438\" xlink:href=\"#m7cc51b40e0\" y=\"324.665423\"/>\r\n      </g>\r\n     </g>\r\n     <g id=\"text_24\">\r\n      <!-- feature_22 -->\r\n      <g transform=\"translate(7.2 328.464642)scale(0.1 -0.1)\">\r\n       <use xlink:href=\"#DejaVuSans-102\"/>\r\n       <use x=\"35.205078\" xlink:href=\"#DejaVuSans-101\"/>\r\n       <use x=\"96.728516\" xlink:href=\"#DejaVuSans-97\"/>\r\n       <use x=\"158.007812\" xlink:href=\"#DejaVuSans-116\"/>\r\n       <use x=\"197.216797\" xlink:href=\"#DejaVuSans-117\"/>\r\n       <use x=\"260.595703\" xlink:href=\"#DejaVuSans-114\"/>\r\n       <use x=\"299.458984\" xlink:href=\"#DejaVuSans-101\"/>\r\n       <use x=\"360.982422\" xlink:href=\"#DejaVuSans-95\"/>\r\n       <use x=\"410.982422\" xlink:href=\"#DejaVuSans-50\"/>\r\n       <use x=\"474.605469\" xlink:href=\"#DejaVuSans-50\"/>\r\n      </g>\r\n     </g>\r\n    </g>\r\n    <g id=\"ytick_24\">\r\n     <g id=\"line2d_25\">\r\n      <g>\r\n       <use style=\"stroke:#000000;stroke-width:0.8;\" x=\"68.023438\" xlink:href=\"#m7cc51b40e0\" y=\"337.456011\"/>\r\n      </g>\r\n     </g>\r\n     <g id=\"text_25\">\r\n      <!-- feature_49 -->\r\n      <g transform=\"translate(7.2 341.25523)scale(0.1 -0.1)\">\r\n       <use xlink:href=\"#DejaVuSans-102\"/>\r\n       <use x=\"35.205078\" xlink:href=\"#DejaVuSans-101\"/>\r\n       <use x=\"96.728516\" xlink:href=\"#DejaVuSans-97\"/>\r\n       <use x=\"158.007812\" xlink:href=\"#DejaVuSans-116\"/>\r\n       <use x=\"197.216797\" xlink:href=\"#DejaVuSans-117\"/>\r\n       <use x=\"260.595703\" xlink:href=\"#DejaVuSans-114\"/>\r\n       <use x=\"299.458984\" xlink:href=\"#DejaVuSans-101\"/>\r\n       <use x=\"360.982422\" xlink:href=\"#DejaVuSans-95\"/>\r\n       <use x=\"410.982422\" xlink:href=\"#DejaVuSans-52\"/>\r\n       <use x=\"474.605469\" xlink:href=\"#DejaVuSans-57\"/>\r\n      </g>\r\n     </g>\r\n    </g>\r\n    <g id=\"ytick_25\">\r\n     <g id=\"line2d_26\">\r\n      <g>\r\n       <use style=\"stroke:#000000;stroke-width:0.8;\" x=\"68.023438\" xlink:href=\"#m7cc51b40e0\" y=\"350.246599\"/>\r\n      </g>\r\n     </g>\r\n     <g id=\"text_26\">\r\n      <!-- feature_21 -->\r\n      <g transform=\"translate(7.2 354.045818)scale(0.1 -0.1)\">\r\n       <use xlink:href=\"#DejaVuSans-102\"/>\r\n       <use x=\"35.205078\" xlink:href=\"#DejaVuSans-101\"/>\r\n       <use x=\"96.728516\" xlink:href=\"#DejaVuSans-97\"/>\r\n       <use x=\"158.007812\" xlink:href=\"#DejaVuSans-116\"/>\r\n       <use x=\"197.216797\" xlink:href=\"#DejaVuSans-117\"/>\r\n       <use x=\"260.595703\" xlink:href=\"#DejaVuSans-114\"/>\r\n       <use x=\"299.458984\" xlink:href=\"#DejaVuSans-101\"/>\r\n       <use x=\"360.982422\" xlink:href=\"#DejaVuSans-95\"/>\r\n       <use x=\"410.982422\" xlink:href=\"#DejaVuSans-50\"/>\r\n       <use x=\"474.605469\" xlink:href=\"#DejaVuSans-49\"/>\r\n      </g>\r\n     </g>\r\n    </g>\r\n    <g id=\"ytick_26\">\r\n     <g id=\"line2d_27\">\r\n      <g>\r\n       <use style=\"stroke:#000000;stroke-width:0.8;\" x=\"68.023438\" xlink:href=\"#m7cc51b40e0\" y=\"363.037187\"/>\r\n      </g>\r\n     </g>\r\n     <g id=\"text_27\">\r\n      <!-- feature_5 -->\r\n      <g transform=\"translate(13.5625 366.836406)scale(0.1 -0.1)\">\r\n       <defs>\r\n        <path d=\"M 10.796875 72.90625 \r\nL 49.515625 72.90625 \r\nL 49.515625 64.59375 \r\nL 19.828125 64.59375 \r\nL 19.828125 46.734375 \r\nQ 21.96875 47.46875 24.109375 47.828125 \r\nQ 26.265625 48.1875 28.421875 48.1875 \r\nQ 40.625 48.1875 47.75 41.5 \r\nQ 54.890625 34.8125 54.890625 23.390625 \r\nQ 54.890625 11.625 47.5625 5.09375 \r\nQ 40.234375 -1.421875 26.90625 -1.421875 \r\nQ 22.3125 -1.421875 17.546875 -0.640625 \r\nQ 12.796875 0.140625 7.71875 1.703125 \r\nL 7.71875 11.625 \r\nQ 12.109375 9.234375 16.796875 8.0625 \r\nQ 21.484375 6.890625 26.703125 6.890625 \r\nQ 35.15625 6.890625 40.078125 11.328125 \r\nQ 45.015625 15.765625 45.015625 23.390625 \r\nQ 45.015625 31 40.078125 35.4375 \r\nQ 35.15625 39.890625 26.703125 39.890625 \r\nQ 22.75 39.890625 18.8125 39.015625 \r\nQ 14.890625 38.140625 10.796875 36.28125 \r\nz\r\n\" id=\"DejaVuSans-53\"/>\r\n       </defs>\r\n       <use xlink:href=\"#DejaVuSans-102\"/>\r\n       <use x=\"35.205078\" xlink:href=\"#DejaVuSans-101\"/>\r\n       <use x=\"96.728516\" xlink:href=\"#DejaVuSans-97\"/>\r\n       <use x=\"158.007812\" xlink:href=\"#DejaVuSans-116\"/>\r\n       <use x=\"197.216797\" xlink:href=\"#DejaVuSans-117\"/>\r\n       <use x=\"260.595703\" xlink:href=\"#DejaVuSans-114\"/>\r\n       <use x=\"299.458984\" xlink:href=\"#DejaVuSans-101\"/>\r\n       <use x=\"360.982422\" xlink:href=\"#DejaVuSans-95\"/>\r\n       <use x=\"410.982422\" xlink:href=\"#DejaVuSans-53\"/>\r\n      </g>\r\n     </g>\r\n    </g>\r\n    <g id=\"ytick_27\">\r\n     <g id=\"line2d_28\">\r\n      <g>\r\n       <use style=\"stroke:#000000;stroke-width:0.8;\" x=\"68.023438\" xlink:href=\"#m7cc51b40e0\" y=\"375.827776\"/>\r\n      </g>\r\n     </g>\r\n     <g id=\"text_28\">\r\n      <!-- feature_40 -->\r\n      <g transform=\"translate(7.2 379.626994)scale(0.1 -0.1)\">\r\n       <use xlink:href=\"#DejaVuSans-102\"/>\r\n       <use x=\"35.205078\" xlink:href=\"#DejaVuSans-101\"/>\r\n       <use x=\"96.728516\" xlink:href=\"#DejaVuSans-97\"/>\r\n       <use x=\"158.007812\" xlink:href=\"#DejaVuSans-116\"/>\r\n       <use x=\"197.216797\" xlink:href=\"#DejaVuSans-117\"/>\r\n       <use x=\"260.595703\" xlink:href=\"#DejaVuSans-114\"/>\r\n       <use x=\"299.458984\" xlink:href=\"#DejaVuSans-101\"/>\r\n       <use x=\"360.982422\" xlink:href=\"#DejaVuSans-95\"/>\r\n       <use x=\"410.982422\" xlink:href=\"#DejaVuSans-52\"/>\r\n       <use x=\"474.605469\" xlink:href=\"#DejaVuSans-48\"/>\r\n      </g>\r\n     </g>\r\n    </g>\r\n    <g id=\"ytick_28\">\r\n     <g id=\"line2d_29\">\r\n      <g>\r\n       <use style=\"stroke:#000000;stroke-width:0.8;\" x=\"68.023438\" xlink:href=\"#m7cc51b40e0\" y=\"388.618364\"/>\r\n      </g>\r\n     </g>\r\n     <g id=\"text_29\">\r\n      <!-- feature_23 -->\r\n      <g transform=\"translate(7.2 392.417583)scale(0.1 -0.1)\">\r\n       <use xlink:href=\"#DejaVuSans-102\"/>\r\n       <use x=\"35.205078\" xlink:href=\"#DejaVuSans-101\"/>\r\n       <use x=\"96.728516\" xlink:href=\"#DejaVuSans-97\"/>\r\n       <use x=\"158.007812\" xlink:href=\"#DejaVuSans-116\"/>\r\n       <use x=\"197.216797\" xlink:href=\"#DejaVuSans-117\"/>\r\n       <use x=\"260.595703\" xlink:href=\"#DejaVuSans-114\"/>\r\n       <use x=\"299.458984\" xlink:href=\"#DejaVuSans-101\"/>\r\n       <use x=\"360.982422\" xlink:href=\"#DejaVuSans-95\"/>\r\n       <use x=\"410.982422\" xlink:href=\"#DejaVuSans-50\"/>\r\n       <use x=\"474.605469\" xlink:href=\"#DejaVuSans-51\"/>\r\n      </g>\r\n     </g>\r\n    </g>\r\n    <g id=\"ytick_29\">\r\n     <g id=\"line2d_30\">\r\n      <g>\r\n       <use style=\"stroke:#000000;stroke-width:0.8;\" x=\"68.023438\" xlink:href=\"#m7cc51b40e0\" y=\"401.408952\"/>\r\n      </g>\r\n     </g>\r\n     <g id=\"text_30\">\r\n      <!-- feature_17 -->\r\n      <g transform=\"translate(7.2 405.208171)scale(0.1 -0.1)\">\r\n       <use xlink:href=\"#DejaVuSans-102\"/>\r\n       <use x=\"35.205078\" xlink:href=\"#DejaVuSans-101\"/>\r\n       <use x=\"96.728516\" xlink:href=\"#DejaVuSans-97\"/>\r\n       <use x=\"158.007812\" xlink:href=\"#DejaVuSans-116\"/>\r\n       <use x=\"197.216797\" xlink:href=\"#DejaVuSans-117\"/>\r\n       <use x=\"260.595703\" xlink:href=\"#DejaVuSans-114\"/>\r\n       <use x=\"299.458984\" xlink:href=\"#DejaVuSans-101\"/>\r\n       <use x=\"360.982422\" xlink:href=\"#DejaVuSans-95\"/>\r\n       <use x=\"410.982422\" xlink:href=\"#DejaVuSans-49\"/>\r\n       <use x=\"474.605469\" xlink:href=\"#DejaVuSans-55\"/>\r\n      </g>\r\n     </g>\r\n    </g>\r\n    <g id=\"ytick_30\">\r\n     <g id=\"line2d_31\">\r\n      <g>\r\n       <use style=\"stroke:#000000;stroke-width:0.8;\" x=\"68.023438\" xlink:href=\"#m7cc51b40e0\" y=\"414.19954\"/>\r\n      </g>\r\n     </g>\r\n     <g id=\"text_31\">\r\n      <!-- feature_7 -->\r\n      <g transform=\"translate(13.5625 417.998759)scale(0.1 -0.1)\">\r\n       <use xlink:href=\"#DejaVuSans-102\"/>\r\n       <use x=\"35.205078\" xlink:href=\"#DejaVuSans-101\"/>\r\n       <use x=\"96.728516\" xlink:href=\"#DejaVuSans-97\"/>\r\n       <use x=\"158.007812\" xlink:href=\"#DejaVuSans-116\"/>\r\n       <use x=\"197.216797\" xlink:href=\"#DejaVuSans-117\"/>\r\n       <use x=\"260.595703\" xlink:href=\"#DejaVuSans-114\"/>\r\n       <use x=\"299.458984\" xlink:href=\"#DejaVuSans-101\"/>\r\n       <use x=\"360.982422\" xlink:href=\"#DejaVuSans-95\"/>\r\n       <use x=\"410.982422\" xlink:href=\"#DejaVuSans-55\"/>\r\n      </g>\r\n     </g>\r\n    </g>\r\n    <g id=\"ytick_31\">\r\n     <g id=\"line2d_32\">\r\n      <g>\r\n       <use style=\"stroke:#000000;stroke-width:0.8;\" x=\"68.023438\" xlink:href=\"#m7cc51b40e0\" y=\"426.990129\"/>\r\n      </g>\r\n     </g>\r\n     <g id=\"text_32\">\r\n      <!-- feature_41 -->\r\n      <g transform=\"translate(7.2 430.789347)scale(0.1 -0.1)\">\r\n       <use xlink:href=\"#DejaVuSans-102\"/>\r\n       <use x=\"35.205078\" xlink:href=\"#DejaVuSans-101\"/>\r\n       <use x=\"96.728516\" xlink:href=\"#DejaVuSans-97\"/>\r\n       <use x=\"158.007812\" xlink:href=\"#DejaVuSans-116\"/>\r\n       <use x=\"197.216797\" xlink:href=\"#DejaVuSans-117\"/>\r\n       <use x=\"260.595703\" xlink:href=\"#DejaVuSans-114\"/>\r\n       <use x=\"299.458984\" xlink:href=\"#DejaVuSans-101\"/>\r\n       <use x=\"360.982422\" xlink:href=\"#DejaVuSans-95\"/>\r\n       <use x=\"410.982422\" xlink:href=\"#DejaVuSans-52\"/>\r\n       <use x=\"474.605469\" xlink:href=\"#DejaVuSans-49\"/>\r\n      </g>\r\n     </g>\r\n    </g>\r\n    <g id=\"ytick_32\">\r\n     <g id=\"line2d_33\">\r\n      <g>\r\n       <use style=\"stroke:#000000;stroke-width:0.8;\" x=\"68.023438\" xlink:href=\"#m7cc51b40e0\" y=\"439.780717\"/>\r\n      </g>\r\n     </g>\r\n     <g id=\"text_33\">\r\n      <!-- feature_32 -->\r\n      <g transform=\"translate(7.2 443.579936)scale(0.1 -0.1)\">\r\n       <use xlink:href=\"#DejaVuSans-102\"/>\r\n       <use x=\"35.205078\" xlink:href=\"#DejaVuSans-101\"/>\r\n       <use x=\"96.728516\" xlink:href=\"#DejaVuSans-97\"/>\r\n       <use x=\"158.007812\" xlink:href=\"#DejaVuSans-116\"/>\r\n       <use x=\"197.216797\" xlink:href=\"#DejaVuSans-117\"/>\r\n       <use x=\"260.595703\" xlink:href=\"#DejaVuSans-114\"/>\r\n       <use x=\"299.458984\" xlink:href=\"#DejaVuSans-101\"/>\r\n       <use x=\"360.982422\" xlink:href=\"#DejaVuSans-95\"/>\r\n       <use x=\"410.982422\" xlink:href=\"#DejaVuSans-51\"/>\r\n       <use x=\"474.605469\" xlink:href=\"#DejaVuSans-50\"/>\r\n      </g>\r\n     </g>\r\n    </g>\r\n    <g id=\"ytick_33\">\r\n     <g id=\"line2d_34\">\r\n      <g>\r\n       <use style=\"stroke:#000000;stroke-width:0.8;\" x=\"68.023438\" xlink:href=\"#m7cc51b40e0\" y=\"452.571305\"/>\r\n      </g>\r\n     </g>\r\n     <g id=\"text_34\">\r\n      <!-- feature_35 -->\r\n      <g transform=\"translate(7.2 456.370524)scale(0.1 -0.1)\">\r\n       <use xlink:href=\"#DejaVuSans-102\"/>\r\n       <use x=\"35.205078\" xlink:href=\"#DejaVuSans-101\"/>\r\n       <use x=\"96.728516\" xlink:href=\"#DejaVuSans-97\"/>\r\n       <use x=\"158.007812\" xlink:href=\"#DejaVuSans-116\"/>\r\n       <use x=\"197.216797\" xlink:href=\"#DejaVuSans-117\"/>\r\n       <use x=\"260.595703\" xlink:href=\"#DejaVuSans-114\"/>\r\n       <use x=\"299.458984\" xlink:href=\"#DejaVuSans-101\"/>\r\n       <use x=\"360.982422\" xlink:href=\"#DejaVuSans-95\"/>\r\n       <use x=\"410.982422\" xlink:href=\"#DejaVuSans-51\"/>\r\n       <use x=\"474.605469\" xlink:href=\"#DejaVuSans-53\"/>\r\n      </g>\r\n     </g>\r\n    </g>\r\n    <g id=\"ytick_34\">\r\n     <g id=\"line2d_35\">\r\n      <g>\r\n       <use style=\"stroke:#000000;stroke-width:0.8;\" x=\"68.023438\" xlink:href=\"#m7cc51b40e0\" y=\"465.361893\"/>\r\n      </g>\r\n     </g>\r\n     <g id=\"text_35\">\r\n      <!-- feature_18 -->\r\n      <g transform=\"translate(7.2 469.161112)scale(0.1 -0.1)\">\r\n       <use xlink:href=\"#DejaVuSans-102\"/>\r\n       <use x=\"35.205078\" xlink:href=\"#DejaVuSans-101\"/>\r\n       <use x=\"96.728516\" xlink:href=\"#DejaVuSans-97\"/>\r\n       <use x=\"158.007812\" xlink:href=\"#DejaVuSans-116\"/>\r\n       <use x=\"197.216797\" xlink:href=\"#DejaVuSans-117\"/>\r\n       <use x=\"260.595703\" xlink:href=\"#DejaVuSans-114\"/>\r\n       <use x=\"299.458984\" xlink:href=\"#DejaVuSans-101\"/>\r\n       <use x=\"360.982422\" xlink:href=\"#DejaVuSans-95\"/>\r\n       <use x=\"410.982422\" xlink:href=\"#DejaVuSans-49\"/>\r\n       <use x=\"474.605469\" xlink:href=\"#DejaVuSans-56\"/>\r\n      </g>\r\n     </g>\r\n    </g>\r\n    <g id=\"ytick_35\">\r\n     <g id=\"line2d_36\">\r\n      <g>\r\n       <use style=\"stroke:#000000;stroke-width:0.8;\" x=\"68.023438\" xlink:href=\"#m7cc51b40e0\" y=\"478.152482\"/>\r\n      </g>\r\n     </g>\r\n     <g id=\"text_36\">\r\n      <!-- feature_46 -->\r\n      <g transform=\"translate(7.2 481.9517)scale(0.1 -0.1)\">\r\n       <use xlink:href=\"#DejaVuSans-102\"/>\r\n       <use x=\"35.205078\" xlink:href=\"#DejaVuSans-101\"/>\r\n       <use x=\"96.728516\" xlink:href=\"#DejaVuSans-97\"/>\r\n       <use x=\"158.007812\" xlink:href=\"#DejaVuSans-116\"/>\r\n       <use x=\"197.216797\" xlink:href=\"#DejaVuSans-117\"/>\r\n       <use x=\"260.595703\" xlink:href=\"#DejaVuSans-114\"/>\r\n       <use x=\"299.458984\" xlink:href=\"#DejaVuSans-101\"/>\r\n       <use x=\"360.982422\" xlink:href=\"#DejaVuSans-95\"/>\r\n       <use x=\"410.982422\" xlink:href=\"#DejaVuSans-52\"/>\r\n       <use x=\"474.605469\" xlink:href=\"#DejaVuSans-54\"/>\r\n      </g>\r\n     </g>\r\n    </g>\r\n    <g id=\"ytick_36\">\r\n     <g id=\"line2d_37\">\r\n      <g>\r\n       <use style=\"stroke:#000000;stroke-width:0.8;\" x=\"68.023438\" xlink:href=\"#m7cc51b40e0\" y=\"490.94307\"/>\r\n      </g>\r\n     </g>\r\n     <g id=\"text_37\">\r\n      <!-- feature_45 -->\r\n      <g transform=\"translate(7.2 494.742289)scale(0.1 -0.1)\">\r\n       <use xlink:href=\"#DejaVuSans-102\"/>\r\n       <use x=\"35.205078\" xlink:href=\"#DejaVuSans-101\"/>\r\n       <use x=\"96.728516\" xlink:href=\"#DejaVuSans-97\"/>\r\n       <use x=\"158.007812\" xlink:href=\"#DejaVuSans-116\"/>\r\n       <use x=\"197.216797\" xlink:href=\"#DejaVuSans-117\"/>\r\n       <use x=\"260.595703\" xlink:href=\"#DejaVuSans-114\"/>\r\n       <use x=\"299.458984\" xlink:href=\"#DejaVuSans-101\"/>\r\n       <use x=\"360.982422\" xlink:href=\"#DejaVuSans-95\"/>\r\n       <use x=\"410.982422\" xlink:href=\"#DejaVuSans-52\"/>\r\n       <use x=\"474.605469\" xlink:href=\"#DejaVuSans-53\"/>\r\n      </g>\r\n     </g>\r\n    </g>\r\n    <g id=\"ytick_37\">\r\n     <g id=\"line2d_38\">\r\n      <g>\r\n       <use style=\"stroke:#000000;stroke-width:0.8;\" x=\"68.023438\" xlink:href=\"#m7cc51b40e0\" y=\"503.733658\"/>\r\n      </g>\r\n     </g>\r\n     <g id=\"text_38\">\r\n      <!-- feature_19 -->\r\n      <g transform=\"translate(7.2 507.532877)scale(0.1 -0.1)\">\r\n       <use xlink:href=\"#DejaVuSans-102\"/>\r\n       <use x=\"35.205078\" xlink:href=\"#DejaVuSans-101\"/>\r\n       <use x=\"96.728516\" xlink:href=\"#DejaVuSans-97\"/>\r\n       <use x=\"158.007812\" xlink:href=\"#DejaVuSans-116\"/>\r\n       <use x=\"197.216797\" xlink:href=\"#DejaVuSans-117\"/>\r\n       <use x=\"260.595703\" xlink:href=\"#DejaVuSans-114\"/>\r\n       <use x=\"299.458984\" xlink:href=\"#DejaVuSans-101\"/>\r\n       <use x=\"360.982422\" xlink:href=\"#DejaVuSans-95\"/>\r\n       <use x=\"410.982422\" xlink:href=\"#DejaVuSans-49\"/>\r\n       <use x=\"474.605469\" xlink:href=\"#DejaVuSans-57\"/>\r\n      </g>\r\n     </g>\r\n    </g>\r\n    <g id=\"ytick_38\">\r\n     <g id=\"line2d_39\">\r\n      <g>\r\n       <use style=\"stroke:#000000;stroke-width:0.8;\" x=\"68.023438\" xlink:href=\"#m7cc51b40e0\" y=\"516.524246\"/>\r\n      </g>\r\n     </g>\r\n     <g id=\"text_39\">\r\n      <!-- feature_24 -->\r\n      <g transform=\"translate(7.2 520.323465)scale(0.1 -0.1)\">\r\n       <use xlink:href=\"#DejaVuSans-102\"/>\r\n       <use x=\"35.205078\" xlink:href=\"#DejaVuSans-101\"/>\r\n       <use x=\"96.728516\" xlink:href=\"#DejaVuSans-97\"/>\r\n       <use x=\"158.007812\" xlink:href=\"#DejaVuSans-116\"/>\r\n       <use x=\"197.216797\" xlink:href=\"#DejaVuSans-117\"/>\r\n       <use x=\"260.595703\" xlink:href=\"#DejaVuSans-114\"/>\r\n       <use x=\"299.458984\" xlink:href=\"#DejaVuSans-101\"/>\r\n       <use x=\"360.982422\" xlink:href=\"#DejaVuSans-95\"/>\r\n       <use x=\"410.982422\" xlink:href=\"#DejaVuSans-50\"/>\r\n       <use x=\"474.605469\" xlink:href=\"#DejaVuSans-52\"/>\r\n      </g>\r\n     </g>\r\n    </g>\r\n    <g id=\"ytick_39\">\r\n     <g id=\"line2d_40\">\r\n      <g>\r\n       <use style=\"stroke:#000000;stroke-width:0.8;\" x=\"68.023438\" xlink:href=\"#m7cc51b40e0\" y=\"529.314835\"/>\r\n      </g>\r\n     </g>\r\n     <g id=\"text_40\">\r\n      <!-- feature_10 -->\r\n      <g transform=\"translate(7.2 533.114053)scale(0.1 -0.1)\">\r\n       <use xlink:href=\"#DejaVuSans-102\"/>\r\n       <use x=\"35.205078\" xlink:href=\"#DejaVuSans-101\"/>\r\n       <use x=\"96.728516\" xlink:href=\"#DejaVuSans-97\"/>\r\n       <use x=\"158.007812\" xlink:href=\"#DejaVuSans-116\"/>\r\n       <use x=\"197.216797\" xlink:href=\"#DejaVuSans-117\"/>\r\n       <use x=\"260.595703\" xlink:href=\"#DejaVuSans-114\"/>\r\n       <use x=\"299.458984\" xlink:href=\"#DejaVuSans-101\"/>\r\n       <use x=\"360.982422\" xlink:href=\"#DejaVuSans-95\"/>\r\n       <use x=\"410.982422\" xlink:href=\"#DejaVuSans-49\"/>\r\n       <use x=\"474.605469\" xlink:href=\"#DejaVuSans-48\"/>\r\n      </g>\r\n     </g>\r\n    </g>\r\n    <g id=\"ytick_40\">\r\n     <g id=\"line2d_41\">\r\n      <g>\r\n       <use style=\"stroke:#000000;stroke-width:0.8;\" x=\"68.023438\" xlink:href=\"#m7cc51b40e0\" y=\"542.105423\"/>\r\n      </g>\r\n     </g>\r\n     <g id=\"text_41\">\r\n      <!-- feature_9 -->\r\n      <g transform=\"translate(13.5625 545.904642)scale(0.1 -0.1)\">\r\n       <use xlink:href=\"#DejaVuSans-102\"/>\r\n       <use x=\"35.205078\" xlink:href=\"#DejaVuSans-101\"/>\r\n       <use x=\"96.728516\" xlink:href=\"#DejaVuSans-97\"/>\r\n       <use x=\"158.007812\" xlink:href=\"#DejaVuSans-116\"/>\r\n       <use x=\"197.216797\" xlink:href=\"#DejaVuSans-117\"/>\r\n       <use x=\"260.595703\" xlink:href=\"#DejaVuSans-114\"/>\r\n       <use x=\"299.458984\" xlink:href=\"#DejaVuSans-101\"/>\r\n       <use x=\"360.982422\" xlink:href=\"#DejaVuSans-95\"/>\r\n       <use x=\"410.982422\" xlink:href=\"#DejaVuSans-57\"/>\r\n      </g>\r\n     </g>\r\n    </g>\r\n    <g id=\"ytick_41\">\r\n     <g id=\"line2d_42\">\r\n      <g>\r\n       <use style=\"stroke:#000000;stroke-width:0.8;\" x=\"68.023438\" xlink:href=\"#m7cc51b40e0\" y=\"554.896011\"/>\r\n      </g>\r\n     </g>\r\n     <g id=\"text_42\">\r\n      <!-- feature_16 -->\r\n      <g transform=\"translate(7.2 558.69523)scale(0.1 -0.1)\">\r\n       <use xlink:href=\"#DejaVuSans-102\"/>\r\n       <use x=\"35.205078\" xlink:href=\"#DejaVuSans-101\"/>\r\n       <use x=\"96.728516\" xlink:href=\"#DejaVuSans-97\"/>\r\n       <use x=\"158.007812\" xlink:href=\"#DejaVuSans-116\"/>\r\n       <use x=\"197.216797\" xlink:href=\"#DejaVuSans-117\"/>\r\n       <use x=\"260.595703\" xlink:href=\"#DejaVuSans-114\"/>\r\n       <use x=\"299.458984\" xlink:href=\"#DejaVuSans-101\"/>\r\n       <use x=\"360.982422\" xlink:href=\"#DejaVuSans-95\"/>\r\n       <use x=\"410.982422\" xlink:href=\"#DejaVuSans-49\"/>\r\n       <use x=\"474.605469\" xlink:href=\"#DejaVuSans-54\"/>\r\n      </g>\r\n     </g>\r\n    </g>\r\n    <g id=\"ytick_42\">\r\n     <g id=\"line2d_43\">\r\n      <g>\r\n       <use style=\"stroke:#000000;stroke-width:0.8;\" x=\"68.023438\" xlink:href=\"#m7cc51b40e0\" y=\"567.686599\"/>\r\n      </g>\r\n     </g>\r\n     <g id=\"text_43\">\r\n      <!-- feature_31 -->\r\n      <g transform=\"translate(7.2 571.485818)scale(0.1 -0.1)\">\r\n       <use xlink:href=\"#DejaVuSans-102\"/>\r\n       <use x=\"35.205078\" xlink:href=\"#DejaVuSans-101\"/>\r\n       <use x=\"96.728516\" xlink:href=\"#DejaVuSans-97\"/>\r\n       <use x=\"158.007812\" xlink:href=\"#DejaVuSans-116\"/>\r\n       <use x=\"197.216797\" xlink:href=\"#DejaVuSans-117\"/>\r\n       <use x=\"260.595703\" xlink:href=\"#DejaVuSans-114\"/>\r\n       <use x=\"299.458984\" xlink:href=\"#DejaVuSans-101\"/>\r\n       <use x=\"360.982422\" xlink:href=\"#DejaVuSans-95\"/>\r\n       <use x=\"410.982422\" xlink:href=\"#DejaVuSans-51\"/>\r\n       <use x=\"474.605469\" xlink:href=\"#DejaVuSans-49\"/>\r\n      </g>\r\n     </g>\r\n    </g>\r\n    <g id=\"ytick_43\">\r\n     <g id=\"line2d_44\">\r\n      <g>\r\n       <use style=\"stroke:#000000;stroke-width:0.8;\" x=\"68.023438\" xlink:href=\"#m7cc51b40e0\" y=\"580.477188\"/>\r\n      </g>\r\n     </g>\r\n     <g id=\"text_44\">\r\n      <!-- feature_20 -->\r\n      <g transform=\"translate(7.2 584.276406)scale(0.1 -0.1)\">\r\n       <use xlink:href=\"#DejaVuSans-102\"/>\r\n       <use x=\"35.205078\" xlink:href=\"#DejaVuSans-101\"/>\r\n       <use x=\"96.728516\" xlink:href=\"#DejaVuSans-97\"/>\r\n       <use x=\"158.007812\" xlink:href=\"#DejaVuSans-116\"/>\r\n       <use x=\"197.216797\" xlink:href=\"#DejaVuSans-117\"/>\r\n       <use x=\"260.595703\" xlink:href=\"#DejaVuSans-114\"/>\r\n       <use x=\"299.458984\" xlink:href=\"#DejaVuSans-101\"/>\r\n       <use x=\"360.982422\" xlink:href=\"#DejaVuSans-95\"/>\r\n       <use x=\"410.982422\" xlink:href=\"#DejaVuSans-50\"/>\r\n       <use x=\"474.605469\" xlink:href=\"#DejaVuSans-48\"/>\r\n      </g>\r\n     </g>\r\n    </g>\r\n    <g id=\"ytick_44\">\r\n     <g id=\"line2d_45\">\r\n      <g>\r\n       <use style=\"stroke:#000000;stroke-width:0.8;\" x=\"68.023438\" xlink:href=\"#m7cc51b40e0\" y=\"593.267776\"/>\r\n      </g>\r\n     </g>\r\n     <g id=\"text_45\">\r\n      <!-- feature_28 -->\r\n      <g transform=\"translate(7.2 597.066994)scale(0.1 -0.1)\">\r\n       <use xlink:href=\"#DejaVuSans-102\"/>\r\n       <use x=\"35.205078\" xlink:href=\"#DejaVuSans-101\"/>\r\n       <use x=\"96.728516\" xlink:href=\"#DejaVuSans-97\"/>\r\n       <use x=\"158.007812\" xlink:href=\"#DejaVuSans-116\"/>\r\n       <use x=\"197.216797\" xlink:href=\"#DejaVuSans-117\"/>\r\n       <use x=\"260.595703\" xlink:href=\"#DejaVuSans-114\"/>\r\n       <use x=\"299.458984\" xlink:href=\"#DejaVuSans-101\"/>\r\n       <use x=\"360.982422\" xlink:href=\"#DejaVuSans-95\"/>\r\n       <use x=\"410.982422\" xlink:href=\"#DejaVuSans-50\"/>\r\n       <use x=\"474.605469\" xlink:href=\"#DejaVuSans-56\"/>\r\n      </g>\r\n     </g>\r\n    </g>\r\n    <g id=\"ytick_45\">\r\n     <g id=\"line2d_46\">\r\n      <g>\r\n       <use style=\"stroke:#000000;stroke-width:0.8;\" x=\"68.023438\" xlink:href=\"#m7cc51b40e0\" y=\"606.058364\"/>\r\n      </g>\r\n     </g>\r\n     <g id=\"text_46\">\r\n      <!-- feature_25 -->\r\n      <g transform=\"translate(7.2 609.857583)scale(0.1 -0.1)\">\r\n       <use xlink:href=\"#DejaVuSans-102\"/>\r\n       <use x=\"35.205078\" xlink:href=\"#DejaVuSans-101\"/>\r\n       <use x=\"96.728516\" xlink:href=\"#DejaVuSans-97\"/>\r\n       <use x=\"158.007812\" xlink:href=\"#DejaVuSans-116\"/>\r\n       <use x=\"197.216797\" xlink:href=\"#DejaVuSans-117\"/>\r\n       <use x=\"260.595703\" xlink:href=\"#DejaVuSans-114\"/>\r\n       <use x=\"299.458984\" xlink:href=\"#DejaVuSans-101\"/>\r\n       <use x=\"360.982422\" xlink:href=\"#DejaVuSans-95\"/>\r\n       <use x=\"410.982422\" xlink:href=\"#DejaVuSans-50\"/>\r\n       <use x=\"474.605469\" xlink:href=\"#DejaVuSans-53\"/>\r\n      </g>\r\n     </g>\r\n    </g>\r\n    <g id=\"ytick_46\">\r\n     <g id=\"line2d_47\">\r\n      <g>\r\n       <use style=\"stroke:#000000;stroke-width:0.8;\" x=\"68.023438\" xlink:href=\"#m7cc51b40e0\" y=\"618.848952\"/>\r\n      </g>\r\n     </g>\r\n     <g id=\"text_47\">\r\n      <!-- feature_15 -->\r\n      <g transform=\"translate(7.2 622.648171)scale(0.1 -0.1)\">\r\n       <use xlink:href=\"#DejaVuSans-102\"/>\r\n       <use x=\"35.205078\" xlink:href=\"#DejaVuSans-101\"/>\r\n       <use x=\"96.728516\" xlink:href=\"#DejaVuSans-97\"/>\r\n       <use x=\"158.007812\" xlink:href=\"#DejaVuSans-116\"/>\r\n       <use x=\"197.216797\" xlink:href=\"#DejaVuSans-117\"/>\r\n       <use x=\"260.595703\" xlink:href=\"#DejaVuSans-114\"/>\r\n       <use x=\"299.458984\" xlink:href=\"#DejaVuSans-101\"/>\r\n       <use x=\"360.982422\" xlink:href=\"#DejaVuSans-95\"/>\r\n       <use x=\"410.982422\" xlink:href=\"#DejaVuSans-49\"/>\r\n       <use x=\"474.605469\" xlink:href=\"#DejaVuSans-53\"/>\r\n      </g>\r\n     </g>\r\n    </g>\r\n    <g id=\"ytick_47\">\r\n     <g id=\"line2d_48\">\r\n      <g>\r\n       <use style=\"stroke:#000000;stroke-width:0.8;\" x=\"68.023438\" xlink:href=\"#m7cc51b40e0\" y=\"631.63954\"/>\r\n      </g>\r\n     </g>\r\n     <g id=\"text_48\">\r\n      <!-- feature_29 -->\r\n      <g transform=\"translate(7.2 635.438759)scale(0.1 -0.1)\">\r\n       <use xlink:href=\"#DejaVuSans-102\"/>\r\n       <use x=\"35.205078\" xlink:href=\"#DejaVuSans-101\"/>\r\n       <use x=\"96.728516\" xlink:href=\"#DejaVuSans-97\"/>\r\n       <use x=\"158.007812\" xlink:href=\"#DejaVuSans-116\"/>\r\n       <use x=\"197.216797\" xlink:href=\"#DejaVuSans-117\"/>\r\n       <use x=\"260.595703\" xlink:href=\"#DejaVuSans-114\"/>\r\n       <use x=\"299.458984\" xlink:href=\"#DejaVuSans-101\"/>\r\n       <use x=\"360.982422\" xlink:href=\"#DejaVuSans-95\"/>\r\n       <use x=\"410.982422\" xlink:href=\"#DejaVuSans-50\"/>\r\n       <use x=\"474.605469\" xlink:href=\"#DejaVuSans-57\"/>\r\n      </g>\r\n     </g>\r\n    </g>\r\n    <g id=\"ytick_48\">\r\n     <g id=\"line2d_49\">\r\n      <g>\r\n       <use style=\"stroke:#000000;stroke-width:0.8;\" x=\"68.023438\" xlink:href=\"#m7cc51b40e0\" y=\"644.430129\"/>\r\n      </g>\r\n     </g>\r\n     <g id=\"text_49\">\r\n      <!-- feature_0 -->\r\n      <g transform=\"translate(13.5625 648.229347)scale(0.1 -0.1)\">\r\n       <use xlink:href=\"#DejaVuSans-102\"/>\r\n       <use x=\"35.205078\" xlink:href=\"#DejaVuSans-101\"/>\r\n       <use x=\"96.728516\" xlink:href=\"#DejaVuSans-97\"/>\r\n       <use x=\"158.007812\" xlink:href=\"#DejaVuSans-116\"/>\r\n       <use x=\"197.216797\" xlink:href=\"#DejaVuSans-117\"/>\r\n       <use x=\"260.595703\" xlink:href=\"#DejaVuSans-114\"/>\r\n       <use x=\"299.458984\" xlink:href=\"#DejaVuSans-101\"/>\r\n       <use x=\"360.982422\" xlink:href=\"#DejaVuSans-95\"/>\r\n       <use x=\"410.982422\" xlink:href=\"#DejaVuSans-48\"/>\r\n      </g>\r\n     </g>\r\n    </g>\r\n    <g id=\"ytick_49\">\r\n     <g id=\"line2d_50\">\r\n      <g>\r\n       <use style=\"stroke:#000000;stroke-width:0.8;\" x=\"68.023438\" xlink:href=\"#m7cc51b40e0\" y=\"657.220717\"/>\r\n      </g>\r\n     </g>\r\n     <g id=\"text_50\">\r\n      <!-- feature_14 -->\r\n      <g transform=\"translate(7.2 661.019936)scale(0.1 -0.1)\">\r\n       <use xlink:href=\"#DejaVuSans-102\"/>\r\n       <use x=\"35.205078\" xlink:href=\"#DejaVuSans-101\"/>\r\n       <use x=\"96.728516\" xlink:href=\"#DejaVuSans-97\"/>\r\n       <use x=\"158.007812\" xlink:href=\"#DejaVuSans-116\"/>\r\n       <use x=\"197.216797\" xlink:href=\"#DejaVuSans-117\"/>\r\n       <use x=\"260.595703\" xlink:href=\"#DejaVuSans-114\"/>\r\n       <use x=\"299.458984\" xlink:href=\"#DejaVuSans-101\"/>\r\n       <use x=\"360.982422\" xlink:href=\"#DejaVuSans-95\"/>\r\n       <use x=\"410.982422\" xlink:href=\"#DejaVuSans-49\"/>\r\n       <use x=\"474.605469\" xlink:href=\"#DejaVuSans-52\"/>\r\n      </g>\r\n     </g>\r\n    </g>\r\n    <g id=\"ytick_50\">\r\n     <g id=\"line2d_51\">\r\n      <g>\r\n       <use style=\"stroke:#000000;stroke-width:0.8;\" x=\"68.023438\" xlink:href=\"#m7cc51b40e0\" y=\"670.011305\"/>\r\n      </g>\r\n     </g>\r\n     <g id=\"text_51\">\r\n      <!-- feature_6 -->\r\n      <g transform=\"translate(13.5625 673.810524)scale(0.1 -0.1)\">\r\n       <use xlink:href=\"#DejaVuSans-102\"/>\r\n       <use x=\"35.205078\" xlink:href=\"#DejaVuSans-101\"/>\r\n       <use x=\"96.728516\" xlink:href=\"#DejaVuSans-97\"/>\r\n       <use x=\"158.007812\" xlink:href=\"#DejaVuSans-116\"/>\r\n       <use x=\"197.216797\" xlink:href=\"#DejaVuSans-117\"/>\r\n       <use x=\"260.595703\" xlink:href=\"#DejaVuSans-114\"/>\r\n       <use x=\"299.458984\" xlink:href=\"#DejaVuSans-101\"/>\r\n       <use x=\"360.982422\" xlink:href=\"#DejaVuSans-95\"/>\r\n       <use x=\"410.982422\" xlink:href=\"#DejaVuSans-54\"/>\r\n      </g>\r\n     </g>\r\n    </g>\r\n    <g id=\"ytick_51\">\r\n     <g id=\"line2d_52\">\r\n      <g>\r\n       <use style=\"stroke:#000000;stroke-width:0.8;\" x=\"68.023438\" xlink:href=\"#m7cc51b40e0\" y=\"682.801893\"/>\r\n      </g>\r\n     </g>\r\n     <g id=\"text_52\">\r\n      <!-- feature_37 -->\r\n      <g transform=\"translate(7.2 686.601112)scale(0.1 -0.1)\">\r\n       <use xlink:href=\"#DejaVuSans-102\"/>\r\n       <use x=\"35.205078\" xlink:href=\"#DejaVuSans-101\"/>\r\n       <use x=\"96.728516\" xlink:href=\"#DejaVuSans-97\"/>\r\n       <use x=\"158.007812\" xlink:href=\"#DejaVuSans-116\"/>\r\n       <use x=\"197.216797\" xlink:href=\"#DejaVuSans-117\"/>\r\n       <use x=\"260.595703\" xlink:href=\"#DejaVuSans-114\"/>\r\n       <use x=\"299.458984\" xlink:href=\"#DejaVuSans-101\"/>\r\n       <use x=\"360.982422\" xlink:href=\"#DejaVuSans-95\"/>\r\n       <use x=\"410.982422\" xlink:href=\"#DejaVuSans-51\"/>\r\n       <use x=\"474.605469\" xlink:href=\"#DejaVuSans-55\"/>\r\n      </g>\r\n     </g>\r\n    </g>\r\n   </g>\r\n   <g id=\"text_53\">\r\n    <!-- 1 -->\r\n    <g style=\"fill:#ffffff;\" transform=\"translate(243.402188 46.031857)scale(0.1 -0.1)\">\r\n     <use xlink:href=\"#DejaVuSans-49\"/>\r\n    </g>\r\n   </g>\r\n   <g id=\"text_54\">\r\n    <!-- 0.011 -->\r\n    <g style=\"fill:#ffffff;\" transform=\"translate(232.269375 58.822445)scale(0.1 -0.1)\">\r\n     <defs>\r\n      <path d=\"M 10.6875 12.40625 \r\nL 21 12.40625 \r\nL 21 0 \r\nL 10.6875 0 \r\nz\r\n\" id=\"DejaVuSans-46\"/>\r\n     </defs>\r\n     <use xlink:href=\"#DejaVuSans-48\"/>\r\n     <use x=\"63.623047\" xlink:href=\"#DejaVuSans-46\"/>\r\n     <use x=\"95.410156\" xlink:href=\"#DejaVuSans-48\"/>\r\n     <use x=\"159.033203\" xlink:href=\"#DejaVuSans-49\"/>\r\n     <use x=\"222.65625\" xlink:href=\"#DejaVuSans-49\"/>\r\n    </g>\r\n   </g>\r\n   <g id=\"text_55\">\r\n    <!-- 0.011 -->\r\n    <g style=\"fill:#ffffff;\" transform=\"translate(232.269375 71.613033)scale(0.1 -0.1)\">\r\n     <use xlink:href=\"#DejaVuSans-48\"/>\r\n     <use x=\"63.623047\" xlink:href=\"#DejaVuSans-46\"/>\r\n     <use x=\"95.410156\" xlink:href=\"#DejaVuSans-48\"/>\r\n     <use x=\"159.033203\" xlink:href=\"#DejaVuSans-49\"/>\r\n     <use x=\"222.65625\" xlink:href=\"#DejaVuSans-49\"/>\r\n    </g>\r\n   </g>\r\n   <g id=\"text_56\">\r\n    <!-- 0.0088 -->\r\n    <g style=\"fill:#ffffff;\" transform=\"translate(229.088125 84.403621)scale(0.1 -0.1)\">\r\n     <use xlink:href=\"#DejaVuSans-48\"/>\r\n     <use x=\"63.623047\" xlink:href=\"#DejaVuSans-46\"/>\r\n     <use x=\"95.410156\" xlink:href=\"#DejaVuSans-48\"/>\r\n     <use x=\"159.033203\" xlink:href=\"#DejaVuSans-48\"/>\r\n     <use x=\"222.65625\" xlink:href=\"#DejaVuSans-56\"/>\r\n     <use x=\"286.279297\" xlink:href=\"#DejaVuSans-56\"/>\r\n    </g>\r\n   </g>\r\n   <g id=\"text_57\">\r\n    <!-- 0.0087 -->\r\n    <g style=\"fill:#ffffff;\" transform=\"translate(229.088125 97.19421)scale(0.1 -0.1)\">\r\n     <use xlink:href=\"#DejaVuSans-48\"/>\r\n     <use x=\"63.623047\" xlink:href=\"#DejaVuSans-46\"/>\r\n     <use x=\"95.410156\" xlink:href=\"#DejaVuSans-48\"/>\r\n     <use x=\"159.033203\" xlink:href=\"#DejaVuSans-48\"/>\r\n     <use x=\"222.65625\" xlink:href=\"#DejaVuSans-56\"/>\r\n     <use x=\"286.279297\" xlink:href=\"#DejaVuSans-55\"/>\r\n    </g>\r\n   </g>\r\n   <g id=\"text_58\">\r\n    <!-- 0.007 -->\r\n    <g style=\"fill:#ffffff;\" transform=\"translate(232.269375 109.984798)scale(0.1 -0.1)\">\r\n     <use xlink:href=\"#DejaVuSans-48\"/>\r\n     <use x=\"63.623047\" xlink:href=\"#DejaVuSans-46\"/>\r\n     <use x=\"95.410156\" xlink:href=\"#DejaVuSans-48\"/>\r\n     <use x=\"159.033203\" xlink:href=\"#DejaVuSans-48\"/>\r\n     <use x=\"222.65625\" xlink:href=\"#DejaVuSans-55\"/>\r\n    </g>\r\n   </g>\r\n   <g id=\"text_59\">\r\n    <!-- 0.0053 -->\r\n    <g style=\"fill:#ffffff;\" transform=\"translate(229.088125 122.775386)scale(0.1 -0.1)\">\r\n     <use xlink:href=\"#DejaVuSans-48\"/>\r\n     <use x=\"63.623047\" xlink:href=\"#DejaVuSans-46\"/>\r\n     <use x=\"95.410156\" xlink:href=\"#DejaVuSans-48\"/>\r\n     <use x=\"159.033203\" xlink:href=\"#DejaVuSans-48\"/>\r\n     <use x=\"222.65625\" xlink:href=\"#DejaVuSans-53\"/>\r\n     <use x=\"286.279297\" xlink:href=\"#DejaVuSans-51\"/>\r\n    </g>\r\n   </g>\r\n   <g id=\"text_60\">\r\n    <!-- 0.0039 -->\r\n    <g style=\"fill:#ffffff;\" transform=\"translate(229.088125 135.565974)scale(0.1 -0.1)\">\r\n     <use xlink:href=\"#DejaVuSans-48\"/>\r\n     <use x=\"63.623047\" xlink:href=\"#DejaVuSans-46\"/>\r\n     <use x=\"95.410156\" xlink:href=\"#DejaVuSans-48\"/>\r\n     <use x=\"159.033203\" xlink:href=\"#DejaVuSans-48\"/>\r\n     <use x=\"222.65625\" xlink:href=\"#DejaVuSans-51\"/>\r\n     <use x=\"286.279297\" xlink:href=\"#DejaVuSans-57\"/>\r\n    </g>\r\n   </g>\r\n   <g id=\"text_61\">\r\n    <!-- 0.0037 -->\r\n    <g style=\"fill:#ffffff;\" transform=\"translate(229.088125 148.356562)scale(0.1 -0.1)\">\r\n     <use xlink:href=\"#DejaVuSans-48\"/>\r\n     <use x=\"63.623047\" xlink:href=\"#DejaVuSans-46\"/>\r\n     <use x=\"95.410156\" xlink:href=\"#DejaVuSans-48\"/>\r\n     <use x=\"159.033203\" xlink:href=\"#DejaVuSans-48\"/>\r\n     <use x=\"222.65625\" xlink:href=\"#DejaVuSans-51\"/>\r\n     <use x=\"286.279297\" xlink:href=\"#DejaVuSans-55\"/>\r\n    </g>\r\n   </g>\r\n   <g id=\"text_62\">\r\n    <!-- 0.0014 -->\r\n    <g style=\"fill:#ffffff;\" transform=\"translate(229.088125 161.147151)scale(0.1 -0.1)\">\r\n     <use xlink:href=\"#DejaVuSans-48\"/>\r\n     <use x=\"63.623047\" xlink:href=\"#DejaVuSans-46\"/>\r\n     <use x=\"95.410156\" xlink:href=\"#DejaVuSans-48\"/>\r\n     <use x=\"159.033203\" xlink:href=\"#DejaVuSans-48\"/>\r\n     <use x=\"222.65625\" xlink:href=\"#DejaVuSans-49\"/>\r\n     <use x=\"286.279297\" xlink:href=\"#DejaVuSans-52\"/>\r\n    </g>\r\n   </g>\r\n   <g id=\"text_63\">\r\n    <!-- -0.0008 -->\r\n    <g style=\"fill:#ffffff;\" transform=\"translate(227.284219 173.937739)scale(0.1 -0.1)\">\r\n     <defs>\r\n      <path d=\"M 4.890625 31.390625 \r\nL 31.203125 31.390625 \r\nL 31.203125 23.390625 \r\nL 4.890625 23.390625 \r\nz\r\n\" id=\"DejaVuSans-45\"/>\r\n     </defs>\r\n     <use xlink:href=\"#DejaVuSans-45\"/>\r\n     <use x=\"36.083984\" xlink:href=\"#DejaVuSans-48\"/>\r\n     <use x=\"99.707031\" xlink:href=\"#DejaVuSans-46\"/>\r\n     <use x=\"131.494141\" xlink:href=\"#DejaVuSans-48\"/>\r\n     <use x=\"195.117188\" xlink:href=\"#DejaVuSans-48\"/>\r\n     <use x=\"258.740234\" xlink:href=\"#DejaVuSans-48\"/>\r\n     <use x=\"322.363281\" xlink:href=\"#DejaVuSans-56\"/>\r\n    </g>\r\n   </g>\r\n   <g id=\"text_64\">\r\n    <!-- -0.0018 -->\r\n    <g style=\"fill:#ffffff;\" transform=\"translate(227.284219 186.728327)scale(0.1 -0.1)\">\r\n     <use xlink:href=\"#DejaVuSans-45\"/>\r\n     <use x=\"36.083984\" xlink:href=\"#DejaVuSans-48\"/>\r\n     <use x=\"99.707031\" xlink:href=\"#DejaVuSans-46\"/>\r\n     <use x=\"131.494141\" xlink:href=\"#DejaVuSans-48\"/>\r\n     <use x=\"195.117188\" xlink:href=\"#DejaVuSans-48\"/>\r\n     <use x=\"258.740234\" xlink:href=\"#DejaVuSans-49\"/>\r\n     <use x=\"322.363281\" xlink:href=\"#DejaVuSans-56\"/>\r\n    </g>\r\n   </g>\r\n   <g id=\"text_65\">\r\n    <!-- -0.0028 -->\r\n    <g style=\"fill:#ffffff;\" transform=\"translate(227.284219 199.518915)scale(0.1 -0.1)\">\r\n     <use xlink:href=\"#DejaVuSans-45\"/>\r\n     <use x=\"36.083984\" xlink:href=\"#DejaVuSans-48\"/>\r\n     <use x=\"99.707031\" xlink:href=\"#DejaVuSans-46\"/>\r\n     <use x=\"131.494141\" xlink:href=\"#DejaVuSans-48\"/>\r\n     <use x=\"195.117188\" xlink:href=\"#DejaVuSans-48\"/>\r\n     <use x=\"258.740234\" xlink:href=\"#DejaVuSans-50\"/>\r\n     <use x=\"322.363281\" xlink:href=\"#DejaVuSans-56\"/>\r\n    </g>\r\n   </g>\r\n   <g id=\"text_66\">\r\n    <!-- -0.003 -->\r\n    <g style=\"fill:#ffffff;\" transform=\"translate(230.465469 212.309504)scale(0.1 -0.1)\">\r\n     <use xlink:href=\"#DejaVuSans-45\"/>\r\n     <use x=\"36.083984\" xlink:href=\"#DejaVuSans-48\"/>\r\n     <use x=\"99.707031\" xlink:href=\"#DejaVuSans-46\"/>\r\n     <use x=\"131.494141\" xlink:href=\"#DejaVuSans-48\"/>\r\n     <use x=\"195.117188\" xlink:href=\"#DejaVuSans-48\"/>\r\n     <use x=\"258.740234\" xlink:href=\"#DejaVuSans-51\"/>\r\n    </g>\r\n   </g>\r\n   <g id=\"text_67\">\r\n    <!-- -0.0043 -->\r\n    <g style=\"fill:#ffffff;\" transform=\"translate(227.284219 225.100092)scale(0.1 -0.1)\">\r\n     <use xlink:href=\"#DejaVuSans-45\"/>\r\n     <use x=\"36.083984\" xlink:href=\"#DejaVuSans-48\"/>\r\n     <use x=\"99.707031\" xlink:href=\"#DejaVuSans-46\"/>\r\n     <use x=\"131.494141\" xlink:href=\"#DejaVuSans-48\"/>\r\n     <use x=\"195.117188\" xlink:href=\"#DejaVuSans-48\"/>\r\n     <use x=\"258.740234\" xlink:href=\"#DejaVuSans-52\"/>\r\n     <use x=\"322.363281\" xlink:href=\"#DejaVuSans-51\"/>\r\n    </g>\r\n   </g>\r\n   <g id=\"text_68\">\r\n    <!-- -0.0052 -->\r\n    <g style=\"fill:#ffffff;\" transform=\"translate(227.284219 237.89068)scale(0.1 -0.1)\">\r\n     <use xlink:href=\"#DejaVuSans-45\"/>\r\n     <use x=\"36.083984\" xlink:href=\"#DejaVuSans-48\"/>\r\n     <use x=\"99.707031\" xlink:href=\"#DejaVuSans-46\"/>\r\n     <use x=\"131.494141\" xlink:href=\"#DejaVuSans-48\"/>\r\n     <use x=\"195.117188\" xlink:href=\"#DejaVuSans-48\"/>\r\n     <use x=\"258.740234\" xlink:href=\"#DejaVuSans-53\"/>\r\n     <use x=\"322.363281\" xlink:href=\"#DejaVuSans-50\"/>\r\n    </g>\r\n   </g>\r\n   <g id=\"text_69\">\r\n    <!-- -0.0053 -->\r\n    <g style=\"fill:#ffffff;\" transform=\"translate(227.284219 250.681268)scale(0.1 -0.1)\">\r\n     <use xlink:href=\"#DejaVuSans-45\"/>\r\n     <use x=\"36.083984\" xlink:href=\"#DejaVuSans-48\"/>\r\n     <use x=\"99.707031\" xlink:href=\"#DejaVuSans-46\"/>\r\n     <use x=\"131.494141\" xlink:href=\"#DejaVuSans-48\"/>\r\n     <use x=\"195.117188\" xlink:href=\"#DejaVuSans-48\"/>\r\n     <use x=\"258.740234\" xlink:href=\"#DejaVuSans-53\"/>\r\n     <use x=\"322.363281\" xlink:href=\"#DejaVuSans-51\"/>\r\n    </g>\r\n   </g>\r\n   <g id=\"text_70\">\r\n    <!-- -0.0053 -->\r\n    <g style=\"fill:#ffffff;\" transform=\"translate(227.284219 263.471857)scale(0.1 -0.1)\">\r\n     <use xlink:href=\"#DejaVuSans-45\"/>\r\n     <use x=\"36.083984\" xlink:href=\"#DejaVuSans-48\"/>\r\n     <use x=\"99.707031\" xlink:href=\"#DejaVuSans-46\"/>\r\n     <use x=\"131.494141\" xlink:href=\"#DejaVuSans-48\"/>\r\n     <use x=\"195.117188\" xlink:href=\"#DejaVuSans-48\"/>\r\n     <use x=\"258.740234\" xlink:href=\"#DejaVuSans-53\"/>\r\n     <use x=\"322.363281\" xlink:href=\"#DejaVuSans-51\"/>\r\n    </g>\r\n   </g>\r\n   <g id=\"text_71\">\r\n    <!-- -0.0054 -->\r\n    <g style=\"fill:#ffffff;\" transform=\"translate(227.284219 276.262445)scale(0.1 -0.1)\">\r\n     <use xlink:href=\"#DejaVuSans-45\"/>\r\n     <use x=\"36.083984\" xlink:href=\"#DejaVuSans-48\"/>\r\n     <use x=\"99.707031\" xlink:href=\"#DejaVuSans-46\"/>\r\n     <use x=\"131.494141\" xlink:href=\"#DejaVuSans-48\"/>\r\n     <use x=\"195.117188\" xlink:href=\"#DejaVuSans-48\"/>\r\n     <use x=\"258.740234\" xlink:href=\"#DejaVuSans-53\"/>\r\n     <use x=\"322.363281\" xlink:href=\"#DejaVuSans-52\"/>\r\n    </g>\r\n   </g>\r\n   <g id=\"text_72\">\r\n    <!-- -0.0055 -->\r\n    <g style=\"fill:#ffffff;\" transform=\"translate(227.284219 289.053033)scale(0.1 -0.1)\">\r\n     <use xlink:href=\"#DejaVuSans-45\"/>\r\n     <use x=\"36.083984\" xlink:href=\"#DejaVuSans-48\"/>\r\n     <use x=\"99.707031\" xlink:href=\"#DejaVuSans-46\"/>\r\n     <use x=\"131.494141\" xlink:href=\"#DejaVuSans-48\"/>\r\n     <use x=\"195.117188\" xlink:href=\"#DejaVuSans-48\"/>\r\n     <use x=\"258.740234\" xlink:href=\"#DejaVuSans-53\"/>\r\n     <use x=\"322.363281\" xlink:href=\"#DejaVuSans-53\"/>\r\n    </g>\r\n   </g>\r\n   <g id=\"text_73\">\r\n    <!-- -0.0056 -->\r\n    <g style=\"fill:#ffffff;\" transform=\"translate(227.284219 301.843621)scale(0.1 -0.1)\">\r\n     <use xlink:href=\"#DejaVuSans-45\"/>\r\n     <use x=\"36.083984\" xlink:href=\"#DejaVuSans-48\"/>\r\n     <use x=\"99.707031\" xlink:href=\"#DejaVuSans-46\"/>\r\n     <use x=\"131.494141\" xlink:href=\"#DejaVuSans-48\"/>\r\n     <use x=\"195.117188\" xlink:href=\"#DejaVuSans-48\"/>\r\n     <use x=\"258.740234\" xlink:href=\"#DejaVuSans-53\"/>\r\n     <use x=\"322.363281\" xlink:href=\"#DejaVuSans-54\"/>\r\n    </g>\r\n   </g>\r\n   <g id=\"text_74\">\r\n    <!-- -0.0056 -->\r\n    <g style=\"fill:#ffffff;\" transform=\"translate(227.284219 314.63421)scale(0.1 -0.1)\">\r\n     <use xlink:href=\"#DejaVuSans-45\"/>\r\n     <use x=\"36.083984\" xlink:href=\"#DejaVuSans-48\"/>\r\n     <use x=\"99.707031\" xlink:href=\"#DejaVuSans-46\"/>\r\n     <use x=\"131.494141\" xlink:href=\"#DejaVuSans-48\"/>\r\n     <use x=\"195.117188\" xlink:href=\"#DejaVuSans-48\"/>\r\n     <use x=\"258.740234\" xlink:href=\"#DejaVuSans-53\"/>\r\n     <use x=\"322.363281\" xlink:href=\"#DejaVuSans-54\"/>\r\n    </g>\r\n   </g>\r\n   <g id=\"text_75\">\r\n    <!-- -0.006 -->\r\n    <g style=\"fill:#ffffff;\" transform=\"translate(230.465469 327.424798)scale(0.1 -0.1)\">\r\n     <use xlink:href=\"#DejaVuSans-45\"/>\r\n     <use x=\"36.083984\" xlink:href=\"#DejaVuSans-48\"/>\r\n     <use x=\"99.707031\" xlink:href=\"#DejaVuSans-46\"/>\r\n     <use x=\"131.494141\" xlink:href=\"#DejaVuSans-48\"/>\r\n     <use x=\"195.117188\" xlink:href=\"#DejaVuSans-48\"/>\r\n     <use x=\"258.740234\" xlink:href=\"#DejaVuSans-54\"/>\r\n    </g>\r\n   </g>\r\n   <g id=\"text_76\">\r\n    <!-- -0.0061 -->\r\n    <g style=\"fill:#ffffff;\" transform=\"translate(227.284219 340.215386)scale(0.1 -0.1)\">\r\n     <use xlink:href=\"#DejaVuSans-45\"/>\r\n     <use x=\"36.083984\" xlink:href=\"#DejaVuSans-48\"/>\r\n     <use x=\"99.707031\" xlink:href=\"#DejaVuSans-46\"/>\r\n     <use x=\"131.494141\" xlink:href=\"#DejaVuSans-48\"/>\r\n     <use x=\"195.117188\" xlink:href=\"#DejaVuSans-48\"/>\r\n     <use x=\"258.740234\" xlink:href=\"#DejaVuSans-54\"/>\r\n     <use x=\"322.363281\" xlink:href=\"#DejaVuSans-49\"/>\r\n    </g>\r\n   </g>\r\n   <g id=\"text_77\">\r\n    <!-- -0.0072 -->\r\n    <g style=\"fill:#ffffff;\" transform=\"translate(227.284219 353.005974)scale(0.1 -0.1)\">\r\n     <use xlink:href=\"#DejaVuSans-45\"/>\r\n     <use x=\"36.083984\" xlink:href=\"#DejaVuSans-48\"/>\r\n     <use x=\"99.707031\" xlink:href=\"#DejaVuSans-46\"/>\r\n     <use x=\"131.494141\" xlink:href=\"#DejaVuSans-48\"/>\r\n     <use x=\"195.117188\" xlink:href=\"#DejaVuSans-48\"/>\r\n     <use x=\"258.740234\" xlink:href=\"#DejaVuSans-55\"/>\r\n     <use x=\"322.363281\" xlink:href=\"#DejaVuSans-50\"/>\r\n    </g>\r\n   </g>\r\n   <g id=\"text_78\">\r\n    <!-- -0.0076 -->\r\n    <g style=\"fill:#ffffff;\" transform=\"translate(227.284219 365.796562)scale(0.1 -0.1)\">\r\n     <use xlink:href=\"#DejaVuSans-45\"/>\r\n     <use x=\"36.083984\" xlink:href=\"#DejaVuSans-48\"/>\r\n     <use x=\"99.707031\" xlink:href=\"#DejaVuSans-46\"/>\r\n     <use x=\"131.494141\" xlink:href=\"#DejaVuSans-48\"/>\r\n     <use x=\"195.117188\" xlink:href=\"#DejaVuSans-48\"/>\r\n     <use x=\"258.740234\" xlink:href=\"#DejaVuSans-55\"/>\r\n     <use x=\"322.363281\" xlink:href=\"#DejaVuSans-54\"/>\r\n    </g>\r\n   </g>\r\n   <g id=\"text_79\">\r\n    <!-- -0.0099 -->\r\n    <g style=\"fill:#ffffff;\" transform=\"translate(227.284219 378.587151)scale(0.1 -0.1)\">\r\n     <use xlink:href=\"#DejaVuSans-45\"/>\r\n     <use x=\"36.083984\" xlink:href=\"#DejaVuSans-48\"/>\r\n     <use x=\"99.707031\" xlink:href=\"#DejaVuSans-46\"/>\r\n     <use x=\"131.494141\" xlink:href=\"#DejaVuSans-48\"/>\r\n     <use x=\"195.117188\" xlink:href=\"#DejaVuSans-48\"/>\r\n     <use x=\"258.740234\" xlink:href=\"#DejaVuSans-57\"/>\r\n     <use x=\"322.363281\" xlink:href=\"#DejaVuSans-57\"/>\r\n    </g>\r\n   </g>\r\n   <g id=\"text_80\">\r\n    <!-- -0.011 -->\r\n    <g style=\"fill:#ffffff;\" transform=\"translate(230.465469 391.377739)scale(0.1 -0.1)\">\r\n     <use xlink:href=\"#DejaVuSans-45\"/>\r\n     <use x=\"36.083984\" xlink:href=\"#DejaVuSans-48\"/>\r\n     <use x=\"99.707031\" xlink:href=\"#DejaVuSans-46\"/>\r\n     <use x=\"131.494141\" xlink:href=\"#DejaVuSans-48\"/>\r\n     <use x=\"195.117188\" xlink:href=\"#DejaVuSans-49\"/>\r\n     <use x=\"258.740234\" xlink:href=\"#DejaVuSans-49\"/>\r\n    </g>\r\n   </g>\r\n   <g id=\"text_81\">\r\n    <!-- -0.011 -->\r\n    <g style=\"fill:#ffffff;\" transform=\"translate(230.465469 404.168327)scale(0.1 -0.1)\">\r\n     <use xlink:href=\"#DejaVuSans-45\"/>\r\n     <use x=\"36.083984\" xlink:href=\"#DejaVuSans-48\"/>\r\n     <use x=\"99.707031\" xlink:href=\"#DejaVuSans-46\"/>\r\n     <use x=\"131.494141\" xlink:href=\"#DejaVuSans-48\"/>\r\n     <use x=\"195.117188\" xlink:href=\"#DejaVuSans-49\"/>\r\n     <use x=\"258.740234\" xlink:href=\"#DejaVuSans-49\"/>\r\n    </g>\r\n   </g>\r\n   <g id=\"text_82\">\r\n    <!-- -0.011 -->\r\n    <g style=\"fill:#ffffff;\" transform=\"translate(230.465469 416.958915)scale(0.1 -0.1)\">\r\n     <use xlink:href=\"#DejaVuSans-45\"/>\r\n     <use x=\"36.083984\" xlink:href=\"#DejaVuSans-48\"/>\r\n     <use x=\"99.707031\" xlink:href=\"#DejaVuSans-46\"/>\r\n     <use x=\"131.494141\" xlink:href=\"#DejaVuSans-48\"/>\r\n     <use x=\"195.117188\" xlink:href=\"#DejaVuSans-49\"/>\r\n     <use x=\"258.740234\" xlink:href=\"#DejaVuSans-49\"/>\r\n    </g>\r\n   </g>\r\n   <g id=\"text_83\">\r\n    <!-- -0.012 -->\r\n    <g style=\"fill:#ffffff;\" transform=\"translate(230.465469 429.749504)scale(0.1 -0.1)\">\r\n     <use xlink:href=\"#DejaVuSans-45\"/>\r\n     <use x=\"36.083984\" xlink:href=\"#DejaVuSans-48\"/>\r\n     <use x=\"99.707031\" xlink:href=\"#DejaVuSans-46\"/>\r\n     <use x=\"131.494141\" xlink:href=\"#DejaVuSans-48\"/>\r\n     <use x=\"195.117188\" xlink:href=\"#DejaVuSans-49\"/>\r\n     <use x=\"258.740234\" xlink:href=\"#DejaVuSans-50\"/>\r\n    </g>\r\n   </g>\r\n   <g id=\"text_84\">\r\n    <!-- -0.013 -->\r\n    <g style=\"fill:#ffffff;\" transform=\"translate(230.465469 442.540092)scale(0.1 -0.1)\">\r\n     <use xlink:href=\"#DejaVuSans-45\"/>\r\n     <use x=\"36.083984\" xlink:href=\"#DejaVuSans-48\"/>\r\n     <use x=\"99.707031\" xlink:href=\"#DejaVuSans-46\"/>\r\n     <use x=\"131.494141\" xlink:href=\"#DejaVuSans-48\"/>\r\n     <use x=\"195.117188\" xlink:href=\"#DejaVuSans-49\"/>\r\n     <use x=\"258.740234\" xlink:href=\"#DejaVuSans-51\"/>\r\n    </g>\r\n   </g>\r\n   <g id=\"text_85\">\r\n    <!-- -0.014 -->\r\n    <g style=\"fill:#ffffff;\" transform=\"translate(230.465469 455.33068)scale(0.1 -0.1)\">\r\n     <use xlink:href=\"#DejaVuSans-45\"/>\r\n     <use x=\"36.083984\" xlink:href=\"#DejaVuSans-48\"/>\r\n     <use x=\"99.707031\" xlink:href=\"#DejaVuSans-46\"/>\r\n     <use x=\"131.494141\" xlink:href=\"#DejaVuSans-48\"/>\r\n     <use x=\"195.117188\" xlink:href=\"#DejaVuSans-49\"/>\r\n     <use x=\"258.740234\" xlink:href=\"#DejaVuSans-52\"/>\r\n    </g>\r\n   </g>\r\n   <g id=\"text_86\">\r\n    <!-- -0.015 -->\r\n    <g style=\"fill:#ffffff;\" transform=\"translate(230.465469 468.121268)scale(0.1 -0.1)\">\r\n     <use xlink:href=\"#DejaVuSans-45\"/>\r\n     <use x=\"36.083984\" xlink:href=\"#DejaVuSans-48\"/>\r\n     <use x=\"99.707031\" xlink:href=\"#DejaVuSans-46\"/>\r\n     <use x=\"131.494141\" xlink:href=\"#DejaVuSans-48\"/>\r\n     <use x=\"195.117188\" xlink:href=\"#DejaVuSans-49\"/>\r\n     <use x=\"258.740234\" xlink:href=\"#DejaVuSans-53\"/>\r\n    </g>\r\n   </g>\r\n   <g id=\"text_87\">\r\n    <!-- -0.015 -->\r\n    <g style=\"fill:#ffffff;\" transform=\"translate(230.465469 480.911857)scale(0.1 -0.1)\">\r\n     <use xlink:href=\"#DejaVuSans-45\"/>\r\n     <use x=\"36.083984\" xlink:href=\"#DejaVuSans-48\"/>\r\n     <use x=\"99.707031\" xlink:href=\"#DejaVuSans-46\"/>\r\n     <use x=\"131.494141\" xlink:href=\"#DejaVuSans-48\"/>\r\n     <use x=\"195.117188\" xlink:href=\"#DejaVuSans-49\"/>\r\n     <use x=\"258.740234\" xlink:href=\"#DejaVuSans-53\"/>\r\n    </g>\r\n   </g>\r\n   <g id=\"text_88\">\r\n    <!-- -0.015 -->\r\n    <g style=\"fill:#ffffff;\" transform=\"translate(230.465469 493.702445)scale(0.1 -0.1)\">\r\n     <use xlink:href=\"#DejaVuSans-45\"/>\r\n     <use x=\"36.083984\" xlink:href=\"#DejaVuSans-48\"/>\r\n     <use x=\"99.707031\" xlink:href=\"#DejaVuSans-46\"/>\r\n     <use x=\"131.494141\" xlink:href=\"#DejaVuSans-48\"/>\r\n     <use x=\"195.117188\" xlink:href=\"#DejaVuSans-49\"/>\r\n     <use x=\"258.740234\" xlink:href=\"#DejaVuSans-53\"/>\r\n    </g>\r\n   </g>\r\n   <g id=\"text_89\">\r\n    <!-- -0.016 -->\r\n    <g style=\"fill:#ffffff;\" transform=\"translate(230.465469 506.493033)scale(0.1 -0.1)\">\r\n     <use xlink:href=\"#DejaVuSans-45\"/>\r\n     <use x=\"36.083984\" xlink:href=\"#DejaVuSans-48\"/>\r\n     <use x=\"99.707031\" xlink:href=\"#DejaVuSans-46\"/>\r\n     <use x=\"131.494141\" xlink:href=\"#DejaVuSans-48\"/>\r\n     <use x=\"195.117188\" xlink:href=\"#DejaVuSans-49\"/>\r\n     <use x=\"258.740234\" xlink:href=\"#DejaVuSans-54\"/>\r\n    </g>\r\n   </g>\r\n   <g id=\"text_90\">\r\n    <!-- -0.016 -->\r\n    <g style=\"fill:#ffffff;\" transform=\"translate(230.465469 519.283621)scale(0.1 -0.1)\">\r\n     <use xlink:href=\"#DejaVuSans-45\"/>\r\n     <use x=\"36.083984\" xlink:href=\"#DejaVuSans-48\"/>\r\n     <use x=\"99.707031\" xlink:href=\"#DejaVuSans-46\"/>\r\n     <use x=\"131.494141\" xlink:href=\"#DejaVuSans-48\"/>\r\n     <use x=\"195.117188\" xlink:href=\"#DejaVuSans-49\"/>\r\n     <use x=\"258.740234\" xlink:href=\"#DejaVuSans-54\"/>\r\n    </g>\r\n   </g>\r\n   <g id=\"text_91\">\r\n    <!-- -0.017 -->\r\n    <g style=\"fill:#ffffff;\" transform=\"translate(230.465469 532.07421)scale(0.1 -0.1)\">\r\n     <use xlink:href=\"#DejaVuSans-45\"/>\r\n     <use x=\"36.083984\" xlink:href=\"#DejaVuSans-48\"/>\r\n     <use x=\"99.707031\" xlink:href=\"#DejaVuSans-46\"/>\r\n     <use x=\"131.494141\" xlink:href=\"#DejaVuSans-48\"/>\r\n     <use x=\"195.117188\" xlink:href=\"#DejaVuSans-49\"/>\r\n     <use x=\"258.740234\" xlink:href=\"#DejaVuSans-55\"/>\r\n    </g>\r\n   </g>\r\n   <g id=\"text_92\">\r\n    <!-- -0.018 -->\r\n    <g style=\"fill:#ffffff;\" transform=\"translate(230.465469 544.864798)scale(0.1 -0.1)\">\r\n     <use xlink:href=\"#DejaVuSans-45\"/>\r\n     <use x=\"36.083984\" xlink:href=\"#DejaVuSans-48\"/>\r\n     <use x=\"99.707031\" xlink:href=\"#DejaVuSans-46\"/>\r\n     <use x=\"131.494141\" xlink:href=\"#DejaVuSans-48\"/>\r\n     <use x=\"195.117188\" xlink:href=\"#DejaVuSans-49\"/>\r\n     <use x=\"258.740234\" xlink:href=\"#DejaVuSans-56\"/>\r\n    </g>\r\n   </g>\r\n   <g id=\"text_93\">\r\n    <!-- -0.018 -->\r\n    <g style=\"fill:#ffffff;\" transform=\"translate(230.465469 557.655386)scale(0.1 -0.1)\">\r\n     <use xlink:href=\"#DejaVuSans-45\"/>\r\n     <use x=\"36.083984\" xlink:href=\"#DejaVuSans-48\"/>\r\n     <use x=\"99.707031\" xlink:href=\"#DejaVuSans-46\"/>\r\n     <use x=\"131.494141\" xlink:href=\"#DejaVuSans-48\"/>\r\n     <use x=\"195.117188\" xlink:href=\"#DejaVuSans-49\"/>\r\n     <use x=\"258.740234\" xlink:href=\"#DejaVuSans-56\"/>\r\n    </g>\r\n   </g>\r\n   <g id=\"text_94\">\r\n    <!-- -0.018 -->\r\n    <g style=\"fill:#ffffff;\" transform=\"translate(230.465469 570.445974)scale(0.1 -0.1)\">\r\n     <use xlink:href=\"#DejaVuSans-45\"/>\r\n     <use x=\"36.083984\" xlink:href=\"#DejaVuSans-48\"/>\r\n     <use x=\"99.707031\" xlink:href=\"#DejaVuSans-46\"/>\r\n     <use x=\"131.494141\" xlink:href=\"#DejaVuSans-48\"/>\r\n     <use x=\"195.117188\" xlink:href=\"#DejaVuSans-49\"/>\r\n     <use x=\"258.740234\" xlink:href=\"#DejaVuSans-56\"/>\r\n    </g>\r\n   </g>\r\n   <g id=\"text_95\">\r\n    <!-- -0.019 -->\r\n    <g style=\"fill:#ffffff;\" transform=\"translate(230.465469 583.236562)scale(0.1 -0.1)\">\r\n     <use xlink:href=\"#DejaVuSans-45\"/>\r\n     <use x=\"36.083984\" xlink:href=\"#DejaVuSans-48\"/>\r\n     <use x=\"99.707031\" xlink:href=\"#DejaVuSans-46\"/>\r\n     <use x=\"131.494141\" xlink:href=\"#DejaVuSans-48\"/>\r\n     <use x=\"195.117188\" xlink:href=\"#DejaVuSans-49\"/>\r\n     <use x=\"258.740234\" xlink:href=\"#DejaVuSans-57\"/>\r\n    </g>\r\n   </g>\r\n   <g id=\"text_96\">\r\n    <!-- -0.019 -->\r\n    <g style=\"fill:#ffffff;\" transform=\"translate(230.465469 596.027151)scale(0.1 -0.1)\">\r\n     <use xlink:href=\"#DejaVuSans-45\"/>\r\n     <use x=\"36.083984\" xlink:href=\"#DejaVuSans-48\"/>\r\n     <use x=\"99.707031\" xlink:href=\"#DejaVuSans-46\"/>\r\n     <use x=\"131.494141\" xlink:href=\"#DejaVuSans-48\"/>\r\n     <use x=\"195.117188\" xlink:href=\"#DejaVuSans-49\"/>\r\n     <use x=\"258.740234\" xlink:href=\"#DejaVuSans-57\"/>\r\n    </g>\r\n   </g>\r\n   <g id=\"text_97\">\r\n    <!-- -0.019 -->\r\n    <g style=\"fill:#ffffff;\" transform=\"translate(230.465469 608.817739)scale(0.1 -0.1)\">\r\n     <use xlink:href=\"#DejaVuSans-45\"/>\r\n     <use x=\"36.083984\" xlink:href=\"#DejaVuSans-48\"/>\r\n     <use x=\"99.707031\" xlink:href=\"#DejaVuSans-46\"/>\r\n     <use x=\"131.494141\" xlink:href=\"#DejaVuSans-48\"/>\r\n     <use x=\"195.117188\" xlink:href=\"#DejaVuSans-49\"/>\r\n     <use x=\"258.740234\" xlink:href=\"#DejaVuSans-57\"/>\r\n    </g>\r\n   </g>\r\n   <g id=\"text_98\">\r\n    <!-- -0.021 -->\r\n    <g style=\"fill:#ffffff;\" transform=\"translate(230.465469 621.608327)scale(0.1 -0.1)\">\r\n     <use xlink:href=\"#DejaVuSans-45\"/>\r\n     <use x=\"36.083984\" xlink:href=\"#DejaVuSans-48\"/>\r\n     <use x=\"99.707031\" xlink:href=\"#DejaVuSans-46\"/>\r\n     <use x=\"131.494141\" xlink:href=\"#DejaVuSans-48\"/>\r\n     <use x=\"195.117188\" xlink:href=\"#DejaVuSans-50\"/>\r\n     <use x=\"258.740234\" xlink:href=\"#DejaVuSans-49\"/>\r\n    </g>\r\n   </g>\r\n   <g id=\"text_99\">\r\n    <!-- -0.022 -->\r\n    <g style=\"fill:#ffffff;\" transform=\"translate(230.465469 634.398915)scale(0.1 -0.1)\">\r\n     <use xlink:href=\"#DejaVuSans-45\"/>\r\n     <use x=\"36.083984\" xlink:href=\"#DejaVuSans-48\"/>\r\n     <use x=\"99.707031\" xlink:href=\"#DejaVuSans-46\"/>\r\n     <use x=\"131.494141\" xlink:href=\"#DejaVuSans-48\"/>\r\n     <use x=\"195.117188\" xlink:href=\"#DejaVuSans-50\"/>\r\n     <use x=\"258.740234\" xlink:href=\"#DejaVuSans-50\"/>\r\n    </g>\r\n   </g>\r\n   <g id=\"text_100\">\r\n    <!-- -0.023 -->\r\n    <g style=\"fill:#ffffff;\" transform=\"translate(230.465469 647.189504)scale(0.1 -0.1)\">\r\n     <use xlink:href=\"#DejaVuSans-45\"/>\r\n     <use x=\"36.083984\" xlink:href=\"#DejaVuSans-48\"/>\r\n     <use x=\"99.707031\" xlink:href=\"#DejaVuSans-46\"/>\r\n     <use x=\"131.494141\" xlink:href=\"#DejaVuSans-48\"/>\r\n     <use x=\"195.117188\" xlink:href=\"#DejaVuSans-50\"/>\r\n     <use x=\"258.740234\" xlink:href=\"#DejaVuSans-51\"/>\r\n    </g>\r\n   </g>\r\n   <g id=\"text_101\">\r\n    <!-- -0.024 -->\r\n    <g style=\"fill:#ffffff;\" transform=\"translate(230.465469 659.980092)scale(0.1 -0.1)\">\r\n     <use xlink:href=\"#DejaVuSans-45\"/>\r\n     <use x=\"36.083984\" xlink:href=\"#DejaVuSans-48\"/>\r\n     <use x=\"99.707031\" xlink:href=\"#DejaVuSans-46\"/>\r\n     <use x=\"131.494141\" xlink:href=\"#DejaVuSans-48\"/>\r\n     <use x=\"195.117188\" xlink:href=\"#DejaVuSans-50\"/>\r\n     <use x=\"258.740234\" xlink:href=\"#DejaVuSans-52\"/>\r\n    </g>\r\n   </g>\r\n   <g id=\"text_102\">\r\n    <!-- -0.027 -->\r\n    <g style=\"fill:#ffffff;\" transform=\"translate(230.465469 672.77068)scale(0.1 -0.1)\">\r\n     <use xlink:href=\"#DejaVuSans-45\"/>\r\n     <use x=\"36.083984\" xlink:href=\"#DejaVuSans-48\"/>\r\n     <use x=\"99.707031\" xlink:href=\"#DejaVuSans-46\"/>\r\n     <use x=\"131.494141\" xlink:href=\"#DejaVuSans-48\"/>\r\n     <use x=\"195.117188\" xlink:href=\"#DejaVuSans-50\"/>\r\n     <use x=\"258.740234\" xlink:href=\"#DejaVuSans-55\"/>\r\n    </g>\r\n   </g>\r\n   <g id=\"text_103\">\r\n    <!-- -0.028 -->\r\n    <g style=\"fill:#ffffff;\" transform=\"translate(230.465469 685.561268)scale(0.1 -0.1)\">\r\n     <use xlink:href=\"#DejaVuSans-45\"/>\r\n     <use x=\"36.083984\" xlink:href=\"#DejaVuSans-48\"/>\r\n     <use x=\"99.707031\" xlink:href=\"#DejaVuSans-46\"/>\r\n     <use x=\"131.494141\" xlink:href=\"#DejaVuSans-48\"/>\r\n     <use x=\"195.117188\" xlink:href=\"#DejaVuSans-50\"/>\r\n     <use x=\"258.740234\" xlink:href=\"#DejaVuSans-56\"/>\r\n    </g>\r\n   </g>\r\n   <g id=\"text_104\">\r\n    <!-- Linear correlation of features with target variable -->\r\n    <g transform=\"translate(24.542188 20.877187)scale(0.18 -0.18)\">\r\n     <defs>\r\n      <path d=\"M 9.8125 72.90625 \r\nL 19.671875 72.90625 \r\nL 19.671875 8.296875 \r\nL 55.171875 8.296875 \r\nL 55.171875 0 \r\nL 9.8125 0 \r\nz\r\n\" id=\"DejaVuSans-76\"/>\r\n      <path d=\"M 9.421875 54.6875 \r\nL 18.40625 54.6875 \r\nL 18.40625 0 \r\nL 9.421875 0 \r\nz\r\nM 9.421875 75.984375 \r\nL 18.40625 75.984375 \r\nL 18.40625 64.59375 \r\nL 9.421875 64.59375 \r\nz\r\n\" id=\"DejaVuSans-105\"/>\r\n      <path d=\"M 54.890625 33.015625 \r\nL 54.890625 0 \r\nL 45.90625 0 \r\nL 45.90625 32.71875 \r\nQ 45.90625 40.484375 42.875 44.328125 \r\nQ 39.84375 48.1875 33.796875 48.1875 \r\nQ 26.515625 48.1875 22.3125 43.546875 \r\nQ 18.109375 38.921875 18.109375 30.90625 \r\nL 18.109375 0 \r\nL 9.078125 0 \r\nL 9.078125 54.6875 \r\nL 18.109375 54.6875 \r\nL 18.109375 46.1875 \r\nQ 21.34375 51.125 25.703125 53.5625 \r\nQ 30.078125 56 35.796875 56 \r\nQ 45.21875 56 50.046875 50.171875 \r\nQ 54.890625 44.34375 54.890625 33.015625 \r\nz\r\n\" id=\"DejaVuSans-110\"/>\r\n      <path id=\"DejaVuSans-32\"/>\r\n      <path d=\"M 48.78125 52.59375 \r\nL 48.78125 44.1875 \r\nQ 44.96875 46.296875 41.140625 47.34375 \r\nQ 37.3125 48.390625 33.40625 48.390625 \r\nQ 24.65625 48.390625 19.8125 42.84375 \r\nQ 14.984375 37.3125 14.984375 27.296875 \r\nQ 14.984375 17.28125 19.8125 11.734375 \r\nQ 24.65625 6.203125 33.40625 6.203125 \r\nQ 37.3125 6.203125 41.140625 7.25 \r\nQ 44.96875 8.296875 48.78125 10.40625 \r\nL 48.78125 2.09375 \r\nQ 45.015625 0.34375 40.984375 -0.53125 \r\nQ 36.96875 -1.421875 32.421875 -1.421875 \r\nQ 20.0625 -1.421875 12.78125 6.34375 \r\nQ 5.515625 14.109375 5.515625 27.296875 \r\nQ 5.515625 40.671875 12.859375 48.328125 \r\nQ 20.21875 56 33.015625 56 \r\nQ 37.15625 56 41.109375 55.140625 \r\nQ 45.0625 54.296875 48.78125 52.59375 \r\nz\r\n\" id=\"DejaVuSans-99\"/>\r\n      <path d=\"M 30.609375 48.390625 \r\nQ 23.390625 48.390625 19.1875 42.75 \r\nQ 14.984375 37.109375 14.984375 27.296875 \r\nQ 14.984375 17.484375 19.15625 11.84375 \r\nQ 23.34375 6.203125 30.609375 6.203125 \r\nQ 37.796875 6.203125 41.984375 11.859375 \r\nQ 46.1875 17.53125 46.1875 27.296875 \r\nQ 46.1875 37.015625 41.984375 42.703125 \r\nQ 37.796875 48.390625 30.609375 48.390625 \r\nz\r\nM 30.609375 56 \r\nQ 42.328125 56 49.015625 48.375 \r\nQ 55.71875 40.765625 55.71875 27.296875 \r\nQ 55.71875 13.875 49.015625 6.21875 \r\nQ 42.328125 -1.421875 30.609375 -1.421875 \r\nQ 18.84375 -1.421875 12.171875 6.21875 \r\nQ 5.515625 13.875 5.515625 27.296875 \r\nQ 5.515625 40.765625 12.171875 48.375 \r\nQ 18.84375 56 30.609375 56 \r\nz\r\n\" id=\"DejaVuSans-111\"/>\r\n      <path d=\"M 9.421875 75.984375 \r\nL 18.40625 75.984375 \r\nL 18.40625 0 \r\nL 9.421875 0 \r\nz\r\n\" id=\"DejaVuSans-108\"/>\r\n      <path d=\"M 44.28125 53.078125 \r\nL 44.28125 44.578125 \r\nQ 40.484375 46.53125 36.375 47.5 \r\nQ 32.28125 48.484375 27.875 48.484375 \r\nQ 21.1875 48.484375 17.84375 46.4375 \r\nQ 14.5 44.390625 14.5 40.28125 \r\nQ 14.5 37.15625 16.890625 35.375 \r\nQ 19.28125 33.59375 26.515625 31.984375 \r\nL 29.59375 31.296875 \r\nQ 39.15625 29.25 43.1875 25.515625 \r\nQ 47.21875 21.78125 47.21875 15.09375 \r\nQ 47.21875 7.46875 41.1875 3.015625 \r\nQ 35.15625 -1.421875 24.609375 -1.421875 \r\nQ 20.21875 -1.421875 15.453125 -0.5625 \r\nQ 10.6875 0.296875 5.421875 2 \r\nL 5.421875 11.28125 \r\nQ 10.40625 8.6875 15.234375 7.390625 \r\nQ 20.0625 6.109375 24.8125 6.109375 \r\nQ 31.15625 6.109375 34.5625 8.28125 \r\nQ 37.984375 10.453125 37.984375 14.40625 \r\nQ 37.984375 18.0625 35.515625 20.015625 \r\nQ 33.0625 21.96875 24.703125 23.78125 \r\nL 21.578125 24.515625 \r\nQ 13.234375 26.265625 9.515625 29.90625 \r\nQ 5.8125 33.546875 5.8125 39.890625 \r\nQ 5.8125 47.609375 11.28125 51.796875 \r\nQ 16.75 56 26.8125 56 \r\nQ 31.78125 56 36.171875 55.265625 \r\nQ 40.578125 54.546875 44.28125 53.078125 \r\nz\r\n\" id=\"DejaVuSans-115\"/>\r\n      <path d=\"M 4.203125 54.6875 \r\nL 13.1875 54.6875 \r\nL 24.421875 12.015625 \r\nL 35.59375 54.6875 \r\nL 46.1875 54.6875 \r\nL 57.421875 12.015625 \r\nL 68.609375 54.6875 \r\nL 77.59375 54.6875 \r\nL 63.28125 0 \r\nL 52.6875 0 \r\nL 40.921875 44.828125 \r\nL 29.109375 0 \r\nL 18.5 0 \r\nz\r\n\" id=\"DejaVuSans-119\"/>\r\n      <path d=\"M 54.890625 33.015625 \r\nL 54.890625 0 \r\nL 45.90625 0 \r\nL 45.90625 32.71875 \r\nQ 45.90625 40.484375 42.875 44.328125 \r\nQ 39.84375 48.1875 33.796875 48.1875 \r\nQ 26.515625 48.1875 22.3125 43.546875 \r\nQ 18.109375 38.921875 18.109375 30.90625 \r\nL 18.109375 0 \r\nL 9.078125 0 \r\nL 9.078125 75.984375 \r\nL 18.109375 75.984375 \r\nL 18.109375 46.1875 \r\nQ 21.34375 51.125 25.703125 53.5625 \r\nQ 30.078125 56 35.796875 56 \r\nQ 45.21875 56 50.046875 50.171875 \r\nQ 54.890625 44.34375 54.890625 33.015625 \r\nz\r\n\" id=\"DejaVuSans-104\"/>\r\n      <path d=\"M 2.984375 54.6875 \r\nL 12.5 54.6875 \r\nL 29.59375 8.796875 \r\nL 46.6875 54.6875 \r\nL 56.203125 54.6875 \r\nL 35.6875 0 \r\nL 23.484375 0 \r\nz\r\n\" id=\"DejaVuSans-118\"/>\r\n      <path d=\"M 48.6875 27.296875 \r\nQ 48.6875 37.203125 44.609375 42.84375 \r\nQ 40.53125 48.484375 33.40625 48.484375 \r\nQ 26.265625 48.484375 22.1875 42.84375 \r\nQ 18.109375 37.203125 18.109375 27.296875 \r\nQ 18.109375 17.390625 22.1875 11.75 \r\nQ 26.265625 6.109375 33.40625 6.109375 \r\nQ 40.53125 6.109375 44.609375 11.75 \r\nQ 48.6875 17.390625 48.6875 27.296875 \r\nz\r\nM 18.109375 46.390625 \r\nQ 20.953125 51.265625 25.265625 53.625 \r\nQ 29.59375 56 35.59375 56 \r\nQ 45.5625 56 51.78125 48.09375 \r\nQ 58.015625 40.1875 58.015625 27.296875 \r\nQ 58.015625 14.40625 51.78125 6.484375 \r\nQ 45.5625 -1.421875 35.59375 -1.421875 \r\nQ 29.59375 -1.421875 25.265625 0.953125 \r\nQ 20.953125 3.328125 18.109375 8.203125 \r\nL 18.109375 0 \r\nL 9.078125 0 \r\nL 9.078125 75.984375 \r\nL 18.109375 75.984375 \r\nz\r\n\" id=\"DejaVuSans-98\"/>\r\n     </defs>\r\n     <use xlink:href=\"#DejaVuSans-76\"/>\r\n     <use x=\"55.712891\" xlink:href=\"#DejaVuSans-105\"/>\r\n     <use x=\"83.496094\" xlink:href=\"#DejaVuSans-110\"/>\r\n     <use x=\"146.875\" xlink:href=\"#DejaVuSans-101\"/>\r\n     <use x=\"208.398438\" xlink:href=\"#DejaVuSans-97\"/>\r\n     <use x=\"269.677734\" xlink:href=\"#DejaVuSans-114\"/>\r\n     <use x=\"310.791016\" xlink:href=\"#DejaVuSans-32\"/>\r\n     <use x=\"342.578125\" xlink:href=\"#DejaVuSans-99\"/>\r\n     <use x=\"397.558594\" xlink:href=\"#DejaVuSans-111\"/>\r\n     <use x=\"458.740234\" xlink:href=\"#DejaVuSans-114\"/>\r\n     <use x=\"498.103516\" xlink:href=\"#DejaVuSans-114\"/>\r\n     <use x=\"536.966797\" xlink:href=\"#DejaVuSans-101\"/>\r\n     <use x=\"598.490234\" xlink:href=\"#DejaVuSans-108\"/>\r\n     <use x=\"626.273438\" xlink:href=\"#DejaVuSans-97\"/>\r\n     <use x=\"687.552734\" xlink:href=\"#DejaVuSans-116\"/>\r\n     <use x=\"726.761719\" xlink:href=\"#DejaVuSans-105\"/>\r\n     <use x=\"754.544922\" xlink:href=\"#DejaVuSans-111\"/>\r\n     <use x=\"815.726562\" xlink:href=\"#DejaVuSans-110\"/>\r\n     <use x=\"879.105469\" xlink:href=\"#DejaVuSans-32\"/>\r\n     <use x=\"910.892578\" xlink:href=\"#DejaVuSans-111\"/>\r\n     <use x=\"972.074219\" xlink:href=\"#DejaVuSans-102\"/>\r\n     <use x=\"1007.279297\" xlink:href=\"#DejaVuSans-32\"/>\r\n     <use x=\"1039.066406\" xlink:href=\"#DejaVuSans-102\"/>\r\n     <use x=\"1074.271484\" xlink:href=\"#DejaVuSans-101\"/>\r\n     <use x=\"1135.794922\" xlink:href=\"#DejaVuSans-97\"/>\r\n     <use x=\"1197.074219\" xlink:href=\"#DejaVuSans-116\"/>\r\n     <use x=\"1236.283203\" xlink:href=\"#DejaVuSans-117\"/>\r\n     <use x=\"1299.662109\" xlink:href=\"#DejaVuSans-114\"/>\r\n     <use x=\"1338.525391\" xlink:href=\"#DejaVuSans-101\"/>\r\n     <use x=\"1400.048828\" xlink:href=\"#DejaVuSans-115\"/>\r\n     <use x=\"1452.148438\" xlink:href=\"#DejaVuSans-32\"/>\r\n     <use x=\"1483.935547\" xlink:href=\"#DejaVuSans-119\"/>\r\n     <use x=\"1565.722656\" xlink:href=\"#DejaVuSans-105\"/>\r\n     <use x=\"1593.505859\" xlink:href=\"#DejaVuSans-116\"/>\r\n     <use x=\"1632.714844\" xlink:href=\"#DejaVuSans-104\"/>\r\n     <use x=\"1696.09375\" xlink:href=\"#DejaVuSans-32\"/>\r\n     <use x=\"1727.880859\" xlink:href=\"#DejaVuSans-116\"/>\r\n     <use x=\"1767.089844\" xlink:href=\"#DejaVuSans-97\"/>\r\n     <use x=\"1828.369141\" xlink:href=\"#DejaVuSans-114\"/>\r\n     <use x=\"1867.732422\" xlink:href=\"#DejaVuSans-103\"/>\r\n     <use x=\"1931.208984\" xlink:href=\"#DejaVuSans-101\"/>\r\n     <use x=\"1992.732422\" xlink:href=\"#DejaVuSans-116\"/>\r\n     <use x=\"2031.941406\" xlink:href=\"#DejaVuSans-32\"/>\r\n     <use x=\"2063.728516\" xlink:href=\"#DejaVuSans-118\"/>\r\n     <use x=\"2122.908203\" xlink:href=\"#DejaVuSans-97\"/>\r\n     <use x=\"2184.1875\" xlink:href=\"#DejaVuSans-114\"/>\r\n     <use x=\"2225.300781\" xlink:href=\"#DejaVuSans-105\"/>\r\n     <use x=\"2253.083984\" xlink:href=\"#DejaVuSans-97\"/>\r\n     <use x=\"2314.363281\" xlink:href=\"#DejaVuSans-98\"/>\r\n     <use x=\"2377.839844\" xlink:href=\"#DejaVuSans-108\"/>\r\n     <use x=\"2405.623047\" xlink:href=\"#DejaVuSans-101\"/>\r\n    </g>\r\n   </g>\r\n  </g>\r\n  <g id=\"axes_2\">\r\n   <g id=\"patch_3\">\r\n    <path clip-path=\"url(#pe9694c6480)\" d=\"M 447.463438 689.197187 \r\nL 447.463438 686.649062 \r\nL 447.463438 39.425312 \r\nL 447.463438 36.877187 \r\nL 480.079438 36.877187 \r\nL 480.079438 39.425312 \r\nL 480.079438 686.649062 \r\nL 480.079438 689.197187 \r\nz\r\n\" style=\"fill:#ffffff;stroke:#ffffff;stroke-linejoin:miter;stroke-width:0.01;\"/>\r\n   </g>\r\n   <image height=\"652\" id=\"image417b9226f1\" transform=\"scale(1 -1)translate(0 -652)\" width=\"33\" x=\"447\" xlink:href=\"data:image/png;base64,\r\niVBORw0KGgoAAAANSUhEUgAAACEAAAKMCAYAAABl+dF2AAADsElEQVR4nO3cwY3cMBQEUXnB/BO2d7SHRcEhsA+vIihQ/VukpJk///5+v89lvm4LPA+J/5z3vR6JjZUgESTiDAzHxkqQiAmJ8wwkc2Ml7q/DyEpMSJxn4HpsrMTAQmysxITEeQaSObIS9xdiYyUmJPRETEiYjjjvwFJMrMSEhGCGxgwSMSHhVB4TEnoi3DtiQkIwQ2MGiSARXj8FiZiQ8Ggg7KyCRExIuHfEhITXTyGYQSImJAQzJiQ0ZkxImI7w9C4mJDxCDCMaExJ6IoxoTEgIZmjMmJDwMDU8YI8JCT0RJGJCws93Y0JCTwSJmJDQE+HwExMStvxhRGNCQk/EhISeCI8GYkLClj+MaExI6IkwokEiJiQEMyYknMCCRExICGZMSKjtEMyYkBDMsBIxIaEnQjBjQkIww/uOmJAQzNCYMSEhmDEh4aVLCGZMSKjtEMyYkBDMEMyYkBDM8OlCTEgIZkxIuBzhBhYTEoIZghkTEoIZghkTEoIZghkTEh4rh7NoTEhozJiQOO/n/vUYWYn7C7GxEhMS9hNhJWJCQk+EYMaEhMsRRjQmJAQzrERMSOiJmJBwFg3BjAkJtR3+CD4mJPREGNGYkHA5wojGhIRgxoSE6QiHn5iQ0BNhRGNCQjDDSsSEhJ4IwYwJCcEMwYwJCZcjJiR8Mh2CGRMSbmAhmDEhIZhhJWJCQk+EYMaEhGCGYMaEhGDGhIQ/8w09ERMSeiIEMyYkBDMEMyYkfDIdghkTEhozJiRMR1iJmJDwB0ohmDEh4QYWghkTEoIZghkTEoIZghkTEi5HTEjoifBRaExICGb4vWhMSAhmaMyYkNATYURjQuI8gvmLw09MSOiJmJDQE6EnYkJCT4QRjQkJwYzzfm4rjKzEhIRPIcOIxoSEngjBjAkJjRkTEh6mhrNoTEg4gYUbWExI6IkwojEhoSfCpiYmJHw/ERMSeiL0RExI2FmFhyQxIaEnwojGhISeCCMaExJ6IoxoTEh4LxoTEs6ioSdiQsINLOysYkJCT4QRjQkJPRE2NTEh4fVTGNGYkHADiwkJO6vQEzEhoSfCiMaEhJ4IIxoTEnoivO+ICQmPBmJCwuWI8+iJXyYkBDPsrGJCws4qHH5iQkJPhBGNCQnBDJuamJCw5Y8JCdMRViImJHw/Ebb8MSEhmKExY0LClj+cRWNCwg0sjGhMSOiJmJAwHaExY0LClj9s+WNCQmOGW3lMSLiBhRGNCQk9ERMSpiM0ZkxI2PKHLX9MSPwA1Csg1xIPm0cAAAAASUVORK5CYII=\" y=\"-37\"/>\r\n   <g id=\"matplotlib.axis_3\"/>\r\n   <g id=\"matplotlib.axis_4\">\r\n    <g id=\"ytick_52\">\r\n     <g id=\"line2d_53\">\r\n      <defs>\r\n       <path d=\"M 0 0 \r\nL 3.5 0 \r\n\" id=\"mfc04d38c96\" style=\"stroke:#000000;stroke-width:0.8;\"/>\r\n      </defs>\r\n      <g>\r\n       <use style=\"stroke:#000000;stroke-width:0.8;\" x=\"480.079438\" xlink:href=\"#mfc04d38c96\" y=\"689.197187\"/>\r\n      </g>\r\n     </g>\r\n     <g id=\"text_105\">\r\n      <!-- −1.00 -->\r\n      <g transform=\"translate(487.079438 692.996406)scale(0.1 -0.1)\">\r\n       <defs>\r\n        <path d=\"M 10.59375 35.5 \r\nL 73.1875 35.5 \r\nL 73.1875 27.203125 \r\nL 10.59375 27.203125 \r\nz\r\n\" id=\"DejaVuSans-8722\"/>\r\n       </defs>\r\n       <use xlink:href=\"#DejaVuSans-8722\"/>\r\n       <use x=\"83.789062\" xlink:href=\"#DejaVuSans-49\"/>\r\n       <use x=\"147.412109\" xlink:href=\"#DejaVuSans-46\"/>\r\n       <use x=\"179.199219\" xlink:href=\"#DejaVuSans-48\"/>\r\n       <use x=\"242.822266\" xlink:href=\"#DejaVuSans-48\"/>\r\n      </g>\r\n     </g>\r\n    </g>\r\n    <g id=\"ytick_53\">\r\n     <g id=\"line2d_54\">\r\n      <g>\r\n       <use style=\"stroke:#000000;stroke-width:0.8;\" x=\"480.079438\" xlink:href=\"#mfc04d38c96\" y=\"607.657187\"/>\r\n      </g>\r\n     </g>\r\n     <g id=\"text_106\">\r\n      <!-- −0.75 -->\r\n      <g transform=\"translate(487.079438 611.456406)scale(0.1 -0.1)\">\r\n       <use xlink:href=\"#DejaVuSans-8722\"/>\r\n       <use x=\"83.789062\" xlink:href=\"#DejaVuSans-48\"/>\r\n       <use x=\"147.412109\" xlink:href=\"#DejaVuSans-46\"/>\r\n       <use x=\"179.199219\" xlink:href=\"#DejaVuSans-55\"/>\r\n       <use x=\"242.822266\" xlink:href=\"#DejaVuSans-53\"/>\r\n      </g>\r\n     </g>\r\n    </g>\r\n    <g id=\"ytick_54\">\r\n     <g id=\"line2d_55\">\r\n      <g>\r\n       <use style=\"stroke:#000000;stroke-width:0.8;\" x=\"480.079438\" xlink:href=\"#mfc04d38c96\" y=\"526.117187\"/>\r\n      </g>\r\n     </g>\r\n     <g id=\"text_107\">\r\n      <!-- −0.50 -->\r\n      <g transform=\"translate(487.079438 529.916406)scale(0.1 -0.1)\">\r\n       <use xlink:href=\"#DejaVuSans-8722\"/>\r\n       <use x=\"83.789062\" xlink:href=\"#DejaVuSans-48\"/>\r\n       <use x=\"147.412109\" xlink:href=\"#DejaVuSans-46\"/>\r\n       <use x=\"179.199219\" xlink:href=\"#DejaVuSans-53\"/>\r\n       <use x=\"242.822266\" xlink:href=\"#DejaVuSans-48\"/>\r\n      </g>\r\n     </g>\r\n    </g>\r\n    <g id=\"ytick_55\">\r\n     <g id=\"line2d_56\">\r\n      <g>\r\n       <use style=\"stroke:#000000;stroke-width:0.8;\" x=\"480.079438\" xlink:href=\"#mfc04d38c96\" y=\"444.577187\"/>\r\n      </g>\r\n     </g>\r\n     <g id=\"text_108\">\r\n      <!-- −0.25 -->\r\n      <g transform=\"translate(487.079438 448.376406)scale(0.1 -0.1)\">\r\n       <use xlink:href=\"#DejaVuSans-8722\"/>\r\n       <use x=\"83.789062\" xlink:href=\"#DejaVuSans-48\"/>\r\n       <use x=\"147.412109\" xlink:href=\"#DejaVuSans-46\"/>\r\n       <use x=\"179.199219\" xlink:href=\"#DejaVuSans-50\"/>\r\n       <use x=\"242.822266\" xlink:href=\"#DejaVuSans-53\"/>\r\n      </g>\r\n     </g>\r\n    </g>\r\n    <g id=\"ytick_56\">\r\n     <g id=\"line2d_57\">\r\n      <g>\r\n       <use style=\"stroke:#000000;stroke-width:0.8;\" x=\"480.079438\" xlink:href=\"#mfc04d38c96\" y=\"363.037187\"/>\r\n      </g>\r\n     </g>\r\n     <g id=\"text_109\">\r\n      <!-- 0.00 -->\r\n      <g transform=\"translate(487.079438 366.836406)scale(0.1 -0.1)\">\r\n       <use xlink:href=\"#DejaVuSans-48\"/>\r\n       <use x=\"63.623047\" xlink:href=\"#DejaVuSans-46\"/>\r\n       <use x=\"95.410156\" xlink:href=\"#DejaVuSans-48\"/>\r\n       <use x=\"159.033203\" xlink:href=\"#DejaVuSans-48\"/>\r\n      </g>\r\n     </g>\r\n    </g>\r\n    <g id=\"ytick_57\">\r\n     <g id=\"line2d_58\">\r\n      <g>\r\n       <use style=\"stroke:#000000;stroke-width:0.8;\" x=\"480.079438\" xlink:href=\"#mfc04d38c96\" y=\"281.497187\"/>\r\n      </g>\r\n     </g>\r\n     <g id=\"text_110\">\r\n      <!-- 0.25 -->\r\n      <g transform=\"translate(487.079438 285.296406)scale(0.1 -0.1)\">\r\n       <use xlink:href=\"#DejaVuSans-48\"/>\r\n       <use x=\"63.623047\" xlink:href=\"#DejaVuSans-46\"/>\r\n       <use x=\"95.410156\" xlink:href=\"#DejaVuSans-50\"/>\r\n       <use x=\"159.033203\" xlink:href=\"#DejaVuSans-53\"/>\r\n      </g>\r\n     </g>\r\n    </g>\r\n    <g id=\"ytick_58\">\r\n     <g id=\"line2d_59\">\r\n      <g>\r\n       <use style=\"stroke:#000000;stroke-width:0.8;\" x=\"480.079438\" xlink:href=\"#mfc04d38c96\" y=\"199.957187\"/>\r\n      </g>\r\n     </g>\r\n     <g id=\"text_111\">\r\n      <!-- 0.50 -->\r\n      <g transform=\"translate(487.079438 203.756406)scale(0.1 -0.1)\">\r\n       <use xlink:href=\"#DejaVuSans-48\"/>\r\n       <use x=\"63.623047\" xlink:href=\"#DejaVuSans-46\"/>\r\n       <use x=\"95.410156\" xlink:href=\"#DejaVuSans-53\"/>\r\n       <use x=\"159.033203\" xlink:href=\"#DejaVuSans-48\"/>\r\n      </g>\r\n     </g>\r\n    </g>\r\n    <g id=\"ytick_59\">\r\n     <g id=\"line2d_60\">\r\n      <g>\r\n       <use style=\"stroke:#000000;stroke-width:0.8;\" x=\"480.079438\" xlink:href=\"#mfc04d38c96\" y=\"118.417187\"/>\r\n      </g>\r\n     </g>\r\n     <g id=\"text_112\">\r\n      <!-- 0.75 -->\r\n      <g transform=\"translate(487.079438 122.216406)scale(0.1 -0.1)\">\r\n       <use xlink:href=\"#DejaVuSans-48\"/>\r\n       <use x=\"63.623047\" xlink:href=\"#DejaVuSans-46\"/>\r\n       <use x=\"95.410156\" xlink:href=\"#DejaVuSans-55\"/>\r\n       <use x=\"159.033203\" xlink:href=\"#DejaVuSans-53\"/>\r\n      </g>\r\n     </g>\r\n    </g>\r\n    <g id=\"ytick_60\">\r\n     <g id=\"line2d_61\">\r\n      <g>\r\n       <use style=\"stroke:#000000;stroke-width:0.8;\" x=\"480.079438\" xlink:href=\"#mfc04d38c96\" y=\"36.877187\"/>\r\n      </g>\r\n     </g>\r\n     <g id=\"text_113\">\r\n      <!-- 1.00 -->\r\n      <g transform=\"translate(487.079438 40.676406)scale(0.1 -0.1)\">\r\n       <use xlink:href=\"#DejaVuSans-49\"/>\r\n       <use x=\"63.623047\" xlink:href=\"#DejaVuSans-46\"/>\r\n       <use x=\"95.410156\" xlink:href=\"#DejaVuSans-48\"/>\r\n       <use x=\"159.033203\" xlink:href=\"#DejaVuSans-48\"/>\r\n      </g>\r\n     </g>\r\n    </g>\r\n   </g>\r\n   <g id=\"patch_4\">\r\n    <path d=\"M 447.463438 689.197187 \r\nL 447.463438 686.649062 \r\nL 447.463438 39.425312 \r\nL 447.463438 36.877187 \r\nL 480.079438 36.877187 \r\nL 480.079438 39.425312 \r\nL 480.079438 686.649062 \r\nL 480.079438 689.197187 \r\nz\r\n\" style=\"fill:none;\"/>\r\n   </g>\r\n  </g>\r\n </g>\r\n <defs>\r\n  <clipPath id=\"p038be71c91\">\r\n   <rect height=\"652.32\" width=\"357.12\" x=\"68.023438\" y=\"36.877187\"/>\r\n  </clipPath>\r\n  <clipPath id=\"pe9694c6480\">\r\n   <rect height=\"652.32\" width=\"32.616\" x=\"447.463438\" y=\"36.877187\"/>\r\n  </clipPath>\r\n </defs>\r\n</svg>\r\n",
      "image/png": "[encoded data removed]"
     },
     "metadata": {
      "needs_background": "light"
     }
    }
   ],
   "source": [
    "data_train_target_num = data_train.replace({'target': {'Class_1': 1, 'Class_2': 2, 'Class_3': 3, 'Class_4': 4}})\n",
    "\n",
    "plt.figure(figsize=(8, 12))\n",
    "\n",
    "heatmap = sns.heatmap(data_train_target_num.corr()[['target']].sort_values(by='target', ascending=False),\n",
    "                     vmin=-1, vmax=1, annot=True, cmap='Purples')\n",
    "\n",
    "heatmap.set_title('Linear correlation of features with target variable', fontdict={'fontsize': 18}, pad=16);"
   ]
  },
  {
   "source": [
    "<h3>Conclusion</h3>"
   ],
   "cell_type": "markdown",
   "metadata": {}
  },
  {
   "source": [
    "After some visualization and discussion couple of things come up to the light\n",
    "<ul>\n",
    "    <li>There aren't any missing values</li>\n",
    "    <li>Mean and standard deviation is fairly the same for train and test datasets</li>\n",
    "    <li>Target variable is unbalanced which can be a problem</li>\n",
    "    <li>Features are left skewed and nearly 60% of every feature is filled with zeros</li>\n",
    "    <li>Features show weak linear correlation with target variable</li>\n",
    "</ul>"
   ],
   "cell_type": "markdown",
   "metadata": {}
  },
  {
   "source": [
    "<h2>Dimensionality Reduction</h2>\n",
    "There is 50 features in our dataset. It's good opportunity to perform dimensionality reduction but first we gona check if it's necessary to do so."
   ],
   "cell_type": "markdown",
   "metadata": {}
  },
  {
   "cell_type": "code",
   "execution_count": 13,
   "metadata": {},
   "outputs": [
    {
     "output_type": "display_data",
     "data": {
      "application/vnd.plotly.v1+json": {
       "config": {
        "plotlyServerURL": "https://plot.ly"
       },
       "data": [
        {
         "type": "scatter",
         "x": [
          0,
          1,
          2,
          3,
          4,
          5,
          6,
          7,
          8,
          9,
          10,
          11,
          12,
          13,
          14,
          15,
          16,
          17,
          18,
          19,
          20,
          21,
          22,
          23,
          24,
          25,
          26,
          27,
          28,
          29,
          30,
          31,
          32,
          33,
          34,
          35,
          36,
          37,
          38,
          39,
          40,
          41,
          42,
          43,
          44,
          45,
          46,
          47,
          48,
          49
         ],
         "y": [
          0.11896022682749803,
          0.2114535145962929,
          0.3002392801516861,
          0.3573711376242496,
          0.4052390092998235,
          0.45037703755445546,
          0.4861395518508593,
          0.5179853953978827,
          0.5477133954322662,
          0.5750410028819877,
          0.6014017388938081,
          0.6268796854799883,
          0.649796726149704,
          0.6722408426975988,
          0.6939300630683318,
          0.7153142759386206,
          0.7349539201013523,
          0.7541705114248467,
          0.7732336412762745,
          0.7897053154597202,
          0.8057073365694445,
          0.8205587343866454,
          0.8350190469354912,
          0.8489541644806265,
          0.8624979888407768,
          0.8746261457968912,
          0.8861872219150266,
          0.8965616823533257,
          0.905730221823217,
          0.9147482184360933,
          0.9235319613266331,
          0.9322441482806832,
          0.939735397557791,
          0.9468957254073488,
          0.9536333590119985,
          0.9596815439299304,
          0.9648957863799971,
          0.9700618684072728,
          0.9750156631522543,
          0.97986902988443,
          0.9840470389748905,
          0.9875826047160975,
          0.9910954005690122,
          0.9933314086698736,
          0.9949450258784664,
          0.9964238454180043,
          0.9976779590148391,
          0.9987815184906009,
          0.9994735873464048,
          1
         ]
        }
       ],
       "layout": {
        "template": {
         "data": {
          "bar": [
           {
            "error_x": {
             "color": "#f2f5fa"
            },
            "error_y": {
             "color": "#f2f5fa"
            },
            "marker": {
             "line": {
              "color": "rgb(17,17,17)",
              "width": 0.5
             }
            },
            "type": "bar"
           }
          ],
          "barpolar": [
           {
            "marker": {
             "line": {
              "color": "rgb(17,17,17)",
              "width": 0.5
             }
            },
            "type": "barpolar"
           }
          ],
          "carpet": [
           {
            "aaxis": {
             "endlinecolor": "#A2B1C6",
             "gridcolor": "#506784",
             "linecolor": "#506784",
             "minorgridcolor": "#506784",
             "startlinecolor": "#A2B1C6"
            },
            "baxis": {
             "endlinecolor": "#A2B1C6",
             "gridcolor": "#506784",
             "linecolor": "#506784",
             "minorgridcolor": "#506784",
             "startlinecolor": "#A2B1C6"
            },
            "type": "carpet"
           }
          ],
          "choropleth": [
           {
            "colorbar": {
             "outlinewidth": 0,
             "ticks": ""
            },
            "type": "choropleth"
           }
          ],
          "contour": [
           {
            "colorbar": {
             "outlinewidth": 0,
             "ticks": ""
            },
            "colorscale": [
             [
              0,
              "#0d0887"
             ],
             [
              0.1111111111111111,
              "#46039f"
             ],
             [
              0.2222222222222222,
              "#7201a8"
             ],
             [
              0.3333333333333333,
              "#9c179e"
             ],
             [
              0.4444444444444444,
              "#bd3786"
             ],
             [
              0.5555555555555556,
              "#d8576b"
             ],
             [
              0.6666666666666666,
              "#ed7953"
             ],
             [
              0.7777777777777778,
              "#fb9f3a"
             ],
             [
              0.8888888888888888,
              "#fdca26"
             ],
             [
              1,
              "#f0f921"
             ]
            ],
            "type": "contour"
           }
          ],
          "contourcarpet": [
           {
            "colorbar": {
             "outlinewidth": 0,
             "ticks": ""
            },
            "type": "contourcarpet"
           }
          ],
          "heatmap": [
           {
            "colorbar": {
             "outlinewidth": 0,
             "ticks": ""
            },
            "colorscale": [
             [
              0,
              "#0d0887"
             ],
             [
              0.1111111111111111,
              "#46039f"
             ],
             [
              0.2222222222222222,
              "#7201a8"
             ],
             [
              0.3333333333333333,
              "#9c179e"
             ],
             [
              0.4444444444444444,
              "#bd3786"
             ],
             [
              0.5555555555555556,
              "#d8576b"
             ],
             [
              0.6666666666666666,
              "#ed7953"
             ],
             [
              0.7777777777777778,
              "#fb9f3a"
             ],
             [
              0.8888888888888888,
              "#fdca26"
             ],
             [
              1,
              "#f0f921"
             ]
            ],
            "type": "heatmap"
           }
          ],
          "heatmapgl": [
           {
            "colorbar": {
             "outlinewidth": 0,
             "ticks": ""
            },
            "colorscale": [
             [
              0,
              "#0d0887"
             ],
             [
              0.1111111111111111,
              "#46039f"
             ],
             [
              0.2222222222222222,
              "#7201a8"
             ],
             [
              0.3333333333333333,
              "#9c179e"
             ],
             [
              0.4444444444444444,
              "#bd3786"
             ],
             [
              0.5555555555555556,
              "#d8576b"
             ],
             [
              0.6666666666666666,
              "#ed7953"
             ],
             [
              0.7777777777777778,
              "#fb9f3a"
             ],
             [
              0.8888888888888888,
              "#fdca26"
             ],
             [
              1,
              "#f0f921"
             ]
            ],
            "type": "heatmapgl"
           }
          ],
          "histogram": [
           {
            "marker": {
             "colorbar": {
              "outlinewidth": 0,
              "ticks": ""
             }
            },
            "type": "histogram"
           }
          ],
          "histogram2d": [
           {
            "colorbar": {
             "outlinewidth": 0,
             "ticks": ""
            },
            "colorscale": [
             [
              0,
              "#0d0887"
             ],
             [
              0.1111111111111111,
              "#46039f"
             ],
             [
              0.2222222222222222,
              "#7201a8"
             ],
             [
              0.3333333333333333,
              "#9c179e"
             ],
             [
              0.4444444444444444,
              "#bd3786"
             ],
             [
              0.5555555555555556,
              "#d8576b"
             ],
             [
              0.6666666666666666,
              "#ed7953"
             ],
             [
              0.7777777777777778,
              "#fb9f3a"
             ],
             [
              0.8888888888888888,
              "#fdca26"
             ],
             [
              1,
              "#f0f921"
             ]
            ],
            "type": "histogram2d"
           }
          ],
          "histogram2dcontour": [
           {
            "colorbar": {
             "outlinewidth": 0,
             "ticks": ""
            },
            "colorscale": [
             [
              0,
              "#0d0887"
             ],
             [
              0.1111111111111111,
              "#46039f"
             ],
             [
              0.2222222222222222,
              "#7201a8"
             ],
             [
              0.3333333333333333,
              "#9c179e"
             ],
             [
              0.4444444444444444,
              "#bd3786"
             ],
             [
              0.5555555555555556,
              "#d8576b"
             ],
             [
              0.6666666666666666,
              "#ed7953"
             ],
             [
              0.7777777777777778,
              "#fb9f3a"
             ],
             [
              0.8888888888888888,
              "#fdca26"
             ],
             [
              1,
              "#f0f921"
             ]
            ],
            "type": "histogram2dcontour"
           }
          ],
          "mesh3d": [
           {
            "colorbar": {
             "outlinewidth": 0,
             "ticks": ""
            },
            "type": "mesh3d"
           }
          ],
          "parcoords": [
           {
            "line": {
             "colorbar": {
              "outlinewidth": 0,
              "ticks": ""
             }
            },
            "type": "parcoords"
           }
          ],
          "pie": [
           {
            "automargin": true,
            "type": "pie"
           }
          ],
          "scatter": [
           {
            "marker": {
             "line": {
              "color": "#283442"
             }
            },
            "type": "scatter"
           }
          ],
          "scatter3d": [
           {
            "line": {
             "colorbar": {
              "outlinewidth": 0,
              "ticks": ""
             }
            },
            "marker": {
             "colorbar": {
              "outlinewidth": 0,
              "ticks": ""
             }
            },
            "type": "scatter3d"
           }
          ],
          "scattercarpet": [
           {
            "marker": {
             "colorbar": {
              "outlinewidth": 0,
              "ticks": ""
             }
            },
            "type": "scattercarpet"
           }
          ],
          "scattergeo": [
           {
            "marker": {
             "colorbar": {
              "outlinewidth": 0,
              "ticks": ""
             }
            },
            "type": "scattergeo"
           }
          ],
          "scattergl": [
           {
            "marker": {
             "line": {
              "color": "#283442"
             }
            },
            "type": "scattergl"
           }
          ],
          "scattermapbox": [
           {
            "marker": {
             "colorbar": {
              "outlinewidth": 0,
              "ticks": ""
             }
            },
            "type": "scattermapbox"
           }
          ],
          "scatterpolar": [
           {
            "marker": {
             "colorbar": {
              "outlinewidth": 0,
              "ticks": ""
             }
            },
            "type": "scatterpolar"
           }
          ],
          "scatterpolargl": [
           {
            "marker": {
             "colorbar": {
              "outlinewidth": 0,
              "ticks": ""
             }
            },
            "type": "scatterpolargl"
           }
          ],
          "scatterternary": [
           {
            "marker": {
             "colorbar": {
              "outlinewidth": 0,
              "ticks": ""
             }
            },
            "type": "scatterternary"
           }
          ],
          "surface": [
           {
            "colorbar": {
             "outlinewidth": 0,
             "ticks": ""
            },
            "colorscale": [
             [
              0,
              "#0d0887"
             ],
             [
              0.1111111111111111,
              "#46039f"
             ],
             [
              0.2222222222222222,
              "#7201a8"
             ],
             [
              0.3333333333333333,
              "#9c179e"
             ],
             [
              0.4444444444444444,
              "#bd3786"
             ],
             [
              0.5555555555555556,
              "#d8576b"
             ],
             [
              0.6666666666666666,
              "#ed7953"
             ],
             [
              0.7777777777777778,
              "#fb9f3a"
             ],
             [
              0.8888888888888888,
              "#fdca26"
             ],
             [
              1,
              "#f0f921"
             ]
            ],
            "type": "surface"
           }
          ],
          "table": [
           {
            "cells": {
             "fill": {
              "color": "#506784"
             },
             "line": {
              "color": "rgb(17,17,17)"
             }
            },
            "header": {
             "fill": {
              "color": "#2a3f5f"
             },
             "line": {
              "color": "rgb(17,17,17)"
             }
            },
            "type": "table"
           }
          ]
         },
         "layout": {
          "annotationdefaults": {
           "arrowcolor": "#f2f5fa",
           "arrowhead": 0,
           "arrowwidth": 1
          },
          "autotypenumbers": "strict",
          "coloraxis": {
           "colorbar": {
            "outlinewidth": 0,
            "ticks": ""
           }
          },
          "colorscale": {
           "diverging": [
            [
             0,
             "#8e0152"
            ],
            [
             0.1,
             "#c51b7d"
            ],
            [
             0.2,
             "#de77ae"
            ],
            [
             0.3,
             "#f1b6da"
            ],
            [
             0.4,
             "#fde0ef"
            ],
            [
             0.5,
             "#f7f7f7"
            ],
            [
             0.6,
             "#e6f5d0"
            ],
            [
             0.7,
             "#b8e186"
            ],
            [
             0.8,
             "#7fbc41"
            ],
            [
             0.9,
             "#4d9221"
            ],
            [
             1,
             "#276419"
            ]
           ],
           "sequential": [
            [
             0,
             "#0d0887"
            ],
            [
             0.1111111111111111,
             "#46039f"
            ],
            [
             0.2222222222222222,
             "#7201a8"
            ],
            [
             0.3333333333333333,
             "#9c179e"
            ],
            [
             0.4444444444444444,
             "#bd3786"
            ],
            [
             0.5555555555555556,
             "#d8576b"
            ],
            [
             0.6666666666666666,
             "#ed7953"
            ],
            [
             0.7777777777777778,
             "#fb9f3a"
            ],
            [
             0.8888888888888888,
             "#fdca26"
            ],
            [
             1,
             "#f0f921"
            ]
           ],
           "sequentialminus": [
            [
             0,
             "#0d0887"
            ],
            [
             0.1111111111111111,
             "#46039f"
            ],
            [
             0.2222222222222222,
             "#7201a8"
            ],
            [
             0.3333333333333333,
             "#9c179e"
            ],
            [
             0.4444444444444444,
             "#bd3786"
            ],
            [
             0.5555555555555556,
             "#d8576b"
            ],
            [
             0.6666666666666666,
             "#ed7953"
            ],
            [
             0.7777777777777778,
             "#fb9f3a"
            ],
            [
             0.8888888888888888,
             "#fdca26"
            ],
            [
             1,
             "#f0f921"
            ]
           ]
          },
          "colorway": [
           "#636efa",
           "#EF553B",
           "#00cc96",
           "#ab63fa",
           "#FFA15A",
           "#19d3f3",
           "#FF6692",
           "#B6E880",
           "#FF97FF",
           "#FECB52"
          ],
          "font": {
           "color": "#f2f5fa"
          },
          "geo": {
           "bgcolor": "rgb(17,17,17)",
           "lakecolor": "rgb(17,17,17)",
           "landcolor": "rgb(17,17,17)",
           "showlakes": true,
           "showland": true,
           "subunitcolor": "#506784"
          },
          "hoverlabel": {
           "align": "left"
          },
          "hovermode": "closest",
          "mapbox": {
           "style": "dark"
          },
          "paper_bgcolor": "rgb(17,17,17)",
          "plot_bgcolor": "rgb(17,17,17)",
          "polar": {
           "angularaxis": {
            "gridcolor": "#506784",
            "linecolor": "#506784",
            "ticks": ""
           },
           "bgcolor": "rgb(17,17,17)",
           "radialaxis": {
            "gridcolor": "#506784",
            "linecolor": "#506784",
            "ticks": ""
           }
          },
          "scene": {
           "xaxis": {
            "backgroundcolor": "rgb(17,17,17)",
            "gridcolor": "#506784",
            "gridwidth": 2,
            "linecolor": "#506784",
            "showbackground": true,
            "ticks": "",
            "zerolinecolor": "#C8D4E3"
           },
           "yaxis": {
            "backgroundcolor": "rgb(17,17,17)",
            "gridcolor": "#506784",
            "gridwidth": 2,
            "linecolor": "#506784",
            "showbackground": true,
            "ticks": "",
            "zerolinecolor": "#C8D4E3"
           },
           "zaxis": {
            "backgroundcolor": "rgb(17,17,17)",
            "gridcolor": "#506784",
            "gridwidth": 2,
            "linecolor": "#506784",
            "showbackground": true,
            "ticks": "",
            "zerolinecolor": "#C8D4E3"
           }
          },
          "shapedefaults": {
           "line": {
            "color": "#f2f5fa"
           }
          },
          "sliderdefaults": {
           "bgcolor": "#C8D4E3",
           "bordercolor": "rgb(17,17,17)",
           "borderwidth": 1,
           "tickwidth": 0
          },
          "ternary": {
           "aaxis": {
            "gridcolor": "#506784",
            "linecolor": "#506784",
            "ticks": ""
           },
           "baxis": {
            "gridcolor": "#506784",
            "linecolor": "#506784",
            "ticks": ""
           },
           "bgcolor": "rgb(17,17,17)",
           "caxis": {
            "gridcolor": "#506784",
            "linecolor": "#506784",
            "ticks": ""
           }
          },
          "title": {
           "x": 0.05
          },
          "updatemenudefaults": {
           "bgcolor": "#506784",
           "borderwidth": 0
          },
          "xaxis": {
           "automargin": true,
           "gridcolor": "#283442",
           "linecolor": "#506784",
           "ticks": "",
           "title": {
            "standoff": 15
           },
           "zerolinecolor": "#283442",
           "zerolinewidth": 2
          },
          "yaxis": {
           "automargin": true,
           "gridcolor": "#283442",
           "linecolor": "#506784",
           "ticks": "",
           "title": {
            "standoff": 15
           },
           "zerolinecolor": "#283442",
           "zerolinewidth": 2
          }
         }
        },
        "title": {
         "text": "PCA Performence"
        },
        "xaxis": {
         "title": {
          "text": "Number of components"
         }
        },
        "yaxis": {
         "title": {
          "text": "Cumulative explained variance"
         }
        }
       }
      }
     },
     "metadata": {}
    }
   ],
   "source": [
    "pca = PCA().fit(data_train.drop('target', axis=1))\n",
    "\n",
    "fig = go.Figure()\n",
    "\n",
    "fig.add_trace(go.Scatter(\n",
    "    x = list(range(50)),\n",
    "    y = np.cumsum(pca.explained_variance_ratio_)\n",
    "))\n",
    "\n",
    "fig.update_layout(\n",
    "    template = 'plotly_dark',\n",
    "    title_text = 'PCA Performence',\n",
    "    xaxis_title = 'Number of components',\n",
    "    yaxis_title = 'Cumulative explained variance'\n",
    ")"
   ]
  },
  {
   "source": [
    "As we can see from scatter plot above variance decreasing quite fast. By the time PCA reduce number of features to the 30 we had lost almost 10% of the variance. It's definitely not worth it to reduce dimensionality of this dataset in order to create prediction model but still we can use dimensionality reduction to visualize our dataset. "
   ],
   "cell_type": "markdown",
   "metadata": {}
  },
  {
   "cell_type": "code",
   "execution_count": 14,
   "metadata": {},
   "outputs": [],
   "source": [
    "pca_vis = PCA(3)\n",
    "projected = pca_vis.fit_transform(data_train.drop('target', axis=1))"
   ]
  },
  {
   "cell_type": "code",
   "execution_count": 15,
   "metadata": {},
   "outputs": [],
   "source": [
    "df_vis = pd.DataFrame(projected, columns=['x', 'y', 'z'])\n",
    "df_vis['target'] = data_train['target']"
   ]
  },
  {
   "cell_type": "code",
   "execution_count": 23,
   "metadata": {},
   "outputs": [
    {
     "output_type": "error",
     "ename": "ValueError",
     "evalue": "Value of 'size' is not the name of a column in 'data_frame'. Expected one of ['x', 'y', 'z', 'target'] but received: 4",
     "traceback": [
      "\u001b[1;31m---------------------------------------------------------------------------\u001b[0m",
      "\u001b[1;31mValueError\u001b[0m                                Traceback (most recent call last)",
      "\u001b[1;32m<ipython-input-23-fd3d7b02a85e>\u001b[0m in \u001b[0;36m<module>\u001b[1;34m\u001b[0m\n\u001b[1;32m----> 1\u001b[1;33m \u001b[0mfig\u001b[0m \u001b[1;33m=\u001b[0m \u001b[0mpx\u001b[0m\u001b[1;33m.\u001b[0m\u001b[0mscatter_3d\u001b[0m\u001b[1;33m(\u001b[0m\u001b[0mdf_vis\u001b[0m\u001b[1;33m,\u001b[0m \u001b[0mx\u001b[0m\u001b[1;33m=\u001b[0m\u001b[1;34m'x'\u001b[0m\u001b[1;33m,\u001b[0m \u001b[0my\u001b[0m\u001b[1;33m=\u001b[0m\u001b[1;34m'y'\u001b[0m\u001b[1;33m,\u001b[0m \u001b[0mz\u001b[0m\u001b[1;33m=\u001b[0m\u001b[1;34m'z'\u001b[0m\u001b[1;33m,\u001b[0m \u001b[0mcolor\u001b[0m\u001b[1;33m=\u001b[0m\u001b[1;34m'target'\u001b[0m\u001b[1;33m,\u001b[0m \u001b[0msize\u001b[0m\u001b[1;33m=\u001b[0m\u001b[1;36m4\u001b[0m\u001b[1;33m)\u001b[0m\u001b[1;33m\u001b[0m\u001b[1;33m\u001b[0m\u001b[0m\n\u001b[0m\u001b[0;32m      2\u001b[0m \u001b[1;33m\u001b[0m\u001b[0m\n\u001b[0;32m      3\u001b[0m \u001b[1;31m# tight layout\u001b[0m\u001b[1;33m\u001b[0m\u001b[1;33m\u001b[0m\u001b[1;33m\u001b[0m\u001b[0m\n\u001b[0;32m      4\u001b[0m \u001b[0mfig\u001b[0m\u001b[1;33m.\u001b[0m\u001b[0mupdate_layout\u001b[0m\u001b[1;33m(\u001b[0m\u001b[0mmargin\u001b[0m\u001b[1;33m=\u001b[0m\u001b[0mdict\u001b[0m\u001b[1;33m(\u001b[0m\u001b[0ml\u001b[0m\u001b[1;33m=\u001b[0m\u001b[1;36m0\u001b[0m\u001b[1;33m,\u001b[0m \u001b[0mr\u001b[0m\u001b[1;33m=\u001b[0m\u001b[1;36m0\u001b[0m\u001b[1;33m,\u001b[0m \u001b[0mb\u001b[0m\u001b[1;33m=\u001b[0m\u001b[1;36m0\u001b[0m\u001b[1;33m,\u001b[0m \u001b[0mt\u001b[0m\u001b[1;33m=\u001b[0m\u001b[1;36m0\u001b[0m\u001b[1;33m)\u001b[0m\u001b[1;33m)\u001b[0m\u001b[1;33m\u001b[0m\u001b[1;33m\u001b[0m\u001b[0m\n",
      "\u001b[1;32mD:\\Programy\\AnacondaPython\\ANACONDA\\envs\\Kaggle\\lib\\site-packages\\plotly\\express\\_chart_types.py\u001b[0m in \u001b[0;36mscatter_3d\u001b[1;34m(data_frame, x, y, z, color, symbol, size, text, hover_name, hover_data, custom_data, error_x, error_x_minus, error_y, error_y_minus, error_z, error_z_minus, animation_frame, animation_group, category_orders, labels, size_max, color_discrete_sequence, color_discrete_map, color_continuous_scale, range_color, color_continuous_midpoint, symbol_sequence, symbol_map, opacity, log_x, log_y, log_z, range_x, range_y, range_z, title, template, width, height)\u001b[0m\n\u001b[0;32m    672\u001b[0m     \u001b[0msymbol\u001b[0m \u001b[0mmark\u001b[0m \u001b[1;32min\u001b[0m \u001b[1;36m3\u001b[0m\u001b[0mD\u001b[0m \u001b[0mspace\u001b[0m\u001b[1;33m.\u001b[0m\u001b[1;33m\u001b[0m\u001b[1;33m\u001b[0m\u001b[0m\n\u001b[0;32m    673\u001b[0m     \"\"\"\n\u001b[1;32m--> 674\u001b[1;33m     \u001b[1;32mreturn\u001b[0m \u001b[0mmake_figure\u001b[0m\u001b[1;33m(\u001b[0m\u001b[0margs\u001b[0m\u001b[1;33m=\u001b[0m\u001b[0mlocals\u001b[0m\u001b[1;33m(\u001b[0m\u001b[1;33m)\u001b[0m\u001b[1;33m,\u001b[0m \u001b[0mconstructor\u001b[0m\u001b[1;33m=\u001b[0m\u001b[0mgo\u001b[0m\u001b[1;33m.\u001b[0m\u001b[0mScatter3d\u001b[0m\u001b[1;33m)\u001b[0m\u001b[1;33m\u001b[0m\u001b[1;33m\u001b[0m\u001b[0m\n\u001b[0m\u001b[0;32m    675\u001b[0m \u001b[1;33m\u001b[0m\u001b[0m\n\u001b[0;32m    676\u001b[0m \u001b[1;33m\u001b[0m\u001b[0m\n",
      "\u001b[1;32mD:\\Programy\\AnacondaPython\\ANACONDA\\envs\\Kaggle\\lib\\site-packages\\plotly\\express\\_core.py\u001b[0m in \u001b[0;36mmake_figure\u001b[1;34m(args, constructor, trace_patch, layout_patch)\u001b[0m\n\u001b[0;32m   1859\u001b[0m     \u001b[0mapply_default_cascade\u001b[0m\u001b[1;33m(\u001b[0m\u001b[0margs\u001b[0m\u001b[1;33m)\u001b[0m\u001b[1;33m\u001b[0m\u001b[1;33m\u001b[0m\u001b[0m\n\u001b[0;32m   1860\u001b[0m \u001b[1;33m\u001b[0m\u001b[0m\n\u001b[1;32m-> 1861\u001b[1;33m     \u001b[0margs\u001b[0m \u001b[1;33m=\u001b[0m \u001b[0mbuild_dataframe\u001b[0m\u001b[1;33m(\u001b[0m\u001b[0margs\u001b[0m\u001b[1;33m,\u001b[0m \u001b[0mconstructor\u001b[0m\u001b[1;33m)\u001b[0m\u001b[1;33m\u001b[0m\u001b[1;33m\u001b[0m\u001b[0m\n\u001b[0m\u001b[0;32m   1862\u001b[0m     \u001b[1;32mif\u001b[0m \u001b[0mconstructor\u001b[0m \u001b[1;32min\u001b[0m \u001b[1;33m[\u001b[0m\u001b[0mgo\u001b[0m\u001b[1;33m.\u001b[0m\u001b[0mTreemap\u001b[0m\u001b[1;33m,\u001b[0m \u001b[0mgo\u001b[0m\u001b[1;33m.\u001b[0m\u001b[0mSunburst\u001b[0m\u001b[1;33m]\u001b[0m \u001b[1;32mand\u001b[0m \u001b[0margs\u001b[0m\u001b[1;33m[\u001b[0m\u001b[1;34m\"path\"\u001b[0m\u001b[1;33m]\u001b[0m \u001b[1;32mis\u001b[0m \u001b[1;32mnot\u001b[0m \u001b[1;32mNone\u001b[0m\u001b[1;33m:\u001b[0m\u001b[1;33m\u001b[0m\u001b[1;33m\u001b[0m\u001b[0m\n\u001b[0;32m   1863\u001b[0m         \u001b[0margs\u001b[0m \u001b[1;33m=\u001b[0m \u001b[0mprocess_dataframe_hierarchy\u001b[0m\u001b[1;33m(\u001b[0m\u001b[0margs\u001b[0m\u001b[1;33m)\u001b[0m\u001b[1;33m\u001b[0m\u001b[1;33m\u001b[0m\u001b[0m\n",
      "\u001b[1;32mD:\\Programy\\AnacondaPython\\ANACONDA\\envs\\Kaggle\\lib\\site-packages\\plotly\\express\\_core.py\u001b[0m in \u001b[0;36mbuild_dataframe\u001b[1;34m(args, constructor)\u001b[0m\n\u001b[0;32m   1376\u001b[0m \u001b[1;33m\u001b[0m\u001b[0m\n\u001b[0;32m   1377\u001b[0m     df_output, wide_id_vars = process_args_into_dataframe(\n\u001b[1;32m-> 1378\u001b[1;33m         \u001b[0margs\u001b[0m\u001b[1;33m,\u001b[0m \u001b[0mwide_mode\u001b[0m\u001b[1;33m,\u001b[0m \u001b[0mvar_name\u001b[0m\u001b[1;33m,\u001b[0m \u001b[0mvalue_name\u001b[0m\u001b[1;33m\u001b[0m\u001b[1;33m\u001b[0m\u001b[0m\n\u001b[0m\u001b[0;32m   1379\u001b[0m     )\n\u001b[0;32m   1380\u001b[0m \u001b[1;33m\u001b[0m\u001b[0m\n",
      "\u001b[1;32mD:\\Programy\\AnacondaPython\\ANACONDA\\envs\\Kaggle\\lib\\site-packages\\plotly\\express\\_core.py\u001b[0m in \u001b[0;36mprocess_args_into_dataframe\u001b[1;34m(args, wide_mode, var_name, value_name)\u001b[0m\n\u001b[0;32m   1181\u001b[0m                         \u001b[1;32mif\u001b[0m \u001b[0margument\u001b[0m \u001b[1;33m==\u001b[0m \u001b[1;34m\"index\"\u001b[0m\u001b[1;33m:\u001b[0m\u001b[1;33m\u001b[0m\u001b[1;33m\u001b[0m\u001b[0m\n\u001b[0;32m   1182\u001b[0m                             \u001b[0merr_msg\u001b[0m \u001b[1;33m+=\u001b[0m \u001b[1;34m\"\\n To use the index, pass it in directly as `df.index`.\"\u001b[0m\u001b[1;33m\u001b[0m\u001b[1;33m\u001b[0m\u001b[0m\n\u001b[1;32m-> 1183\u001b[1;33m                         \u001b[1;32mraise\u001b[0m \u001b[0mValueError\u001b[0m\u001b[1;33m(\u001b[0m\u001b[0merr_msg\u001b[0m\u001b[1;33m)\u001b[0m\u001b[1;33m\u001b[0m\u001b[1;33m\u001b[0m\u001b[0m\n\u001b[0m\u001b[0;32m   1184\u001b[0m                 \u001b[1;32melif\u001b[0m \u001b[0mlength\u001b[0m \u001b[1;32mand\u001b[0m \u001b[0mlen\u001b[0m\u001b[1;33m(\u001b[0m\u001b[0mdf_input\u001b[0m\u001b[1;33m[\u001b[0m\u001b[0margument\u001b[0m\u001b[1;33m]\u001b[0m\u001b[1;33m)\u001b[0m \u001b[1;33m!=\u001b[0m \u001b[0mlength\u001b[0m\u001b[1;33m:\u001b[0m\u001b[1;33m\u001b[0m\u001b[1;33m\u001b[0m\u001b[0m\n\u001b[0;32m   1185\u001b[0m                     raise ValueError(\n",
      "\u001b[1;31mValueError\u001b[0m: Value of 'size' is not the name of a column in 'data_frame'. Expected one of ['x', 'y', 'z', 'target'] but received: 4"
     ]
    }
   ],
   "source": [
    "fig = px.scatter_3d(df_vis, x='x', y='y', z='z', color='target', size=4)\n",
    "\n",
    "# tight layout\n",
    "fig.update_layout(margin=dict(l=0, r=0, b=0, t=0))"
   ]
  },
  {
   "cell_type": "code",
   "execution_count": null,
   "metadata": {},
   "outputs": [],
   "source": []
  }
 ]
}