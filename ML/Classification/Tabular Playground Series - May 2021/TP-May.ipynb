{
 "metadata": {
  "language_info": {
   "codemirror_mode": {
    "name": "ipython",
    "version": 3
   },
   "file_extension": ".py",
   "mimetype": "text/x-python",
   "name": "python",
   "nbconvert_exporter": "python",
   "pygments_lexer": "ipython3",
   "version": "3.7.10"
  },
  "orig_nbformat": 2,
  "kernelspec": {
   "name": "python3710jvsc74a57bd0efa54f7f23af1d5798b652f3dd1f0fb573148954cb9e66026e20a8379bf29199",
   "display_name": "Python 3.7.10 64-bit"
  }
 },
 "nbformat": 4,
 "nbformat_minor": 2,
 "cells": [
  {
   "cell_type": "code",
   "execution_count": 2,
   "metadata": {},
   "outputs": [],
   "source": [
    "import pandas as pd\n",
    "import plotly.graph_objects as go\n",
    "\n",
    "from plotly.subplots import make_subplots"
   ]
  },
  {
   "cell_type": "code",
   "execution_count": 3,
   "metadata": {},
   "outputs": [],
   "source": [
    "data_train = pd.read_csv('data/train.csv').drop('id', axis=1)\n",
    "data_test = pd.read_csv('data/test.csv').drop('id', axis=1)"
   ]
  },
  {
   "cell_type": "code",
   "execution_count": 4,
   "metadata": {},
   "outputs": [],
   "source": [
    "all_data = pd.concat([data_train, data_test], axis=0)"
   ]
  },
  {
   "source": [
    "<h2>EDA</h2>"
   ],
   "cell_type": "markdown",
   "metadata": {}
  },
  {
   "source": [
    "<h3>Missing values</h3>"
   ],
   "cell_type": "markdown",
   "metadata": {}
  },
  {
   "cell_type": "code",
   "execution_count": 5,
   "metadata": {},
   "outputs": [
    {
     "output_type": "execute_result",
     "data": {
      "text/plain": [
       "feature_0         0\n",
       "feature_1         0\n",
       "feature_2         0\n",
       "feature_3         0\n",
       "feature_4         0\n",
       "feature_5         0\n",
       "feature_6         0\n",
       "feature_7         0\n",
       "feature_8         0\n",
       "feature_9         0\n",
       "feature_10        0\n",
       "feature_11        0\n",
       "feature_12        0\n",
       "feature_13        0\n",
       "feature_14        0\n",
       "feature_15        0\n",
       "feature_16        0\n",
       "feature_17        0\n",
       "feature_18        0\n",
       "feature_19        0\n",
       "feature_20        0\n",
       "feature_21        0\n",
       "feature_22        0\n",
       "feature_23        0\n",
       "feature_24        0\n",
       "feature_25        0\n",
       "feature_26        0\n",
       "feature_27        0\n",
       "feature_28        0\n",
       "feature_29        0\n",
       "feature_30        0\n",
       "feature_31        0\n",
       "feature_32        0\n",
       "feature_33        0\n",
       "feature_34        0\n",
       "feature_35        0\n",
       "feature_36        0\n",
       "feature_37        0\n",
       "feature_38        0\n",
       "feature_39        0\n",
       "feature_40        0\n",
       "feature_41        0\n",
       "feature_42        0\n",
       "feature_43        0\n",
       "feature_44        0\n",
       "feature_45        0\n",
       "feature_46        0\n",
       "feature_47        0\n",
       "feature_48        0\n",
       "feature_49        0\n",
       "target        50000\n",
       "dtype: int64"
      ]
     },
     "metadata": {},
     "execution_count": 5
    }
   ],
   "source": [
    "all_data.isnull().sum()"
   ]
  },
  {
   "source": [
    "As we can see there isn't any missing values in this dataset"
   ],
   "cell_type": "markdown",
   "metadata": {}
  },
  {
   "source": [
    "<h3>Feature Description</h3>"
   ],
   "cell_type": "markdown",
   "metadata": {}
  },
  {
   "cell_type": "code",
   "execution_count": 6,
   "metadata": {},
   "outputs": [
    {
     "output_type": "execute_result",
     "data": {
      "text/plain": [
       "<pandas.io.formats.style.Styler at 0x2d3688f1148>"
      ],
      "text/html": "<style  type=\"text/css\" >\n#T_3e106_row0_col1{\n            width:  10em;\n             height:  80%;\n            background:  linear-gradient(90deg,#d65f5f 6.1%, transparent 6.1%);\n        }#T_3e106_row0_col2{\n            width:  10em;\n             height:  80%;\n            background:  linear-gradient(90deg,#d65f5f 11.0%, transparent 11.0%);\n        }#T_3e106_row1_col1{\n            width:  10em;\n             height:  80%;\n            background:  linear-gradient(90deg,#d65f5f 12.6%, transparent 12.6%);\n        }#T_3e106_row1_col2{\n            width:  10em;\n             height:  80%;\n            background:  linear-gradient(90deg,#d65f5f 33.0%, transparent 33.0%);\n        }#T_3e106_row2_col1{\n            width:  10em;\n             height:  80%;\n            background:  linear-gradient(90deg,#d65f5f 1.4%, transparent 1.4%);\n        }#T_3e106_row2_col2{\n            width:  10em;\n             height:  80%;\n            background:  linear-gradient(90deg,#d65f5f 3.3%, transparent 3.3%);\n        }#T_3e106_row3_col1{\n            width:  10em;\n             height:  80%;\n            background:  linear-gradient(90deg,#d65f5f 17.4%, transparent 17.4%);\n        }#T_3e106_row3_col2{\n            width:  10em;\n             height:  80%;\n            background:  linear-gradient(90deg,#d65f5f 29.1%, transparent 29.1%);\n        }#T_3e106_row4_col1,#T_3e106_row43_col1{\n            width:  10em;\n             height:  80%;\n            background:  linear-gradient(90deg,#d65f5f 18.4%, transparent 18.4%);\n        }#T_3e106_row4_col2{\n            width:  10em;\n             height:  80%;\n            background:  linear-gradient(90deg,#d65f5f 49.3%, transparent 49.3%);\n        }#T_3e106_row5_col1{\n            width:  10em;\n             height:  80%;\n            background:  linear-gradient(90deg,#d65f5f 2.9%, transparent 2.9%);\n        }#T_3e106_row5_col2{\n            width:  10em;\n             height:  80%;\n            background:  linear-gradient(90deg,#d65f5f 4.9%, transparent 4.9%);\n        }#T_3e106_row6_col1{\n            width:  10em;\n             height:  80%;\n            background:  linear-gradient(90deg,#d65f5f 23.0%, transparent 23.0%);\n        }#T_3e106_row6_col2{\n            width:  10em;\n             height:  80%;\n            background:  linear-gradient(90deg,#d65f5f 40.0%, transparent 40.0%);\n        }#T_3e106_row7_col1{\n            width:  10em;\n             height:  80%;\n            background:  linear-gradient(90deg,#d65f5f 39.8%, transparent 39.8%);\n        }#T_3e106_row7_col2{\n            width:  10em;\n             height:  80%;\n            background:  linear-gradient(90deg,#d65f5f 47.5%, transparent 47.5%);\n        }#T_3e106_row8_col1,#T_3e106_row40_col2{\n            width:  10em;\n             height:  80%;\n            background:  linear-gradient(90deg,#d65f5f 27.8%, transparent 27.8%);\n        }#T_3e106_row8_col2{\n            width:  10em;\n             height:  80%;\n            background:  linear-gradient(90deg,#d65f5f 60.3%, transparent 60.3%);\n        }#T_3e106_row9_col1{\n            width:  10em;\n             height:  80%;\n            background:  linear-gradient(90deg,#d65f5f 29.7%, transparent 29.7%);\n        }#T_3e106_row9_col2{\n            width:  10em;\n             height:  80%;\n            background:  linear-gradient(90deg,#d65f5f 31.1%, transparent 31.1%);\n        }#T_3e106_row10_col1{\n            width:  10em;\n             height:  80%;\n            background:  linear-gradient(90deg,#d65f5f 8.5%, transparent 8.5%);\n        }#T_3e106_row10_col2{\n            width:  10em;\n             height:  80%;\n            background:  linear-gradient(90deg,#d65f5f 15.5%, transparent 15.5%);\n        }#T_3e106_row11_col1{\n            width:  10em;\n             height:  80%;\n            background:  linear-gradient(90deg,#d65f5f 11.3%, transparent 11.3%);\n        }#T_3e106_row11_col2{\n            width:  10em;\n             height:  80%;\n            background:  linear-gradient(90deg,#d65f5f 13.3%, transparent 13.3%);\n        }#T_3e106_row12_col1{\n            width:  10em;\n             height:  80%;\n            background:  linear-gradient(90deg,#d65f5f 13.4%, transparent 13.4%);\n        }#T_3e106_row12_col2{\n            width:  10em;\n             height:  80%;\n            background:  linear-gradient(90deg,#d65f5f 15.7%, transparent 15.7%);\n        }#T_3e106_row13_col1,#T_3e106_row13_col2{\n            width:  10em;\n             height:  80%;\n        }#T_3e106_row14_col1{\n            width:  10em;\n             height:  80%;\n            background:  linear-gradient(90deg,#d65f5f 86.8%, transparent 86.8%);\n        }#T_3e106_row14_col2{\n            width:  10em;\n             height:  80%;\n            background:  linear-gradient(90deg,#d65f5f 85.5%, transparent 85.5%);\n        }#T_3e106_row15_col1{\n            width:  10em;\n             height:  80%;\n            background:  linear-gradient(90deg,#d65f5f 40.5%, transparent 40.5%);\n        }#T_3e106_row15_col2,#T_3e106_row21_col2{\n            width:  10em;\n             height:  80%;\n            background:  linear-gradient(90deg,#d65f5f 36.3%, transparent 36.3%);\n        }#T_3e106_row16_col1{\n            width:  10em;\n             height:  80%;\n            background:  linear-gradient(90deg,#d65f5f 9.6%, transparent 9.6%);\n        }#T_3e106_row16_col2{\n            width:  10em;\n             height:  80%;\n            background:  linear-gradient(90deg,#d65f5f 17.8%, transparent 17.8%);\n        }#T_3e106_row17_col1{\n            width:  10em;\n             height:  80%;\n            background:  linear-gradient(90deg,#d65f5f 23.3%, transparent 23.3%);\n        }#T_3e106_row17_col2{\n            width:  10em;\n             height:  80%;\n            background:  linear-gradient(90deg,#d65f5f 30.0%, transparent 30.0%);\n        }#T_3e106_row18_col1{\n            width:  10em;\n             height:  80%;\n            background:  linear-gradient(90deg,#d65f5f 13.5%, transparent 13.5%);\n        }#T_3e106_row18_col2{\n            width:  10em;\n             height:  80%;\n            background:  linear-gradient(90deg,#d65f5f 14.7%, transparent 14.7%);\n        }#T_3e106_row19_col1{\n            width:  10em;\n             height:  80%;\n            background:  linear-gradient(90deg,#d65f5f 48.6%, transparent 48.6%);\n        }#T_3e106_row19_col2{\n            width:  10em;\n             height:  80%;\n            background:  linear-gradient(90deg,#d65f5f 85.4%, transparent 85.4%);\n        }#T_3e106_row20_col1{\n            width:  10em;\n             height:  80%;\n            background:  linear-gradient(90deg,#d65f5f 5.7%, transparent 5.7%);\n        }#T_3e106_row20_col2{\n            width:  10em;\n             height:  80%;\n            background:  linear-gradient(90deg,#d65f5f 11.6%, transparent 11.6%);\n        }#T_3e106_row21_col1{\n            width:  10em;\n             height:  80%;\n            background:  linear-gradient(90deg,#d65f5f 20.0%, transparent 20.0%);\n        }#T_3e106_row22_col1{\n            width:  10em;\n             height:  80%;\n            background:  linear-gradient(90deg,#d65f5f 3.8%, transparent 3.8%);\n        }#T_3e106_row22_col2{\n            width:  10em;\n             height:  80%;\n            background:  linear-gradient(90deg,#d65f5f 4.0%, transparent 4.0%);\n        }#T_3e106_row23_col1,#T_3e106_row37_col1{\n            width:  10em;\n             height:  80%;\n            background:  linear-gradient(90deg,#d65f5f 10.9%, transparent 10.9%);\n        }#T_3e106_row23_col2{\n            width:  10em;\n             height:  80%;\n            background:  linear-gradient(90deg,#d65f5f 17.3%, transparent 17.3%);\n        }#T_3e106_row24_col1{\n            width:  10em;\n             height:  80%;\n            background:  linear-gradient(90deg,#d65f5f 33.1%, transparent 33.1%);\n        }#T_3e106_row24_col2{\n            width:  10em;\n             height:  80%;\n            background:  linear-gradient(90deg,#d65f5f 43.7%, transparent 43.7%);\n        }#T_3e106_row25_col1{\n            width:  10em;\n             height:  80%;\n            background:  linear-gradient(90deg,#d65f5f 11.4%, transparent 11.4%);\n        }#T_3e106_row25_col2{\n            width:  10em;\n             height:  80%;\n            background:  linear-gradient(90deg,#d65f5f 19.2%, transparent 19.2%);\n        }#T_3e106_row26_col1{\n            width:  10em;\n             height:  80%;\n            background:  linear-gradient(90deg,#d65f5f 10.3%, transparent 10.3%);\n        }#T_3e106_row26_col2{\n            width:  10em;\n             height:  80%;\n            background:  linear-gradient(90deg,#d65f5f 23.4%, transparent 23.4%);\n        }#T_3e106_row27_col1{\n            width:  10em;\n             height:  80%;\n            background:  linear-gradient(90deg,#d65f5f 7.6%, transparent 7.6%);\n        }#T_3e106_row27_col2{\n            width:  10em;\n             height:  80%;\n            background:  linear-gradient(90deg,#d65f5f 24.4%, transparent 24.4%);\n        }#T_3e106_row28_col1,#T_3e106_row34_col1{\n            width:  10em;\n             height:  80%;\n            background:  linear-gradient(90deg,#d65f5f 35.4%, transparent 35.4%);\n        }#T_3e106_row28_col2{\n            width:  10em;\n             height:  80%;\n            background:  linear-gradient(90deg,#d65f5f 30.5%, transparent 30.5%);\n        }#T_3e106_row29_col1{\n            width:  10em;\n             height:  80%;\n            background:  linear-gradient(90deg,#d65f5f 3.2%, transparent 3.2%);\n        }#T_3e106_row29_col2{\n            width:  10em;\n             height:  80%;\n            background:  linear-gradient(90deg,#d65f5f 7.5%, transparent 7.5%);\n        }#T_3e106_row30_col1{\n            width:  10em;\n             height:  80%;\n            background:  linear-gradient(90deg,#d65f5f 7.4%, transparent 7.4%);\n        }#T_3e106_row30_col2{\n            width:  10em;\n             height:  80%;\n            background:  linear-gradient(90deg,#d65f5f 19.1%, transparent 19.1%);\n        }#T_3e106_row31_col1{\n            width:  10em;\n             height:  80%;\n            background:  linear-gradient(90deg,#d65f5f 44.0%, transparent 44.0%);\n        }#T_3e106_row31_col2{\n            width:  10em;\n             height:  80%;\n            background:  linear-gradient(90deg,#d65f5f 58.5%, transparent 58.5%);\n        }#T_3e106_row32_col1{\n            width:  10em;\n             height:  80%;\n            background:  linear-gradient(90deg,#d65f5f 6.9%, transparent 6.9%);\n        }#T_3e106_row32_col2{\n            width:  10em;\n             height:  80%;\n            background:  linear-gradient(90deg,#d65f5f 22.3%, transparent 22.3%);\n        }#T_3e106_row33_col1,#T_3e106_row41_col1{\n            width:  10em;\n             height:  80%;\n            background:  linear-gradient(90deg,#d65f5f 17.9%, transparent 17.9%);\n        }#T_3e106_row33_col2{\n            width:  10em;\n             height:  80%;\n            background:  linear-gradient(90deg,#d65f5f 37.5%, transparent 37.5%);\n        }#T_3e106_row34_col2{\n            width:  10em;\n             height:  80%;\n            background:  linear-gradient(90deg,#d65f5f 42.0%, transparent 42.0%);\n        }#T_3e106_row35_col1{\n            width:  10em;\n             height:  80%;\n            background:  linear-gradient(90deg,#d65f5f 29.0%, transparent 29.0%);\n        }#T_3e106_row35_col2{\n            width:  10em;\n             height:  80%;\n            background:  linear-gradient(90deg,#d65f5f 52.5%, transparent 52.5%);\n        }#T_3e106_row36_col1{\n            width:  10em;\n             height:  80%;\n            background:  linear-gradient(90deg,#d65f5f 1.5%, transparent 1.5%);\n        }#T_3e106_row36_col2{\n            width:  10em;\n             height:  80%;\n            background:  linear-gradient(90deg,#d65f5f 1.2%, transparent 1.2%);\n        }#T_3e106_row37_col2{\n            width:  10em;\n             height:  80%;\n            background:  linear-gradient(90deg,#d65f5f 14.4%, transparent 14.4%);\n        }#T_3e106_row38_col1,#T_3e106_row38_col2{\n            width:  10em;\n             height:  80%;\n            background:  linear-gradient(90deg,#d65f5f 100.0%, transparent 100.0%);\n        }#T_3e106_row39_col1{\n            width:  10em;\n             height:  80%;\n            background:  linear-gradient(90deg,#d65f5f 20.3%, transparent 20.3%);\n        }#T_3e106_row39_col2{\n            width:  10em;\n             height:  80%;\n            background:  linear-gradient(90deg,#d65f5f 67.5%, transparent 67.5%);\n        }#T_3e106_row40_col1{\n            width:  10em;\n             height:  80%;\n            background:  linear-gradient(90deg,#d65f5f 22.0%, transparent 22.0%);\n        }#T_3e106_row41_col2{\n            width:  10em;\n             height:  80%;\n            background:  linear-gradient(90deg,#d65f5f 34.1%, transparent 34.1%);\n        }#T_3e106_row42_col1{\n            width:  10em;\n             height:  80%;\n            background:  linear-gradient(90deg,#d65f5f 15.6%, transparent 15.6%);\n        }#T_3e106_row42_col2{\n            width:  10em;\n             height:  80%;\n            background:  linear-gradient(90deg,#d65f5f 39.9%, transparent 39.9%);\n        }#T_3e106_row43_col2{\n            width:  10em;\n             height:  80%;\n            background:  linear-gradient(90deg,#d65f5f 39.6%, transparent 39.6%);\n        }#T_3e106_row44_col1{\n            width:  10em;\n             height:  80%;\n            background:  linear-gradient(90deg,#d65f5f 2.0%, transparent 2.0%);\n        }#T_3e106_row44_col2{\n            width:  10em;\n             height:  80%;\n            background:  linear-gradient(90deg,#d65f5f 5.2%, transparent 5.2%);\n        }#T_3e106_row45_col1{\n            width:  10em;\n             height:  80%;\n            background:  linear-gradient(90deg,#d65f5f 9.7%, transparent 9.7%);\n        }#T_3e106_row45_col2{\n            width:  10em;\n             height:  80%;\n            background:  linear-gradient(90deg,#d65f5f 22.9%, transparent 22.9%);\n        }#T_3e106_row46_col1{\n            width:  10em;\n             height:  80%;\n            background:  linear-gradient(90deg,#d65f5f 15.4%, transparent 15.4%);\n        }#T_3e106_row46_col2{\n            width:  10em;\n             height:  80%;\n            background:  linear-gradient(90deg,#d65f5f 36.7%, transparent 36.7%);\n        }#T_3e106_row47_col1{\n            width:  10em;\n             height:  80%;\n            background:  linear-gradient(90deg,#d65f5f 10.7%, transparent 10.7%);\n        }#T_3e106_row47_col2{\n            width:  10em;\n             height:  80%;\n            background:  linear-gradient(90deg,#d65f5f 21.9%, transparent 21.9%);\n        }#T_3e106_row48_col1{\n            width:  10em;\n             height:  80%;\n            background:  linear-gradient(90deg,#d65f5f 31.2%, transparent 31.2%);\n        }#T_3e106_row48_col2{\n            width:  10em;\n             height:  80%;\n            background:  linear-gradient(90deg,#d65f5f 45.7%, transparent 45.7%);\n        }#T_3e106_row49_col1{\n            width:  10em;\n             height:  80%;\n            background:  linear-gradient(90deg,#d65f5f 16.8%, transparent 16.8%);\n        }#T_3e106_row49_col2{\n            width:  10em;\n             height:  80%;\n            background:  linear-gradient(90deg,#d65f5f 26.9%, transparent 26.9%);\n        }</style><table id=\"T_3e106_\" ><thead>    <tr>        <th class=\"blank level0\" ></th>        <th class=\"col_heading level0 col0\" >count</th>        <th class=\"col_heading level0 col1\" >mean</th>        <th class=\"col_heading level0 col2\" >std</th>        <th class=\"col_heading level0 col3\" >min</th>        <th class=\"col_heading level0 col4\" >25%</th>        <th class=\"col_heading level0 col5\" >50%</th>        <th class=\"col_heading level0 col6\" >75%</th>        <th class=\"col_heading level0 col7\" >max</th>    </tr></thead><tbody>\n                <tr>\n                        <th id=\"T_3e106_level0_row0\" class=\"row_heading level0 row0\" >feature_0</th>\n                        <td id=\"T_3e106_row0_col0\" class=\"data row0 col0\" >50000.000000</td>\n                        <td id=\"T_3e106_row0_col1\" class=\"data row0 col1\" >0.254620</td>\n                        <td id=\"T_3e106_row0_col2\" class=\"data row0 col2\" >0.910607</td>\n                        <td id=\"T_3e106_row0_col3\" class=\"data row0 col3\" >0.000000</td>\n                        <td id=\"T_3e106_row0_col4\" class=\"data row0 col4\" >0.000000</td>\n                        <td id=\"T_3e106_row0_col5\" class=\"data row0 col5\" >0.000000</td>\n                        <td id=\"T_3e106_row0_col6\" class=\"data row0 col6\" >0.000000</td>\n                        <td id=\"T_3e106_row0_col7\" class=\"data row0 col7\" >10.000000</td>\n            </tr>\n            <tr>\n                        <th id=\"T_3e106_level0_row1\" class=\"row_heading level0 row1\" >feature_1</th>\n                        <td id=\"T_3e106_row1_col0\" class=\"data row1 col0\" >50000.000000</td>\n                        <td id=\"T_3e106_row1_col1\" class=\"data row1 col1\" >0.443480</td>\n                        <td id=\"T_3e106_row1_col2\" class=\"data row1 col2\" >2.004536</td>\n                        <td id=\"T_3e106_row1_col3\" class=\"data row1 col3\" >0.000000</td>\n                        <td id=\"T_3e106_row1_col4\" class=\"data row1 col4\" >0.000000</td>\n                        <td id=\"T_3e106_row1_col5\" class=\"data row1 col5\" >0.000000</td>\n                        <td id=\"T_3e106_row1_col6\" class=\"data row1 col6\" >0.000000</td>\n                        <td id=\"T_3e106_row1_col7\" class=\"data row1 col7\" >31.000000</td>\n            </tr>\n            <tr>\n                        <th id=\"T_3e106_level0_row2\" class=\"row_heading level0 row2\" >feature_2</th>\n                        <td id=\"T_3e106_row2_col0\" class=\"data row2 col0\" >50000.000000</td>\n                        <td id=\"T_3e106_row2_col1\" class=\"data row2 col1\" >0.116720</td>\n                        <td id=\"T_3e106_row2_col2\" class=\"data row2 col2\" >0.524807</td>\n                        <td id=\"T_3e106_row2_col3\" class=\"data row2 col3\" >0.000000</td>\n                        <td id=\"T_3e106_row2_col4\" class=\"data row2 col4\" >0.000000</td>\n                        <td id=\"T_3e106_row2_col5\" class=\"data row2 col5\" >0.000000</td>\n                        <td id=\"T_3e106_row2_col6\" class=\"data row2 col6\" >0.000000</td>\n                        <td id=\"T_3e106_row2_col7\" class=\"data row2 col7\" >6.000000</td>\n            </tr>\n            <tr>\n                        <th id=\"T_3e106_level0_row3\" class=\"row_heading level0 row3\" >feature_3</th>\n                        <td id=\"T_3e106_row3_col0\" class=\"data row3 col0\" >50000.000000</td>\n                        <td id=\"T_3e106_row3_col1\" class=\"data row3 col1\" >0.584440</td>\n                        <td id=\"T_3e106_row3_col2\" class=\"data row3 col2\" >1.814083</td>\n                        <td id=\"T_3e106_row3_col3\" class=\"data row3 col3\" >0.000000</td>\n                        <td id=\"T_3e106_row3_col4\" class=\"data row3 col4\" >0.000000</td>\n                        <td id=\"T_3e106_row3_col5\" class=\"data row3 col5\" >0.000000</td>\n                        <td id=\"T_3e106_row3_col6\" class=\"data row3 col6\" >0.000000</td>\n                        <td id=\"T_3e106_row3_col7\" class=\"data row3 col7\" >25.000000</td>\n            </tr>\n            <tr>\n                        <th id=\"T_3e106_level0_row4\" class=\"row_heading level0 row4\" >feature_4</th>\n                        <td id=\"T_3e106_row4_col0\" class=\"data row4 col0\" >50000.000000</td>\n                        <td id=\"T_3e106_row4_col1\" class=\"data row4 col1\" >0.612640</td>\n                        <td id=\"T_3e106_row4_col2\" class=\"data row4 col2\" >2.819580</td>\n                        <td id=\"T_3e106_row4_col3\" class=\"data row4 col3\" >0.000000</td>\n                        <td id=\"T_3e106_row4_col4\" class=\"data row4 col4\" >0.000000</td>\n                        <td id=\"T_3e106_row4_col5\" class=\"data row4 col5\" >0.000000</td>\n                        <td id=\"T_3e106_row4_col6\" class=\"data row4 col6\" >0.000000</td>\n                        <td id=\"T_3e106_row4_col7\" class=\"data row4 col7\" >38.000000</td>\n            </tr>\n            <tr>\n                        <th id=\"T_3e106_level0_row5\" class=\"row_heading level0 row5\" >feature_5</th>\n                        <td id=\"T_3e106_row5_col0\" class=\"data row5 col0\" >50000.000000</td>\n                        <td id=\"T_3e106_row5_col1\" class=\"data row5 col1\" >0.161500</td>\n                        <td id=\"T_3e106_row5_col2\" class=\"data row5 col2\" >0.605760</td>\n                        <td id=\"T_3e106_row5_col3\" class=\"data row5 col3\" >0.000000</td>\n                        <td id=\"T_3e106_row5_col4\" class=\"data row5 col4\" >0.000000</td>\n                        <td id=\"T_3e106_row5_col5\" class=\"data row5 col5\" >0.000000</td>\n                        <td id=\"T_3e106_row5_col6\" class=\"data row5 col6\" >0.000000</td>\n                        <td id=\"T_3e106_row5_col7\" class=\"data row5 col7\" >9.000000</td>\n            </tr>\n            <tr>\n                        <th id=\"T_3e106_level0_row6\" class=\"row_heading level0 row6\" >feature_6</th>\n                        <td id=\"T_3e106_row6_col0\" class=\"data row6 col0\" >50000.000000</td>\n                        <td id=\"T_3e106_row6_col1\" class=\"data row6 col1\" >0.746000</td>\n                        <td id=\"T_3e106_row6_col2\" class=\"data row6 col2\" >2.352495</td>\n                        <td id=\"T_3e106_row6_col3\" class=\"data row6 col3\" >0.000000</td>\n                        <td id=\"T_3e106_row6_col4\" class=\"data row6 col4\" >0.000000</td>\n                        <td id=\"T_3e106_row6_col5\" class=\"data row6 col5\" >0.000000</td>\n                        <td id=\"T_3e106_row6_col6\" class=\"data row6 col6\" >0.000000</td>\n                        <td id=\"T_3e106_row6_col7\" class=\"data row6 col7\" >25.000000</td>\n            </tr>\n            <tr>\n                        <th id=\"T_3e106_level0_row7\" class=\"row_heading level0 row7\" >feature_7</th>\n                        <td id=\"T_3e106_row7_col0\" class=\"data row7 col0\" >50000.000000</td>\n                        <td id=\"T_3e106_row7_col1\" class=\"data row7 col1\" >1.238040</td>\n                        <td id=\"T_3e106_row7_col2\" class=\"data row7 col2\" >2.728055</td>\n                        <td id=\"T_3e106_row7_col3\" class=\"data row7 col3\" >0.000000</td>\n                        <td id=\"T_3e106_row7_col4\" class=\"data row7 col4\" >0.000000</td>\n                        <td id=\"T_3e106_row7_col5\" class=\"data row7 col5\" >0.000000</td>\n                        <td id=\"T_3e106_row7_col6\" class=\"data row7 col6\" >1.000000</td>\n                        <td id=\"T_3e106_row7_col7\" class=\"data row7 col7\" >29.000000</td>\n            </tr>\n            <tr>\n                        <th id=\"T_3e106_level0_row8\" class=\"row_heading level0 row8\" >feature_8</th>\n                        <td id=\"T_3e106_row8_col0\" class=\"data row8 col0\" >50000.000000</td>\n                        <td id=\"T_3e106_row8_col1\" class=\"data row8 col1\" >0.886440</td>\n                        <td id=\"T_3e106_row8_col2\" class=\"data row8 col2\" >3.364154</td>\n                        <td id=\"T_3e106_row8_col3\" class=\"data row8 col3\" >0.000000</td>\n                        <td id=\"T_3e106_row8_col4\" class=\"data row8 col4\" >0.000000</td>\n                        <td id=\"T_3e106_row8_col5\" class=\"data row8 col5\" >0.000000</td>\n                        <td id=\"T_3e106_row8_col6\" class=\"data row8 col6\" >0.000000</td>\n                        <td id=\"T_3e106_row8_col7\" class=\"data row8 col7\" >35.000000</td>\n            </tr>\n            <tr>\n                        <th id=\"T_3e106_level0_row9\" class=\"row_heading level0 row9\" >feature_9</th>\n                        <td id=\"T_3e106_row9_col0\" class=\"data row9 col0\" >50000.000000</td>\n                        <td id=\"T_3e106_row9_col1\" class=\"data row9 col1\" >0.941920</td>\n                        <td id=\"T_3e106_row9_col2\" class=\"data row9 col2\" >1.913358</td>\n                        <td id=\"T_3e106_row9_col3\" class=\"data row9 col3\" >0.000000</td>\n                        <td id=\"T_3e106_row9_col4\" class=\"data row9 col4\" >0.000000</td>\n                        <td id=\"T_3e106_row9_col5\" class=\"data row9 col5\" >0.000000</td>\n                        <td id=\"T_3e106_row9_col6\" class=\"data row9 col6\" >1.000000</td>\n                        <td id=\"T_3e106_row9_col7\" class=\"data row9 col7\" >16.000000</td>\n            </tr>\n            <tr>\n                        <th id=\"T_3e106_level0_row10\" class=\"row_heading level0 row10\" >feature_10</th>\n                        <td id=\"T_3e106_row10_col0\" class=\"data row10 col0\" >50000.000000</td>\n                        <td id=\"T_3e106_row10_col1\" class=\"data row10 col1\" >0.323160</td>\n                        <td id=\"T_3e106_row10_col2\" class=\"data row10 col2\" >1.135691</td>\n                        <td id=\"T_3e106_row10_col3\" class=\"data row10 col3\" >0.000000</td>\n                        <td id=\"T_3e106_row10_col4\" class=\"data row10 col4\" >0.000000</td>\n                        <td id=\"T_3e106_row10_col5\" class=\"data row10 col5\" >0.000000</td>\n                        <td id=\"T_3e106_row10_col6\" class=\"data row10 col6\" >0.000000</td>\n                        <td id=\"T_3e106_row10_col7\" class=\"data row10 col7\" >15.000000</td>\n            </tr>\n            <tr>\n                        <th id=\"T_3e106_level0_row11\" class=\"row_heading level0 row11\" >feature_11</th>\n                        <td id=\"T_3e106_row11_col0\" class=\"data row11 col0\" >50000.000000</td>\n                        <td id=\"T_3e106_row11_col1\" class=\"data row11 col1\" >0.407380</td>\n                        <td id=\"T_3e106_row11_col2\" class=\"data row11 col2\" >1.022547</td>\n                        <td id=\"T_3e106_row11_col3\" class=\"data row11 col3\" >0.000000</td>\n                        <td id=\"T_3e106_row11_col4\" class=\"data row11 col4\" >0.000000</td>\n                        <td id=\"T_3e106_row11_col5\" class=\"data row11 col5\" >0.000000</td>\n                        <td id=\"T_3e106_row11_col6\" class=\"data row11 col6\" >0.000000</td>\n                        <td id=\"T_3e106_row11_col7\" class=\"data row11 col7\" >11.000000</td>\n            </tr>\n            <tr>\n                        <th id=\"T_3e106_level0_row12\" class=\"row_heading level0 row12\" >feature_12</th>\n                        <td id=\"T_3e106_row12_col0\" class=\"data row12 col0\" >50000.000000</td>\n                        <td id=\"T_3e106_row12_col1\" class=\"data row12 col1\" >0.468160</td>\n                        <td id=\"T_3e106_row12_col2\" class=\"data row12 col2\" >1.143159</td>\n                        <td id=\"T_3e106_row12_col3\" class=\"data row12 col3\" >0.000000</td>\n                        <td id=\"T_3e106_row12_col4\" class=\"data row12 col4\" >0.000000</td>\n                        <td id=\"T_3e106_row12_col5\" class=\"data row12 col5\" >0.000000</td>\n                        <td id=\"T_3e106_row12_col6\" class=\"data row12 col6\" >0.000000</td>\n                        <td id=\"T_3e106_row12_col7\" class=\"data row12 col7\" >11.000000</td>\n            </tr>\n            <tr>\n                        <th id=\"T_3e106_level0_row13\" class=\"row_heading level0 row13\" >feature_13</th>\n                        <td id=\"T_3e106_row13_col0\" class=\"data row13 col0\" >50000.000000</td>\n                        <td id=\"T_3e106_row13_col1\" class=\"data row13 col1\" >0.076840</td>\n                        <td id=\"T_3e106_row13_col2\" class=\"data row13 col2\" >0.362461</td>\n                        <td id=\"T_3e106_row13_col3\" class=\"data row13 col3\" >0.000000</td>\n                        <td id=\"T_3e106_row13_col4\" class=\"data row13 col4\" >0.000000</td>\n                        <td id=\"T_3e106_row13_col5\" class=\"data row13 col5\" >0.000000</td>\n                        <td id=\"T_3e106_row13_col6\" class=\"data row13 col6\" >0.000000</td>\n                        <td id=\"T_3e106_row13_col7\" class=\"data row13 col7\" >3.000000</td>\n            </tr>\n            <tr>\n                        <th id=\"T_3e106_level0_row14\" class=\"row_heading level0 row14\" >feature_14</th>\n                        <td id=\"T_3e106_row14_col0\" class=\"data row14 col0\" >50000.000000</td>\n                        <td id=\"T_3e106_row14_col1\" class=\"data row14 col1\" >2.607560</td>\n                        <td id=\"T_3e106_row14_col2\" class=\"data row14 col2\" >4.620682</td>\n                        <td id=\"T_3e106_row14_col3\" class=\"data row14 col3\" >-1.000000</td>\n                        <td id=\"T_3e106_row14_col4\" class=\"data row14 col4\" >0.000000</td>\n                        <td id=\"T_3e106_row14_col5\" class=\"data row14 col5\" >1.000000</td>\n                        <td id=\"T_3e106_row14_col6\" class=\"data row14 col6\" >3.000000</td>\n                        <td id=\"T_3e106_row14_col7\" class=\"data row14 col7\" >47.000000</td>\n            </tr>\n            <tr>\n                        <th id=\"T_3e106_level0_row15\" class=\"row_heading level0 row15\" >feature_15</th>\n                        <td id=\"T_3e106_row15_col0\" class=\"data row15 col0\" >50000.000000</td>\n                        <td id=\"T_3e106_row15_col1\" class=\"data row15 col1\" >1.256040</td>\n                        <td id=\"T_3e106_row15_col2\" class=\"data row15 col2\" >2.167832</td>\n                        <td id=\"T_3e106_row15_col3\" class=\"data row15 col3\" >0.000000</td>\n                        <td id=\"T_3e106_row15_col4\" class=\"data row15 col4\" >0.000000</td>\n                        <td id=\"T_3e106_row15_col5\" class=\"data row15 col5\" >0.000000</td>\n                        <td id=\"T_3e106_row15_col6\" class=\"data row15 col6\" >2.000000</td>\n                        <td id=\"T_3e106_row15_col7\" class=\"data row15 col7\" >19.000000</td>\n            </tr>\n            <tr>\n                        <th id=\"T_3e106_level0_row16\" class=\"row_heading level0 row16\" >feature_16</th>\n                        <td id=\"T_3e106_row16_col0\" class=\"data row16 col0\" >50000.000000</td>\n                        <td id=\"T_3e106_row16_col1\" class=\"data row16 col1\" >0.356440</td>\n                        <td id=\"T_3e106_row16_col2\" class=\"data row16 col2\" >1.249745</td>\n                        <td id=\"T_3e106_row16_col3\" class=\"data row16 col3\" >0.000000</td>\n                        <td id=\"T_3e106_row16_col4\" class=\"data row16 col4\" >0.000000</td>\n                        <td id=\"T_3e106_row16_col5\" class=\"data row16 col5\" >0.000000</td>\n                        <td id=\"T_3e106_row16_col6\" class=\"data row16 col6\" >0.000000</td>\n                        <td id=\"T_3e106_row16_col7\" class=\"data row16 col7\" >19.000000</td>\n            </tr>\n            <tr>\n                        <th id=\"T_3e106_level0_row17\" class=\"row_heading level0 row17\" >feature_17</th>\n                        <td id=\"T_3e106_row17_col0\" class=\"data row17 col0\" >50000.000000</td>\n                        <td id=\"T_3e106_row17_col1\" class=\"data row17 col1\" >0.755920</td>\n                        <td id=\"T_3e106_row17_col2\" class=\"data row17 col2\" >1.854415</td>\n                        <td id=\"T_3e106_row17_col3\" class=\"data row17 col3\" >0.000000</td>\n                        <td id=\"T_3e106_row17_col4\" class=\"data row17 col4\" >0.000000</td>\n                        <td id=\"T_3e106_row17_col5\" class=\"data row17 col5\" >0.000000</td>\n                        <td id=\"T_3e106_row17_col6\" class=\"data row17 col6\" >0.000000</td>\n                        <td id=\"T_3e106_row17_col7\" class=\"data row17 col7\" >16.000000</td>\n            </tr>\n            <tr>\n                        <th id=\"T_3e106_level0_row18\" class=\"row_heading level0 row18\" >feature_18</th>\n                        <td id=\"T_3e106_row18_col0\" class=\"data row18 col0\" >50000.000000</td>\n                        <td id=\"T_3e106_row18_col1\" class=\"data row18 col1\" >0.470700</td>\n                        <td id=\"T_3e106_row18_col2\" class=\"data row18 col2\" >1.095009</td>\n                        <td id=\"T_3e106_row18_col3\" class=\"data row18 col3\" >0.000000</td>\n                        <td id=\"T_3e106_row18_col4\" class=\"data row18 col4\" >0.000000</td>\n                        <td id=\"T_3e106_row18_col5\" class=\"data row18 col5\" >0.000000</td>\n                        <td id=\"T_3e106_row18_col6\" class=\"data row18 col6\" >0.000000</td>\n                        <td id=\"T_3e106_row18_col7\" class=\"data row18 col7\" >13.000000</td>\n            </tr>\n            <tr>\n                        <th id=\"T_3e106_level0_row19\" class=\"row_heading level0 row19\" >feature_19</th>\n                        <td id=\"T_3e106_row19_col0\" class=\"data row19 col0\" >50000.000000</td>\n                        <td id=\"T_3e106_row19_col1\" class=\"data row19 col1\" >1.494740</td>\n                        <td id=\"T_3e106_row19_col2\" class=\"data row19 col2\" >4.612968</td>\n                        <td id=\"T_3e106_row19_col3\" class=\"data row19 col3\" >-2.000000</td>\n                        <td id=\"T_3e106_row19_col4\" class=\"data row19 col4\" >0.000000</td>\n                        <td id=\"T_3e106_row19_col5\" class=\"data row19 col5\" >0.000000</td>\n                        <td id=\"T_3e106_row19_col6\" class=\"data row19 col6\" >0.250000</td>\n                        <td id=\"T_3e106_row19_col7\" class=\"data row19 col7\" >57.000000</td>\n            </tr>\n            <tr>\n                        <th id=\"T_3e106_level0_row20\" class=\"row_heading level0 row20\" >feature_20</th>\n                        <td id=\"T_3e106_row20_col0\" class=\"data row20 col0\" >50000.000000</td>\n                        <td id=\"T_3e106_row20_col1\" class=\"data row20 col1\" >0.244060</td>\n                        <td id=\"T_3e106_row20_col2\" class=\"data row20 col2\" >0.940102</td>\n                        <td id=\"T_3e106_row20_col3\" class=\"data row20 col3\" >0.000000</td>\n                        <td id=\"T_3e106_row20_col4\" class=\"data row20 col4\" >0.000000</td>\n                        <td id=\"T_3e106_row20_col5\" class=\"data row20 col5\" >0.000000</td>\n                        <td id=\"T_3e106_row20_col6\" class=\"data row20 col6\" >0.000000</td>\n                        <td id=\"T_3e106_row20_col7\" class=\"data row20 col7\" >17.000000</td>\n            </tr>\n            <tr>\n                        <th id=\"T_3e106_level0_row21\" class=\"row_heading level0 row21\" >feature_21</th>\n                        <td id=\"T_3e106_row21_col0\" class=\"data row21 col0\" >50000.000000</td>\n                        <td id=\"T_3e106_row21_col1\" class=\"data row21 col1\" >0.659480</td>\n                        <td id=\"T_3e106_row21_col2\" class=\"data row21 col2\" >2.168433</td>\n                        <td id=\"T_3e106_row21_col3\" class=\"data row21 col3\" >0.000000</td>\n                        <td id=\"T_3e106_row21_col4\" class=\"data row21 col4\" >0.000000</td>\n                        <td id=\"T_3e106_row21_col5\" class=\"data row21 col5\" >0.000000</td>\n                        <td id=\"T_3e106_row21_col6\" class=\"data row21 col6\" >0.000000</td>\n                        <td id=\"T_3e106_row21_col7\" class=\"data row21 col7\" >35.000000</td>\n            </tr>\n            <tr>\n                        <th id=\"T_3e106_level0_row22\" class=\"row_heading level0 row22\" >feature_22</th>\n                        <td id=\"T_3e106_row22_col0\" class=\"data row22 col0\" >50000.000000</td>\n                        <td id=\"T_3e106_row22_col1\" class=\"data row22 col1\" >0.188100</td>\n                        <td id=\"T_3e106_row22_col2\" class=\"data row22 col2\" >0.561288</td>\n                        <td id=\"T_3e106_row22_col3\" class=\"data row22 col3\" >0.000000</td>\n                        <td id=\"T_3e106_row22_col4\" class=\"data row22 col4\" >0.000000</td>\n                        <td id=\"T_3e106_row22_col5\" class=\"data row22 col5\" >0.000000</td>\n                        <td id=\"T_3e106_row22_col6\" class=\"data row22 col6\" >0.000000</td>\n                        <td id=\"T_3e106_row22_col7\" class=\"data row22 col7\" >4.000000</td>\n            </tr>\n            <tr>\n                        <th id=\"T_3e106_level0_row23\" class=\"row_heading level0 row23\" >feature_23</th>\n                        <td id=\"T_3e106_row23_col0\" class=\"data row23 col0\" >50000.000000</td>\n                        <td id=\"T_3e106_row23_col1\" class=\"data row23 col1\" >0.395360</td>\n                        <td id=\"T_3e106_row23_col2\" class=\"data row23 col2\" >1.222784</td>\n                        <td id=\"T_3e106_row23_col3\" class=\"data row23 col3\" >0.000000</td>\n                        <td id=\"T_3e106_row23_col4\" class=\"data row23 col4\" >0.000000</td>\n                        <td id=\"T_3e106_row23_col5\" class=\"data row23 col5\" >0.000000</td>\n                        <td id=\"T_3e106_row23_col6\" class=\"data row23 col6\" >0.000000</td>\n                        <td id=\"T_3e106_row23_col7\" class=\"data row23 col7\" >17.000000</td>\n            </tr>\n            <tr>\n                        <th id=\"T_3e106_level0_row24\" class=\"row_heading level0 row24\" >feature_24</th>\n                        <td id=\"T_3e106_row24_col0\" class=\"data row24 col0\" >50000.000000</td>\n                        <td id=\"T_3e106_row24_col1\" class=\"data row24 col1\" >1.041020</td>\n                        <td id=\"T_3e106_row24_col2\" class=\"data row24 col2\" >2.537019</td>\n                        <td id=\"T_3e106_row24_col3\" class=\"data row24 col3\" >0.000000</td>\n                        <td id=\"T_3e106_row24_col4\" class=\"data row24 col4\" >0.000000</td>\n                        <td id=\"T_3e106_row24_col5\" class=\"data row24 col5\" >0.000000</td>\n                        <td id=\"T_3e106_row24_col6\" class=\"data row24 col6\" >1.000000</td>\n                        <td id=\"T_3e106_row24_col7\" class=\"data row24 col7\" >36.000000</td>\n            </tr>\n            <tr>\n                        <th id=\"T_3e106_level0_row25\" class=\"row_heading level0 row25\" >feature_25</th>\n                        <td id=\"T_3e106_row25_col0\" class=\"data row25 col0\" >50000.000000</td>\n                        <td id=\"T_3e106_row25_col1\" class=\"data row25 col1\" >0.410500</td>\n                        <td id=\"T_3e106_row25_col2\" class=\"data row25 col2\" >1.318478</td>\n                        <td id=\"T_3e106_row25_col3\" class=\"data row25 col3\" >0.000000</td>\n                        <td id=\"T_3e106_row25_col4\" class=\"data row25 col4\" >0.000000</td>\n                        <td id=\"T_3e106_row25_col5\" class=\"data row25 col5\" >0.000000</td>\n                        <td id=\"T_3e106_row25_col6\" class=\"data row25 col6\" >0.000000</td>\n                        <td id=\"T_3e106_row25_col7\" class=\"data row25 col7\" >24.000000</td>\n            </tr>\n            <tr>\n                        <th id=\"T_3e106_level0_row26\" class=\"row_heading level0 row26\" >feature_26</th>\n                        <td id=\"T_3e106_row26_col0\" class=\"data row26 col0\" >50000.000000</td>\n                        <td id=\"T_3e106_row26_col1\" class=\"data row26 col1\" >0.376260</td>\n                        <td id=\"T_3e106_row26_col2\" class=\"data row26 col2\" >1.529659</td>\n                        <td id=\"T_3e106_row26_col3\" class=\"data row26 col3\" >0.000000</td>\n                        <td id=\"T_3e106_row26_col4\" class=\"data row26 col4\" >0.000000</td>\n                        <td id=\"T_3e106_row26_col5\" class=\"data row26 col5\" >0.000000</td>\n                        <td id=\"T_3e106_row26_col6\" class=\"data row26 col6\" >0.000000</td>\n                        <td id=\"T_3e106_row26_col7\" class=\"data row26 col7\" >21.000000</td>\n            </tr>\n            <tr>\n                        <th id=\"T_3e106_level0_row27\" class=\"row_heading level0 row27\" >feature_27</th>\n                        <td id=\"T_3e106_row27_col0\" class=\"data row27 col0\" >50000.000000</td>\n                        <td id=\"T_3e106_row27_col1\" class=\"data row27 col1\" >0.297820</td>\n                        <td id=\"T_3e106_row27_col2\" class=\"data row27 col2\" >1.575466</td>\n                        <td id=\"T_3e106_row27_col3\" class=\"data row27 col3\" >0.000000</td>\n                        <td id=\"T_3e106_row27_col4\" class=\"data row27 col4\" >0.000000</td>\n                        <td id=\"T_3e106_row27_col5\" class=\"data row27 col5\" >0.000000</td>\n                        <td id=\"T_3e106_row27_col6\" class=\"data row27 col6\" >0.000000</td>\n                        <td id=\"T_3e106_row27_col7\" class=\"data row27 col7\" >31.000000</td>\n            </tr>\n            <tr>\n                        <th id=\"T_3e106_level0_row28\" class=\"row_heading level0 row28\" >feature_28</th>\n                        <td id=\"T_3e106_row28_col0\" class=\"data row28 col0\" >50000.000000</td>\n                        <td id=\"T_3e106_row28_col1\" class=\"data row28 col1\" >1.108760</td>\n                        <td id=\"T_3e106_row28_col2\" class=\"data row28 col2\" >1.882903</td>\n                        <td id=\"T_3e106_row28_col3\" class=\"data row28 col3\" >0.000000</td>\n                        <td id=\"T_3e106_row28_col4\" class=\"data row28 col4\" >0.000000</td>\n                        <td id=\"T_3e106_row28_col5\" class=\"data row28 col5\" >0.000000</td>\n                        <td id=\"T_3e106_row28_col6\" class=\"data row28 col6\" >2.000000</td>\n                        <td id=\"T_3e106_row28_col7\" class=\"data row28 col7\" >22.000000</td>\n            </tr>\n            <tr>\n                        <th id=\"T_3e106_level0_row29\" class=\"row_heading level0 row29\" >feature_29</th>\n                        <td id=\"T_3e106_row29_col0\" class=\"data row29 col0\" >50000.000000</td>\n                        <td id=\"T_3e106_row29_col1\" class=\"data row29 col1\" >0.170700</td>\n                        <td id=\"T_3e106_row29_col2\" class=\"data row29 col2\" >0.735780</td>\n                        <td id=\"T_3e106_row29_col3\" class=\"data row29 col3\" >0.000000</td>\n                        <td id=\"T_3e106_row29_col4\" class=\"data row29 col4\" >0.000000</td>\n                        <td id=\"T_3e106_row29_col5\" class=\"data row29 col5\" >0.000000</td>\n                        <td id=\"T_3e106_row29_col6\" class=\"data row29 col6\" >0.000000</td>\n                        <td id=\"T_3e106_row29_col7\" class=\"data row29 col7\" >12.000000</td>\n            </tr>\n            <tr>\n                        <th id=\"T_3e106_level0_row30\" class=\"row_heading level0 row30\" >feature_30</th>\n                        <td id=\"T_3e106_row30_col0\" class=\"data row30 col0\" >50000.000000</td>\n                        <td id=\"T_3e106_row30_col1\" class=\"data row30 col1\" >0.291420</td>\n                        <td id=\"T_3e106_row30_col2\" class=\"data row30 col2\" >1.314401</td>\n                        <td id=\"T_3e106_row30_col3\" class=\"data row30 col3\" >-2.000000</td>\n                        <td id=\"T_3e106_row30_col4\" class=\"data row30 col4\" >0.000000</td>\n                        <td id=\"T_3e106_row30_col5\" class=\"data row30 col5\" >0.000000</td>\n                        <td id=\"T_3e106_row30_col6\" class=\"data row30 col6\" >0.000000</td>\n                        <td id=\"T_3e106_row30_col7\" class=\"data row30 col7\" >38.000000</td>\n            </tr>\n            <tr>\n                        <th id=\"T_3e106_level0_row31\" class=\"row_heading level0 row31\" >feature_31</th>\n                        <td id=\"T_3e106_row31_col0\" class=\"data row31 col0\" >50000.000000</td>\n                        <td id=\"T_3e106_row31_col1\" class=\"data row31 col1\" >1.359200</td>\n                        <td id=\"T_3e106_row31_col2\" class=\"data row31 col2\" >3.273999</td>\n                        <td id=\"T_3e106_row31_col3\" class=\"data row31 col3\" >-3.000000</td>\n                        <td id=\"T_3e106_row31_col4\" class=\"data row31 col4\" >0.000000</td>\n                        <td id=\"T_3e106_row31_col5\" class=\"data row31 col5\" >0.000000</td>\n                        <td id=\"T_3e106_row31_col6\" class=\"data row31 col6\" >1.000000</td>\n                        <td id=\"T_3e106_row31_col7\" class=\"data row31 col7\" >43.000000</td>\n            </tr>\n            <tr>\n                        <th id=\"T_3e106_level0_row32\" class=\"row_heading level0 row32\" >feature_32</th>\n                        <td id=\"T_3e106_row32_col0\" class=\"data row32 col0\" >50000.000000</td>\n                        <td id=\"T_3e106_row32_col1\" class=\"data row32 col1\" >0.277520</td>\n                        <td id=\"T_3e106_row32_col2\" class=\"data row32 col2\" >1.472476</td>\n                        <td id=\"T_3e106_row32_col3\" class=\"data row32 col3\" >-2.000000</td>\n                        <td id=\"T_3e106_row32_col4\" class=\"data row32 col4\" >0.000000</td>\n                        <td id=\"T_3e106_row32_col5\" class=\"data row32 col5\" >0.000000</td>\n                        <td id=\"T_3e106_row32_col6\" class=\"data row32 col6\" >0.000000</td>\n                        <td id=\"T_3e106_row32_col7\" class=\"data row32 col7\" >25.000000</td>\n            </tr>\n            <tr>\n                        <th id=\"T_3e106_level0_row33\" class=\"row_heading level0 row33\" >feature_33</th>\n                        <td id=\"T_3e106_row33_col0\" class=\"data row33 col0\" >50000.000000</td>\n                        <td id=\"T_3e106_row33_col1\" class=\"data row33 col1\" >0.599600</td>\n                        <td id=\"T_3e106_row33_col2\" class=\"data row33 col2\" >2.228098</td>\n                        <td id=\"T_3e106_row33_col3\" class=\"data row33 col3\" >0.000000</td>\n                        <td id=\"T_3e106_row33_col4\" class=\"data row33 col4\" >0.000000</td>\n                        <td id=\"T_3e106_row33_col5\" class=\"data row33 col5\" >0.000000</td>\n                        <td id=\"T_3e106_row33_col6\" class=\"data row33 col6\" >0.000000</td>\n                        <td id=\"T_3e106_row33_col7\" class=\"data row33 col7\" >23.000000</td>\n            </tr>\n            <tr>\n                        <th id=\"T_3e106_level0_row34\" class=\"row_heading level0 row34\" >feature_34</th>\n                        <td id=\"T_3e106_row34_col0\" class=\"data row34 col0\" >50000.000000</td>\n                        <td id=\"T_3e106_row34_col1\" class=\"data row34 col1\" >1.109380</td>\n                        <td id=\"T_3e106_row34_col2\" class=\"data row34 col2\" >2.453923</td>\n                        <td id=\"T_3e106_row34_col3\" class=\"data row34 col3\" >0.000000</td>\n                        <td id=\"T_3e106_row34_col4\" class=\"data row34 col4\" >0.000000</td>\n                        <td id=\"T_3e106_row34_col5\" class=\"data row34 col5\" >0.000000</td>\n                        <td id=\"T_3e106_row34_col6\" class=\"data row34 col6\" >1.000000</td>\n                        <td id=\"T_3e106_row34_col7\" class=\"data row34 col7\" >26.000000</td>\n            </tr>\n            <tr>\n                        <th id=\"T_3e106_level0_row35\" class=\"row_heading level0 row35\" >feature_35</th>\n                        <td id=\"T_3e106_row35_col0\" class=\"data row35 col0\" >50000.000000</td>\n                        <td id=\"T_3e106_row35_col1\" class=\"data row35 col1\" >0.922040</td>\n                        <td id=\"T_3e106_row35_col2\" class=\"data row35 col2\" >2.976222</td>\n                        <td id=\"T_3e106_row35_col3\" class=\"data row35 col3\" >0.000000</td>\n                        <td id=\"T_3e106_row35_col4\" class=\"data row35 col4\" >0.000000</td>\n                        <td id=\"T_3e106_row35_col5\" class=\"data row35 col5\" >0.000000</td>\n                        <td id=\"T_3e106_row35_col6\" class=\"data row35 col6\" >0.000000</td>\n                        <td id=\"T_3e106_row35_col7\" class=\"data row35 col7\" >41.000000</td>\n            </tr>\n            <tr>\n                        <th id=\"T_3e106_level0_row36\" class=\"row_heading level0 row36\" >feature_36</th>\n                        <td id=\"T_3e106_row36_col0\" class=\"data row36 col0\" >50000.000000</td>\n                        <td id=\"T_3e106_row36_col1\" class=\"data row36 col1\" >0.120160</td>\n                        <td id=\"T_3e106_row36_col2\" class=\"data row36 col2\" >0.420957</td>\n                        <td id=\"T_3e106_row36_col3\" class=\"data row36 col3\" >0.000000</td>\n                        <td id=\"T_3e106_row36_col4\" class=\"data row36 col4\" >0.000000</td>\n                        <td id=\"T_3e106_row36_col5\" class=\"data row36 col5\" >0.000000</td>\n                        <td id=\"T_3e106_row36_col6\" class=\"data row36 col6\" >0.000000</td>\n                        <td id=\"T_3e106_row36_col7\" class=\"data row36 col7\" >3.000000</td>\n            </tr>\n            <tr>\n                        <th id=\"T_3e106_level0_row37\" class=\"row_heading level0 row37\" >feature_37</th>\n                        <td id=\"T_3e106_row37_col0\" class=\"data row37 col0\" >50000.000000</td>\n                        <td id=\"T_3e106_row37_col1\" class=\"data row37 col1\" >0.393560</td>\n                        <td id=\"T_3e106_row37_col2\" class=\"data row37 col2\" >1.080210</td>\n                        <td id=\"T_3e106_row37_col3\" class=\"data row37 col3\" >0.000000</td>\n                        <td id=\"T_3e106_row37_col4\" class=\"data row37 col4\" >0.000000</td>\n                        <td id=\"T_3e106_row37_col5\" class=\"data row37 col5\" >0.000000</td>\n                        <td id=\"T_3e106_row37_col6\" class=\"data row37 col6\" >0.000000</td>\n                        <td id=\"T_3e106_row37_col7\" class=\"data row37 col7\" >15.000000</td>\n            </tr>\n            <tr>\n                        <th id=\"T_3e106_level0_row38\" class=\"row_heading level0 row38\" >feature_38</th>\n                        <td id=\"T_3e106_row38_col0\" class=\"data row38 col0\" >50000.000000</td>\n                        <td id=\"T_3e106_row38_col1\" class=\"data row38 col1\" >2.991440</td>\n                        <td id=\"T_3e106_row38_col2\" class=\"data row38 col2\" >5.342477</td>\n                        <td id=\"T_3e106_row38_col3\" class=\"data row38 col3\" >-5.000000</td>\n                        <td id=\"T_3e106_row38_col4\" class=\"data row38 col4\" >0.000000</td>\n                        <td id=\"T_3e106_row38_col5\" class=\"data row38 col5\" >1.000000</td>\n                        <td id=\"T_3e106_row38_col6\" class=\"data row38 col6\" >4.000000</td>\n                        <td id=\"T_3e106_row38_col7\" class=\"data row38 col7\" >66.000000</td>\n            </tr>\n            <tr>\n                        <th id=\"T_3e106_level0_row39\" class=\"row_heading level0 row39\" >feature_39</th>\n                        <td id=\"T_3e106_row39_col0\" class=\"data row39 col0\" >50000.000000</td>\n                        <td id=\"T_3e106_row39_col1\" class=\"data row39 col1\" >0.667320</td>\n                        <td id=\"T_3e106_row39_col2\" class=\"data row39 col2\" >3.723729</td>\n                        <td id=\"T_3e106_row39_col3\" class=\"data row39 col3\" >-1.000000</td>\n                        <td id=\"T_3e106_row39_col4\" class=\"data row39 col4\" >0.000000</td>\n                        <td id=\"T_3e106_row39_col5\" class=\"data row39 col5\" >0.000000</td>\n                        <td id=\"T_3e106_row39_col6\" class=\"data row39 col6\" >0.000000</td>\n                        <td id=\"T_3e106_row39_col7\" class=\"data row39 col7\" >64.000000</td>\n            </tr>\n            <tr>\n                        <th id=\"T_3e106_level0_row40\" class=\"row_heading level0 row40\" >feature_40</th>\n                        <td id=\"T_3e106_row40_col0\" class=\"data row40 col0\" >50000.000000</td>\n                        <td id=\"T_3e106_row40_col1\" class=\"data row40 col1\" >0.719160</td>\n                        <td id=\"T_3e106_row40_col2\" class=\"data row40 col2\" >1.749077</td>\n                        <td id=\"T_3e106_row40_col3\" class=\"data row40 col3\" >0.000000</td>\n                        <td id=\"T_3e106_row40_col4\" class=\"data row40 col4\" >0.000000</td>\n                        <td id=\"T_3e106_row40_col5\" class=\"data row40 col5\" >0.000000</td>\n                        <td id=\"T_3e106_row40_col6\" class=\"data row40 col6\" >1.000000</td>\n                        <td id=\"T_3e106_row40_col7\" class=\"data row40 col7\" >23.000000</td>\n            </tr>\n            <tr>\n                        <th id=\"T_3e106_level0_row41\" class=\"row_heading level0 row41\" >feature_41</th>\n                        <td id=\"T_3e106_row41_col0\" class=\"data row41 col0\" >50000.000000</td>\n                        <td id=\"T_3e106_row41_col1\" class=\"data row41 col1\" >0.597140</td>\n                        <td id=\"T_3e106_row41_col2\" class=\"data row41 col2\" >2.058195</td>\n                        <td id=\"T_3e106_row41_col3\" class=\"data row41 col3\" >0.000000</td>\n                        <td id=\"T_3e106_row41_col4\" class=\"data row41 col4\" >0.000000</td>\n                        <td id=\"T_3e106_row41_col5\" class=\"data row41 col5\" >0.000000</td>\n                        <td id=\"T_3e106_row41_col6\" class=\"data row41 col6\" >0.000000</td>\n                        <td id=\"T_3e106_row41_col7\" class=\"data row41 col7\" >31.000000</td>\n            </tr>\n            <tr>\n                        <th id=\"T_3e106_level0_row42\" class=\"row_heading level0 row42\" >feature_42</th>\n                        <td id=\"T_3e106_row42_col0\" class=\"data row42 col0\" >50000.000000</td>\n                        <td id=\"T_3e106_row42_col1\" class=\"data row42 col1\" >0.532420</td>\n                        <td id=\"T_3e106_row42_col2\" class=\"data row42 col2\" >2.347675</td>\n                        <td id=\"T_3e106_row42_col3\" class=\"data row42 col3\" >0.000000</td>\n                        <td id=\"T_3e106_row42_col4\" class=\"data row42 col4\" >0.000000</td>\n                        <td id=\"T_3e106_row42_col5\" class=\"data row42 col5\" >0.000000</td>\n                        <td id=\"T_3e106_row42_col6\" class=\"data row42 col6\" >0.000000</td>\n                        <td id=\"T_3e106_row42_col7\" class=\"data row42 col7\" >36.000000</td>\n            </tr>\n            <tr>\n                        <th id=\"T_3e106_level0_row43\" class=\"row_heading level0 row43\" >feature_43</th>\n                        <td id=\"T_3e106_row43_col0\" class=\"data row43 col0\" >50000.000000</td>\n                        <td id=\"T_3e106_row43_col1\" class=\"data row43 col1\" >0.614220</td>\n                        <td id=\"T_3e106_row43_col2\" class=\"data row43 col2\" >2.335616</td>\n                        <td id=\"T_3e106_row43_col3\" class=\"data row43 col3\" >0.000000</td>\n                        <td id=\"T_3e106_row43_col4\" class=\"data row43 col4\" >0.000000</td>\n                        <td id=\"T_3e106_row43_col5\" class=\"data row43 col5\" >0.000000</td>\n                        <td id=\"T_3e106_row43_col6\" class=\"data row43 col6\" >0.000000</td>\n                        <td id=\"T_3e106_row43_col7\" class=\"data row43 col7\" >30.000000</td>\n            </tr>\n            <tr>\n                        <th id=\"T_3e106_level0_row44\" class=\"row_heading level0 row44\" >feature_44</th>\n                        <td id=\"T_3e106_row44_col0\" class=\"data row44 col0\" >50000.000000</td>\n                        <td id=\"T_3e106_row44_col1\" class=\"data row44 col1\" >0.133780</td>\n                        <td id=\"T_3e106_row44_col2\" class=\"data row44 col2\" >0.623451</td>\n                        <td id=\"T_3e106_row44_col3\" class=\"data row44 col3\" >0.000000</td>\n                        <td id=\"T_3e106_row44_col4\" class=\"data row44 col4\" >0.000000</td>\n                        <td id=\"T_3e106_row44_col5\" class=\"data row44 col5\" >0.000000</td>\n                        <td id=\"T_3e106_row44_col6\" class=\"data row44 col6\" >0.000000</td>\n                        <td id=\"T_3e106_row44_col7\" class=\"data row44 col7\" >9.000000</td>\n            </tr>\n            <tr>\n                        <th id=\"T_3e106_level0_row45\" class=\"row_heading level0 row45\" >feature_45</th>\n                        <td id=\"T_3e106_row45_col0\" class=\"data row45 col0\" >50000.000000</td>\n                        <td id=\"T_3e106_row45_col1\" class=\"data row45 col1\" >0.360580</td>\n                        <td id=\"T_3e106_row45_col2\" class=\"data row45 col2\" >1.500722</td>\n                        <td id=\"T_3e106_row45_col3\" class=\"data row45 col3\" >0.000000</td>\n                        <td id=\"T_3e106_row45_col4\" class=\"data row45 col4\" >0.000000</td>\n                        <td id=\"T_3e106_row45_col5\" class=\"data row45 col5\" >0.000000</td>\n                        <td id=\"T_3e106_row45_col6\" class=\"data row45 col6\" >0.000000</td>\n                        <td id=\"T_3e106_row45_col7\" class=\"data row45 col7\" >29.000000</td>\n            </tr>\n            <tr>\n                        <th id=\"T_3e106_level0_row46\" class=\"row_heading level0 row46\" >feature_46</th>\n                        <td id=\"T_3e106_row46_col0\" class=\"data row46 col0\" >50000.000000</td>\n                        <td id=\"T_3e106_row46_col1\" class=\"data row46 col1\" >0.527080</td>\n                        <td id=\"T_3e106_row46_col2\" class=\"data row46 col2\" >2.191986</td>\n                        <td id=\"T_3e106_row46_col3\" class=\"data row46 col3\" >0.000000</td>\n                        <td id=\"T_3e106_row46_col4\" class=\"data row46 col4\" >0.000000</td>\n                        <td id=\"T_3e106_row46_col5\" class=\"data row46 col5\" >0.000000</td>\n                        <td id=\"T_3e106_row46_col6\" class=\"data row46 col6\" >0.000000</td>\n                        <td id=\"T_3e106_row46_col7\" class=\"data row46 col7\" >29.000000</td>\n            </tr>\n            <tr>\n                        <th id=\"T_3e106_level0_row47\" class=\"row_heading level0 row47\" >feature_47</th>\n                        <td id=\"T_3e106_row47_col0\" class=\"data row47 col0\" >50000.000000</td>\n                        <td id=\"T_3e106_row47_col1\" class=\"data row47 col1\" >0.388220</td>\n                        <td id=\"T_3e106_row47_col2\" class=\"data row47 col2\" >1.450816</td>\n                        <td id=\"T_3e106_row47_col3\" class=\"data row47 col3\" >0.000000</td>\n                        <td id=\"T_3e106_row47_col4\" class=\"data row47 col4\" >0.000000</td>\n                        <td id=\"T_3e106_row47_col5\" class=\"data row47 col5\" >0.000000</td>\n                        <td id=\"T_3e106_row47_col6\" class=\"data row47 col6\" >0.000000</td>\n                        <td id=\"T_3e106_row47_col7\" class=\"data row47 col7\" >26.000000</td>\n            </tr>\n            <tr>\n                        <th id=\"T_3e106_level0_row48\" class=\"row_heading level0 row48\" >feature_48</th>\n                        <td id=\"T_3e106_row48_col0\" class=\"data row48 col0\" >50000.000000</td>\n                        <td id=\"T_3e106_row48_col1\" class=\"data row48 col1\" >0.987600</td>\n                        <td id=\"T_3e106_row48_col2\" class=\"data row48 col2\" >2.637170</td>\n                        <td id=\"T_3e106_row48_col3\" class=\"data row48 col3\" >0.000000</td>\n                        <td id=\"T_3e106_row48_col4\" class=\"data row48 col4\" >0.000000</td>\n                        <td id=\"T_3e106_row48_col5\" class=\"data row48 col5\" >0.000000</td>\n                        <td id=\"T_3e106_row48_col6\" class=\"data row48 col6\" >1.000000</td>\n                        <td id=\"T_3e106_row48_col7\" class=\"data row48 col7\" >46.000000</td>\n            </tr>\n            <tr>\n                        <th id=\"T_3e106_level0_row49\" class=\"row_heading level0 row49\" >feature_49</th>\n                        <td id=\"T_3e106_row49_col0\" class=\"data row49 col0\" >50000.000000</td>\n                        <td id=\"T_3e106_row49_col1\" class=\"data row49 col1\" >0.565620</td>\n                        <td id=\"T_3e106_row49_col2\" class=\"data row49 col2\" >1.700115</td>\n                        <td id=\"T_3e106_row49_col3\" class=\"data row49 col3\" >0.000000</td>\n                        <td id=\"T_3e106_row49_col4\" class=\"data row49 col4\" >0.000000</td>\n                        <td id=\"T_3e106_row49_col5\" class=\"data row49 col5\" >0.000000</td>\n                        <td id=\"T_3e106_row49_col6\" class=\"data row49 col6\" >0.000000</td>\n                        <td id=\"T_3e106_row49_col7\" class=\"data row49 col7\" >21.000000</td>\n            </tr>\n    </tbody></table>"
     },
     "metadata": {},
     "execution_count": 6
    }
   ],
   "source": [
    "data_test.describe().T.style.bar(subset=['mean', 'std'], color='#d65f5f')"
   ]
  },
  {
   "cell_type": "code",
   "execution_count": 7,
   "metadata": {},
   "outputs": [
    {
     "output_type": "execute_result",
     "data": {
      "text/plain": [
       "<pandas.io.formats.style.Styler at 0x2d36b69a608>"
      ],
      "text/html": "<style  type=\"text/css\" >\n#T_b6b9a_row0_col1{\n            width:  10em;\n             height:  80%;\n            background:  linear-gradient(90deg,#d65f5f 6.2%, transparent 6.2%);\n        }#T_b6b9a_row0_col2,#T_b6b9a_row20_col2{\n            width:  10em;\n             height:  80%;\n            background:  linear-gradient(90deg,#d65f5f 11.3%, transparent 11.3%);\n        }#T_b6b9a_row1_col1{\n            width:  10em;\n             height:  80%;\n            background:  linear-gradient(90deg,#d65f5f 12.2%, transparent 12.2%);\n        }#T_b6b9a_row1_col2{\n            width:  10em;\n             height:  80%;\n            background:  linear-gradient(90deg,#d65f5f 32.2%, transparent 32.2%);\n        }#T_b6b9a_row2_col1{\n            width:  10em;\n             height:  80%;\n            background:  linear-gradient(90deg,#d65f5f 1.3%, transparent 1.3%);\n        }#T_b6b9a_row2_col2,#T_b6b9a_row29_col1{\n            width:  10em;\n             height:  80%;\n            background:  linear-gradient(90deg,#d65f5f 3.2%, transparent 3.2%);\n        }#T_b6b9a_row3_col1{\n            width:  10em;\n             height:  80%;\n            background:  linear-gradient(90deg,#d65f5f 17.6%, transparent 17.6%);\n        }#T_b6b9a_row3_col2{\n            width:  10em;\n             height:  80%;\n            background:  linear-gradient(90deg,#d65f5f 29.5%, transparent 29.5%);\n        }#T_b6b9a_row4_col1{\n            width:  10em;\n             height:  80%;\n            background:  linear-gradient(90deg,#d65f5f 17.9%, transparent 17.9%);\n        }#T_b6b9a_row4_col2{\n            width:  10em;\n             height:  80%;\n            background:  linear-gradient(90deg,#d65f5f 48.3%, transparent 48.3%);\n        }#T_b6b9a_row5_col1{\n            width:  10em;\n             height:  80%;\n            background:  linear-gradient(90deg,#d65f5f 2.9%, transparent 2.9%);\n        }#T_b6b9a_row5_col2{\n            width:  10em;\n             height:  80%;\n            background:  linear-gradient(90deg,#d65f5f 4.8%, transparent 4.8%);\n        }#T_b6b9a_row6_col1,#T_b6b9a_row47_col2{\n            width:  10em;\n             height:  80%;\n            background:  linear-gradient(90deg,#d65f5f 22.4%, transparent 22.4%);\n        }#T_b6b9a_row6_col2,#T_b6b9a_row7_col1{\n            width:  10em;\n             height:  80%;\n            background:  linear-gradient(90deg,#d65f5f 39.5%, transparent 39.5%);\n        }#T_b6b9a_row7_col2{\n            width:  10em;\n             height:  80%;\n            background:  linear-gradient(90deg,#d65f5f 46.4%, transparent 46.4%);\n        }#T_b6b9a_row8_col1{\n            width:  10em;\n             height:  80%;\n            background:  linear-gradient(90deg,#d65f5f 28.3%, transparent 28.3%);\n        }#T_b6b9a_row8_col2{\n            width:  10em;\n             height:  80%;\n            background:  linear-gradient(90deg,#d65f5f 60.8%, transparent 60.8%);\n        }#T_b6b9a_row9_col1{\n            width:  10em;\n             height:  80%;\n            background:  linear-gradient(90deg,#d65f5f 29.6%, transparent 29.6%);\n        }#T_b6b9a_row9_col2{\n            width:  10em;\n             height:  80%;\n            background:  linear-gradient(90deg,#d65f5f 30.7%, transparent 30.7%);\n        }#T_b6b9a_row10_col1{\n            width:  10em;\n             height:  80%;\n            background:  linear-gradient(90deg,#d65f5f 8.1%, transparent 8.1%);\n        }#T_b6b9a_row10_col2{\n            width:  10em;\n             height:  80%;\n            background:  linear-gradient(90deg,#d65f5f 15.2%, transparent 15.2%);\n        }#T_b6b9a_row11_col1{\n            width:  10em;\n             height:  80%;\n            background:  linear-gradient(90deg,#d65f5f 11.2%, transparent 11.2%);\n        }#T_b6b9a_row11_col2{\n            width:  10em;\n             height:  80%;\n            background:  linear-gradient(90deg,#d65f5f 13.0%, transparent 13.0%);\n        }#T_b6b9a_row12_col1{\n            width:  10em;\n             height:  80%;\n            background:  linear-gradient(90deg,#d65f5f 13.2%, transparent 13.2%);\n        }#T_b6b9a_row12_col2{\n            width:  10em;\n             height:  80%;\n            background:  linear-gradient(90deg,#d65f5f 15.3%, transparent 15.3%);\n        }#T_b6b9a_row13_col1,#T_b6b9a_row13_col2{\n            width:  10em;\n             height:  80%;\n        }#T_b6b9a_row14_col1{\n            width:  10em;\n             height:  80%;\n            background:  linear-gradient(90deg,#d65f5f 86.3%, transparent 86.3%);\n        }#T_b6b9a_row14_col2{\n            width:  10em;\n             height:  80%;\n            background:  linear-gradient(90deg,#d65f5f 85.5%, transparent 85.5%);\n        }#T_b6b9a_row15_col1{\n            width:  10em;\n             height:  80%;\n            background:  linear-gradient(90deg,#d65f5f 39.9%, transparent 39.9%);\n        }#T_b6b9a_row15_col2,#T_b6b9a_row34_col1{\n            width:  10em;\n             height:  80%;\n            background:  linear-gradient(90deg,#d65f5f 35.8%, transparent 35.8%);\n        }#T_b6b9a_row16_col1{\n            width:  10em;\n             height:  80%;\n            background:  linear-gradient(90deg,#d65f5f 9.9%, transparent 9.9%);\n        }#T_b6b9a_row16_col2,#T_b6b9a_row33_col1{\n            width:  10em;\n             height:  80%;\n            background:  linear-gradient(90deg,#d65f5f 18.4%, transparent 18.4%);\n        }#T_b6b9a_row17_col1{\n            width:  10em;\n             height:  80%;\n            background:  linear-gradient(90deg,#d65f5f 22.7%, transparent 22.7%);\n        }#T_b6b9a_row17_col2{\n            width:  10em;\n             height:  80%;\n            background:  linear-gradient(90deg,#d65f5f 29.0%, transparent 29.0%);\n        }#T_b6b9a_row18_col1{\n            width:  10em;\n             height:  80%;\n            background:  linear-gradient(90deg,#d65f5f 13.5%, transparent 13.5%);\n        }#T_b6b9a_row18_col2{\n            width:  10em;\n             height:  80%;\n            background:  linear-gradient(90deg,#d65f5f 14.7%, transparent 14.7%);\n        }#T_b6b9a_row19_col1{\n            width:  10em;\n             height:  80%;\n            background:  linear-gradient(90deg,#d65f5f 51.0%, transparent 51.0%);\n        }#T_b6b9a_row19_col2{\n            width:  10em;\n             height:  80%;\n            background:  linear-gradient(90deg,#d65f5f 87.3%, transparent 87.3%);\n        }#T_b6b9a_row20_col1{\n            width:  10em;\n             height:  80%;\n            background:  linear-gradient(90deg,#d65f5f 5.7%, transparent 5.7%);\n        }#T_b6b9a_row21_col1{\n            width:  10em;\n             height:  80%;\n            background:  linear-gradient(90deg,#d65f5f 20.1%, transparent 20.1%);\n        }#T_b6b9a_row21_col2{\n            width:  10em;\n             height:  80%;\n            background:  linear-gradient(90deg,#d65f5f 36.3%, transparent 36.3%);\n        }#T_b6b9a_row22_col1{\n            width:  10em;\n             height:  80%;\n            background:  linear-gradient(90deg,#d65f5f 3.7%, transparent 3.7%);\n        }#T_b6b9a_row22_col2{\n            width:  10em;\n             height:  80%;\n            background:  linear-gradient(90deg,#d65f5f 3.9%, transparent 3.9%);\n        }#T_b6b9a_row23_col1{\n            width:  10em;\n             height:  80%;\n            background:  linear-gradient(90deg,#d65f5f 10.7%, transparent 10.7%);\n        }#T_b6b9a_row23_col2{\n            width:  10em;\n             height:  80%;\n            background:  linear-gradient(90deg,#d65f5f 17.0%, transparent 17.0%);\n        }#T_b6b9a_row24_col1{\n            width:  10em;\n             height:  80%;\n            background:  linear-gradient(90deg,#d65f5f 33.0%, transparent 33.0%);\n        }#T_b6b9a_row24_col2{\n            width:  10em;\n             height:  80%;\n            background:  linear-gradient(90deg,#d65f5f 43.4%, transparent 43.4%);\n        }#T_b6b9a_row25_col1{\n            width:  10em;\n             height:  80%;\n            background:  linear-gradient(90deg,#d65f5f 11.4%, transparent 11.4%);\n        }#T_b6b9a_row25_col2{\n            width:  10em;\n             height:  80%;\n            background:  linear-gradient(90deg,#d65f5f 19.1%, transparent 19.1%);\n        }#T_b6b9a_row26_col1{\n            width:  10em;\n             height:  80%;\n            background:  linear-gradient(90deg,#d65f5f 9.5%, transparent 9.5%);\n        }#T_b6b9a_row26_col2{\n            width:  10em;\n             height:  80%;\n            background:  linear-gradient(90deg,#d65f5f 22.5%, transparent 22.5%);\n        }#T_b6b9a_row27_col1{\n            width:  10em;\n             height:  80%;\n            background:  linear-gradient(90deg,#d65f5f 7.7%, transparent 7.7%);\n        }#T_b6b9a_row27_col2{\n            width:  10em;\n             height:  80%;\n            background:  linear-gradient(90deg,#d65f5f 24.5%, transparent 24.5%);\n        }#T_b6b9a_row28_col1{\n            width:  10em;\n             height:  80%;\n            background:  linear-gradient(90deg,#d65f5f 35.3%, transparent 35.3%);\n        }#T_b6b9a_row28_col2{\n            width:  10em;\n             height:  80%;\n            background:  linear-gradient(90deg,#d65f5f 30.2%, transparent 30.2%);\n        }#T_b6b9a_row29_col2{\n            width:  10em;\n             height:  80%;\n            background:  linear-gradient(90deg,#d65f5f 7.6%, transparent 7.6%);\n        }#T_b6b9a_row30_col1{\n            width:  10em;\n             height:  80%;\n            background:  linear-gradient(90deg,#d65f5f 7.5%, transparent 7.5%);\n        }#T_b6b9a_row30_col2{\n            width:  10em;\n             height:  80%;\n            background:  linear-gradient(90deg,#d65f5f 19.8%, transparent 19.8%);\n        }#T_b6b9a_row31_col1{\n            width:  10em;\n             height:  80%;\n            background:  linear-gradient(90deg,#d65f5f 44.4%, transparent 44.4%);\n        }#T_b6b9a_row31_col2{\n            width:  10em;\n             height:  80%;\n            background:  linear-gradient(90deg,#d65f5f 58.9%, transparent 58.9%);\n        }#T_b6b9a_row32_col1{\n            width:  10em;\n             height:  80%;\n            background:  linear-gradient(90deg,#d65f5f 6.9%, transparent 6.9%);\n        }#T_b6b9a_row32_col2{\n            width:  10em;\n             height:  80%;\n            background:  linear-gradient(90deg,#d65f5f 21.9%, transparent 21.9%);\n        }#T_b6b9a_row33_col2{\n            width:  10em;\n             height:  80%;\n            background:  linear-gradient(90deg,#d65f5f 38.3%, transparent 38.3%);\n        }#T_b6b9a_row34_col2{\n            width:  10em;\n             height:  80%;\n            background:  linear-gradient(90deg,#d65f5f 42.4%, transparent 42.4%);\n        }#T_b6b9a_row35_col1{\n            width:  10em;\n             height:  80%;\n            background:  linear-gradient(90deg,#d65f5f 28.5%, transparent 28.5%);\n        }#T_b6b9a_row35_col2{\n            width:  10em;\n             height:  80%;\n            background:  linear-gradient(90deg,#d65f5f 51.6%, transparent 51.6%);\n        }#T_b6b9a_row36_col1{\n            width:  10em;\n             height:  80%;\n            background:  linear-gradient(90deg,#d65f5f 1.4%, transparent 1.4%);\n        }#T_b6b9a_row36_col2{\n            width:  10em;\n             height:  80%;\n            background:  linear-gradient(90deg,#d65f5f 1.0%, transparent 1.0%);\n        }#T_b6b9a_row37_col1{\n            width:  10em;\n             height:  80%;\n            background:  linear-gradient(90deg,#d65f5f 11.0%, transparent 11.0%);\n        }#T_b6b9a_row37_col2{\n            width:  10em;\n             height:  80%;\n            background:  linear-gradient(90deg,#d65f5f 14.6%, transparent 14.6%);\n        }#T_b6b9a_row38_col1,#T_b6b9a_row38_col2{\n            width:  10em;\n             height:  80%;\n            background:  linear-gradient(90deg,#d65f5f 100.0%, transparent 100.0%);\n        }#T_b6b9a_row39_col1{\n            width:  10em;\n             height:  80%;\n            background:  linear-gradient(90deg,#d65f5f 20.5%, transparent 20.5%);\n        }#T_b6b9a_row39_col2{\n            width:  10em;\n             height:  80%;\n            background:  linear-gradient(90deg,#d65f5f 67.1%, transparent 67.1%);\n        }#T_b6b9a_row40_col1{\n            width:  10em;\n             height:  80%;\n            background:  linear-gradient(90deg,#d65f5f 21.8%, transparent 21.8%);\n        }#T_b6b9a_row40_col2{\n            width:  10em;\n             height:  80%;\n            background:  linear-gradient(90deg,#d65f5f 27.1%, transparent 27.1%);\n        }#T_b6b9a_row41_col1{\n            width:  10em;\n             height:  80%;\n            background:  linear-gradient(90deg,#d65f5f 17.3%, transparent 17.3%);\n        }#T_b6b9a_row41_col2{\n            width:  10em;\n             height:  80%;\n            background:  linear-gradient(90deg,#d65f5f 32.7%, transparent 32.7%);\n        }#T_b6b9a_row42_col1{\n            width:  10em;\n             height:  80%;\n            background:  linear-gradient(90deg,#d65f5f 15.5%, transparent 15.5%);\n        }#T_b6b9a_row42_col2{\n            width:  10em;\n             height:  80%;\n            background:  linear-gradient(90deg,#d65f5f 38.6%, transparent 38.6%);\n        }#T_b6b9a_row43_col1{\n            width:  10em;\n             height:  80%;\n            background:  linear-gradient(90deg,#d65f5f 18.5%, transparent 18.5%);\n        }#T_b6b9a_row43_col2{\n            width:  10em;\n             height:  80%;\n            background:  linear-gradient(90deg,#d65f5f 39.8%, transparent 39.8%);\n        }#T_b6b9a_row44_col1{\n            width:  10em;\n             height:  80%;\n            background:  linear-gradient(90deg,#d65f5f 2.0%, transparent 2.0%);\n        }#T_b6b9a_row44_col2{\n            width:  10em;\n             height:  80%;\n            background:  linear-gradient(90deg,#d65f5f 5.3%, transparent 5.3%);\n        }#T_b6b9a_row45_col1{\n            width:  10em;\n             height:  80%;\n            background:  linear-gradient(90deg,#d65f5f 9.7%, transparent 9.7%);\n        }#T_b6b9a_row45_col2{\n            width:  10em;\n             height:  80%;\n            background:  linear-gradient(90deg,#d65f5f 22.0%, transparent 22.0%);\n        }#T_b6b9a_row46_col1{\n            width:  10em;\n             height:  80%;\n            background:  linear-gradient(90deg,#d65f5f 15.1%, transparent 15.1%);\n        }#T_b6b9a_row46_col2{\n            width:  10em;\n             height:  80%;\n            background:  linear-gradient(90deg,#d65f5f 36.0%, transparent 36.0%);\n        }#T_b6b9a_row47_col1{\n            width:  10em;\n             height:  80%;\n            background:  linear-gradient(90deg,#d65f5f 10.8%, transparent 10.8%);\n        }#T_b6b9a_row48_col1{\n            width:  10em;\n             height:  80%;\n            background:  linear-gradient(90deg,#d65f5f 30.6%, transparent 30.6%);\n        }#T_b6b9a_row48_col2{\n            width:  10em;\n             height:  80%;\n            background:  linear-gradient(90deg,#d65f5f 44.1%, transparent 44.1%);\n        }#T_b6b9a_row49_col1{\n            width:  10em;\n             height:  80%;\n            background:  linear-gradient(90deg,#d65f5f 16.5%, transparent 16.5%);\n        }#T_b6b9a_row49_col2{\n            width:  10em;\n             height:  80%;\n            background:  linear-gradient(90deg,#d65f5f 26.3%, transparent 26.3%);\n        }</style><table id=\"T_b6b9a_\" ><thead>    <tr>        <th class=\"blank level0\" ></th>        <th class=\"col_heading level0 col0\" >count</th>        <th class=\"col_heading level0 col1\" >mean</th>        <th class=\"col_heading level0 col2\" >std</th>        <th class=\"col_heading level0 col3\" >min</th>        <th class=\"col_heading level0 col4\" >25%</th>        <th class=\"col_heading level0 col5\" >50%</th>        <th class=\"col_heading level0 col6\" >75%</th>        <th class=\"col_heading level0 col7\" >max</th>    </tr></thead><tbody>\n                <tr>\n                        <th id=\"T_b6b9a_level0_row0\" class=\"row_heading level0 row0\" >feature_0</th>\n                        <td id=\"T_b6b9a_row0_col0\" class=\"data row0 col0\" >100000.000000</td>\n                        <td id=\"T_b6b9a_row0_col1\" class=\"data row0 col1\" >0.257830</td>\n                        <td id=\"T_b6b9a_row0_col2\" class=\"data row0 col2\" >0.929033</td>\n                        <td id=\"T_b6b9a_row0_col3\" class=\"data row0 col3\" >0.000000</td>\n                        <td id=\"T_b6b9a_row0_col4\" class=\"data row0 col4\" >0.000000</td>\n                        <td id=\"T_b6b9a_row0_col5\" class=\"data row0 col5\" >0.000000</td>\n                        <td id=\"T_b6b9a_row0_col6\" class=\"data row0 col6\" >0.000000</td>\n                        <td id=\"T_b6b9a_row0_col7\" class=\"data row0 col7\" >10.000000</td>\n            </tr>\n            <tr>\n                        <th id=\"T_b6b9a_level0_row1\" class=\"row_heading level0 row1\" >feature_1</th>\n                        <td id=\"T_b6b9a_row1_col0\" class=\"data row1 col0\" >100000.000000</td>\n                        <td id=\"T_b6b9a_row1_col1\" class=\"data row1 col1\" >0.431720</td>\n                        <td id=\"T_b6b9a_row1_col2\" class=\"data row1 col2\" >1.977862</td>\n                        <td id=\"T_b6b9a_row1_col3\" class=\"data row1 col3\" >0.000000</td>\n                        <td id=\"T_b6b9a_row1_col4\" class=\"data row1 col4\" >0.000000</td>\n                        <td id=\"T_b6b9a_row1_col5\" class=\"data row1 col5\" >0.000000</td>\n                        <td id=\"T_b6b9a_row1_col6\" class=\"data row1 col6\" >0.000000</td>\n                        <td id=\"T_b6b9a_row1_col7\" class=\"data row1 col7\" >31.000000</td>\n            </tr>\n            <tr>\n                        <th id=\"T_b6b9a_level0_row2\" class=\"row_heading level0 row2\" >feature_2</th>\n                        <td id=\"T_b6b9a_row2_col0\" class=\"data row2 col0\" >100000.000000</td>\n                        <td id=\"T_b6b9a_row2_col1\" class=\"data row2 col1\" >0.114130</td>\n                        <td id=\"T_b6b9a_row2_col2\" class=\"data row2 col2\" >0.519584</td>\n                        <td id=\"T_b6b9a_row2_col3\" class=\"data row2 col3\" >0.000000</td>\n                        <td id=\"T_b6b9a_row2_col4\" class=\"data row2 col4\" >0.000000</td>\n                        <td id=\"T_b6b9a_row2_col5\" class=\"data row2 col5\" >0.000000</td>\n                        <td id=\"T_b6b9a_row2_col6\" class=\"data row2 col6\" >0.000000</td>\n                        <td id=\"T_b6b9a_row2_col7\" class=\"data row2 col7\" >6.000000</td>\n            </tr>\n            <tr>\n                        <th id=\"T_b6b9a_level0_row3\" class=\"row_heading level0 row3\" >feature_3</th>\n                        <td id=\"T_b6b9a_row3_col0\" class=\"data row3 col0\" >100000.000000</td>\n                        <td id=\"T_b6b9a_row3_col1\" class=\"data row3 col1\" >0.590550</td>\n                        <td id=\"T_b6b9a_row3_col2\" class=\"data row3 col2\" >1.844558</td>\n                        <td id=\"T_b6b9a_row3_col3\" class=\"data row3 col3\" >0.000000</td>\n                        <td id=\"T_b6b9a_row3_col4\" class=\"data row3 col4\" >0.000000</td>\n                        <td id=\"T_b6b9a_row3_col5\" class=\"data row3 col5\" >0.000000</td>\n                        <td id=\"T_b6b9a_row3_col6\" class=\"data row3 col6\" >0.000000</td>\n                        <td id=\"T_b6b9a_row3_col7\" class=\"data row3 col7\" >26.000000</td>\n            </tr>\n            <tr>\n                        <th id=\"T_b6b9a_level0_row4\" class=\"row_heading level0 row4\" >feature_4</th>\n                        <td id=\"T_b6b9a_row4_col0\" class=\"data row4 col0\" >100000.000000</td>\n                        <td id=\"T_b6b9a_row4_col1\" class=\"data row4 col1\" >0.599770</td>\n                        <td id=\"T_b6b9a_row4_col2\" class=\"data row4 col2\" >2.785531</td>\n                        <td id=\"T_b6b9a_row4_col3\" class=\"data row4 col3\" >0.000000</td>\n                        <td id=\"T_b6b9a_row4_col4\" class=\"data row4 col4\" >0.000000</td>\n                        <td id=\"T_b6b9a_row4_col5\" class=\"data row4 col5\" >0.000000</td>\n                        <td id=\"T_b6b9a_row4_col6\" class=\"data row4 col6\" >0.000000</td>\n                        <td id=\"T_b6b9a_row4_col7\" class=\"data row4 col7\" >38.000000</td>\n            </tr>\n            <tr>\n                        <th id=\"T_b6b9a_level0_row5\" class=\"row_heading level0 row5\" >feature_5</th>\n                        <td id=\"T_b6b9a_row5_col0\" class=\"data row5 col0\" >100000.000000</td>\n                        <td id=\"T_b6b9a_row5_col1\" class=\"data row5 col1\" >0.160820</td>\n                        <td id=\"T_b6b9a_row5_col2\" class=\"data row5 col2\" >0.601149</td>\n                        <td id=\"T_b6b9a_row5_col3\" class=\"data row5 col3\" >0.000000</td>\n                        <td id=\"T_b6b9a_row5_col4\" class=\"data row5 col4\" >0.000000</td>\n                        <td id=\"T_b6b9a_row5_col5\" class=\"data row5 col5\" >0.000000</td>\n                        <td id=\"T_b6b9a_row5_col6\" class=\"data row5 col6\" >0.000000</td>\n                        <td id=\"T_b6b9a_row5_col7\" class=\"data row5 col7\" >10.000000</td>\n            </tr>\n            <tr>\n                        <th id=\"T_b6b9a_level0_row6\" class=\"row_heading level0 row6\" >feature_6</th>\n                        <td id=\"T_b6b9a_row6_col0\" class=\"data row6 col0\" >100000.000000</td>\n                        <td id=\"T_b6b9a_row6_col1\" class=\"data row6 col1\" >0.731490</td>\n                        <td id=\"T_b6b9a_row6_col2\" class=\"data row6 col2\" >2.343465</td>\n                        <td id=\"T_b6b9a_row6_col3\" class=\"data row6 col3\" >0.000000</td>\n                        <td id=\"T_b6b9a_row6_col4\" class=\"data row6 col4\" >0.000000</td>\n                        <td id=\"T_b6b9a_row6_col5\" class=\"data row6 col5\" >0.000000</td>\n                        <td id=\"T_b6b9a_row6_col6\" class=\"data row6 col6\" >0.000000</td>\n                        <td id=\"T_b6b9a_row6_col7\" class=\"data row6 col7\" >27.000000</td>\n            </tr>\n            <tr>\n                        <th id=\"T_b6b9a_level0_row7\" class=\"row_heading level0 row7\" >feature_7</th>\n                        <td id=\"T_b6b9a_row7_col0\" class=\"data row7 col0\" >100000.000000</td>\n                        <td id=\"T_b6b9a_row7_col1\" class=\"data row7 col1\" >1.228920</td>\n                        <td id=\"T_b6b9a_row7_col2\" class=\"data row7 col2\" >2.692732</td>\n                        <td id=\"T_b6b9a_row7_col3\" class=\"data row7 col3\" >0.000000</td>\n                        <td id=\"T_b6b9a_row7_col4\" class=\"data row7 col4\" >0.000000</td>\n                        <td id=\"T_b6b9a_row7_col5\" class=\"data row7 col5\" >0.000000</td>\n                        <td id=\"T_b6b9a_row7_col6\" class=\"data row7 col6\" >1.000000</td>\n                        <td id=\"T_b6b9a_row7_col7\" class=\"data row7 col7\" >31.000000</td>\n            </tr>\n            <tr>\n                        <th id=\"T_b6b9a_level0_row8\" class=\"row_heading level0 row8\" >feature_8</th>\n                        <td id=\"T_b6b9a_row8_col0\" class=\"data row8 col0\" >100000.000000</td>\n                        <td id=\"T_b6b9a_row8_col1\" class=\"data row8 col1\" >0.903350</td>\n                        <td id=\"T_b6b9a_row8_col2\" class=\"data row8 col2\" >3.415258</td>\n                        <td id=\"T_b6b9a_row8_col3\" class=\"data row8 col3\" >0.000000</td>\n                        <td id=\"T_b6b9a_row8_col4\" class=\"data row8 col4\" >0.000000</td>\n                        <td id=\"T_b6b9a_row8_col5\" class=\"data row8 col5\" >0.000000</td>\n                        <td id=\"T_b6b9a_row8_col6\" class=\"data row8 col6\" >0.000000</td>\n                        <td id=\"T_b6b9a_row8_col7\" class=\"data row8 col7\" >39.000000</td>\n            </tr>\n            <tr>\n                        <th id=\"T_b6b9a_level0_row9\" class=\"row_heading level0 row9\" >feature_9</th>\n                        <td id=\"T_b6b9a_row9_col0\" class=\"data row9 col0\" >100000.000000</td>\n                        <td id=\"T_b6b9a_row9_col1\" class=\"data row9 col1\" >0.940120</td>\n                        <td id=\"T_b6b9a_row9_col2\" class=\"data row9 col2\" >1.904172</td>\n                        <td id=\"T_b6b9a_row9_col3\" class=\"data row9 col3\" >0.000000</td>\n                        <td id=\"T_b6b9a_row9_col4\" class=\"data row9 col4\" >0.000000</td>\n                        <td id=\"T_b6b9a_row9_col5\" class=\"data row9 col5\" >0.000000</td>\n                        <td id=\"T_b6b9a_row9_col6\" class=\"data row9 col6\" >1.000000</td>\n                        <td id=\"T_b6b9a_row9_col7\" class=\"data row9 col7\" >17.000000</td>\n            </tr>\n            <tr>\n                        <th id=\"T_b6b9a_level0_row10\" class=\"row_heading level0 row10\" >feature_10</th>\n                        <td id=\"T_b6b9a_row10_col0\" class=\"data row10 col0\" >100000.000000</td>\n                        <td id=\"T_b6b9a_row10_col1\" class=\"data row10 col1\" >0.313680</td>\n                        <td id=\"T_b6b9a_row10_col2\" class=\"data row10 col2\" >1.121168</td>\n                        <td id=\"T_b6b9a_row10_col3\" class=\"data row10 col3\" >0.000000</td>\n                        <td id=\"T_b6b9a_row10_col4\" class=\"data row10 col4\" >0.000000</td>\n                        <td id=\"T_b6b9a_row10_col5\" class=\"data row10 col5\" >0.000000</td>\n                        <td id=\"T_b6b9a_row10_col6\" class=\"data row10 col6\" >0.000000</td>\n                        <td id=\"T_b6b9a_row10_col7\" class=\"data row10 col7\" >16.000000</td>\n            </tr>\n            <tr>\n                        <th id=\"T_b6b9a_level0_row11\" class=\"row_heading level0 row11\" >feature_11</th>\n                        <td id=\"T_b6b9a_row11_col0\" class=\"data row11 col0\" >100000.000000</td>\n                        <td id=\"T_b6b9a_row11_col1\" class=\"data row11 col1\" >0.403750</td>\n                        <td id=\"T_b6b9a_row11_col2\" class=\"data row11 col2\" >1.011418</td>\n                        <td id=\"T_b6b9a_row11_col3\" class=\"data row11 col3\" >0.000000</td>\n                        <td id=\"T_b6b9a_row11_col4\" class=\"data row11 col4\" >0.000000</td>\n                        <td id=\"T_b6b9a_row11_col5\" class=\"data row11 col5\" >0.000000</td>\n                        <td id=\"T_b6b9a_row11_col6\" class=\"data row11 col6\" >0.000000</td>\n                        <td id=\"T_b6b9a_row11_col7\" class=\"data row11 col7\" >12.000000</td>\n            </tr>\n            <tr>\n                        <th id=\"T_b6b9a_level0_row12\" class=\"row_heading level0 row12\" >feature_12</th>\n                        <td id=\"T_b6b9a_row12_col0\" class=\"data row12 col0\" >100000.000000</td>\n                        <td id=\"T_b6b9a_row12_col1\" class=\"data row12 col1\" >0.461470</td>\n                        <td id=\"T_b6b9a_row12_col2\" class=\"data row12 col2\" >1.128729</td>\n                        <td id=\"T_b6b9a_row12_col3\" class=\"data row12 col3\" >0.000000</td>\n                        <td id=\"T_b6b9a_row12_col4\" class=\"data row12 col4\" >0.000000</td>\n                        <td id=\"T_b6b9a_row12_col5\" class=\"data row12 col5\" >0.000000</td>\n                        <td id=\"T_b6b9a_row12_col6\" class=\"data row12 col6\" >0.000000</td>\n                        <td id=\"T_b6b9a_row12_col7\" class=\"data row12 col7\" >11.000000</td>\n            </tr>\n            <tr>\n                        <th id=\"T_b6b9a_level0_row13\" class=\"row_heading level0 row13\" >feature_13</th>\n                        <td id=\"T_b6b9a_row13_col0\" class=\"data row13 col0\" >100000.000000</td>\n                        <td id=\"T_b6b9a_row13_col1\" class=\"data row13 col1\" >0.075650</td>\n                        <td id=\"T_b6b9a_row13_col2\" class=\"data row13 col2\" >0.359010</td>\n                        <td id=\"T_b6b9a_row13_col3\" class=\"data row13 col3\" >0.000000</td>\n                        <td id=\"T_b6b9a_row13_col4\" class=\"data row13 col4\" >0.000000</td>\n                        <td id=\"T_b6b9a_row13_col5\" class=\"data row13 col5\" >0.000000</td>\n                        <td id=\"T_b6b9a_row13_col6\" class=\"data row13 col6\" >0.000000</td>\n                        <td id=\"T_b6b9a_row13_col7\" class=\"data row13 col7\" >3.000000</td>\n            </tr>\n            <tr>\n                        <th id=\"T_b6b9a_level0_row14\" class=\"row_heading level0 row14\" >feature_14</th>\n                        <td id=\"T_b6b9a_row14_col0\" class=\"data row14 col0\" >100000.000000</td>\n                        <td id=\"T_b6b9a_row14_col1\" class=\"data row14 col1\" >2.597320</td>\n                        <td id=\"T_b6b9a_row14_col2\" class=\"data row14 col2\" >4.655092</td>\n                        <td id=\"T_b6b9a_row14_col3\" class=\"data row14 col3\" >0.000000</td>\n                        <td id=\"T_b6b9a_row14_col4\" class=\"data row14 col4\" >0.000000</td>\n                        <td id=\"T_b6b9a_row14_col5\" class=\"data row14 col5\" >1.000000</td>\n                        <td id=\"T_b6b9a_row14_col6\" class=\"data row14 col6\" >3.000000</td>\n                        <td id=\"T_b6b9a_row14_col7\" class=\"data row14 col7\" >51.000000</td>\n            </tr>\n            <tr>\n                        <th id=\"T_b6b9a_level0_row15\" class=\"row_heading level0 row15\" >feature_15</th>\n                        <td id=\"T_b6b9a_row15_col0\" class=\"data row15 col0\" >100000.000000</td>\n                        <td id=\"T_b6b9a_row15_col1\" class=\"data row15 col1\" >1.242030</td>\n                        <td id=\"T_b6b9a_row15_col2\" class=\"data row15 col2\" >2.160111</td>\n                        <td id=\"T_b6b9a_row15_col3\" class=\"data row15 col3\" >0.000000</td>\n                        <td id=\"T_b6b9a_row15_col4\" class=\"data row15 col4\" >0.000000</td>\n                        <td id=\"T_b6b9a_row15_col5\" class=\"data row15 col5\" >0.000000</td>\n                        <td id=\"T_b6b9a_row15_col6\" class=\"data row15 col6\" >2.000000</td>\n                        <td id=\"T_b6b9a_row15_col7\" class=\"data row15 col7\" >20.000000</td>\n            </tr>\n            <tr>\n                        <th id=\"T_b6b9a_level0_row16\" class=\"row_heading level0 row16\" >feature_16</th>\n                        <td id=\"T_b6b9a_row16_col0\" class=\"data row16 col0\" >100000.000000</td>\n                        <td id=\"T_b6b9a_row16_col1\" class=\"data row16 col1\" >0.364830</td>\n                        <td id=\"T_b6b9a_row16_col2\" class=\"data row16 col2\" >1.284152</td>\n                        <td id=\"T_b6b9a_row16_col3\" class=\"data row16 col3\" >0.000000</td>\n                        <td id=\"T_b6b9a_row16_col4\" class=\"data row16 col4\" >0.000000</td>\n                        <td id=\"T_b6b9a_row16_col5\" class=\"data row16 col5\" >0.000000</td>\n                        <td id=\"T_b6b9a_row16_col6\" class=\"data row16 col6\" >0.000000</td>\n                        <td id=\"T_b6b9a_row16_col7\" class=\"data row16 col7\" >19.000000</td>\n            </tr>\n            <tr>\n                        <th id=\"T_b6b9a_level0_row17\" class=\"row_heading level0 row17\" >feature_17</th>\n                        <td id=\"T_b6b9a_row17_col0\" class=\"data row17 col0\" >100000.000000</td>\n                        <td id=\"T_b6b9a_row17_col1\" class=\"data row17 col1\" >0.740000</td>\n                        <td id=\"T_b6b9a_row17_col2\" class=\"data row17 col2\" >1.819388</td>\n                        <td id=\"T_b6b9a_row17_col3\" class=\"data row17 col3\" >0.000000</td>\n                        <td id=\"T_b6b9a_row17_col4\" class=\"data row17 col4\" >0.000000</td>\n                        <td id=\"T_b6b9a_row17_col5\" class=\"data row17 col5\" >0.000000</td>\n                        <td id=\"T_b6b9a_row17_col6\" class=\"data row17 col6\" >0.000000</td>\n                        <td id=\"T_b6b9a_row17_col7\" class=\"data row17 col7\" >16.000000</td>\n            </tr>\n            <tr>\n                        <th id=\"T_b6b9a_level0_row18\" class=\"row_heading level0 row18\" >feature_18</th>\n                        <td id=\"T_b6b9a_row18_col0\" class=\"data row18 col0\" >100000.000000</td>\n                        <td id=\"T_b6b9a_row18_col1\" class=\"data row18 col1\" >0.471220</td>\n                        <td id=\"T_b6b9a_row18_col2\" class=\"data row18 col2\" >1.096423</td>\n                        <td id=\"T_b6b9a_row18_col3\" class=\"data row18 col3\" >0.000000</td>\n                        <td id=\"T_b6b9a_row18_col4\" class=\"data row18 col4\" >0.000000</td>\n                        <td id=\"T_b6b9a_row18_col5\" class=\"data row18 col5\" >0.000000</td>\n                        <td id=\"T_b6b9a_row18_col6\" class=\"data row18 col6\" >0.000000</td>\n                        <td id=\"T_b6b9a_row18_col7\" class=\"data row18 col7\" >13.000000</td>\n            </tr>\n            <tr>\n                        <th id=\"T_b6b9a_level0_row19\" class=\"row_heading level0 row19\" >feature_19</th>\n                        <td id=\"T_b6b9a_row19_col0\" class=\"data row19 col0\" >100000.000000</td>\n                        <td id=\"T_b6b9a_row19_col1\" class=\"data row19 col1\" >1.564780</td>\n                        <td id=\"T_b6b9a_row19_col2\" class=\"data row19 col2\" >4.749449</td>\n                        <td id=\"T_b6b9a_row19_col3\" class=\"data row19 col3\" >-2.000000</td>\n                        <td id=\"T_b6b9a_row19_col4\" class=\"data row19 col4\" >0.000000</td>\n                        <td id=\"T_b6b9a_row19_col5\" class=\"data row19 col5\" >0.000000</td>\n                        <td id=\"T_b6b9a_row19_col6\" class=\"data row19 col6\" >1.000000</td>\n                        <td id=\"T_b6b9a_row19_col7\" class=\"data row19 col7\" >55.000000</td>\n            </tr>\n            <tr>\n                        <th id=\"T_b6b9a_level0_row20\" class=\"row_heading level0 row20\" >feature_20</th>\n                        <td id=\"T_b6b9a_row20_col0\" class=\"data row20 col0\" >100000.000000</td>\n                        <td id=\"T_b6b9a_row20_col1\" class=\"data row20 col1\" >0.242890</td>\n                        <td id=\"T_b6b9a_row20_col2\" class=\"data row20 col2\" >0.927461</td>\n                        <td id=\"T_b6b9a_row20_col3\" class=\"data row20 col3\" >0.000000</td>\n                        <td id=\"T_b6b9a_row20_col4\" class=\"data row20 col4\" >0.000000</td>\n                        <td id=\"T_b6b9a_row20_col5\" class=\"data row20 col5\" >0.000000</td>\n                        <td id=\"T_b6b9a_row20_col6\" class=\"data row20 col6\" >0.000000</td>\n                        <td id=\"T_b6b9a_row20_col7\" class=\"data row20 col7\" >17.000000</td>\n            </tr>\n            <tr>\n                        <th id=\"T_b6b9a_level0_row21\" class=\"row_heading level0 row21\" >feature_21</th>\n                        <td id=\"T_b6b9a_row21_col0\" class=\"data row21 col0\" >100000.000000</td>\n                        <td id=\"T_b6b9a_row21_col1\" class=\"data row21 col1\" >0.661970</td>\n                        <td id=\"T_b6b9a_row21_col2\" class=\"data row21 col2\" >2.182703</td>\n                        <td id=\"T_b6b9a_row21_col3\" class=\"data row21 col3\" >0.000000</td>\n                        <td id=\"T_b6b9a_row21_col4\" class=\"data row21 col4\" >0.000000</td>\n                        <td id=\"T_b6b9a_row21_col5\" class=\"data row21 col5\" >0.000000</td>\n                        <td id=\"T_b6b9a_row21_col6\" class=\"data row21 col6\" >0.000000</td>\n                        <td id=\"T_b6b9a_row21_col7\" class=\"data row21 col7\" >36.000000</td>\n            </tr>\n            <tr>\n                        <th id=\"T_b6b9a_level0_row22\" class=\"row_heading level0 row22\" >feature_22</th>\n                        <td id=\"T_b6b9a_row22_col0\" class=\"data row22 col0\" >100000.000000</td>\n                        <td id=\"T_b6b9a_row22_col1\" class=\"data row22 col1\" >0.184740</td>\n                        <td id=\"T_b6b9a_row22_col2\" class=\"data row22 col2\" >0.553854</td>\n                        <td id=\"T_b6b9a_row22_col3\" class=\"data row22 col3\" >0.000000</td>\n                        <td id=\"T_b6b9a_row22_col4\" class=\"data row22 col4\" >0.000000</td>\n                        <td id=\"T_b6b9a_row22_col5\" class=\"data row22 col5\" >0.000000</td>\n                        <td id=\"T_b6b9a_row22_col6\" class=\"data row22 col6\" >0.000000</td>\n                        <td id=\"T_b6b9a_row22_col7\" class=\"data row22 col7\" >4.000000</td>\n            </tr>\n            <tr>\n                        <th id=\"T_b6b9a_level0_row23\" class=\"row_heading level0 row23\" >feature_23</th>\n                        <td id=\"T_b6b9a_row23_col0\" class=\"data row23 col0\" >100000.000000</td>\n                        <td id=\"T_b6b9a_row23_col1\" class=\"data row23 col1\" >0.388040</td>\n                        <td id=\"T_b6b9a_row23_col2\" class=\"data row23 col2\" >1.215796</td>\n                        <td id=\"T_b6b9a_row23_col3\" class=\"data row23 col3\" >0.000000</td>\n                        <td id=\"T_b6b9a_row23_col4\" class=\"data row23 col4\" >0.000000</td>\n                        <td id=\"T_b6b9a_row23_col5\" class=\"data row23 col5\" >0.000000</td>\n                        <td id=\"T_b6b9a_row23_col6\" class=\"data row23 col6\" >0.000000</td>\n                        <td id=\"T_b6b9a_row23_col7\" class=\"data row23 col7\" >19.000000</td>\n            </tr>\n            <tr>\n                        <th id=\"T_b6b9a_level0_row24\" class=\"row_heading level0 row24\" >feature_24</th>\n                        <td id=\"T_b6b9a_row24_col0\" class=\"data row24 col0\" >100000.000000</td>\n                        <td id=\"T_b6b9a_row24_col1\" class=\"data row24 col1\" >1.040130</td>\n                        <td id=\"T_b6b9a_row24_col2\" class=\"data row24 col2\" >2.539910</td>\n                        <td id=\"T_b6b9a_row24_col3\" class=\"data row24 col3\" >0.000000</td>\n                        <td id=\"T_b6b9a_row24_col4\" class=\"data row24 col4\" >0.000000</td>\n                        <td id=\"T_b6b9a_row24_col5\" class=\"data row24 col5\" >0.000000</td>\n                        <td id=\"T_b6b9a_row24_col6\" class=\"data row24 col6\" >1.000000</td>\n                        <td id=\"T_b6b9a_row24_col7\" class=\"data row24 col7\" >34.000000</td>\n            </tr>\n            <tr>\n                        <th id=\"T_b6b9a_level0_row25\" class=\"row_heading level0 row25\" >feature_25</th>\n                        <td id=\"T_b6b9a_row25_col0\" class=\"data row25 col0\" >100000.000000</td>\n                        <td id=\"T_b6b9a_row25_col1\" class=\"data row25 col1\" >0.408630</td>\n                        <td id=\"T_b6b9a_row25_col2\" class=\"data row25 col2\" >1.321669</td>\n                        <td id=\"T_b6b9a_row25_col3\" class=\"data row25 col3\" >0.000000</td>\n                        <td id=\"T_b6b9a_row25_col4\" class=\"data row25 col4\" >0.000000</td>\n                        <td id=\"T_b6b9a_row25_col5\" class=\"data row25 col5\" >0.000000</td>\n                        <td id=\"T_b6b9a_row25_col6\" class=\"data row25 col6\" >0.000000</td>\n                        <td id=\"T_b6b9a_row25_col7\" class=\"data row25 col7\" >23.000000</td>\n            </tr>\n            <tr>\n                        <th id=\"T_b6b9a_level0_row26\" class=\"row_heading level0 row26\" >feature_26</th>\n                        <td id=\"T_b6b9a_row26_col0\" class=\"data row26 col0\" >100000.000000</td>\n                        <td id=\"T_b6b9a_row26_col1\" class=\"data row26 col1\" >0.353550</td>\n                        <td id=\"T_b6b9a_row26_col2\" class=\"data row26 col2\" >1.491937</td>\n                        <td id=\"T_b6b9a_row26_col3\" class=\"data row26 col3\" >0.000000</td>\n                        <td id=\"T_b6b9a_row26_col4\" class=\"data row26 col4\" >0.000000</td>\n                        <td id=\"T_b6b9a_row26_col5\" class=\"data row26 col5\" >0.000000</td>\n                        <td id=\"T_b6b9a_row26_col6\" class=\"data row26 col6\" >0.000000</td>\n                        <td id=\"T_b6b9a_row26_col7\" class=\"data row26 col7\" >21.000000</td>\n            </tr>\n            <tr>\n                        <th id=\"T_b6b9a_level0_row27\" class=\"row_heading level0 row27\" >feature_27</th>\n                        <td id=\"T_b6b9a_row27_col0\" class=\"data row27 col0\" >100000.000000</td>\n                        <td id=\"T_b6b9a_row27_col1\" class=\"data row27 col1\" >0.300680</td>\n                        <td id=\"T_b6b9a_row27_col2\" class=\"data row27 col2\" >1.592092</td>\n                        <td id=\"T_b6b9a_row27_col3\" class=\"data row27 col3\" >0.000000</td>\n                        <td id=\"T_b6b9a_row27_col4\" class=\"data row27 col4\" >0.000000</td>\n                        <td id=\"T_b6b9a_row27_col5\" class=\"data row27 col5\" >0.000000</td>\n                        <td id=\"T_b6b9a_row27_col6\" class=\"data row27 col6\" >0.000000</td>\n                        <td id=\"T_b6b9a_row27_col7\" class=\"data row27 col7\" >31.000000</td>\n            </tr>\n            <tr>\n                        <th id=\"T_b6b9a_level0_row28\" class=\"row_heading level0 row28\" >feature_28</th>\n                        <td id=\"T_b6b9a_row28_col0\" class=\"data row28 col0\" >100000.000000</td>\n                        <td id=\"T_b6b9a_row28_col1\" class=\"data row28 col1\" >1.106060</td>\n                        <td id=\"T_b6b9a_row28_col2\" class=\"data row28 col2\" >1.879629</td>\n                        <td id=\"T_b6b9a_row28_col3\" class=\"data row28 col3\" >0.000000</td>\n                        <td id=\"T_b6b9a_row28_col4\" class=\"data row28 col4\" >0.000000</td>\n                        <td id=\"T_b6b9a_row28_col5\" class=\"data row28 col5\" >0.000000</td>\n                        <td id=\"T_b6b9a_row28_col6\" class=\"data row28 col6\" >2.000000</td>\n                        <td id=\"T_b6b9a_row28_col7\" class=\"data row28 col7\" >23.000000</td>\n            </tr>\n            <tr>\n                        <th id=\"T_b6b9a_level0_row29\" class=\"row_heading level0 row29\" >feature_29</th>\n                        <td id=\"T_b6b9a_row29_col0\" class=\"data row29 col0\" >100000.000000</td>\n                        <td id=\"T_b6b9a_row29_col1\" class=\"data row29 col1\" >0.169600</td>\n                        <td id=\"T_b6b9a_row29_col2\" class=\"data row29 col2\" >0.739582</td>\n                        <td id=\"T_b6b9a_row29_col3\" class=\"data row29 col3\" >0.000000</td>\n                        <td id=\"T_b6b9a_row29_col4\" class=\"data row29 col4\" >0.000000</td>\n                        <td id=\"T_b6b9a_row29_col5\" class=\"data row29 col5\" >0.000000</td>\n                        <td id=\"T_b6b9a_row29_col6\" class=\"data row29 col6\" >0.000000</td>\n                        <td id=\"T_b6b9a_row29_col7\" class=\"data row29 col7\" >13.000000</td>\n            </tr>\n            <tr>\n                        <th id=\"T_b6b9a_level0_row30\" class=\"row_heading level0 row30\" >feature_30</th>\n                        <td id=\"T_b6b9a_row30_col0\" class=\"data row30 col0\" >100000.000000</td>\n                        <td id=\"T_b6b9a_row30_col1\" class=\"data row30 col1\" >0.294500</td>\n                        <td id=\"T_b6b9a_row30_col2\" class=\"data row30 col2\" >1.352963</td>\n                        <td id=\"T_b6b9a_row30_col3\" class=\"data row30 col3\" >-1.000000</td>\n                        <td id=\"T_b6b9a_row30_col4\" class=\"data row30 col4\" >0.000000</td>\n                        <td id=\"T_b6b9a_row30_col5\" class=\"data row30 col5\" >0.000000</td>\n                        <td id=\"T_b6b9a_row30_col6\" class=\"data row30 col6\" >0.000000</td>\n                        <td id=\"T_b6b9a_row30_col7\" class=\"data row30 col7\" >41.000000</td>\n            </tr>\n            <tr>\n                        <th id=\"T_b6b9a_level0_row31\" class=\"row_heading level0 row31\" >feature_31</th>\n                        <td id=\"T_b6b9a_row31_col0\" class=\"data row31 col0\" >100000.000000</td>\n                        <td id=\"T_b6b9a_row31_col1\" class=\"data row31 col1\" >1.372040</td>\n                        <td id=\"T_b6b9a_row31_col2\" class=\"data row31 col2\" >3.319325</td>\n                        <td id=\"T_b6b9a_row31_col3\" class=\"data row31 col3\" >-1.000000</td>\n                        <td id=\"T_b6b9a_row31_col4\" class=\"data row31 col4\" >0.000000</td>\n                        <td id=\"T_b6b9a_row31_col5\" class=\"data row31 col5\" >0.000000</td>\n                        <td id=\"T_b6b9a_row31_col6\" class=\"data row31 col6\" >1.000000</td>\n                        <td id=\"T_b6b9a_row31_col7\" class=\"data row31 col7\" >46.000000</td>\n            </tr>\n            <tr>\n                        <th id=\"T_b6b9a_level0_row32\" class=\"row_heading level0 row32\" >feature_32</th>\n                        <td id=\"T_b6b9a_row32_col0\" class=\"data row32 col0\" >100000.000000</td>\n                        <td id=\"T_b6b9a_row32_col1\" class=\"data row32 col1\" >0.277510</td>\n                        <td id=\"T_b6b9a_row32_col2\" class=\"data row32 col2\" >1.460705</td>\n                        <td id=\"T_b6b9a_row32_col3\" class=\"data row32 col3\" >-2.000000</td>\n                        <td id=\"T_b6b9a_row32_col4\" class=\"data row32 col4\" >0.000000</td>\n                        <td id=\"T_b6b9a_row32_col5\" class=\"data row32 col5\" >0.000000</td>\n                        <td id=\"T_b6b9a_row32_col6\" class=\"data row32 col6\" >0.000000</td>\n                        <td id=\"T_b6b9a_row32_col7\" class=\"data row32 col7\" >27.000000</td>\n            </tr>\n            <tr>\n                        <th id=\"T_b6b9a_level0_row33\" class=\"row_heading level0 row33\" >feature_33</th>\n                        <td id=\"T_b6b9a_row33_col0\" class=\"data row33 col0\" >100000.000000</td>\n                        <td id=\"T_b6b9a_row33_col1\" class=\"data row33 col1\" >0.612460</td>\n                        <td id=\"T_b6b9a_row33_col2\" class=\"data row33 col2\" >2.283595</td>\n                        <td id=\"T_b6b9a_row33_col3\" class=\"data row33 col3\" >0.000000</td>\n                        <td id=\"T_b6b9a_row33_col4\" class=\"data row33 col4\" >0.000000</td>\n                        <td id=\"T_b6b9a_row33_col5\" class=\"data row33 col5\" >0.000000</td>\n                        <td id=\"T_b6b9a_row33_col6\" class=\"data row33 col6\" >0.000000</td>\n                        <td id=\"T_b6b9a_row33_col7\" class=\"data row33 col7\" >24.000000</td>\n            </tr>\n            <tr>\n                        <th id=\"T_b6b9a_level0_row34\" class=\"row_heading level0 row34\" >feature_34</th>\n                        <td id=\"T_b6b9a_row34_col0\" class=\"data row34 col0\" >100000.000000</td>\n                        <td id=\"T_b6b9a_row34_col1\" class=\"data row34 col1\" >1.122150</td>\n                        <td id=\"T_b6b9a_row34_col2\" class=\"data row34 col2\" >2.493045</td>\n                        <td id=\"T_b6b9a_row34_col3\" class=\"data row34 col3\" >0.000000</td>\n                        <td id=\"T_b6b9a_row34_col4\" class=\"data row34 col4\" >0.000000</td>\n                        <td id=\"T_b6b9a_row34_col5\" class=\"data row34 col5\" >0.000000</td>\n                        <td id=\"T_b6b9a_row34_col6\" class=\"data row34 col6\" >1.000000</td>\n                        <td id=\"T_b6b9a_row34_col7\" class=\"data row34 col7\" >25.000000</td>\n            </tr>\n            <tr>\n                        <th id=\"T_b6b9a_level0_row35\" class=\"row_heading level0 row35\" >feature_35</th>\n                        <td id=\"T_b6b9a_row35_col0\" class=\"data row35 col0\" >100000.000000</td>\n                        <td id=\"T_b6b9a_row35_col1\" class=\"data row35 col1\" >0.908980</td>\n                        <td id=\"T_b6b9a_row35_col2\" class=\"data row35 col2\" >2.952305</td>\n                        <td id=\"T_b6b9a_row35_col3\" class=\"data row35 col3\" >-2.000000</td>\n                        <td id=\"T_b6b9a_row35_col4\" class=\"data row35 col4\" >0.000000</td>\n                        <td id=\"T_b6b9a_row35_col5\" class=\"data row35 col5\" >0.000000</td>\n                        <td id=\"T_b6b9a_row35_col6\" class=\"data row35 col6\" >0.000000</td>\n                        <td id=\"T_b6b9a_row35_col7\" class=\"data row35 col7\" >43.000000</td>\n            </tr>\n            <tr>\n                        <th id=\"T_b6b9a_level0_row36\" class=\"row_heading level0 row36\" >feature_36</th>\n                        <td id=\"T_b6b9a_row36_col0\" class=\"data row36 col0\" >100000.000000</td>\n                        <td id=\"T_b6b9a_row36_col1\" class=\"data row36 col1\" >0.116530</td>\n                        <td id=\"T_b6b9a_row36_col2\" class=\"data row36 col2\" >0.411014</td>\n                        <td id=\"T_b6b9a_row36_col3\" class=\"data row36 col3\" >0.000000</td>\n                        <td id=\"T_b6b9a_row36_col4\" class=\"data row36 col4\" >0.000000</td>\n                        <td id=\"T_b6b9a_row36_col5\" class=\"data row36 col5\" >0.000000</td>\n                        <td id=\"T_b6b9a_row36_col6\" class=\"data row36 col6\" >0.000000</td>\n                        <td id=\"T_b6b9a_row36_col7\" class=\"data row36 col7\" >3.000000</td>\n            </tr>\n            <tr>\n                        <th id=\"T_b6b9a_level0_row37\" class=\"row_heading level0 row37\" >feature_37</th>\n                        <td id=\"T_b6b9a_row37_col0\" class=\"data row37 col0\" >100000.000000</td>\n                        <td id=\"T_b6b9a_row37_col1\" class=\"data row37 col1\" >0.398310</td>\n                        <td id=\"T_b6b9a_row37_col2\" class=\"data row37 col2\" >1.095268</td>\n                        <td id=\"T_b6b9a_row37_col3\" class=\"data row37 col3\" >0.000000</td>\n                        <td id=\"T_b6b9a_row37_col4\" class=\"data row37 col4\" >0.000000</td>\n                        <td id=\"T_b6b9a_row37_col5\" class=\"data row37 col5\" >0.000000</td>\n                        <td id=\"T_b6b9a_row37_col6\" class=\"data row37 col6\" >0.000000</td>\n                        <td id=\"T_b6b9a_row37_col7\" class=\"data row37 col7\" >14.000000</td>\n            </tr>\n            <tr>\n                        <th id=\"T_b6b9a_level0_row38\" class=\"row_heading level0 row38\" >feature_38</th>\n                        <td id=\"T_b6b9a_row38_col0\" class=\"data row38 col0\" >100000.000000</td>\n                        <td id=\"T_b6b9a_row38_col1\" class=\"data row38 col1\" >2.997170</td>\n                        <td id=\"T_b6b9a_row38_col2\" class=\"data row38 col2\" >5.386551</td>\n                        <td id=\"T_b6b9a_row38_col3\" class=\"data row38 col3\" >-8.000000</td>\n                        <td id=\"T_b6b9a_row38_col4\" class=\"data row38 col4\" >0.000000</td>\n                        <td id=\"T_b6b9a_row38_col5\" class=\"data row38 col5\" >1.000000</td>\n                        <td id=\"T_b6b9a_row38_col6\" class=\"data row38 col6\" >4.000000</td>\n                        <td id=\"T_b6b9a_row38_col7\" class=\"data row38 col7\" >66.000000</td>\n            </tr>\n            <tr>\n                        <th id=\"T_b6b9a_level0_row39\" class=\"row_heading level0 row39\" >feature_39</th>\n                        <td id=\"T_b6b9a_row39_col0\" class=\"data row39 col0\" >100000.000000</td>\n                        <td id=\"T_b6b9a_row39_col1\" class=\"data row39 col1\" >0.674640</td>\n                        <td id=\"T_b6b9a_row39_col2\" class=\"data row39 col2\" >3.732428</td>\n                        <td id=\"T_b6b9a_row39_col3\" class=\"data row39 col3\" >-5.000000</td>\n                        <td id=\"T_b6b9a_row39_col4\" class=\"data row39 col4\" >0.000000</td>\n                        <td id=\"T_b6b9a_row39_col5\" class=\"data row39 col5\" >0.000000</td>\n                        <td id=\"T_b6b9a_row39_col6\" class=\"data row39 col6\" >0.000000</td>\n                        <td id=\"T_b6b9a_row39_col7\" class=\"data row39 col7\" >66.000000</td>\n            </tr>\n            <tr>\n                        <th id=\"T_b6b9a_level0_row40\" class=\"row_heading level0 row40\" >feature_40</th>\n                        <td id=\"T_b6b9a_row40_col0\" class=\"data row40 col0\" >100000.000000</td>\n                        <td id=\"T_b6b9a_row40_col1\" class=\"data row40 col1\" >0.712270</td>\n                        <td id=\"T_b6b9a_row40_col2\" class=\"data row40 col2\" >1.721863</td>\n                        <td id=\"T_b6b9a_row40_col3\" class=\"data row40 col3\" >0.000000</td>\n                        <td id=\"T_b6b9a_row40_col4\" class=\"data row40 col4\" >0.000000</td>\n                        <td id=\"T_b6b9a_row40_col5\" class=\"data row40 col5\" >0.000000</td>\n                        <td id=\"T_b6b9a_row40_col6\" class=\"data row40 col6\" >1.000000</td>\n                        <td id=\"T_b6b9a_row40_col7\" class=\"data row40 col7\" >21.000000</td>\n            </tr>\n            <tr>\n                        <th id=\"T_b6b9a_level0_row41\" class=\"row_heading level0 row41\" >feature_41</th>\n                        <td id=\"T_b6b9a_row41_col0\" class=\"data row41 col0\" >100000.000000</td>\n                        <td id=\"T_b6b9a_row41_col1\" class=\"data row41 col1\" >0.582070</td>\n                        <td id=\"T_b6b9a_row41_col2\" class=\"data row41 col2\" >2.003114</td>\n                        <td id=\"T_b6b9a_row41_col3\" class=\"data row41 col3\" >0.000000</td>\n                        <td id=\"T_b6b9a_row41_col4\" class=\"data row41 col4\" >0.000000</td>\n                        <td id=\"T_b6b9a_row41_col5\" class=\"data row41 col5\" >0.000000</td>\n                        <td id=\"T_b6b9a_row41_col6\" class=\"data row41 col6\" >0.000000</td>\n                        <td id=\"T_b6b9a_row41_col7\" class=\"data row41 col7\" >32.000000</td>\n            </tr>\n            <tr>\n                        <th id=\"T_b6b9a_level0_row42\" class=\"row_heading level0 row42\" >feature_42</th>\n                        <td id=\"T_b6b9a_row42_col0\" class=\"data row42 col0\" >100000.000000</td>\n                        <td id=\"T_b6b9a_row42_col1\" class=\"data row42 col1\" >0.529230</td>\n                        <td id=\"T_b6b9a_row42_col2\" class=\"data row42 col2\" >2.300826</td>\n                        <td id=\"T_b6b9a_row42_col3\" class=\"data row42 col3\" >-2.000000</td>\n                        <td id=\"T_b6b9a_row42_col4\" class=\"data row42 col4\" >0.000000</td>\n                        <td id=\"T_b6b9a_row42_col5\" class=\"data row42 col5\" >0.000000</td>\n                        <td id=\"T_b6b9a_row42_col6\" class=\"data row42 col6\" >0.000000</td>\n                        <td id=\"T_b6b9a_row42_col7\" class=\"data row42 col7\" >37.000000</td>\n            </tr>\n            <tr>\n                        <th id=\"T_b6b9a_level0_row43\" class=\"row_heading level0 row43\" >feature_43</th>\n                        <td id=\"T_b6b9a_row43_col0\" class=\"data row43 col0\" >100000.000000</td>\n                        <td id=\"T_b6b9a_row43_col1\" class=\"data row43 col1\" >0.616310</td>\n                        <td id=\"T_b6b9a_row43_col2\" class=\"data row43 col2\" >2.360955</td>\n                        <td id=\"T_b6b9a_row43_col3\" class=\"data row43 col3\" >0.000000</td>\n                        <td id=\"T_b6b9a_row43_col4\" class=\"data row43 col4\" >0.000000</td>\n                        <td id=\"T_b6b9a_row43_col5\" class=\"data row43 col5\" >0.000000</td>\n                        <td id=\"T_b6b9a_row43_col6\" class=\"data row43 col6\" >0.000000</td>\n                        <td id=\"T_b6b9a_row43_col7\" class=\"data row43 col7\" >33.000000</td>\n            </tr>\n            <tr>\n                        <th id=\"T_b6b9a_level0_row44\" class=\"row_heading level0 row44\" >feature_44</th>\n                        <td id=\"T_b6b9a_row44_col0\" class=\"data row44 col0\" >100000.000000</td>\n                        <td id=\"T_b6b9a_row44_col1\" class=\"data row44 col1\" >0.135100</td>\n                        <td id=\"T_b6b9a_row44_col2\" class=\"data row44 col2\" >0.627592</td>\n                        <td id=\"T_b6b9a_row44_col3\" class=\"data row44 col3\" >0.000000</td>\n                        <td id=\"T_b6b9a_row44_col4\" class=\"data row44 col4\" >0.000000</td>\n                        <td id=\"T_b6b9a_row44_col5\" class=\"data row44 col5\" >0.000000</td>\n                        <td id=\"T_b6b9a_row44_col6\" class=\"data row44 col6\" >0.000000</td>\n                        <td id=\"T_b6b9a_row44_col7\" class=\"data row44 col7\" >9.000000</td>\n            </tr>\n            <tr>\n                        <th id=\"T_b6b9a_level0_row45\" class=\"row_heading level0 row45\" >feature_45</th>\n                        <td id=\"T_b6b9a_row45_col0\" class=\"data row45 col0\" >100000.000000</td>\n                        <td id=\"T_b6b9a_row45_col1\" class=\"data row45 col1\" >0.358660</td>\n                        <td id=\"T_b6b9a_row45_col2\" class=\"data row45 col2\" >1.464187</td>\n                        <td id=\"T_b6b9a_row45_col3\" class=\"data row45 col3\" >0.000000</td>\n                        <td id=\"T_b6b9a_row45_col4\" class=\"data row45 col4\" >0.000000</td>\n                        <td id=\"T_b6b9a_row45_col5\" class=\"data row45 col5\" >0.000000</td>\n                        <td id=\"T_b6b9a_row45_col6\" class=\"data row45 col6\" >0.000000</td>\n                        <td id=\"T_b6b9a_row45_col7\" class=\"data row45 col7\" >26.000000</td>\n            </tr>\n            <tr>\n                        <th id=\"T_b6b9a_level0_row46\" class=\"row_heading level0 row46\" >feature_46</th>\n                        <td id=\"T_b6b9a_row46_col0\" class=\"data row46 col0\" >100000.000000</td>\n                        <td id=\"T_b6b9a_row46_col1\" class=\"data row46 col1\" >0.516810</td>\n                        <td id=\"T_b6b9a_row46_col2\" class=\"data row46 col2\" >2.171415</td>\n                        <td id=\"T_b6b9a_row46_col3\" class=\"data row46 col3\" >0.000000</td>\n                        <td id=\"T_b6b9a_row46_col4\" class=\"data row46 col4\" >0.000000</td>\n                        <td id=\"T_b6b9a_row46_col5\" class=\"data row46 col5\" >0.000000</td>\n                        <td id=\"T_b6b9a_row46_col6\" class=\"data row46 col6\" >0.000000</td>\n                        <td id=\"T_b6b9a_row46_col7\" class=\"data row46 col7\" >29.000000</td>\n            </tr>\n            <tr>\n                        <th id=\"T_b6b9a_level0_row47\" class=\"row_heading level0 row47\" >feature_47</th>\n                        <td id=\"T_b6b9a_row47_col0\" class=\"data row47 col0\" >100000.000000</td>\n                        <td id=\"T_b6b9a_row47_col1\" class=\"data row47 col1\" >0.390040</td>\n                        <td id=\"T_b6b9a_row47_col2\" class=\"data row47 col2\" >1.487350</td>\n                        <td id=\"T_b6b9a_row47_col3\" class=\"data row47 col3\" >0.000000</td>\n                        <td id=\"T_b6b9a_row47_col4\" class=\"data row47 col4\" >0.000000</td>\n                        <td id=\"T_b6b9a_row47_col5\" class=\"data row47 col5\" >0.000000</td>\n                        <td id=\"T_b6b9a_row47_col6\" class=\"data row47 col6\" >0.000000</td>\n                        <td id=\"T_b6b9a_row47_col7\" class=\"data row47 col7\" >25.000000</td>\n            </tr>\n            <tr>\n                        <th id=\"T_b6b9a_level0_row48\" class=\"row_heading level0 row48\" >feature_48</th>\n                        <td id=\"T_b6b9a_row48_col0\" class=\"data row48 col0\" >100000.000000</td>\n                        <td id=\"T_b6b9a_row48_col1\" class=\"data row48 col1\" >0.970850</td>\n                        <td id=\"T_b6b9a_row48_col2\" class=\"data row48 col2\" >2.576615</td>\n                        <td id=\"T_b6b9a_row48_col3\" class=\"data row48 col3\" >0.000000</td>\n                        <td id=\"T_b6b9a_row48_col4\" class=\"data row48 col4\" >0.000000</td>\n                        <td id=\"T_b6b9a_row48_col5\" class=\"data row48 col5\" >0.000000</td>\n                        <td id=\"T_b6b9a_row48_col6\" class=\"data row48 col6\" >1.000000</td>\n                        <td id=\"T_b6b9a_row48_col7\" class=\"data row48 col7\" >44.000000</td>\n            </tr>\n            <tr>\n                        <th id=\"T_b6b9a_level0_row49\" class=\"row_heading level0 row49\" >feature_49</th>\n                        <td id=\"T_b6b9a_row49_col0\" class=\"data row49 col0\" >100000.000000</td>\n                        <td id=\"T_b6b9a_row49_col1\" class=\"data row49 col1\" >0.557120</td>\n                        <td id=\"T_b6b9a_row49_col2\" class=\"data row49 col2\" >1.680930</td>\n                        <td id=\"T_b6b9a_row49_col3\" class=\"data row49 col3\" >0.000000</td>\n                        <td id=\"T_b6b9a_row49_col4\" class=\"data row49 col4\" >0.000000</td>\n                        <td id=\"T_b6b9a_row49_col5\" class=\"data row49 col5\" >0.000000</td>\n                        <td id=\"T_b6b9a_row49_col6\" class=\"data row49 col6\" >0.000000</td>\n                        <td id=\"T_b6b9a_row49_col7\" class=\"data row49 col7\" >20.000000</td>\n            </tr>\n    </tbody></table>"
     },
     "metadata": {},
     "execution_count": 7
    }
   ],
   "source": [
    "data_train.describe().T.style.bar(subset=['mean', 'std'], color='#d65f5f')"
   ]
  },
  {
   "source": [
    "<h3>Target Distribution"
   ],
   "cell_type": "markdown",
   "metadata": {}
  },
  {
   "cell_type": "code",
   "execution_count": 8,
   "metadata": {},
   "outputs": [
    {
     "output_type": "display_data",
     "data": {
      "application/vnd.plotly.v1+json": {
       "config": {
        "plotlyServerURL": "https://plot.ly"
       },
       "data": [
        {
         "type": "bar",
         "x": [
          "Class_2",
          "Class_3",
          "Class_4",
          "Class_1"
         ],
         "y": [
          57497,
          21420,
          12593,
          8490
         ]
        }
       ],
       "layout": {
        "template": {
         "data": {
          "bar": [
           {
            "error_x": {
             "color": "#f2f5fa"
            },
            "error_y": {
             "color": "#f2f5fa"
            },
            "marker": {
             "line": {
              "color": "rgb(17,17,17)",
              "width": 0.5
             }
            },
            "type": "bar"
           }
          ],
          "barpolar": [
           {
            "marker": {
             "line": {
              "color": "rgb(17,17,17)",
              "width": 0.5
             }
            },
            "type": "barpolar"
           }
          ],
          "carpet": [
           {
            "aaxis": {
             "endlinecolor": "#A2B1C6",
             "gridcolor": "#506784",
             "linecolor": "#506784",
             "minorgridcolor": "#506784",
             "startlinecolor": "#A2B1C6"
            },
            "baxis": {
             "endlinecolor": "#A2B1C6",
             "gridcolor": "#506784",
             "linecolor": "#506784",
             "minorgridcolor": "#506784",
             "startlinecolor": "#A2B1C6"
            },
            "type": "carpet"
           }
          ],
          "choropleth": [
           {
            "colorbar": {
             "outlinewidth": 0,
             "ticks": ""
            },
            "type": "choropleth"
           }
          ],
          "contour": [
           {
            "colorbar": {
             "outlinewidth": 0,
             "ticks": ""
            },
            "colorscale": [
             [
              0,
              "#0d0887"
             ],
             [
              0.1111111111111111,
              "#46039f"
             ],
             [
              0.2222222222222222,
              "#7201a8"
             ],
             [
              0.3333333333333333,
              "#9c179e"
             ],
             [
              0.4444444444444444,
              "#bd3786"
             ],
             [
              0.5555555555555556,
              "#d8576b"
             ],
             [
              0.6666666666666666,
              "#ed7953"
             ],
             [
              0.7777777777777778,
              "#fb9f3a"
             ],
             [
              0.8888888888888888,
              "#fdca26"
             ],
             [
              1,
              "#f0f921"
             ]
            ],
            "type": "contour"
           }
          ],
          "contourcarpet": [
           {
            "colorbar": {
             "outlinewidth": 0,
             "ticks": ""
            },
            "type": "contourcarpet"
           }
          ],
          "heatmap": [
           {
            "colorbar": {
             "outlinewidth": 0,
             "ticks": ""
            },
            "colorscale": [
             [
              0,
              "#0d0887"
             ],
             [
              0.1111111111111111,
              "#46039f"
             ],
             [
              0.2222222222222222,
              "#7201a8"
             ],
             [
              0.3333333333333333,
              "#9c179e"
             ],
             [
              0.4444444444444444,
              "#bd3786"
             ],
             [
              0.5555555555555556,
              "#d8576b"
             ],
             [
              0.6666666666666666,
              "#ed7953"
             ],
             [
              0.7777777777777778,
              "#fb9f3a"
             ],
             [
              0.8888888888888888,
              "#fdca26"
             ],
             [
              1,
              "#f0f921"
             ]
            ],
            "type": "heatmap"
           }
          ],
          "heatmapgl": [
           {
            "colorbar": {
             "outlinewidth": 0,
             "ticks": ""
            },
            "colorscale": [
             [
              0,
              "#0d0887"
             ],
             [
              0.1111111111111111,
              "#46039f"
             ],
             [
              0.2222222222222222,
              "#7201a8"
             ],
             [
              0.3333333333333333,
              "#9c179e"
             ],
             [
              0.4444444444444444,
              "#bd3786"
             ],
             [
              0.5555555555555556,
              "#d8576b"
             ],
             [
              0.6666666666666666,
              "#ed7953"
             ],
             [
              0.7777777777777778,
              "#fb9f3a"
             ],
             [
              0.8888888888888888,
              "#fdca26"
             ],
             [
              1,
              "#f0f921"
             ]
            ],
            "type": "heatmapgl"
           }
          ],
          "histogram": [
           {
            "marker": {
             "colorbar": {
              "outlinewidth": 0,
              "ticks": ""
             }
            },
            "type": "histogram"
           }
          ],
          "histogram2d": [
           {
            "colorbar": {
             "outlinewidth": 0,
             "ticks": ""
            },
            "colorscale": [
             [
              0,
              "#0d0887"
             ],
             [
              0.1111111111111111,
              "#46039f"
             ],
             [
              0.2222222222222222,
              "#7201a8"
             ],
             [
              0.3333333333333333,
              "#9c179e"
             ],
             [
              0.4444444444444444,
              "#bd3786"
             ],
             [
              0.5555555555555556,
              "#d8576b"
             ],
             [
              0.6666666666666666,
              "#ed7953"
             ],
             [
              0.7777777777777778,
              "#fb9f3a"
             ],
             [
              0.8888888888888888,
              "#fdca26"
             ],
             [
              1,
              "#f0f921"
             ]
            ],
            "type": "histogram2d"
           }
          ],
          "histogram2dcontour": [
           {
            "colorbar": {
             "outlinewidth": 0,
             "ticks": ""
            },
            "colorscale": [
             [
              0,
              "#0d0887"
             ],
             [
              0.1111111111111111,
              "#46039f"
             ],
             [
              0.2222222222222222,
              "#7201a8"
             ],
             [
              0.3333333333333333,
              "#9c179e"
             ],
             [
              0.4444444444444444,
              "#bd3786"
             ],
             [
              0.5555555555555556,
              "#d8576b"
             ],
             [
              0.6666666666666666,
              "#ed7953"
             ],
             [
              0.7777777777777778,
              "#fb9f3a"
             ],
             [
              0.8888888888888888,
              "#fdca26"
             ],
             [
              1,
              "#f0f921"
             ]
            ],
            "type": "histogram2dcontour"
           }
          ],
          "mesh3d": [
           {
            "colorbar": {
             "outlinewidth": 0,
             "ticks": ""
            },
            "type": "mesh3d"
           }
          ],
          "parcoords": [
           {
            "line": {
             "colorbar": {
              "outlinewidth": 0,
              "ticks": ""
             }
            },
            "type": "parcoords"
           }
          ],
          "pie": [
           {
            "automargin": true,
            "type": "pie"
           }
          ],
          "scatter": [
           {
            "marker": {
             "line": {
              "color": "#283442"
             }
            },
            "type": "scatter"
           }
          ],
          "scatter3d": [
           {
            "line": {
             "colorbar": {
              "outlinewidth": 0,
              "ticks": ""
             }
            },
            "marker": {
             "colorbar": {
              "outlinewidth": 0,
              "ticks": ""
             }
            },
            "type": "scatter3d"
           }
          ],
          "scattercarpet": [
           {
            "marker": {
             "colorbar": {
              "outlinewidth": 0,
              "ticks": ""
             }
            },
            "type": "scattercarpet"
           }
          ],
          "scattergeo": [
           {
            "marker": {
             "colorbar": {
              "outlinewidth": 0,
              "ticks": ""
             }
            },
            "type": "scattergeo"
           }
          ],
          "scattergl": [
           {
            "marker": {
             "line": {
              "color": "#283442"
             }
            },
            "type": "scattergl"
           }
          ],
          "scattermapbox": [
           {
            "marker": {
             "colorbar": {
              "outlinewidth": 0,
              "ticks": ""
             }
            },
            "type": "scattermapbox"
           }
          ],
          "scatterpolar": [
           {
            "marker": {
             "colorbar": {
              "outlinewidth": 0,
              "ticks": ""
             }
            },
            "type": "scatterpolar"
           }
          ],
          "scatterpolargl": [
           {
            "marker": {
             "colorbar": {
              "outlinewidth": 0,
              "ticks": ""
             }
            },
            "type": "scatterpolargl"
           }
          ],
          "scatterternary": [
           {
            "marker": {
             "colorbar": {
              "outlinewidth": 0,
              "ticks": ""
             }
            },
            "type": "scatterternary"
           }
          ],
          "surface": [
           {
            "colorbar": {
             "outlinewidth": 0,
             "ticks": ""
            },
            "colorscale": [
             [
              0,
              "#0d0887"
             ],
             [
              0.1111111111111111,
              "#46039f"
             ],
             [
              0.2222222222222222,
              "#7201a8"
             ],
             [
              0.3333333333333333,
              "#9c179e"
             ],
             [
              0.4444444444444444,
              "#bd3786"
             ],
             [
              0.5555555555555556,
              "#d8576b"
             ],
             [
              0.6666666666666666,
              "#ed7953"
             ],
             [
              0.7777777777777778,
              "#fb9f3a"
             ],
             [
              0.8888888888888888,
              "#fdca26"
             ],
             [
              1,
              "#f0f921"
             ]
            ],
            "type": "surface"
           }
          ],
          "table": [
           {
            "cells": {
             "fill": {
              "color": "#506784"
             },
             "line": {
              "color": "rgb(17,17,17)"
             }
            },
            "header": {
             "fill": {
              "color": "#2a3f5f"
             },
             "line": {
              "color": "rgb(17,17,17)"
             }
            },
            "type": "table"
           }
          ]
         },
         "layout": {
          "annotationdefaults": {
           "arrowcolor": "#f2f5fa",
           "arrowhead": 0,
           "arrowwidth": 1
          },
          "autotypenumbers": "strict",
          "coloraxis": {
           "colorbar": {
            "outlinewidth": 0,
            "ticks": ""
           }
          },
          "colorscale": {
           "diverging": [
            [
             0,
             "#8e0152"
            ],
            [
             0.1,
             "#c51b7d"
            ],
            [
             0.2,
             "#de77ae"
            ],
            [
             0.3,
             "#f1b6da"
            ],
            [
             0.4,
             "#fde0ef"
            ],
            [
             0.5,
             "#f7f7f7"
            ],
            [
             0.6,
             "#e6f5d0"
            ],
            [
             0.7,
             "#b8e186"
            ],
            [
             0.8,
             "#7fbc41"
            ],
            [
             0.9,
             "#4d9221"
            ],
            [
             1,
             "#276419"
            ]
           ],
           "sequential": [
            [
             0,
             "#0d0887"
            ],
            [
             0.1111111111111111,
             "#46039f"
            ],
            [
             0.2222222222222222,
             "#7201a8"
            ],
            [
             0.3333333333333333,
             "#9c179e"
            ],
            [
             0.4444444444444444,
             "#bd3786"
            ],
            [
             0.5555555555555556,
             "#d8576b"
            ],
            [
             0.6666666666666666,
             "#ed7953"
            ],
            [
             0.7777777777777778,
             "#fb9f3a"
            ],
            [
             0.8888888888888888,
             "#fdca26"
            ],
            [
             1,
             "#f0f921"
            ]
           ],
           "sequentialminus": [
            [
             0,
             "#0d0887"
            ],
            [
             0.1111111111111111,
             "#46039f"
            ],
            [
             0.2222222222222222,
             "#7201a8"
            ],
            [
             0.3333333333333333,
             "#9c179e"
            ],
            [
             0.4444444444444444,
             "#bd3786"
            ],
            [
             0.5555555555555556,
             "#d8576b"
            ],
            [
             0.6666666666666666,
             "#ed7953"
            ],
            [
             0.7777777777777778,
             "#fb9f3a"
            ],
            [
             0.8888888888888888,
             "#fdca26"
            ],
            [
             1,
             "#f0f921"
            ]
           ]
          },
          "colorway": [
           "#636efa",
           "#EF553B",
           "#00cc96",
           "#ab63fa",
           "#FFA15A",
           "#19d3f3",
           "#FF6692",
           "#B6E880",
           "#FF97FF",
           "#FECB52"
          ],
          "font": {
           "color": "#f2f5fa"
          },
          "geo": {
           "bgcolor": "rgb(17,17,17)",
           "lakecolor": "rgb(17,17,17)",
           "landcolor": "rgb(17,17,17)",
           "showlakes": true,
           "showland": true,
           "subunitcolor": "#506784"
          },
          "hoverlabel": {
           "align": "left"
          },
          "hovermode": "closest",
          "mapbox": {
           "style": "dark"
          },
          "paper_bgcolor": "rgb(17,17,17)",
          "plot_bgcolor": "rgb(17,17,17)",
          "polar": {
           "angularaxis": {
            "gridcolor": "#506784",
            "linecolor": "#506784",
            "ticks": ""
           },
           "bgcolor": "rgb(17,17,17)",
           "radialaxis": {
            "gridcolor": "#506784",
            "linecolor": "#506784",
            "ticks": ""
           }
          },
          "scene": {
           "xaxis": {
            "backgroundcolor": "rgb(17,17,17)",
            "gridcolor": "#506784",
            "gridwidth": 2,
            "linecolor": "#506784",
            "showbackground": true,
            "ticks": "",
            "zerolinecolor": "#C8D4E3"
           },
           "yaxis": {
            "backgroundcolor": "rgb(17,17,17)",
            "gridcolor": "#506784",
            "gridwidth": 2,
            "linecolor": "#506784",
            "showbackground": true,
            "ticks": "",
            "zerolinecolor": "#C8D4E3"
           },
           "zaxis": {
            "backgroundcolor": "rgb(17,17,17)",
            "gridcolor": "#506784",
            "gridwidth": 2,
            "linecolor": "#506784",
            "showbackground": true,
            "ticks": "",
            "zerolinecolor": "#C8D4E3"
           }
          },
          "shapedefaults": {
           "line": {
            "color": "#f2f5fa"
           }
          },
          "sliderdefaults": {
           "bgcolor": "#C8D4E3",
           "bordercolor": "rgb(17,17,17)",
           "borderwidth": 1,
           "tickwidth": 0
          },
          "ternary": {
           "aaxis": {
            "gridcolor": "#506784",
            "linecolor": "#506784",
            "ticks": ""
           },
           "baxis": {
            "gridcolor": "#506784",
            "linecolor": "#506784",
            "ticks": ""
           },
           "bgcolor": "rgb(17,17,17)",
           "caxis": {
            "gridcolor": "#506784",
            "linecolor": "#506784",
            "ticks": ""
           }
          },
          "title": {
           "x": 0.05
          },
          "updatemenudefaults": {
           "bgcolor": "#506784",
           "borderwidth": 0
          },
          "xaxis": {
           "automargin": true,
           "gridcolor": "#283442",
           "linecolor": "#506784",
           "ticks": "",
           "title": {
            "standoff": 15
           },
           "zerolinecolor": "#283442",
           "zerolinewidth": 2
          },
          "yaxis": {
           "automargin": true,
           "gridcolor": "#283442",
           "linecolor": "#506784",
           "ticks": "",
           "title": {
            "standoff": 15
           },
           "zerolinecolor": "#283442",
           "zerolinewidth": 2
          }
         }
        },
        "title": {
         "text": "Target Distribution"
        }
       }
      }
     },
     "metadata": {}
    }
   ],
   "source": [
    "fig = go.Figure()\n",
    "\n",
    "to_plot = data_train.value_counts('target')\n",
    "\n",
    "fig.add_trace(go.Bar(\n",
    "    x = to_plot.index,\n",
    "    y = to_plot.values\n",
    "))\n",
    "\n",
    "fig.update_layout(\n",
    "    template='plotly_dark',\n",
    "    title_text = 'Target Distribution'\n",
    ")"
   ]
  },
  {
   "source": [
    "Unfortunately we have huge disbalance in our target variable. We will do something with this if it's gona be a problem later"
   ],
   "cell_type": "markdown",
   "metadata": {}
  },
  {
   "source": [
    "<h3>Features Distribution</h3>"
   ],
   "cell_type": "markdown",
   "metadata": {}
  },
  {
   "cell_type": "code",
   "execution_count": 61,
   "metadata": {},
   "outputs": [
    {
     "output_type": "display_data",
     "data": {
      "application/vnd.plotly.v1+json": {
       "config": {
        "plotlyServerURL": "https://plot.ly"
       },
       "data": [
        {
         "name": "feature_0",
         "type": "scatter",
         "x": [
          0,
          1,
          2,
          3,
          4,
          5,
          6,
          7,
          8,
          9,
          10
         ],
         "xaxis": "x",
         "y": [
          88473,
          5632,
          2536,
          1292,
          760,
          545,
          291,
          199,
          170,
          81,
          21
         ],
         "yaxis": "y"
        },
        {
         "name": "feature_1",
         "type": "scatter",
         "x": [
          0,
          1,
          2,
          3,
          4,
          5,
          6,
          7,
          8,
          9,
          10,
          11,
          13,
          12,
          14,
          15,
          16,
          17,
          18,
          19,
          21,
          20,
          22,
          23,
          25,
          24,
          27,
          26,
          28,
          29,
          31
         ],
         "xaxis": "x2",
         "y": [
          89014,
          4924,
          1838,
          783,
          501,
          369,
          359,
          333,
          328,
          261,
          214,
          162,
          145,
          122,
          113,
          98,
          89,
          70,
          47,
          42,
          37,
          32,
          25,
          24,
          17,
          16,
          13,
          12,
          6,
          5,
          1
         ],
         "yaxis": "y2"
        },
        {
         "name": "feature_2",
         "type": "scatter",
         "x": [
          0,
          1,
          2,
          3,
          4,
          5,
          6
         ],
         "xaxis": "x3",
         "y": [
          93492,
          3889,
          1306,
          610,
          442,
          252,
          9
         ],
         "yaxis": "y3"
        },
        {
         "name": "feature_3",
         "type": "scatter",
         "x": [
          0,
          1,
          2,
          3,
          4,
          5,
          6,
          7,
          8,
          9,
          10,
          11,
          12,
          13,
          14,
          16,
          15,
          17,
          18,
          19,
          20,
          22,
          21,
          24,
          23,
          26
         ],
         "xaxis": "x4",
         "y": [
          78107,
          10882,
          4664,
          2144,
          1076,
          648,
          557,
          372,
          253,
          226,
          207,
          162,
          124,
          95,
          87,
          76,
          75,
          63,
          44,
          42,
          33,
          24,
          17,
          10,
          9,
          3
         ],
         "yaxis": "y4"
        },
        {
         "name": "feature_4",
         "type": "scatter",
         "x": [
          0,
          1,
          2,
          3,
          4,
          13,
          14,
          15,
          12,
          16,
          11,
          17,
          5,
          10,
          6,
          18,
          7,
          9,
          8,
          19,
          20,
          21,
          23,
          22,
          25,
          24,
          27,
          26,
          28,
          30,
          29,
          31,
          33,
          32,
          34,
          38,
          35,
          37
         ],
         "xaxis": "x5",
         "y": [
          88381,
          5261,
          1798,
          781,
          459,
          255,
          227,
          224,
          213,
          211,
          205,
          192,
          185,
          168,
          160,
          159,
          153,
          150,
          147,
          123,
          91,
          86,
          60,
          58,
          40,
          39,
          36,
          31,
          25,
          16,
          16,
          15,
          15,
          8,
          8,
          2,
          1,
          1
         ],
         "yaxis": "y5"
        },
        {
         "name": "feature_5",
         "type": "scatter",
         "x": [
          0,
          1,
          2,
          3,
          4,
          5,
          6,
          7,
          8,
          9,
          10
         ],
         "xaxis": "x6",
         "y": [
          90247,
          5915,
          2495,
          877,
          171,
          104,
          68,
          64,
          46,
          12,
          1
         ],
         "yaxis": "y6"
        },
        {
         "name": "feature_6",
         "type": "scatter",
         "x": [
          0,
          1,
          2,
          7,
          3,
          6,
          8,
          9,
          4,
          5,
          10,
          11,
          12,
          13,
          16,
          14,
          15,
          17,
          18,
          19,
          20,
          21,
          22,
          23,
          24,
          25,
          26,
          27
         ],
         "xaxis": "x7",
         "y": [
          80875,
          9102,
          2467,
          1071,
          998,
          897,
          823,
          750,
          612,
          556,
          449,
          331,
          254,
          172,
          93,
          93,
          89,
          82,
          71,
          65,
          54,
          33,
          29,
          16,
          7,
          5,
          3,
          3
         ],
         "yaxis": "y7"
        },
        {
         "name": "feature_7",
         "type": "scatter",
         "x": [
          0,
          1,
          2,
          3,
          4,
          5,
          6,
          7,
          8,
          9,
          10,
          11,
          12,
          13,
          14,
          15,
          17,
          16,
          18,
          19,
          20,
          21,
          22,
          23,
          24,
          25,
          27,
          26,
          28,
          29,
          30,
          31
         ],
         "xaxis": "x8",
         "y": [
          65560,
          12407,
          6169,
          4297,
          2866,
          2028,
          1465,
          1077,
          969,
          656,
          524,
          435,
          337,
          251,
          222,
          157,
          128,
          127,
          86,
          58,
          52,
          43,
          24,
          17,
          16,
          10,
          8,
          6,
          2,
          1,
          1,
          1
         ],
         "yaxis": "y8"
        },
        {
         "name": "feature_8",
         "type": "scatter",
         "x": [
          0,
          1,
          2,
          3,
          4,
          5,
          6,
          7,
          8,
          18,
          19,
          15,
          14,
          20,
          16,
          13,
          17,
          12,
          21,
          9,
          23,
          22,
          24,
          11,
          10,
          25,
          27,
          26,
          28,
          29,
          30,
          31,
          32,
          33,
          36,
          34,
          39
         ],
         "xaxis": "x9",
         "y": [
          80046,
          9156,
          3905,
          1840,
          748,
          332,
          300,
          282,
          211,
          206,
          194,
          192,
          189,
          189,
          188,
          175,
          172,
          171,
          163,
          159,
          154,
          147,
          145,
          139,
          123,
          116,
          94,
          93,
          60,
          38,
          31,
          25,
          10,
          3,
          2,
          1,
          1
         ],
         "yaxis": "y9"
        },
        {
         "name": "feature_9",
         "type": "scatter",
         "x": [
          0,
          1,
          2,
          3,
          4,
          5,
          6,
          7,
          8,
          9,
          10,
          11,
          12,
          13,
          14,
          15,
          16,
          17
         ],
         "xaxis": "x10",
         "y": [
          66927,
          12735,
          6643,
          4557,
          3011,
          2213,
          1333,
          769,
          588,
          345,
          288,
          235,
          184,
          90,
          58,
          20,
          2,
          2
         ],
         "yaxis": "y10"
        },
        {
         "name": "feature_10",
         "type": "scatter",
         "x": [
          0,
          1,
          2,
          3,
          4,
          5,
          6,
          7,
          8,
          9,
          10,
          11,
          12,
          13,
          14,
          15,
          16
         ],
         "xaxis": "x11",
         "y": [
          86390,
          7177,
          2722,
          1394,
          734,
          442,
          264,
          224,
          188,
          168,
          147,
          73,
          40,
          24,
          10,
          2,
          1
         ],
         "yaxis": "y11"
        },
        {
         "name": "feature_11",
         "type": "scatter",
         "x": [
          0,
          1,
          2,
          3,
          4,
          5,
          6,
          7,
          8,
          9,
          10,
          11,
          12
         ],
         "xaxis": "x12",
         "y": [
          78382,
          12797,
          4091,
          2206,
          1232,
          577,
          338,
          201,
          88,
          64,
          15,
          8,
          1
         ],
         "yaxis": "y12"
        },
        {
         "name": "feature_12",
         "type": "scatter",
         "x": [
          0,
          1,
          2,
          3,
          4,
          5,
          6,
          7,
          8,
          9,
          10,
          11
         ],
         "xaxis": "x13",
         "y": [
          77414,
          12033,
          4563,
          2758,
          1514,
          723,
          430,
          253,
          166,
          103,
          36,
          7
         ],
         "yaxis": "y13"
        },
        {
         "name": "feature_13",
         "type": "scatter",
         "x": [
          0,
          1,
          2,
          3
         ],
         "xaxis": "x14",
         "y": [
          94912,
          3082,
          1535,
          471
         ],
         "yaxis": "y14"
        },
        {
         "name": "feature_14",
         "type": "scatter",
         "x": [
          0,
          1,
          2,
          3,
          4,
          5,
          6,
          7,
          8,
          9,
          10,
          11,
          12,
          13,
          14,
          15,
          16,
          17,
          18,
          21,
          19,
          22,
          23,
          20,
          24,
          26,
          25,
          27,
          29,
          28,
          30,
          31,
          34,
          32,
          33,
          37,
          35,
          39,
          36,
          38,
          40,
          41,
          42,
          45,
          43,
          44,
          47,
          46,
          48,
          49,
          50,
          51
         ],
         "xaxis": "x15",
         "y": [
          41753,
          16663,
          11870,
          7078,
          5891,
          3480,
          2189,
          1963,
          1601,
          1221,
          921,
          708,
          622,
          577,
          465,
          396,
          266,
          229,
          218,
          179,
          175,
          162,
          161,
          158,
          121,
          113,
          92,
          82,
          74,
          73,
          59,
          52,
          43,
          39,
          38,
          35,
          34,
          30,
          29,
          28,
          23,
          19,
          18,
          14,
          13,
          8,
          5,
          4,
          3,
          3,
          1,
          1
         ],
         "yaxis": "y15"
        },
        {
         "name": "feature_15",
         "type": "scatter",
         "x": [
          0,
          1,
          2,
          3,
          4,
          5,
          6,
          7,
          9,
          8,
          10,
          11,
          13,
          12,
          14,
          15,
          16,
          17,
          18,
          19,
          20
         ],
         "xaxis": "x16",
         "y": [
          52996,
          21370,
          9654,
          4913,
          3783,
          2559,
          1322,
          917,
          541,
          530,
          432,
          297,
          153,
          132,
          122,
          97,
          77,
          62,
          28,
          14,
          1
         ],
         "yaxis": "y16"
        },
        {
         "name": "feature_16",
         "type": "scatter",
         "x": [
          0,
          1,
          2,
          3,
          4,
          5,
          6,
          7,
          8,
          9,
          10,
          11,
          12,
          13,
          14,
          15,
          16,
          17,
          18,
          19
         ],
         "xaxis": "x17",
         "y": [
          85681,
          6703,
          3126,
          1595,
          907,
          567,
          377,
          243,
          205,
          160,
          110,
          100,
          79,
          55,
          42,
          27,
          14,
          6,
          2,
          1
         ],
         "yaxis": "y17"
        },
        {
         "name": "feature_17",
         "type": "scatter",
         "x": [
          0,
          1,
          2,
          3,
          4,
          6,
          5,
          7,
          8,
          9,
          10,
          11,
          12,
          13,
          14,
          15,
          16
         ],
         "xaxis": "x18",
         "y": [
          75778,
          9197,
          4806,
          2893,
          1844,
          1336,
          1199,
          1149,
          709,
          395,
          235,
          195,
          137,
          73,
          46,
          5,
          3
         ],
         "yaxis": "y18"
        },
        {
         "name": "feature_18",
         "type": "scatter",
         "x": [
          0,
          1,
          2,
          3,
          4,
          5,
          6,
          7,
          8,
          9,
          10,
          11,
          12,
          13
         ],
         "xaxis": "x19",
         "y": [
          75009,
          13971,
          5991,
          2364,
          1293,
          581,
          292,
          201,
          83,
          80,
          65,
          43,
          17,
          10
         ],
         "yaxis": "y19"
        },
        {
         "name": "feature_19",
         "type": "scatter",
         "x": [
          0,
          1,
          2,
          3,
          4,
          6,
          5,
          7,
          8,
          10,
          9,
          11,
          12,
          13,
          14,
          15,
          16,
          17,
          18,
          19,
          20,
          21,
          22,
          23,
          24,
          25,
          28,
          26,
          27,
          29,
          31,
          30,
          32,
          33,
          34,
          35,
          36,
          37,
          38,
          40,
          42,
          41,
          39,
          46,
          49,
          45,
          44,
          43,
          50,
          52,
          53,
          51,
          47,
          48,
          54,
          55,
          -2,
          -1
         ],
         "xaxis": "x20",
         "y": [
          74665,
          10745,
          2814,
          1192,
          831,
          820,
          797,
          723,
          677,
          676,
          614,
          584,
          547,
          523,
          430,
          388,
          321,
          285,
          265,
          223,
          195,
          183,
          175,
          155,
          139,
          128,
          118,
          115,
          80,
          78,
          70,
          66,
          53,
          50,
          37,
          28,
          23,
          22,
          22,
          17,
          17,
          16,
          15,
          9,
          9,
          8,
          7,
          7,
          6,
          6,
          6,
          5,
          4,
          3,
          3,
          3,
          1,
          1
         ],
         "yaxis": "y20"
        },
        {
         "name": "feature_20",
         "type": "scatter",
         "x": [
          0,
          1,
          2,
          3,
          4,
          5,
          6,
          7,
          8,
          9,
          10,
          11,
          12,
          13,
          14,
          15,
          16,
          17
         ],
         "xaxis": "x21",
         "y": [
          88182,
          6794,
          2366,
          1084,
          526,
          312,
          238,
          158,
          103,
          85,
          58,
          39,
          27,
          12,
          9,
          4,
          2,
          1
         ],
         "yaxis": "y21"
        },
        {
         "name": "feature_21",
         "type": "scatter",
         "x": [
          0,
          1,
          2,
          3,
          4,
          5,
          6,
          7,
          8,
          9,
          10,
          11,
          12,
          13,
          14,
          15,
          16,
          17,
          19,
          18,
          20,
          21,
          22,
          23,
          24,
          29,
          26,
          25,
          30,
          33,
          28,
          27,
          32,
          35,
          34,
          36
         ],
         "xaxis": "x22",
         "y": [
          79272,
          9410,
          4141,
          2098,
          1206,
          750,
          507,
          434,
          376,
          352,
          255,
          212,
          140,
          118,
          106,
          102,
          99,
          73,
          69,
          67,
          65,
          35,
          28,
          21,
          14,
          12,
          7,
          6,
          5,
          5,
          4,
          3,
          3,
          3,
          1,
          1
         ],
         "yaxis": "y22"
        },
        {
         "name": "feature_22",
         "type": "scatter",
         "x": [
          0,
          1,
          2,
          3,
          4
         ],
         "xaxis": "x23",
         "y": [
          87150,
          9028,
          2401,
          1040,
          381
         ],
         "yaxis": "y23"
        },
        {
         "name": "feature_23",
         "type": "scatter",
         "x": [
          0,
          1,
          2,
          3,
          4,
          5,
          6,
          7,
          8,
          9,
          10,
          12,
          11,
          13,
          14,
          15,
          16,
          17,
          19,
          18
         ],
         "xaxis": "x24",
         "y": [
          83021,
          8480,
          3767,
          1959,
          957,
          593,
          374,
          252,
          166,
          127,
          101,
          49,
          48,
          40,
          30,
          16,
          10,
          7,
          2,
          1
         ],
         "yaxis": "y24"
        },
        {
         "name": "feature_24",
         "type": "scatter",
         "x": [
          0,
          1,
          2,
          3,
          4,
          5,
          6,
          7,
          8,
          9,
          10,
          11,
          12,
          13,
          14,
          15,
          16,
          17,
          18,
          20,
          19,
          21,
          22,
          23,
          25,
          24,
          27,
          26,
          28,
          29,
          30,
          31,
          33,
          32,
          34
         ],
         "xaxis": "x25",
         "y": [
          67716,
          13037,
          6538,
          3983,
          2578,
          1594,
          949,
          648,
          506,
          391,
          316,
          267,
          227,
          208,
          187,
          168,
          138,
          118,
          105,
          72,
          69,
          47,
          40,
          29,
          17,
          15,
          12,
          11,
          3,
          3,
          2,
          2,
          2,
          1,
          1
         ],
         "yaxis": "y25"
        },
        {
         "name": "feature_25",
         "type": "scatter",
         "x": [
          0,
          1,
          2,
          3,
          4,
          5,
          6,
          7,
          8,
          9,
          10,
          11,
          12,
          13,
          14,
          15,
          16,
          17,
          18,
          19,
          20,
          21,
          23
         ],
         "xaxis": "x26",
         "y": [
          81226,
          10893,
          3669,
          1572,
          846,
          456,
          338,
          192,
          173,
          149,
          134,
          98,
          70,
          37,
          34,
          30,
          21,
          18,
          15,
          14,
          9,
          3,
          3
         ],
         "yaxis": "y26"
        },
        {
         "name": "feature_26",
         "type": "scatter",
         "x": [
          0,
          1,
          2,
          3,
          4,
          5,
          6,
          7,
          8,
          9,
          11,
          10,
          12,
          13,
          14,
          15,
          16,
          18,
          17,
          19,
          20,
          21
         ],
         "xaxis": "x27",
         "y": [
          88161,
          5792,
          2164,
          1044,
          667,
          381,
          318,
          265,
          228,
          161,
          156,
          138,
          138,
          118,
          80,
          69,
          50,
          29,
          26,
          12,
          2,
          1
         ],
         "yaxis": "y27"
        },
        {
         "name": "feature_27",
         "type": "scatter",
         "x": [
          0,
          1,
          2,
          3,
          4,
          5,
          7,
          6,
          8,
          10,
          11,
          9,
          13,
          12,
          14,
          15,
          16,
          17,
          19,
          20,
          18,
          25,
          21,
          24,
          22,
          23,
          27,
          26,
          29,
          30,
          31,
          28
         ],
         "xaxis": "x28",
         "y": [
          91241,
          4509,
          1230,
          605,
          447,
          309,
          261,
          256,
          193,
          133,
          132,
          120,
          97,
          90,
          64,
          54,
          47,
          46,
          30,
          30,
          26,
          15,
          14,
          10,
          9,
          8,
          7,
          6,
          4,
          3,
          3,
          1
         ],
         "yaxis": "y28"
        },
        {
         "name": "feature_28",
         "type": "scatter",
         "x": [
          0,
          1,
          2,
          3,
          4,
          5,
          6,
          7,
          8,
          9,
          10,
          11,
          12,
          13,
          14,
          15,
          16,
          17,
          18,
          19,
          20,
          21,
          22,
          23
         ],
         "xaxis": "x29",
         "y": [
          56269,
          18193,
          10418,
          5354,
          3630,
          2619,
          1312,
          704,
          540,
          320,
          200,
          128,
          88,
          66,
          43,
          31,
          25,
          18,
          17,
          12,
          6,
          4,
          2,
          1
         ],
         "yaxis": "y29"
        },
        {
         "name": "feature_29",
         "type": "scatter",
         "x": [
          0,
          1,
          2,
          3,
          4,
          5,
          6,
          7,
          8,
          9,
          10,
          11,
          12,
          13
         ],
         "xaxis": "x30",
         "y": [
          91351,
          5090,
          1776,
          706,
          342,
          240,
          168,
          136,
          100,
          58,
          22,
          5,
          3,
          3
         ],
         "yaxis": "y30"
        },
        {
         "name": "feature_30",
         "type": "scatter",
         "x": [
          0,
          1,
          2,
          3,
          4,
          5,
          6,
          7,
          8,
          9,
          10,
          11,
          21,
          18,
          17,
          12,
          22,
          30,
          28,
          20,
          15,
          19,
          27,
          29,
          31,
          25,
          26,
          14,
          32,
          13,
          24,
          16,
          23,
          35,
          33,
          39,
          40,
          34,
          36,
          37,
          38,
          41,
          -1
         ],
         "xaxis": "x31",
         "y": [
          86421,
          8519,
          2409,
          901,
          462,
          380,
          242,
          180,
          126,
          84,
          55,
          32,
          14,
          13,
          11,
          11,
          11,
          10,
          9,
          9,
          8,
          8,
          8,
          7,
          7,
          7,
          7,
          7,
          6,
          6,
          6,
          5,
          4,
          3,
          2,
          2,
          2,
          1,
          1,
          1,
          1,
          1,
          1
         ],
         "yaxis": "y31"
        },
        {
         "name": "feature_31",
         "type": "scatter",
         "x": [
          0,
          1,
          2,
          3,
          4,
          5,
          6,
          7,
          8,
          9,
          10,
          11,
          12,
          14,
          13,
          15,
          -1,
          16,
          17,
          18,
          20,
          19,
          21,
          22,
          24,
          23,
          26,
          27,
          25,
          31,
          28,
          29,
          30,
          33,
          35,
          32,
          36,
          34,
          39,
          37,
          38,
          41,
          40,
          46,
          42,
          43
         ],
         "xaxis": "x32",
         "y": [
          67896,
          9348,
          5911,
          3856,
          3020,
          2192,
          1437,
          1210,
          945,
          708,
          537,
          403,
          336,
          289,
          279,
          240,
          199,
          190,
          168,
          127,
          109,
          95,
          77,
          70,
          50,
          47,
          35,
          32,
          30,
          24,
          22,
          19,
          16,
          13,
          13,
          12,
          11,
          7,
          6,
          5,
          5,
          5,
          2,
          2,
          1,
          1
         ],
         "yaxis": "y32"
        },
        {
         "name": "feature_32",
         "type": "scatter",
         "x": [
          0,
          1,
          2,
          3,
          4,
          5,
          6,
          7,
          8,
          15,
          13,
          9,
          14,
          17,
          12,
          10,
          16,
          11,
          19,
          18,
          21,
          20,
          23,
          24,
          22,
          25,
          26,
          -1,
          27,
          -2
         ],
         "xaxis": "x33",
         "y": [
          90417,
          5402,
          1344,
          839,
          472,
          314,
          264,
          159,
          110,
          68,
          62,
          62,
          59,
          57,
          55,
          50,
          45,
          42,
          41,
          35,
          25,
          23,
          16,
          13,
          12,
          6,
          3,
          3,
          1,
          1
         ],
         "yaxis": "y33"
        },
        {
         "name": "feature_33",
         "type": "scatter",
         "x": [
          0,
          1,
          2,
          3,
          11,
          12,
          4,
          10,
          7,
          6,
          8,
          9,
          13,
          5,
          14,
          16,
          15,
          17,
          19,
          18,
          20,
          21,
          22,
          23,
          24
         ],
         "xaxis": "x34",
         "y": [
          84413,
          7875,
          2155,
          821,
          622,
          599,
          548,
          375,
          359,
          335,
          325,
          310,
          308,
          277,
          152,
          113,
          97,
          88,
          78,
          64,
          39,
          24,
          13,
          7,
          3
         ],
         "yaxis": "y34"
        },
        {
         "name": "feature_34",
         "type": "scatter",
         "x": [
          0,
          1,
          2,
          3,
          4,
          5,
          6,
          7,
          8,
          9,
          10,
          11,
          12,
          13,
          14,
          15,
          16,
          17,
          18,
          19,
          20,
          21,
          22,
          23,
          24,
          25
         ],
         "xaxis": "x35",
         "y": [
          63959,
          15112,
          6845,
          4562,
          2749,
          1632,
          1142,
          803,
          637,
          494,
          372,
          283,
          243,
          207,
          196,
          169,
          151,
          125,
          101,
          69,
          61,
          34,
          26,
          14,
          11,
          3
         ],
         "yaxis": "y35"
        },
        {
         "name": "feature_35",
         "type": "scatter",
         "x": [
          0,
          1,
          2,
          3,
          4,
          5,
          7,
          8,
          9,
          6,
          10,
          11,
          12,
          13,
          14,
          15,
          16,
          19,
          18,
          17,
          20,
          21,
          22,
          23,
          24,
          25,
          27,
          26,
          28,
          29,
          30,
          33,
          31,
          32,
          38,
          37,
          34,
          35,
          36,
          39,
          40,
          41,
          43,
          -2
         ],
         "xaxis": "x36",
         "y": [
          75885,
          11623,
          4290,
          1832,
          1067,
          729,
          467,
          449,
          433,
          418,
          360,
          356,
          273,
          250,
          234,
          194,
          170,
          134,
          131,
          127,
          96,
          84,
          68,
          67,
          53,
          43,
          32,
          26,
          21,
          21,
          16,
          10,
          10,
          7,
          6,
          4,
          3,
          2,
          2,
          2,
          2,
          1,
          1,
          1
         ],
         "yaxis": "y36"
        },
        {
         "name": "feature_36",
         "type": "scatter",
         "x": [
          0,
          1,
          2,
          3
         ],
         "xaxis": "x37",
         "y": [
          91136,
          6585,
          1769,
          510
         ],
         "yaxis": "y37"
        },
        {
         "name": "feature_37",
         "type": "scatter",
         "x": [
          0,
          1,
          2,
          3,
          4,
          5,
          6,
          7,
          8,
          9,
          10,
          11,
          12,
          13,
          14
         ],
         "xaxis": "x38",
         "y": [
          80825,
          9850,
          4627,
          2047,
          1021,
          633,
          423,
          223,
          160,
          83,
          45,
          25,
          17,
          12,
          9
         ],
         "yaxis": "y38"
        },
        {
         "name": "feature_38",
         "type": "scatter",
         "x": [
          0,
          1,
          2,
          3,
          4,
          5,
          6,
          7,
          8,
          9,
          10,
          11,
          12,
          13,
          14,
          15,
          16,
          17,
          18,
          19,
          20,
          21,
          22,
          23,
          26,
          25,
          29,
          24,
          27,
          28,
          30,
          31,
          32,
          33,
          35,
          34,
          36,
          37,
          38,
          41,
          45,
          39,
          47,
          40,
          43,
          48,
          42,
          50,
          49,
          51,
          53,
          55,
          56,
          46,
          44,
          54,
          60,
          59,
          57,
          61,
          52,
          58,
          -2,
          -1,
          63,
          62,
          -3,
          -5,
          -8,
          65,
          66
         ],
         "xaxis": "x39",
         "y": [
          42216,
          13688,
          9798,
          7143,
          5807,
          4373,
          3226,
          2636,
          2161,
          1606,
          1146,
          969,
          742,
          579,
          389,
          375,
          316,
          283,
          257,
          201,
          182,
          140,
          127,
          126,
          123,
          118,
          109,
          101,
          95,
          91,
          90,
          87,
          77,
          68,
          55,
          52,
          50,
          45,
          30,
          26,
          24,
          24,
          22,
          22,
          18,
          18,
          16,
          15,
          13,
          13,
          12,
          11,
          10,
          9,
          9,
          8,
          7,
          7,
          6,
          6,
          5,
          5,
          4,
          3,
          3,
          2,
          1,
          1,
          1,
          1,
          1
         ],
         "yaxis": "y39"
        },
        {
         "name": "feature_39",
         "type": "scatter",
         "x": [
          0,
          1,
          2,
          3,
          4,
          6,
          5,
          7,
          8,
          9,
          12,
          10,
          13,
          11,
          14,
          15,
          16,
          17,
          18,
          20,
          21,
          19,
          22,
          23,
          26,
          28,
          27,
          24,
          37,
          25,
          39,
          29,
          35,
          30,
          32,
          38,
          34,
          45,
          42,
          33,
          40,
          31,
          36,
          41,
          44,
          47,
          53,
          43,
          46,
          51,
          52,
          56,
          49,
          48,
          55,
          50,
          60,
          54,
          57,
          61,
          -2,
          -1,
          64,
          65,
          59,
          58,
          66,
          -5,
          -3,
          63
         ],
         "xaxis": "x40",
         "y": [
          87238,
          6299,
          2001,
          984,
          631,
          207,
          206,
          185,
          181,
          165,
          120,
          118,
          96,
          91,
          89,
          86,
          85,
          84,
          69,
          69,
          57,
          57,
          56,
          56,
          49,
          45,
          41,
          38,
          35,
          35,
          35,
          33,
          32,
          31,
          28,
          27,
          26,
          25,
          24,
          23,
          23,
          22,
          21,
          17,
          15,
          15,
          14,
          13,
          13,
          13,
          9,
          8,
          7,
          7,
          5,
          4,
          4,
          4,
          4,
          4,
          3,
          3,
          3,
          3,
          2,
          2,
          2,
          1,
          1,
          1
         ],
         "yaxis": "y40"
        },
        {
         "name": "feature_40",
         "type": "scatter",
         "x": [
          0,
          1,
          2,
          3,
          4,
          5,
          6,
          7,
          8,
          9,
          10,
          11,
          12,
          13,
          14,
          15,
          16,
          17,
          18,
          19,
          20,
          21
         ],
         "xaxis": "x41",
         "y": [
          73953,
          10444,
          5589,
          3604,
          2395,
          1380,
          833,
          433,
          358,
          294,
          195,
          153,
          112,
          84,
          70,
          33,
          20,
          16,
          16,
          12,
          4,
          2
         ],
         "yaxis": "y41"
        },
        {
         "name": "feature_41",
         "type": "scatter",
         "x": [
          0,
          1,
          2,
          3,
          4,
          5,
          6,
          7,
          8,
          9,
          10,
          11,
          12,
          13,
          14,
          15,
          16,
          17,
          18,
          19,
          20,
          23,
          22,
          21,
          24,
          25,
          26,
          27,
          28,
          30,
          32
         ],
         "xaxis": "x42",
         "y": [
          80259,
          10340,
          3361,
          1637,
          985,
          622,
          478,
          431,
          350,
          308,
          225,
          195,
          135,
          124,
          86,
          70,
          56,
          56,
          55,
          46,
          36,
          31,
          29,
          28,
          18,
          11,
          11,
          8,
          4,
          3,
          2
         ],
         "yaxis": "y42"
        },
        {
         "name": "feature_42",
         "type": "scatter",
         "x": [
          0,
          1,
          2,
          3,
          4,
          5,
          6,
          7,
          8,
          9,
          10,
          12,
          11,
          14,
          13,
          15,
          16,
          18,
          17,
          19,
          20,
          21,
          23,
          24,
          25,
          22,
          26,
          27,
          28,
          32,
          29,
          31,
          30,
          33,
          34,
          35,
          36,
          37,
          -2,
          -1
         ],
         "xaxis": "x43",
         "y": [
          83466,
          9664,
          2425,
          1023,
          618,
          354,
          344,
          327,
          290,
          199,
          165,
          103,
          94,
          80,
          72,
          68,
          68,
          64,
          56,
          55,
          54,
          53,
          52,
          48,
          47,
          46,
          41,
          27,
          26,
          16,
          15,
          13,
          11,
          9,
          2,
          1,
          1,
          1,
          1,
          1
         ],
         "yaxis": "y43"
        },
        {
         "name": "feature_43",
         "type": "scatter",
         "x": [
          0,
          1,
          2,
          3,
          4,
          5,
          6,
          7,
          8,
          9,
          10,
          12,
          11,
          13,
          14,
          15,
          16,
          17,
          18,
          21,
          19,
          20,
          23,
          22,
          24,
          25,
          26,
          27,
          28,
          30,
          29,
          31,
          33
         ],
         "xaxis": "x44",
         "y": [
          84299,
          6734,
          2527,
          1468,
          947,
          702,
          508,
          411,
          359,
          295,
          253,
          203,
          202,
          162,
          143,
          133,
          104,
          70,
          68,
          66,
          58,
          53,
          46,
          44,
          39,
          38,
          28,
          18,
          8,
          8,
          3,
          2,
          1
         ],
         "yaxis": "y44"
        },
        {
         "name": "feature_44",
         "type": "scatter",
         "x": [
          0,
          1,
          2,
          3,
          4,
          5,
          6,
          7,
          8,
          9
         ],
         "xaxis": "x45",
         "y": [
          93251,
          3642,
          1349,
          791,
          460,
          236,
          155,
          84,
          29,
          3
         ],
         "yaxis": "y45"
        },
        {
         "name": "feature_45",
         "type": "scatter",
         "x": [
          0,
          1,
          2,
          3,
          4,
          5,
          6,
          7,
          8,
          9,
          10,
          11,
          12,
          13,
          14,
          15,
          16,
          19,
          17,
          20,
          18,
          22,
          24,
          21,
          23,
          26,
          25
         ],
         "xaxis": "x46",
         "y": [
          87289,
          6158,
          2342,
          1339,
          790,
          512,
          378,
          242,
          182,
          144,
          108,
          105,
          83,
          67,
          54,
          43,
          36,
          27,
          25,
          24,
          23,
          8,
          7,
          6,
          5,
          2,
          1
         ],
         "yaxis": "y46"
        },
        {
         "name": "feature_46",
         "type": "scatter",
         "x": [
          0,
          1,
          2,
          3,
          4,
          5,
          6,
          7,
          8,
          9,
          14,
          10,
          11,
          13,
          12,
          15,
          16,
          17,
          18,
          19,
          20,
          22,
          21,
          23,
          24,
          26,
          27,
          28,
          25,
          29
         ],
         "xaxis": "x47",
         "y": [
          86108,
          6818,
          2027,
          1127,
          752,
          448,
          381,
          319,
          240,
          184,
          178,
          173,
          172,
          169,
          167,
          119,
          108,
          102,
          88,
          66,
          61,
          50,
          42,
          35,
          29,
          13,
          8,
          8,
          7,
          1
         ],
         "yaxis": "y47"
        },
        {
         "name": "feature_47",
         "type": "scatter",
         "x": [
          0,
          1,
          2,
          3,
          4,
          5,
          7,
          6,
          8,
          9,
          10,
          11,
          12,
          14,
          13,
          18,
          15,
          19,
          17,
          16,
          20,
          21,
          22,
          23,
          24,
          25
         ],
         "xaxis": "x48",
         "y": [
          85268,
          7283,
          3122,
          1359,
          909,
          539,
          276,
          262,
          232,
          190,
          121,
          83,
          44,
          42,
          42,
          39,
          32,
          32,
          30,
          26,
          19,
          18,
          14,
          6,
          6,
          6
         ],
         "yaxis": "y48"
        },
        {
         "name": "feature_48",
         "type": "scatter",
         "x": [
          0,
          1,
          2,
          3,
          4,
          5,
          6,
          7,
          8,
          9,
          10,
          11,
          12,
          13,
          14,
          15,
          16,
          18,
          17,
          19,
          20,
          21,
          22,
          26,
          33,
          32,
          29,
          25,
          27,
          24,
          28,
          31,
          35,
          23,
          39,
          34,
          38,
          30,
          40,
          37,
          36,
          41,
          42,
          43,
          44
         ],
         "xaxis": "x49",
         "y": [
          67780,
          14216,
          7399,
          3525,
          1775,
          1167,
          914,
          485,
          469,
          391,
          385,
          293,
          215,
          142,
          127,
          127,
          96,
          81,
          74,
          57,
          27,
          25,
          24,
          18,
          17,
          16,
          15,
          14,
          14,
          14,
          13,
          12,
          11,
          10,
          9,
          9,
          8,
          8,
          5,
          4,
          3,
          2,
          2,
          1,
          1
         ],
         "yaxis": "y49"
        },
        {
         "name": "feature_49",
         "type": "scatter",
         "x": [
          0,
          1,
          2,
          3,
          4,
          5,
          6,
          7,
          8,
          9,
          10,
          11,
          12,
          13,
          14,
          15,
          16,
          17,
          18,
          19,
          20
         ],
         "xaxis": "x50",
         "y": [
          80514,
          8779,
          3694,
          2037,
          1367,
          1004,
          743,
          409,
          319,
          297,
          218,
          156,
          108,
          105,
          80,
          70,
          49,
          33,
          15,
          2,
          1
         ],
         "yaxis": "y50"
        }
       ],
       "layout": {
        "annotations": [
         {
          "font": {
           "size": 12
          },
          "showarrow": false,
          "text": "feature_0",
          "x": 0.08399999999999999,
          "xanchor": "center",
          "xref": "paper",
          "y": 1,
          "yanchor": "bottom",
          "yref": "paper"
         },
         {
          "font": {
           "size": 12
          },
          "showarrow": false,
          "text": "feature_1",
          "x": 0.292,
          "xanchor": "center",
          "xref": "paper",
          "y": 1,
          "yanchor": "bottom",
          "yref": "paper"
         },
         {
          "font": {
           "size": 12
          },
          "showarrow": false,
          "text": "feature_2",
          "x": 0.5,
          "xanchor": "center",
          "xref": "paper",
          "y": 1,
          "yanchor": "bottom",
          "yref": "paper"
         },
         {
          "font": {
           "size": 12
          },
          "showarrow": false,
          "text": "feature_3",
          "x": 0.708,
          "xanchor": "center",
          "xref": "paper",
          "y": 1,
          "yanchor": "bottom",
          "yref": "paper"
         },
         {
          "font": {
           "size": 12
          },
          "showarrow": false,
          "text": "feature_4",
          "x": 0.9159999999999999,
          "xanchor": "center",
          "xref": "paper",
          "y": 1,
          "yanchor": "bottom",
          "yref": "paper"
         },
         {
          "font": {
           "size": 12
          },
          "showarrow": false,
          "text": "feature_5",
          "x": 0.08399999999999999,
          "xanchor": "center",
          "xref": "paper",
          "y": 0.8950000000000001,
          "yanchor": "bottom",
          "yref": "paper"
         },
         {
          "font": {
           "size": 12
          },
          "showarrow": false,
          "text": "feature_6",
          "x": 0.292,
          "xanchor": "center",
          "xref": "paper",
          "y": 0.8950000000000001,
          "yanchor": "bottom",
          "yref": "paper"
         },
         {
          "font": {
           "size": 12
          },
          "showarrow": false,
          "text": "feature_7",
          "x": 0.5,
          "xanchor": "center",
          "xref": "paper",
          "y": 0.8950000000000001,
          "yanchor": "bottom",
          "yref": "paper"
         },
         {
          "font": {
           "size": 12
          },
          "showarrow": false,
          "text": "feature_8",
          "x": 0.708,
          "xanchor": "center",
          "xref": "paper",
          "y": 0.8950000000000001,
          "yanchor": "bottom",
          "yref": "paper"
         },
         {
          "font": {
           "size": 12
          },
          "showarrow": false,
          "text": "feature_9",
          "x": 0.9159999999999999,
          "xanchor": "center",
          "xref": "paper",
          "y": 0.8950000000000001,
          "yanchor": "bottom",
          "yref": "paper"
         },
         {
          "font": {
           "size": 12
          },
          "showarrow": false,
          "text": "feature_10",
          "x": 0.08399999999999999,
          "xanchor": "center",
          "xref": "paper",
          "y": 0.7900000000000001,
          "yanchor": "bottom",
          "yref": "paper"
         },
         {
          "font": {
           "size": 12
          },
          "showarrow": false,
          "text": "feature_11",
          "x": 0.292,
          "xanchor": "center",
          "xref": "paper",
          "y": 0.7900000000000001,
          "yanchor": "bottom",
          "yref": "paper"
         },
         {
          "font": {
           "size": 12
          },
          "showarrow": false,
          "text": "feature_12",
          "x": 0.5,
          "xanchor": "center",
          "xref": "paper",
          "y": 0.7900000000000001,
          "yanchor": "bottom",
          "yref": "paper"
         },
         {
          "font": {
           "size": 12
          },
          "showarrow": false,
          "text": "feature_13",
          "x": 0.708,
          "xanchor": "center",
          "xref": "paper",
          "y": 0.7900000000000001,
          "yanchor": "bottom",
          "yref": "paper"
         },
         {
          "font": {
           "size": 12
          },
          "showarrow": false,
          "text": "feature_14",
          "x": 0.9159999999999999,
          "xanchor": "center",
          "xref": "paper",
          "y": 0.7900000000000001,
          "yanchor": "bottom",
          "yref": "paper"
         },
         {
          "font": {
           "size": 12
          },
          "showarrow": false,
          "text": "feature_15",
          "x": 0.08399999999999999,
          "xanchor": "center",
          "xref": "paper",
          "y": 0.6850000000000002,
          "yanchor": "bottom",
          "yref": "paper"
         },
         {
          "font": {
           "size": 12
          },
          "showarrow": false,
          "text": "feature_16",
          "x": 0.292,
          "xanchor": "center",
          "xref": "paper",
          "y": 0.6850000000000002,
          "yanchor": "bottom",
          "yref": "paper"
         },
         {
          "font": {
           "size": 12
          },
          "showarrow": false,
          "text": "feature_17",
          "x": 0.5,
          "xanchor": "center",
          "xref": "paper",
          "y": 0.6850000000000002,
          "yanchor": "bottom",
          "yref": "paper"
         },
         {
          "font": {
           "size": 12
          },
          "showarrow": false,
          "text": "feature_18",
          "x": 0.708,
          "xanchor": "center",
          "xref": "paper",
          "y": 0.6850000000000002,
          "yanchor": "bottom",
          "yref": "paper"
         },
         {
          "font": {
           "size": 12
          },
          "showarrow": false,
          "text": "feature_19",
          "x": 0.9159999999999999,
          "xanchor": "center",
          "xref": "paper",
          "y": 0.6850000000000002,
          "yanchor": "bottom",
          "yref": "paper"
         },
         {
          "font": {
           "size": 12
          },
          "showarrow": false,
          "text": "feature_20",
          "x": 0.08399999999999999,
          "xanchor": "center",
          "xref": "paper",
          "y": 0.5800000000000001,
          "yanchor": "bottom",
          "yref": "paper"
         },
         {
          "font": {
           "size": 12
          },
          "showarrow": false,
          "text": "feature_21",
          "x": 0.292,
          "xanchor": "center",
          "xref": "paper",
          "y": 0.5800000000000001,
          "yanchor": "bottom",
          "yref": "paper"
         },
         {
          "font": {
           "size": 12
          },
          "showarrow": false,
          "text": "feature_22",
          "x": 0.5,
          "xanchor": "center",
          "xref": "paper",
          "y": 0.5800000000000001,
          "yanchor": "bottom",
          "yref": "paper"
         },
         {
          "font": {
           "size": 12
          },
          "showarrow": false,
          "text": "feature_23",
          "x": 0.708,
          "xanchor": "center",
          "xref": "paper",
          "y": 0.5800000000000001,
          "yanchor": "bottom",
          "yref": "paper"
         },
         {
          "font": {
           "size": 12
          },
          "showarrow": false,
          "text": "feature_24",
          "x": 0.9159999999999999,
          "xanchor": "center",
          "xref": "paper",
          "y": 0.5800000000000001,
          "yanchor": "bottom",
          "yref": "paper"
         },
         {
          "font": {
           "size": 12
          },
          "showarrow": false,
          "text": "feature_25",
          "x": 0.08399999999999999,
          "xanchor": "center",
          "xref": "paper",
          "y": 0.47500000000000003,
          "yanchor": "bottom",
          "yref": "paper"
         },
         {
          "font": {
           "size": 12
          },
          "showarrow": false,
          "text": "feature_26",
          "x": 0.292,
          "xanchor": "center",
          "xref": "paper",
          "y": 0.47500000000000003,
          "yanchor": "bottom",
          "yref": "paper"
         },
         {
          "font": {
           "size": 12
          },
          "showarrow": false,
          "text": "feature_27",
          "x": 0.5,
          "xanchor": "center",
          "xref": "paper",
          "y": 0.47500000000000003,
          "yanchor": "bottom",
          "yref": "paper"
         },
         {
          "font": {
           "size": 12
          },
          "showarrow": false,
          "text": "feature_28",
          "x": 0.708,
          "xanchor": "center",
          "xref": "paper",
          "y": 0.47500000000000003,
          "yanchor": "bottom",
          "yref": "paper"
         },
         {
          "font": {
           "size": 12
          },
          "showarrow": false,
          "text": "feature_29",
          "x": 0.9159999999999999,
          "xanchor": "center",
          "xref": "paper",
          "y": 0.47500000000000003,
          "yanchor": "bottom",
          "yref": "paper"
         },
         {
          "font": {
           "size": 12
          },
          "showarrow": false,
          "text": "feature_30",
          "x": 0.08399999999999999,
          "xanchor": "center",
          "xref": "paper",
          "y": 0.37000000000000005,
          "yanchor": "bottom",
          "yref": "paper"
         },
         {
          "font": {
           "size": 12
          },
          "showarrow": false,
          "text": "feature_31",
          "x": 0.292,
          "xanchor": "center",
          "xref": "paper",
          "y": 0.37000000000000005,
          "yanchor": "bottom",
          "yref": "paper"
         },
         {
          "font": {
           "size": 12
          },
          "showarrow": false,
          "text": "feature_32",
          "x": 0.5,
          "xanchor": "center",
          "xref": "paper",
          "y": 0.37000000000000005,
          "yanchor": "bottom",
          "yref": "paper"
         },
         {
          "font": {
           "size": 12
          },
          "showarrow": false,
          "text": "feature_33",
          "x": 0.708,
          "xanchor": "center",
          "xref": "paper",
          "y": 0.37000000000000005,
          "yanchor": "bottom",
          "yref": "paper"
         },
         {
          "font": {
           "size": 12
          },
          "showarrow": false,
          "text": "feature_34",
          "x": 0.9159999999999999,
          "xanchor": "center",
          "xref": "paper",
          "y": 0.37000000000000005,
          "yanchor": "bottom",
          "yref": "paper"
         },
         {
          "font": {
           "size": 12
          },
          "showarrow": false,
          "text": "feature_35",
          "x": 0.08399999999999999,
          "xanchor": "center",
          "xref": "paper",
          "y": 0.265,
          "yanchor": "bottom",
          "yref": "paper"
         },
         {
          "font": {
           "size": 12
          },
          "showarrow": false,
          "text": "feature_36",
          "x": 0.292,
          "xanchor": "center",
          "xref": "paper",
          "y": 0.265,
          "yanchor": "bottom",
          "yref": "paper"
         },
         {
          "font": {
           "size": 12
          },
          "showarrow": false,
          "text": "feature_37",
          "x": 0.5,
          "xanchor": "center",
          "xref": "paper",
          "y": 0.265,
          "yanchor": "bottom",
          "yref": "paper"
         },
         {
          "font": {
           "size": 12
          },
          "showarrow": false,
          "text": "feature_38",
          "x": 0.708,
          "xanchor": "center",
          "xref": "paper",
          "y": 0.265,
          "yanchor": "bottom",
          "yref": "paper"
         },
         {
          "font": {
           "size": 12
          },
          "showarrow": false,
          "text": "feature_39",
          "x": 0.9159999999999999,
          "xanchor": "center",
          "xref": "paper",
          "y": 0.265,
          "yanchor": "bottom",
          "yref": "paper"
         },
         {
          "font": {
           "size": 12
          },
          "showarrow": false,
          "text": "feature_40",
          "x": 0.08399999999999999,
          "xanchor": "center",
          "xref": "paper",
          "y": 0.16000000000000003,
          "yanchor": "bottom",
          "yref": "paper"
         },
         {
          "font": {
           "size": 12
          },
          "showarrow": false,
          "text": "feature_41",
          "x": 0.292,
          "xanchor": "center",
          "xref": "paper",
          "y": 0.16000000000000003,
          "yanchor": "bottom",
          "yref": "paper"
         },
         {
          "font": {
           "size": 12
          },
          "showarrow": false,
          "text": "feature_42",
          "x": 0.5,
          "xanchor": "center",
          "xref": "paper",
          "y": 0.16000000000000003,
          "yanchor": "bottom",
          "yref": "paper"
         },
         {
          "font": {
           "size": 12
          },
          "showarrow": false,
          "text": "feature_43",
          "x": 0.708,
          "xanchor": "center",
          "xref": "paper",
          "y": 0.16000000000000003,
          "yanchor": "bottom",
          "yref": "paper"
         },
         {
          "font": {
           "size": 12
          },
          "showarrow": false,
          "text": "feature_44",
          "x": 0.9159999999999999,
          "xanchor": "center",
          "xref": "paper",
          "y": 0.16000000000000003,
          "yanchor": "bottom",
          "yref": "paper"
         },
         {
          "font": {
           "size": 12
          },
          "showarrow": false,
          "text": "feature_45",
          "x": 0.08399999999999999,
          "xanchor": "center",
          "xref": "paper",
          "y": 0.05500000000000001,
          "yanchor": "bottom",
          "yref": "paper"
         },
         {
          "font": {
           "size": 12
          },
          "showarrow": false,
          "text": "feature_46",
          "x": 0.292,
          "xanchor": "center",
          "xref": "paper",
          "y": 0.05500000000000001,
          "yanchor": "bottom",
          "yref": "paper"
         },
         {
          "font": {
           "size": 12
          },
          "showarrow": false,
          "text": "feature_47",
          "x": 0.5,
          "xanchor": "center",
          "xref": "paper",
          "y": 0.05500000000000001,
          "yanchor": "bottom",
          "yref": "paper"
         },
         {
          "font": {
           "size": 12
          },
          "showarrow": false,
          "text": "feature_48",
          "x": 0.708,
          "xanchor": "center",
          "xref": "paper",
          "y": 0.05500000000000001,
          "yanchor": "bottom",
          "yref": "paper"
         },
         {
          "font": {
           "size": 12
          },
          "showarrow": false,
          "text": "feature_49",
          "x": 0.9159999999999999,
          "xanchor": "center",
          "xref": "paper",
          "y": 0.05500000000000001,
          "yanchor": "bottom",
          "yref": "paper"
         }
        ],
        "height": 1000,
        "showlegend": false,
        "template": {
         "data": {
          "bar": [
           {
            "error_x": {
             "color": "#f2f5fa"
            },
            "error_y": {
             "color": "#f2f5fa"
            },
            "marker": {
             "line": {
              "color": "rgb(17,17,17)",
              "width": 0.5
             }
            },
            "type": "bar"
           }
          ],
          "barpolar": [
           {
            "marker": {
             "line": {
              "color": "rgb(17,17,17)",
              "width": 0.5
             }
            },
            "type": "barpolar"
           }
          ],
          "carpet": [
           {
            "aaxis": {
             "endlinecolor": "#A2B1C6",
             "gridcolor": "#506784",
             "linecolor": "#506784",
             "minorgridcolor": "#506784",
             "startlinecolor": "#A2B1C6"
            },
            "baxis": {
             "endlinecolor": "#A2B1C6",
             "gridcolor": "#506784",
             "linecolor": "#506784",
             "minorgridcolor": "#506784",
             "startlinecolor": "#A2B1C6"
            },
            "type": "carpet"
           }
          ],
          "choropleth": [
           {
            "colorbar": {
             "outlinewidth": 0,
             "ticks": ""
            },
            "type": "choropleth"
           }
          ],
          "contour": [
           {
            "colorbar": {
             "outlinewidth": 0,
             "ticks": ""
            },
            "colorscale": [
             [
              0,
              "#0d0887"
             ],
             [
              0.1111111111111111,
              "#46039f"
             ],
             [
              0.2222222222222222,
              "#7201a8"
             ],
             [
              0.3333333333333333,
              "#9c179e"
             ],
             [
              0.4444444444444444,
              "#bd3786"
             ],
             [
              0.5555555555555556,
              "#d8576b"
             ],
             [
              0.6666666666666666,
              "#ed7953"
             ],
             [
              0.7777777777777778,
              "#fb9f3a"
             ],
             [
              0.8888888888888888,
              "#fdca26"
             ],
             [
              1,
              "#f0f921"
             ]
            ],
            "type": "contour"
           }
          ],
          "contourcarpet": [
           {
            "colorbar": {
             "outlinewidth": 0,
             "ticks": ""
            },
            "type": "contourcarpet"
           }
          ],
          "heatmap": [
           {
            "colorbar": {
             "outlinewidth": 0,
             "ticks": ""
            },
            "colorscale": [
             [
              0,
              "#0d0887"
             ],
             [
              0.1111111111111111,
              "#46039f"
             ],
             [
              0.2222222222222222,
              "#7201a8"
             ],
             [
              0.3333333333333333,
              "#9c179e"
             ],
             [
              0.4444444444444444,
              "#bd3786"
             ],
             [
              0.5555555555555556,
              "#d8576b"
             ],
             [
              0.6666666666666666,
              "#ed7953"
             ],
             [
              0.7777777777777778,
              "#fb9f3a"
             ],
             [
              0.8888888888888888,
              "#fdca26"
             ],
             [
              1,
              "#f0f921"
             ]
            ],
            "type": "heatmap"
           }
          ],
          "heatmapgl": [
           {
            "colorbar": {
             "outlinewidth": 0,
             "ticks": ""
            },
            "colorscale": [
             [
              0,
              "#0d0887"
             ],
             [
              0.1111111111111111,
              "#46039f"
             ],
             [
              0.2222222222222222,
              "#7201a8"
             ],
             [
              0.3333333333333333,
              "#9c179e"
             ],
             [
              0.4444444444444444,
              "#bd3786"
             ],
             [
              0.5555555555555556,
              "#d8576b"
             ],
             [
              0.6666666666666666,
              "#ed7953"
             ],
             [
              0.7777777777777778,
              "#fb9f3a"
             ],
             [
              0.8888888888888888,
              "#fdca26"
             ],
             [
              1,
              "#f0f921"
             ]
            ],
            "type": "heatmapgl"
           }
          ],
          "histogram": [
           {
            "marker": {
             "colorbar": {
              "outlinewidth": 0,
              "ticks": ""
             }
            },
            "type": "histogram"
           }
          ],
          "histogram2d": [
           {
            "colorbar": {
             "outlinewidth": 0,
             "ticks": ""
            },
            "colorscale": [
             [
              0,
              "#0d0887"
             ],
             [
              0.1111111111111111,
              "#46039f"
             ],
             [
              0.2222222222222222,
              "#7201a8"
             ],
             [
              0.3333333333333333,
              "#9c179e"
             ],
             [
              0.4444444444444444,
              "#bd3786"
             ],
             [
              0.5555555555555556,
              "#d8576b"
             ],
             [
              0.6666666666666666,
              "#ed7953"
             ],
             [
              0.7777777777777778,
              "#fb9f3a"
             ],
             [
              0.8888888888888888,
              "#fdca26"
             ],
             [
              1,
              "#f0f921"
             ]
            ],
            "type": "histogram2d"
           }
          ],
          "histogram2dcontour": [
           {
            "colorbar": {
             "outlinewidth": 0,
             "ticks": ""
            },
            "colorscale": [
             [
              0,
              "#0d0887"
             ],
             [
              0.1111111111111111,
              "#46039f"
             ],
             [
              0.2222222222222222,
              "#7201a8"
             ],
             [
              0.3333333333333333,
              "#9c179e"
             ],
             [
              0.4444444444444444,
              "#bd3786"
             ],
             [
              0.5555555555555556,
              "#d8576b"
             ],
             [
              0.6666666666666666,
              "#ed7953"
             ],
             [
              0.7777777777777778,
              "#fb9f3a"
             ],
             [
              0.8888888888888888,
              "#fdca26"
             ],
             [
              1,
              "#f0f921"
             ]
            ],
            "type": "histogram2dcontour"
           }
          ],
          "mesh3d": [
           {
            "colorbar": {
             "outlinewidth": 0,
             "ticks": ""
            },
            "type": "mesh3d"
           }
          ],
          "parcoords": [
           {
            "line": {
             "colorbar": {
              "outlinewidth": 0,
              "ticks": ""
             }
            },
            "type": "parcoords"
           }
          ],
          "pie": [
           {
            "automargin": true,
            "type": "pie"
           }
          ],
          "scatter": [
           {
            "marker": {
             "line": {
              "color": "#283442"
             }
            },
            "type": "scatter"
           }
          ],
          "scatter3d": [
           {
            "line": {
             "colorbar": {
              "outlinewidth": 0,
              "ticks": ""
             }
            },
            "marker": {
             "colorbar": {
              "outlinewidth": 0,
              "ticks": ""
             }
            },
            "type": "scatter3d"
           }
          ],
          "scattercarpet": [
           {
            "marker": {
             "colorbar": {
              "outlinewidth": 0,
              "ticks": ""
             }
            },
            "type": "scattercarpet"
           }
          ],
          "scattergeo": [
           {
            "marker": {
             "colorbar": {
              "outlinewidth": 0,
              "ticks": ""
             }
            },
            "type": "scattergeo"
           }
          ],
          "scattergl": [
           {
            "marker": {
             "line": {
              "color": "#283442"
             }
            },
            "type": "scattergl"
           }
          ],
          "scattermapbox": [
           {
            "marker": {
             "colorbar": {
              "outlinewidth": 0,
              "ticks": ""
             }
            },
            "type": "scattermapbox"
           }
          ],
          "scatterpolar": [
           {
            "marker": {
             "colorbar": {
              "outlinewidth": 0,
              "ticks": ""
             }
            },
            "type": "scatterpolar"
           }
          ],
          "scatterpolargl": [
           {
            "marker": {
             "colorbar": {
              "outlinewidth": 0,
              "ticks": ""
             }
            },
            "type": "scatterpolargl"
           }
          ],
          "scatterternary": [
           {
            "marker": {
             "colorbar": {
              "outlinewidth": 0,
              "ticks": ""
             }
            },
            "type": "scatterternary"
           }
          ],
          "surface": [
           {
            "colorbar": {
             "outlinewidth": 0,
             "ticks": ""
            },
            "colorscale": [
             [
              0,
              "#0d0887"
             ],
             [
              0.1111111111111111,
              "#46039f"
             ],
             [
              0.2222222222222222,
              "#7201a8"
             ],
             [
              0.3333333333333333,
              "#9c179e"
             ],
             [
              0.4444444444444444,
              "#bd3786"
             ],
             [
              0.5555555555555556,
              "#d8576b"
             ],
             [
              0.6666666666666666,
              "#ed7953"
             ],
             [
              0.7777777777777778,
              "#fb9f3a"
             ],
             [
              0.8888888888888888,
              "#fdca26"
             ],
             [
              1,
              "#f0f921"
             ]
            ],
            "type": "surface"
           }
          ],
          "table": [
           {
            "cells": {
             "fill": {
              "color": "#506784"
             },
             "line": {
              "color": "rgb(17,17,17)"
             }
            },
            "header": {
             "fill": {
              "color": "#2a3f5f"
             },
             "line": {
              "color": "rgb(17,17,17)"
             }
            },
            "type": "table"
           }
          ]
         },
         "layout": {
          "annotationdefaults": {
           "arrowcolor": "#f2f5fa",
           "arrowhead": 0,
           "arrowwidth": 1
          },
          "autotypenumbers": "strict",
          "coloraxis": {
           "colorbar": {
            "outlinewidth": 0,
            "ticks": ""
           }
          },
          "colorscale": {
           "diverging": [
            [
             0,
             "#8e0152"
            ],
            [
             0.1,
             "#c51b7d"
            ],
            [
             0.2,
             "#de77ae"
            ],
            [
             0.3,
             "#f1b6da"
            ],
            [
             0.4,
             "#fde0ef"
            ],
            [
             0.5,
             "#f7f7f7"
            ],
            [
             0.6,
             "#e6f5d0"
            ],
            [
             0.7,
             "#b8e186"
            ],
            [
             0.8,
             "#7fbc41"
            ],
            [
             0.9,
             "#4d9221"
            ],
            [
             1,
             "#276419"
            ]
           ],
           "sequential": [
            [
             0,
             "#0d0887"
            ],
            [
             0.1111111111111111,
             "#46039f"
            ],
            [
             0.2222222222222222,
             "#7201a8"
            ],
            [
             0.3333333333333333,
             "#9c179e"
            ],
            [
             0.4444444444444444,
             "#bd3786"
            ],
            [
             0.5555555555555556,
             "#d8576b"
            ],
            [
             0.6666666666666666,
             "#ed7953"
            ],
            [
             0.7777777777777778,
             "#fb9f3a"
            ],
            [
             0.8888888888888888,
             "#fdca26"
            ],
            [
             1,
             "#f0f921"
            ]
           ],
           "sequentialminus": [
            [
             0,
             "#0d0887"
            ],
            [
             0.1111111111111111,
             "#46039f"
            ],
            [
             0.2222222222222222,
             "#7201a8"
            ],
            [
             0.3333333333333333,
             "#9c179e"
            ],
            [
             0.4444444444444444,
             "#bd3786"
            ],
            [
             0.5555555555555556,
             "#d8576b"
            ],
            [
             0.6666666666666666,
             "#ed7953"
            ],
            [
             0.7777777777777778,
             "#fb9f3a"
            ],
            [
             0.8888888888888888,
             "#fdca26"
            ],
            [
             1,
             "#f0f921"
            ]
           ]
          },
          "colorway": [
           "#636efa",
           "#EF553B",
           "#00cc96",
           "#ab63fa",
           "#FFA15A",
           "#19d3f3",
           "#FF6692",
           "#B6E880",
           "#FF97FF",
           "#FECB52"
          ],
          "font": {
           "color": "#f2f5fa"
          },
          "geo": {
           "bgcolor": "rgb(17,17,17)",
           "lakecolor": "rgb(17,17,17)",
           "landcolor": "rgb(17,17,17)",
           "showlakes": true,
           "showland": true,
           "subunitcolor": "#506784"
          },
          "hoverlabel": {
           "align": "left"
          },
          "hovermode": "closest",
          "mapbox": {
           "style": "dark"
          },
          "paper_bgcolor": "rgb(17,17,17)",
          "plot_bgcolor": "rgb(17,17,17)",
          "polar": {
           "angularaxis": {
            "gridcolor": "#506784",
            "linecolor": "#506784",
            "ticks": ""
           },
           "bgcolor": "rgb(17,17,17)",
           "radialaxis": {
            "gridcolor": "#506784",
            "linecolor": "#506784",
            "ticks": ""
           }
          },
          "scene": {
           "xaxis": {
            "backgroundcolor": "rgb(17,17,17)",
            "gridcolor": "#506784",
            "gridwidth": 2,
            "linecolor": "#506784",
            "showbackground": true,
            "ticks": "",
            "zerolinecolor": "#C8D4E3"
           },
           "yaxis": {
            "backgroundcolor": "rgb(17,17,17)",
            "gridcolor": "#506784",
            "gridwidth": 2,
            "linecolor": "#506784",
            "showbackground": true,
            "ticks": "",
            "zerolinecolor": "#C8D4E3"
           },
           "zaxis": {
            "backgroundcolor": "rgb(17,17,17)",
            "gridcolor": "#506784",
            "gridwidth": 2,
            "linecolor": "#506784",
            "showbackground": true,
            "ticks": "",
            "zerolinecolor": "#C8D4E3"
           }
          },
          "shapedefaults": {
           "line": {
            "color": "#f2f5fa"
           }
          },
          "sliderdefaults": {
           "bgcolor": "#C8D4E3",
           "bordercolor": "rgb(17,17,17)",
           "borderwidth": 1,
           "tickwidth": 0
          },
          "ternary": {
           "aaxis": {
            "gridcolor": "#506784",
            "linecolor": "#506784",
            "ticks": ""
           },
           "baxis": {
            "gridcolor": "#506784",
            "linecolor": "#506784",
            "ticks": ""
           },
           "bgcolor": "rgb(17,17,17)",
           "caxis": {
            "gridcolor": "#506784",
            "linecolor": "#506784",
            "ticks": ""
           }
          },
          "title": {
           "x": 0.05
          },
          "updatemenudefaults": {
           "bgcolor": "#506784",
           "borderwidth": 0
          },
          "xaxis": {
           "automargin": true,
           "gridcolor": "#283442",
           "linecolor": "#506784",
           "ticks": "",
           "title": {
            "standoff": 15
           },
           "zerolinecolor": "#283442",
           "zerolinewidth": 2
          },
          "yaxis": {
           "automargin": true,
           "gridcolor": "#283442",
           "linecolor": "#506784",
           "ticks": "",
           "title": {
            "standoff": 15
           },
           "zerolinecolor": "#283442",
           "zerolinewidth": 2
          }
         }
        },
        "width": 700,
        "xaxis": {
         "anchor": "y",
         "domain": [
          0,
          0.16799999999999998
         ]
        },
        "xaxis10": {
         "anchor": "y10",
         "domain": [
          0.832,
          1
         ]
        },
        "xaxis11": {
         "anchor": "y11",
         "domain": [
          0,
          0.16799999999999998
         ]
        },
        "xaxis12": {
         "anchor": "y12",
         "domain": [
          0.208,
          0.376
         ]
        },
        "xaxis13": {
         "anchor": "y13",
         "domain": [
          0.416,
          0.584
         ]
        },
        "xaxis14": {
         "anchor": "y14",
         "domain": [
          0.624,
          0.792
         ]
        },
        "xaxis15": {
         "anchor": "y15",
         "domain": [
          0.832,
          1
         ]
        },
        "xaxis16": {
         "anchor": "y16",
         "domain": [
          0,
          0.16799999999999998
         ]
        },
        "xaxis17": {
         "anchor": "y17",
         "domain": [
          0.208,
          0.376
         ]
        },
        "xaxis18": {
         "anchor": "y18",
         "domain": [
          0.416,
          0.584
         ]
        },
        "xaxis19": {
         "anchor": "y19",
         "domain": [
          0.624,
          0.792
         ]
        },
        "xaxis2": {
         "anchor": "y2",
         "domain": [
          0.208,
          0.376
         ]
        },
        "xaxis20": {
         "anchor": "y20",
         "domain": [
          0.832,
          1
         ]
        },
        "xaxis21": {
         "anchor": "y21",
         "domain": [
          0,
          0.16799999999999998
         ]
        },
        "xaxis22": {
         "anchor": "y22",
         "domain": [
          0.208,
          0.376
         ]
        },
        "xaxis23": {
         "anchor": "y23",
         "domain": [
          0.416,
          0.584
         ]
        },
        "xaxis24": {
         "anchor": "y24",
         "domain": [
          0.624,
          0.792
         ]
        },
        "xaxis25": {
         "anchor": "y25",
         "domain": [
          0.832,
          1
         ]
        },
        "xaxis26": {
         "anchor": "y26",
         "domain": [
          0,
          0.16799999999999998
         ]
        },
        "xaxis27": {
         "anchor": "y27",
         "domain": [
          0.208,
          0.376
         ]
        },
        "xaxis28": {
         "anchor": "y28",
         "domain": [
          0.416,
          0.584
         ]
        },
        "xaxis29": {
         "anchor": "y29",
         "domain": [
          0.624,
          0.792
         ]
        },
        "xaxis3": {
         "anchor": "y3",
         "domain": [
          0.416,
          0.584
         ]
        },
        "xaxis30": {
         "anchor": "y30",
         "domain": [
          0.832,
          1
         ]
        },
        "xaxis31": {
         "anchor": "y31",
         "domain": [
          0,
          0.16799999999999998
         ]
        },
        "xaxis32": {
         "anchor": "y32",
         "domain": [
          0.208,
          0.376
         ]
        },
        "xaxis33": {
         "anchor": "y33",
         "domain": [
          0.416,
          0.584
         ]
        },
        "xaxis34": {
         "anchor": "y34",
         "domain": [
          0.624,
          0.792
         ]
        },
        "xaxis35": {
         "anchor": "y35",
         "domain": [
          0.832,
          1
         ]
        },
        "xaxis36": {
         "anchor": "y36",
         "domain": [
          0,
          0.16799999999999998
         ]
        },
        "xaxis37": {
         "anchor": "y37",
         "domain": [
          0.208,
          0.376
         ]
        },
        "xaxis38": {
         "anchor": "y38",
         "domain": [
          0.416,
          0.584
         ]
        },
        "xaxis39": {
         "anchor": "y39",
         "domain": [
          0.624,
          0.792
         ]
        },
        "xaxis4": {
         "anchor": "y4",
         "domain": [
          0.624,
          0.792
         ]
        },
        "xaxis40": {
         "anchor": "y40",
         "domain": [
          0.832,
          1
         ]
        },
        "xaxis41": {
         "anchor": "y41",
         "domain": [
          0,
          0.16799999999999998
         ]
        },
        "xaxis42": {
         "anchor": "y42",
         "domain": [
          0.208,
          0.376
         ]
        },
        "xaxis43": {
         "anchor": "y43",
         "domain": [
          0.416,
          0.584
         ]
        },
        "xaxis44": {
         "anchor": "y44",
         "domain": [
          0.624,
          0.792
         ]
        },
        "xaxis45": {
         "anchor": "y45",
         "domain": [
          0.832,
          1
         ]
        },
        "xaxis46": {
         "anchor": "y46",
         "domain": [
          0,
          0.16799999999999998
         ]
        },
        "xaxis47": {
         "anchor": "y47",
         "domain": [
          0.208,
          0.376
         ]
        },
        "xaxis48": {
         "anchor": "y48",
         "domain": [
          0.416,
          0.584
         ]
        },
        "xaxis49": {
         "anchor": "y49",
         "domain": [
          0.624,
          0.792
         ]
        },
        "xaxis5": {
         "anchor": "y5",
         "domain": [
          0.832,
          1
         ]
        },
        "xaxis50": {
         "anchor": "y50",
         "domain": [
          0.832,
          1
         ]
        },
        "xaxis6": {
         "anchor": "y6",
         "domain": [
          0,
          0.16799999999999998
         ]
        },
        "xaxis7": {
         "anchor": "y7",
         "domain": [
          0.208,
          0.376
         ]
        },
        "xaxis8": {
         "anchor": "y8",
         "domain": [
          0.416,
          0.584
         ]
        },
        "xaxis9": {
         "anchor": "y9",
         "domain": [
          0.624,
          0.792
         ]
        },
        "yaxis": {
         "anchor": "x",
         "domain": [
          0.9450000000000001,
          1
         ],
         "showticklabels": false,
         "title": {
          "text": "y"
         },
         "visible": false
        },
        "yaxis10": {
         "anchor": "x10",
         "domain": [
          0.8400000000000001,
          0.8950000000000001
         ],
         "showticklabels": false,
         "title": {
          "text": "y"
         },
         "visible": false
        },
        "yaxis11": {
         "anchor": "x11",
         "domain": [
          0.7350000000000001,
          0.7900000000000001
         ],
         "showticklabels": false,
         "title": {
          "text": "y"
         },
         "visible": false
        },
        "yaxis12": {
         "anchor": "x12",
         "domain": [
          0.7350000000000001,
          0.7900000000000001
         ],
         "showticklabels": false,
         "title": {
          "text": "y"
         },
         "visible": false
        },
        "yaxis13": {
         "anchor": "x13",
         "domain": [
          0.7350000000000001,
          0.7900000000000001
         ],
         "showticklabels": false,
         "title": {
          "text": "y"
         },
         "visible": false
        },
        "yaxis14": {
         "anchor": "x14",
         "domain": [
          0.7350000000000001,
          0.7900000000000001
         ],
         "showticklabels": false,
         "title": {
          "text": "y"
         },
         "visible": false
        },
        "yaxis15": {
         "anchor": "x15",
         "domain": [
          0.7350000000000001,
          0.7900000000000001
         ],
         "showticklabels": false,
         "title": {
          "text": "y"
         },
         "visible": false
        },
        "yaxis16": {
         "anchor": "x16",
         "domain": [
          0.6300000000000001,
          0.6850000000000002
         ],
         "showticklabels": false,
         "title": {
          "text": "y"
         },
         "visible": false
        },
        "yaxis17": {
         "anchor": "x17",
         "domain": [
          0.6300000000000001,
          0.6850000000000002
         ],
         "showticklabels": false,
         "title": {
          "text": "y"
         },
         "visible": false
        },
        "yaxis18": {
         "anchor": "x18",
         "domain": [
          0.6300000000000001,
          0.6850000000000002
         ],
         "showticklabels": false,
         "title": {
          "text": "y"
         },
         "visible": false
        },
        "yaxis19": {
         "anchor": "x19",
         "domain": [
          0.6300000000000001,
          0.6850000000000002
         ],
         "showticklabels": false,
         "title": {
          "text": "y"
         },
         "visible": false
        },
        "yaxis2": {
         "anchor": "x2",
         "domain": [
          0.9450000000000001,
          1
         ],
         "showticklabels": false,
         "title": {
          "text": "y"
         },
         "visible": false
        },
        "yaxis20": {
         "anchor": "x20",
         "domain": [
          0.6300000000000001,
          0.6850000000000002
         ],
         "showticklabels": false,
         "title": {
          "text": "y"
         },
         "visible": false
        },
        "yaxis21": {
         "anchor": "x21",
         "domain": [
          0.525,
          0.5800000000000001
         ],
         "showticklabels": false,
         "title": {
          "text": "y"
         },
         "visible": false
        },
        "yaxis22": {
         "anchor": "x22",
         "domain": [
          0.525,
          0.5800000000000001
         ],
         "showticklabels": false,
         "title": {
          "text": "y"
         },
         "visible": false
        },
        "yaxis23": {
         "anchor": "x23",
         "domain": [
          0.525,
          0.5800000000000001
         ],
         "showticklabels": false,
         "title": {
          "text": "y"
         },
         "visible": false
        },
        "yaxis24": {
         "anchor": "x24",
         "domain": [
          0.525,
          0.5800000000000001
         ],
         "showticklabels": false,
         "title": {
          "text": "y"
         },
         "visible": false
        },
        "yaxis25": {
         "anchor": "x25",
         "domain": [
          0.525,
          0.5800000000000001
         ],
         "showticklabels": false,
         "title": {
          "text": "y"
         },
         "visible": false
        },
        "yaxis26": {
         "anchor": "x26",
         "domain": [
          0.42000000000000004,
          0.47500000000000003
         ],
         "showticklabels": false,
         "title": {
          "text": "y"
         },
         "visible": false
        },
        "yaxis27": {
         "anchor": "x27",
         "domain": [
          0.42000000000000004,
          0.47500000000000003
         ],
         "showticklabels": false,
         "title": {
          "text": "y"
         },
         "visible": false
        },
        "yaxis28": {
         "anchor": "x28",
         "domain": [
          0.42000000000000004,
          0.47500000000000003
         ],
         "showticklabels": false,
         "title": {
          "text": "y"
         },
         "visible": false
        },
        "yaxis29": {
         "anchor": "x29",
         "domain": [
          0.42000000000000004,
          0.47500000000000003
         ],
         "showticklabels": false,
         "title": {
          "text": "y"
         },
         "visible": false
        },
        "yaxis3": {
         "anchor": "x3",
         "domain": [
          0.9450000000000001,
          1
         ],
         "showticklabels": false,
         "title": {
          "text": "y"
         },
         "visible": false
        },
        "yaxis30": {
         "anchor": "x30",
         "domain": [
          0.42000000000000004,
          0.47500000000000003
         ],
         "showticklabels": false,
         "title": {
          "text": "y"
         },
         "visible": false
        },
        "yaxis31": {
         "anchor": "x31",
         "domain": [
          0.31500000000000006,
          0.37000000000000005
         ],
         "showticklabels": false,
         "title": {
          "text": "y"
         },
         "visible": false
        },
        "yaxis32": {
         "anchor": "x32",
         "domain": [
          0.31500000000000006,
          0.37000000000000005
         ],
         "showticklabels": false,
         "title": {
          "text": "y"
         },
         "visible": false
        },
        "yaxis33": {
         "anchor": "x33",
         "domain": [
          0.31500000000000006,
          0.37000000000000005
         ],
         "showticklabels": false,
         "title": {
          "text": "y"
         },
         "visible": false
        },
        "yaxis34": {
         "anchor": "x34",
         "domain": [
          0.31500000000000006,
          0.37000000000000005
         ],
         "showticklabels": false,
         "title": {
          "text": "y"
         },
         "visible": false
        },
        "yaxis35": {
         "anchor": "x35",
         "domain": [
          0.31500000000000006,
          0.37000000000000005
         ],
         "showticklabels": false,
         "title": {
          "text": "y"
         },
         "visible": false
        },
        "yaxis36": {
         "anchor": "x36",
         "domain": [
          0.21000000000000002,
          0.265
         ],
         "showticklabels": false,
         "title": {
          "text": "y"
         },
         "visible": false
        },
        "yaxis37": {
         "anchor": "x37",
         "domain": [
          0.21000000000000002,
          0.265
         ],
         "showticklabels": false,
         "title": {
          "text": "y"
         },
         "visible": false
        },
        "yaxis38": {
         "anchor": "x38",
         "domain": [
          0.21000000000000002,
          0.265
         ],
         "showticklabels": false,
         "title": {
          "text": "y"
         },
         "visible": false
        },
        "yaxis39": {
         "anchor": "x39",
         "domain": [
          0.21000000000000002,
          0.265
         ],
         "showticklabels": false,
         "title": {
          "text": "y"
         },
         "visible": false
        },
        "yaxis4": {
         "anchor": "x4",
         "domain": [
          0.9450000000000001,
          1
         ],
         "showticklabels": false,
         "title": {
          "text": "y"
         },
         "visible": false
        },
        "yaxis40": {
         "anchor": "x40",
         "domain": [
          0.21000000000000002,
          0.265
         ],
         "showticklabels": false,
         "title": {
          "text": "y"
         },
         "visible": false
        },
        "yaxis41": {
         "anchor": "x41",
         "domain": [
          0.10500000000000001,
          0.16000000000000003
         ],
         "showticklabels": false,
         "title": {
          "text": "y"
         },
         "visible": false
        },
        "yaxis42": {
         "anchor": "x42",
         "domain": [
          0.10500000000000001,
          0.16000000000000003
         ],
         "showticklabels": false,
         "title": {
          "text": "y"
         },
         "visible": false
        },
        "yaxis43": {
         "anchor": "x43",
         "domain": [
          0.10500000000000001,
          0.16000000000000003
         ],
         "showticklabels": false,
         "title": {
          "text": "y"
         },
         "visible": false
        },
        "yaxis44": {
         "anchor": "x44",
         "domain": [
          0.10500000000000001,
          0.16000000000000003
         ],
         "showticklabels": false,
         "title": {
          "text": "y"
         },
         "visible": false
        },
        "yaxis45": {
         "anchor": "x45",
         "domain": [
          0.10500000000000001,
          0.16000000000000003
         ],
         "showticklabels": false,
         "title": {
          "text": "y"
         },
         "visible": false
        },
        "yaxis46": {
         "anchor": "x46",
         "domain": [
          0,
          0.05500000000000001
         ],
         "showticklabels": false,
         "title": {
          "text": "y"
         },
         "visible": false
        },
        "yaxis47": {
         "anchor": "x47",
         "domain": [
          0,
          0.05500000000000001
         ],
         "showticklabels": false,
         "title": {
          "text": "y"
         },
         "visible": false
        },
        "yaxis48": {
         "anchor": "x48",
         "domain": [
          0,
          0.05500000000000001
         ],
         "showticklabels": false,
         "title": {
          "text": "y"
         },
         "visible": false
        },
        "yaxis49": {
         "anchor": "x49",
         "domain": [
          0,
          0.05500000000000001
         ],
         "showticklabels": false,
         "title": {
          "text": "y"
         },
         "visible": false
        },
        "yaxis5": {
         "anchor": "x5",
         "domain": [
          0.9450000000000001,
          1
         ],
         "showticklabels": false,
         "title": {
          "text": "y"
         },
         "visible": false
        },
        "yaxis50": {
         "anchor": "x50",
         "domain": [
          0,
          0.05500000000000001
         ],
         "showticklabels": false,
         "title": {
          "text": "y"
         },
         "visible": false
        },
        "yaxis6": {
         "anchor": "x6",
         "domain": [
          0.8400000000000001,
          0.8950000000000001
         ],
         "showticklabels": false,
         "title": {
          "text": "y"
         },
         "visible": false
        },
        "yaxis7": {
         "anchor": "x7",
         "domain": [
          0.8400000000000001,
          0.8950000000000001
         ],
         "showticklabels": false,
         "title": {
          "text": "y"
         },
         "visible": false
        },
        "yaxis8": {
         "anchor": "x8",
         "domain": [
          0.8400000000000001,
          0.8950000000000001
         ],
         "showticklabels": false,
         "title": {
          "text": "y"
         },
         "visible": false
        },
        "yaxis9": {
         "anchor": "x9",
         "domain": [
          0.8400000000000001,
          0.8950000000000001
         ],
         "showticklabels": false,
         "title": {
          "text": "y"
         },
         "visible": false
        }
       }
      }
     },
     "metadata": {}
    }
   ],
   "source": [
    "fig = make_subplots(\n",
    "    rows=10,\n",
    "    cols=5,\n",
    "    subplot_titles=data_train.columns,\n",
    "    # shared_xaxes=True\n",
    ")\n",
    "\n",
    "# Add traces\n",
    "columns = data_train.drop('target', axis=1).columns.tolist()\n",
    "\n",
    "for row in range(10):\n",
    "    for col in range(5):\n",
    "        column = columns.pop(0)\n",
    "        to_plot = data_train[column].value_counts()\n",
    "\n",
    "        fig.add_trace(go.Scatter(\n",
    "            x = to_plot.index,\n",
    "            y = to_plot.values,\n",
    "            name = column\n",
    "        ), col=col%5 + 1, row=row+1)\n",
    "\n",
    "        fig.update_yaxes(title='y', visible=False, showticklabels=False)\n",
    "\n",
    "        if(col%5 + 1 == 5):\n",
    "            break\n",
    "\n",
    "fig.update_layout(\n",
    "    height=1000,\n",
    "    width=700,\n",
    "    showlegend=False,\n",
    "    template='plotly_dark',\n",
    ")\n",
    "fig.update_annotations(font_size=12)"
   ]
  },
  {
   "source": [
    "<h3>Conclusion</h3>"
   ],
   "cell_type": "markdown",
   "metadata": {}
  },
  {
   "cell_type": "code",
   "execution_count": null,
   "metadata": {},
   "outputs": [],
   "source": []
  }
 ]
}