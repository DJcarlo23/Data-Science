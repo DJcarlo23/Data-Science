{
 "metadata": {
  "language_info": {
   "codemirror_mode": {
    "name": "ipython",
    "version": 3
   },
   "file_extension": ".py",
   "mimetype": "text/x-python",
   "name": "python",
   "nbconvert_exporter": "python",
   "pygments_lexer": "ipython3",
   "version": "3.7.10-final"
  },
  "orig_nbformat": 2,
  "kernelspec": {
   "name": "python3710jvsc74a57bd0efa54f7f23af1d5798b652f3dd1f0fb573148954cb9e66026e20a8379bf29199",
   "display_name": "Python 3.7.10 64-bit ('Kaggle': conda)"
  }
 },
 "nbformat": 4,
 "nbformat_minor": 2,
 "cells": [
  {
   "cell_type": "code",
   "execution_count": null,
   "metadata": {},
   "outputs": [],
   "source": [
    "import pandas as pd\n",
    "import plotly.graph_objects as go\n",
    "import numpy as np\n",
    "import seaborn as sns\n",
    "import matplotlib.pyplot as plt\n",
    "\n",
    "import warnings\n",
    "warnings.filterwarnings('ignore')"
   ]
  },
  {
   "cell_type": "code",
   "execution_count": null,
   "metadata": {},
   "outputs": [],
   "source": [
    "data = pd.read_csv('data/train.csv')"
   ]
  },
  {
   "cell_type": "code",
   "execution_count": null,
   "metadata": {},
   "outputs": [],
   "source": [
    "data"
   ]
  },
  {
   "cell_type": "code",
   "execution_count": null,
   "metadata": {},
   "outputs": [],
   "source": [
    "data.info()"
   ]
  },
  {
   "source": [
    "<h2>Missing values</h2>\n",
    "First we need to check if there are any missing values"
   ],
   "cell_type": "markdown",
   "metadata": {}
  },
  {
   "cell_type": "code",
   "execution_count": null,
   "metadata": {},
   "outputs": [],
   "source": [
    "data.isnull().sum()"
   ]
  },
  {
   "source": [
    "It's looks like cabin feature is completely useless because almost every value is missing. In age column there is many missing values too, but it's not that bad like with cabin column. If I want to use this feature there is no other option than to fill it with values. I will use median to do so. <br>"
   ],
   "cell_type": "markdown",
   "metadata": {}
  },
  {
   "cell_type": "code",
   "execution_count": null,
   "metadata": {},
   "outputs": [],
   "source": [
    "# Fill Age column with median\n",
    "data['Age'].fillna(data['Age'].median(), inplace=True)\n",
    "\n",
    "# Fill Embarked with most occuring values\n",
    "data['Embarked'].fillna(data['Embarked'].mode()[0], inplace=True)\n",
    "\n",
    "# Delete Cabin, PassengerId feature\n",
    "data_droped = data.drop(['Cabin', 'PassengerId'], axis=1)"
   ]
  },
  {
   "cell_type": "code",
   "execution_count": null,
   "metadata": {},
   "outputs": [],
   "source": [
    "data_droped"
   ]
  },
  {
   "source": [
    "<h2>Single variable visualization</h2>"
   ],
   "cell_type": "markdown",
   "metadata": {}
  },
  {
   "cell_type": "code",
   "execution_count": null,
   "metadata": {},
   "outputs": [],
   "source": [
    "fig = go.Figure()\n",
    "\n",
    "to_plot = data_droped.Survived.replace({0: 'Dead', 1: 'Survived'}).value_counts()\n",
    "labels = to_plot.index\n",
    "values = to_plot.values\n",
    "\n",
    "fig.add_trace(go.Pie(\n",
    "    labels = labels,\n",
    "    values = values,\n",
    "    textinfo='label+percent'\n",
    "))\n",
    "\n",
    "fig.update_layout(\n",
    "    title_text='Survival',\n",
    "    template='plotly_dark'\n",
    ")"
   ]
  },
  {
   "cell_type": "code",
   "execution_count": null,
   "metadata": {},
   "outputs": [],
   "source": [
    "fig = go.Figure()\n",
    "\n",
    "to_plot = data_droped.Pclass.replace({1: 'First Class', 2: 'Second Class', 3: 'Third Class'}).value_counts()\n",
    "labels = to_plot.index\n",
    "values = to_plot.values\n",
    "\n",
    "fig.add_trace(go.Pie(\n",
    "    labels = labels,\n",
    "    values = values,\n",
    "    textinfo='label+percent'\n",
    "))\n",
    "\n",
    "fig.update_layout(\n",
    "    title_text='Ticket class',\n",
    "    template='plotly_dark'\n",
    ")"
   ]
  },
  {
   "cell_type": "code",
   "execution_count": null,
   "metadata": {},
   "outputs": [],
   "source": [
    "fig = go.Figure()\n",
    "\n",
    "to_plot = data_droped.Sex.replace({'male': 'Male', 'female': 'Female'}).value_counts()\n",
    "labels = to_plot.index\n",
    "values = to_plot.values\n",
    "\n",
    "fig.add_trace(go.Pie(\n",
    "    labels = labels,\n",
    "    values = values,\n",
    "    textinfo='label+percent'\n",
    "))\n",
    "\n",
    "fig.update_layout(\n",
    "    title_text='Gender',\n",
    "    template='plotly_dark'\n",
    ")"
   ]
  },
  {
   "cell_type": "code",
   "execution_count": null,
   "metadata": {},
   "outputs": [],
   "source": []
  },
  {
   "cell_type": "code",
   "execution_count": null,
   "metadata": {},
   "outputs": [],
   "source": [
    "fig = go.Figure()\n",
    "\n",
    "fig.add_trace(go.Box(\n",
    "    y = data_droped.Age,\n",
    "    name = 'Age'\n",
    "))\n",
    "\n",
    "fig.update_layout(\n",
    "    title_text = 'Age box plot',\n",
    "    template = 'plotly_dark'\n",
    ")"
   ]
  },
  {
   "source": [
    "This plot reveals that in Age column there is a lot of outliers which in reality aren't that bad, mostly because it's possible that some old lady was on the ship or very young boy. We definitly don't want to get rid of them. This is the reason why I chose median to fill missing values instead of mean. Median is much more resistant for outliers."
   ],
   "cell_type": "markdown",
   "metadata": {}
  },
  {
   "cell_type": "code",
   "execution_count": null,
   "metadata": {},
   "outputs": [],
   "source": [
    "fig = go.Figure()\n",
    "\n",
    "fig.add_trace(go.Box(\n",
    "    y = data_droped.Fare,\n",
    "    name = 'Passenger fare'\n",
    "))\n",
    "\n",
    "fig.update_layout(\n",
    "    title_text = 'Fare box plot',\n",
    "    template = 'plotly_dark'\n",
    ")"
   ]
  },
  {
   "source": [
    "It's looks like we need to do something with outliers here, but first let's check if this is some kind of mistake or someone really paid that much."
   ],
   "cell_type": "markdown",
   "metadata": {}
  },
  {
   "cell_type": "code",
   "execution_count": null,
   "metadata": {},
   "outputs": [],
   "source": [
    "data_droped[data_droped['Fare'] > 500]"
   ]
  },
  {
   "source": [
    "If we enter names of those people in google we can easily find that they really paid £512 for their tickets. Leaving them on can lead to confusion that's why I will delete them and consider them separately."
   ],
   "cell_type": "markdown",
   "metadata": {}
  },
  {
   "cell_type": "code",
   "execution_count": null,
   "metadata": {},
   "outputs": [],
   "source": [
    "# Delete outliers\n",
    "data_droped_out = data_droped[data_droped['Fare'] < 500]"
   ]
  },
  {
   "cell_type": "code",
   "execution_count": null,
   "metadata": {},
   "outputs": [],
   "source": [
    "fig = go.Figure()\n",
    "\n",
    "fig.add_trace(go.Box(\n",
    "    y = data_droped_out.Fare,\n",
    "    name = 'Passenger fare'\n",
    "))\n",
    "\n",
    "fig.update_layout(\n",
    "    title_text = 'Fare box plot',\n",
    "    template = 'plotly_dark'\n",
    ")"
   ]
  },
  {
   "source": [
    "It's still look not that good but it's better than before and we will leave it like this."
   ],
   "cell_type": "markdown",
   "metadata": {}
  },
  {
   "source": [
    "<h2>Questions</h2>\n",
    "Now it's time for couple of interesting questions which we can answer using our data:\n",
    "<ul>\n",
    "<li>Does gender have a big impact on survival?</li>\n",
    "<li>Were people saved by families?</li>\n",
    "<li>How much money people have spent to participate in the cruise?</li>\n",
    "</ul>"
   ],
   "cell_type": "markdown",
   "metadata": {}
  },
  {
   "source": [
    "<h3> Does gender have a big impact on survival? </h3>"
   ],
   "cell_type": "markdown",
   "metadata": {}
  },
  {
   "cell_type": "code",
   "execution_count": null,
   "metadata": {},
   "outputs": [],
   "source": [
    "fig = go.Figure()\n",
    "\n",
    "data_female_toplot = data_droped_out[data_droped_out['Sex'] == 'female']['Survived'].replace({0: 'Dead', 1: 'Survived'})\n",
    "data_male_toplot = data_droped_out[data_droped_out['Sex'] == 'male']['Survived'].replace({0: 'Dead', 1: 'Survived'})\n",
    "\n",
    "fig.add_trace(go.Histogram(\n",
    "    x=data_female_toplot,\n",
    "    name='Female',\n",
    "    marker_color='#EB89B5',\n",
    "    opacity=0.75\n",
    "))\n",
    "\n",
    "fig.add_trace(go.Histogram(\n",
    "    x=data_male_toplot,\n",
    "    name='Male',\n",
    "    marker_color='#330C73',\n",
    "    opacity=0.75\n",
    "))\n",
    "\n",
    "fig.update_layout(\n",
    "    title_text='Survivors by Gender',\n",
    "    template='plotly_dark',\n",
    ")"
   ]
  },
  {
   "source": [
    "From the chart we see that gender played important factor in survival. It's clear that women were the first to enter the lifeboats."
   ],
   "cell_type": "markdown",
   "metadata": {}
  },
  {
   "source": [
    "<h3> Were people saved by families? </h3>\n",
    "We want to check whether if one family member survived, it means that the rest of the family members were also saved. I'm assuming that people with the same ticket are from the same family."
   ],
   "cell_type": "markdown",
   "metadata": {}
  },
  {
   "cell_type": "code",
   "execution_count": null,
   "metadata": {},
   "outputs": [],
   "source": [
    "# Add family size feature\n",
    "data_droped_out['Family_size'] = data_droped_out['SibSp'] + data_droped_out['Parch']"
   ]
  },
  {
   "cell_type": "code",
   "execution_count": null,
   "metadata": {},
   "outputs": [],
   "source": [
    "data_droped_out"
   ]
  },
  {
   "cell_type": "code",
   "execution_count": null,
   "metadata": {},
   "outputs": [],
   "source": [
    "data_droped_out.groupby(['Family_size', 'Survived']).count()"
   ]
  },
  {
   "cell_type": "code",
   "execution_count": null,
   "metadata": {},
   "outputs": [],
   "source": [
    "data_droped_out[data_droped_out['Family_size'] > 0].groupby(['Ticket', 'Survived']).count().head(10)"
   ]
  },
  {
   "source": [
    "Maybe my guess that tickets are the same for all family members is correct but usually not every person from the family is listed in our dataset. It simply means that we don't know if they survived or died, that's why our question cannot be answered using this dataset. "
   ],
   "cell_type": "markdown",
   "metadata": {}
  },
  {
   "source": [
    "<h3>How much money people have spent to participate in the cruise?</h3>"
   ],
   "cell_type": "markdown",
   "metadata": {}
  },
  {
   "cell_type": "code",
   "execution_count": null,
   "metadata": {},
   "outputs": [],
   "source": [
    "fig = go.Figure()\n",
    "\n",
    "fig.add_trace(go.Histogram(\n",
    "    x=data_droped_out['Fare'],\n",
    "    name='Female',\n",
    "    marker_color='#EB89B5',\n",
    "    opacity=0.75\n",
    "))\n",
    "\n",
    "fig.update_layout(\n",
    "    xaxis_title_text='Fare',\n",
    "    yaxis_title_text='Number of people',\n",
    "    title_text='Fare histogram',\n",
    "    template='plotly_dark',\n",
    ")"
   ]
  },
  {
   "source": [
    "Most people paid a modest amount of £ 5 - £ 15. It means that most of the passengers resided in the third or second class. We could notice this result in a pie chart earlier which showed number of people in every class."
   ],
   "cell_type": "markdown",
   "metadata": {}
  }
 ]
}